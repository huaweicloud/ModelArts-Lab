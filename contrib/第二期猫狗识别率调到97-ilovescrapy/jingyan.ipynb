{
 "cells": [
  {
   "cell_type": "code",
   "execution_count": 1,
   "metadata": {},
   "outputs": [
    {
     "name": "stdout",
     "output_type": "stream",
     "text": [
      "基于第一期notebook猫狗识别实例将vgg16算法改用resnet50算法以求提高准确度。以下是我测试过程中的一些经验(错误之处希望提出更正)：\n",
      " 该算法预训练权值由 Kaiming He 发布的预训练权值移植而来，基于 MIT license。\n",
      " resnet50算法的图片宽高必须在32以上，在resnet50算法参数中include_top设置成Flase,即不包括顶层的全连接层（曾将它修改成True，发现准确度大幅下降至50%以下）\n",
      " 神经网络改为用keras构建resnet50卷积神经网络,代码：base_model = ResNet50(weights=\"imagenet\", include_top=False, pooling=None, input_shape=(ROWS, COLS, CHANNELS), classes=2)它将会访问并下载\n",
      " https://github.com/fchollet/deep-learning-models/releases/download/v0.2/resnet50_weights_tf_dim_ordering_tf_kernels_notop.h5\n",
      " 下载速度受本地网速影响，至于华为云下载速度还是蛮快的\n",
      " 由于这个模型需要的训练参数比较多以至于速度比较慢我就把轮数epochs改为30,batch_size=30,学习率修改为le-4\n"
     ]
    }
   ],
   "source": [
    "print(\n",
    "       \"基于第一期notebook猫狗识别实例将vgg16算法改用resnet50算法以求提高准确度。以下是我测试过程中的一些经验(错误之处希望提出更正)：\\n\",\n",
    "    \"该算法预训练权值由 Kaiming He 发布的预训练权值移植而来，基于 MIT license。\\n\",\n",
    "    \"resnet50算法的图片宽高必须在32以上，在resnet50算法参数中include_top设置成Flase,即不包括顶层的全连接层（曾将它修改成True，发现准确度大幅下降至50%以下）\\n\",\n",
    "    \"神经网络改为用keras构建resnet50卷积神经网络,代码：base_model = ResNet50(weights=\\\"imagenet\\\", include_top=False, pooling=None, input_shape=(ROWS, COLS, CHANNELS), classes=2)它将会访问并下载\\n\",\n",
    "    \"https://github.com/fchollet/deep-learning-models/releases/download/v0.2/resnet50_weights_tf_dim_ordering_tf_kernels_notop.h5\\n\",\n",
    "    \"下载速度受本地网速影响，至于华为云下载速度还是蛮快的\\n\",\n",
    "    \"由于这个模型需要的训练参数比较多以至于速度比较慢我就把轮数epochs改为30,batch_size=30,学习率修改为le-4\"\n",
    ")\n"
   ]
  },
  {
   "cell_type": "code",
   "execution_count": null,
   "metadata": {},
   "outputs": [],
   "source": []
  }
 ],
 "metadata": {
  "kernelspec": {
   "display_name": "Python 3",
   "language": "python",
   "name": "python3"
  },
  "language_info": {
   "codemirror_mode": {
    "name": "ipython",
    "version": 3
   },
   "file_extension": ".py",
   "mimetype": "text/x-python",
   "name": "python",
   "nbconvert_exporter": "python",
   "pygments_lexer": "ipython3",
   "version": "3.6.4"
  }
 },
 "nbformat": 4,
 "nbformat_minor": 2
}
