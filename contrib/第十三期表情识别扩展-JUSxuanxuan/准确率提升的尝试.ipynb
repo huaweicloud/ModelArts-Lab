{
 "cells": [
  {
   "cell_type": "markdown",
   "metadata": {},
   "source": [
    "经过多次代码测试，原教程中的模型在PublicTest中的准确率在55%左右，因此，此代码在于对原模型的调整优化\n",
    "\n",
    "（由于是新手，还是习惯用fit函数~~~ ）\n",
    "\n",
    "此代码为两部分：\n",
    "\n",
    "    （1）数据集不变，模型调整，测试效果；\n",
    "    （2）数据集增广，模型不变，测试效果；\n",
    "    （3）数据集增广，模型调整，测试效果。\n",
    "\n",
    "最后发现：\n",
    "       \n",
    "       1:卷积层多的话，达到较高准确率的轮数少一点，但是，每一轮的耗时就会长一点；\n",
    "       2:卷积层多，更容易发生过拟合\n",
    "       3:最后将模型的准确率提高到大概63%左右\n",
    "       \n",
    "全部代码运行下来在2h左右"
   ]
  },
  {
   "cell_type": "code",
   "execution_count": 1,
   "metadata": {},
   "outputs": [
    {
     "name": "stdout",
     "output_type": "stream",
     "text": [
      "Successfully download file modelarts-labs/notebook/DL_face_facial_expression/facial_expression.tar from OBS to local ./facial_expression.tar\n"
     ]
    }
   ],
   "source": [
    "from modelarts.session import Session\n",
    "sess = Session()\n",
    "\n",
    "if sess.region_name == 'cn-north-1':\n",
    "    bucket_path=\"modelarts-labs/notebook/DL_face_facial_expression/facial_expression.tar\"\n",
    "elif sess.region_name == 'cn-north-4':\n",
    "    bucket_path=\"modelarts-labs-bj4/notebook/DL_face_facial_expression/facial_expression.tar\"\n",
    "else:\n",
    "    print(\"请更换地区到北京一或北京四\")\n",
    "    \n",
    "sess.download_data(bucket_path=bucket_path, path=\"./facial_expression.tar\")\n",
    "\n",
    "!tar -xf facial_expression.tar"
   ]
  },
  {
   "cell_type": "code",
   "execution_count": 1,
   "metadata": {},
   "outputs": [
    {
     "name": "stdout",
     "output_type": "stream",
     "text": [
      "Collecting mtcnn\n",
      "  Downloading http://repo.myhuaweicloud.com/repository/pypi/packages/9e/c7/8546b18fbd367b156c5bbbbaa8912ab31c8129171523ff8b47b546d70b09/mtcnn-0.0.9.tar.gz (2.3MB)\n",
      "\u001b[K    100% |████████████████████████████████| 2.3MB 60.9MB/s ta 0:00:011\n",
      "\u001b[?25hBuilding wheels for collected packages: mtcnn\n",
      "  Running setup.py bdist_wheel for mtcnn ... \u001b[?25ldone\n",
      "\u001b[?25h  Stored in directory: /home/ma-user/.cache/pip/wheels/a9/a8/e7/8eec6dbde1d0dea80ec1a60711a01c9e8c7860e3ed1945e81f\n",
      "Successfully built mtcnn\n",
      "Installing collected packages: mtcnn\n",
      "Successfully installed mtcnn-0.0.9\n",
      "\u001b[33mYou are using pip version 9.0.1, however version 19.3.1 is available.\n",
      "You should consider upgrading via the 'pip install --upgrade pip' command.\u001b[0m\n"
     ]
    }
   ],
   "source": [
    "!pip install mtcnn"
   ]
  },
  {
   "cell_type": "code",
   "execution_count": 17,
   "metadata": {},
   "outputs": [],
   "source": [
    "import numpy as np\n",
    "import keras\n",
    "from keras.models import Sequential\n",
    "from keras.layers import BatchNormalization,Conv2D,MaxPooling2D,AveragePooling2D,Dense,Activation,Dropout,Flatten\n",
    "from keras.preprocessing.image import ImageDataGenerator\n",
    "import matplotlib.pyplot as plt\n",
    "from PIL import Image\n",
    "import cv2\n",
    "from mtcnn.mtcnn import MTCNN\n",
    "from keras.initializers import  RandomNormal\n"
   ]
  },
  {
   "cell_type": "code",
   "execution_count": 3,
   "metadata": {},
   "outputs": [],
   "source": [
    "##元祖类型的\n",
    "emotions = ('angry','disgust','fear','happy','sad','surprise','neutral')"
   ]
  },
  {
   "cell_type": "code",
   "execution_count": 4,
   "metadata": {},
   "outputs": [],
   "source": [
    "num_classes = len(emotions)\n",
    "batch_size = 16\n",
    "epoch = 5\n",
    "\n",
    "with open('./fer2013/fer2013.csv') as f:\n",
    "    content = f.readlines()\n",
    "\n",
    "lines = np.array(content)"
   ]
  },
  {
   "cell_type": "code",
   "execution_count": 5,
   "metadata": {},
   "outputs": [
    {
     "data": {
      "text/plain": [
       "Text(0.5,1,'angry')"
      ]
     },
     "execution_count": 5,
     "metadata": {},
     "output_type": "execute_result"
    },
    {
     "data": {
      "image/png": "[encoded data removed]",
      "text/plain": [
       "<Figure size 432x288 with 1 Axes>"
      ]
     },
     "metadata": {},
     "output_type": "display_data"
    }
   ],
   "source": [
    "emotion_1,img_1,usage_1 = lines[1].split(',')\n",
    "val_1 = img_1.split(' ')\n",
    "pixels_1 = np.array(val_1,'float32')\n",
    "aa = pixels_1.reshape(2304,1)\n",
    "img = aa.reshape(int(2304**0.5),int(2304**0.5))\n",
    "plt.imshow(img,plt.cm.gray)\n",
    "plt.title(emotions[int(emotion_1)])"
   ]
  },
  {
   "cell_type": "code",
   "execution_count": 6,
   "metadata": {},
   "outputs": [],
   "source": [
    "num_of_instances = lines.size\n",
    "x_train,y_train,x_test,y_test = [],[],[],[]\n",
    "\n",
    "for i in range(1,num_of_instances):\n",
    "    try:\n",
    "        emotion,img,usage = lines[i].split(',')\n",
    "        val = img.split(' ')\n",
    "        pixels = np.array(val,'float32')\n",
    "        emotion = keras.utils.to_categorical(emotion,num_classes)\n",
    "        if 'Training' in usage:\n",
    "            y_train.append(emotion)\n",
    "            x_train.append(pixels)\n",
    "        elif 'PublicTest' in usage:\n",
    "            y_test.append(emotion)\n",
    "            x_test.append(pixels)\n",
    "    except:\n",
    "        print('',end='')"
   ]
  },
  {
   "cell_type": "code",
   "execution_count": 7,
   "metadata": {},
   "outputs": [
    {
     "data": {
      "text/plain": [
       "((28709, 2304), (3589, 2304))"
      ]
     },
     "execution_count": 7,
     "metadata": {},
     "output_type": "execute_result"
    }
   ],
   "source": [
    "##数据预处理以及标准化\n",
    "x_train = np.array(x_train,dtype='float32')\n",
    "x_test = np.array(x_test,dtype='float32')\n",
    "y_train = np.array(y_train,dtype='float32')\n",
    "y_test = np.array(y_test,dtype='float32')\n",
    "x_train = x_train/255\n",
    "x_test = x_test/255\n",
    "x_train.shape,x_test.shape"
   ]
  },
  {
   "cell_type": "code",
   "execution_count": 8,
   "metadata": {},
   "outputs": [
    {
     "name": "stdout",
     "output_type": "stream",
     "text": [
      "num of train: 28709\n",
      "num of test 3589\n"
     ]
    }
   ],
   "source": [
    "##看一下训练以及测试数量\n",
    "x_train = x_train.reshape(len(x_train),48,48,1)\n",
    "x_test = x_test.reshape(len(x_test),48,48,1)\n",
    "print('num of train:',len(x_train))\n",
    "print('num of test',len(x_test))"
   ]
  },
  {
   "cell_type": "markdown",
   "metadata": {},
   "source": [
    "## （1）数据不变，模型调整，测试效果\n",
    "\n",
    "因为对模型进行了调整，因此原文件的h5文件不可再次加载，因此训练轮数以及时间都稍微长一点"
   ]
  },
  {
   "cell_type": "code",
   "execution_count": 58,
   "metadata": {},
   "outputs": [],
   "source": [
    "## 构造模型\n",
    "from keras.callbacks import EarlyStopping,ModelCheckpoint\n",
    "def build_model():\n",
    "    model = Sequential()\n",
    "\n",
    "    model.add(Conv2D(64, (3, 3), activation='relu', padding = 'same', input_shape=(48,48,1), bias_initializer=RandomNormal(stddev=1), kernel_initializer=RandomNormal(stddev=1)))\n",
    "    model.add(BatchNormalization())\n",
    "    model.add(MaxPooling2D(pool_size=(3,3), strides=(2, 2)))\n",
    "    model.add(Dropout(0.25))\n",
    "\n",
    "    model.add(Conv2D(64, (3, 3), activation='relu', padding = 'same', bias_initializer=RandomNormal(stddev=1), kernel_initializer=RandomNormal(stddev=1)))\n",
    "    model.add(BatchNormalization())\n",
    "    model.add(MaxPooling2D(pool_size=(3,3), strides=(2, 2)))\n",
    "    model.add(Dropout(0.25))\n",
    "\n",
    "    model.add(Conv2D(128, (3, 3), activation='relu', padding = 'same', bias_initializer=RandomNormal(stddev=1), kernel_initializer=RandomNormal(stddev=1)))\n",
    "    model.add(BatchNormalization())\n",
    "    model.add(MaxPooling2D(pool_size=(3,3), strides=(2, 2)))\n",
    "    model.add(Dropout(0.25))\n",
    "\n",
    "    model.add(Conv2D(256, (3, 3), activation='relu', padding = 'same', bias_initializer=RandomNormal(stddev=1), kernel_initializer=RandomNormal(stddev=1)))\n",
    "    model.add(BatchNormalization())\n",
    "    model.add(MaxPooling2D(pool_size=(3,3), strides=(2, 2)))\n",
    "    model.add(Dropout(0.5))\n",
    "    \n",
    "\n",
    "\n",
    "    model.add(Flatten())\n",
    "    model.add(Dense(2048, activation='relu'))\n",
    "    model.add(Dropout(0.5))\n",
    "    model.add(Dense(num_classes, activation='softmax'))\n",
    "    \n",
    "    return model"
   ]
  },
  {
   "cell_type": "code",
   "execution_count": 59,
   "metadata": {},
   "outputs": [],
   "source": [
    "model = build_model()\n",
    "model.compile(loss='categorical_crossentropy',optimizer=keras.optimizers.Adam(), metrics=['accuracy'])\n",
    "es = EarlyStopping(monitor='val_acc',min_delta=0.001,patience=10,mode='auto')\n",
    "md = ModelCheckpoint('表情监测one_new.h5',save_best_only=True)\n",
    "callbacks = [es,md]\n"
   ]
  },
  {
   "cell_type": "code",
   "execution_count": 60,
   "metadata": {},
   "outputs": [
    {
     "name": "stdout",
     "output_type": "stream",
     "text": [
      "Train on 25838 samples, validate on 2871 samples\n",
      "Epoch 1/2000\n",
      "25838/25838 [==============================] - 13s 521us/step - loss: 2.4185 - acc: 0.2291 - val_loss: 2.0584 - val_acc: 0.2741\n",
      "Epoch 2/2000\n",
      "25838/25838 [==============================] - 9s 359us/step - loss: 1.7993 - acc: 0.2508 - val_loss: 2.0763 - val_acc: 0.2776\n",
      "Epoch 3/2000\n",
      "25838/25838 [==============================] - 9s 352us/step - loss: 1.7796 - acc: 0.2589 - val_loss: 1.9905 - val_acc: 0.2929\n",
      "Epoch 4/2000\n",
      "25838/25838 [==============================] - 9s 346us/step - loss: 1.7569 - acc: 0.2771 - val_loss: 1.9765 - val_acc: 0.3079\n",
      "Epoch 5/2000\n",
      "25838/25838 [==============================] - 9s 350us/step - loss: 1.7167 - acc: 0.2937 - val_loss: 1.8669 - val_acc: 0.3480\n",
      "Epoch 6/2000\n",
      "25838/25838 [==============================] - 9s 352us/step - loss: 1.6766 - acc: 0.3270 - val_loss: 1.7958 - val_acc: 0.3786\n",
      "Epoch 7/2000\n",
      "25838/25838 [==============================] - 9s 353us/step - loss: 1.6437 - acc: 0.3450 - val_loss: 1.8454 - val_acc: 0.3685\n",
      "Epoch 8/2000\n",
      "25838/25838 [==============================] - 9s 348us/step - loss: 1.6173 - acc: 0.3592 - val_loss: 1.7329 - val_acc: 0.4176\n",
      "Epoch 9/2000\n",
      "25838/25838 [==============================] - 9s 354us/step - loss: 1.5934 - acc: 0.3684 - val_loss: 1.7162 - val_acc: 0.4201\n",
      "Epoch 10/2000\n",
      "25838/25838 [==============================] - 9s 352us/step - loss: 1.5707 - acc: 0.3797 - val_loss: 1.7590 - val_acc: 0.4288\n",
      "Epoch 11/2000\n",
      "25838/25838 [==============================] - 9s 352us/step - loss: 1.5489 - acc: 0.3938 - val_loss: 1.7457 - val_acc: 0.4336\n",
      "Epoch 12/2000\n",
      "25838/25838 [==============================] - 9s 351us/step - loss: 1.5365 - acc: 0.3995 - val_loss: 1.6966 - val_acc: 0.4462\n",
      "Epoch 13/2000\n",
      "25838/25838 [==============================] - 9s 352us/step - loss: 1.5220 - acc: 0.4046 - val_loss: 1.5852 - val_acc: 0.4538\n",
      "Epoch 14/2000\n",
      "25838/25838 [==============================] - 9s 354us/step - loss: 1.5047 - acc: 0.4168 - val_loss: 1.6696 - val_acc: 0.4598\n",
      "Epoch 15/2000\n",
      "25838/25838 [==============================] - 9s 356us/step - loss: 1.4881 - acc: 0.4232 - val_loss: 1.6376 - val_acc: 0.4528\n",
      "Epoch 16/2000\n",
      "25838/25838 [==============================] - 9s 352us/step - loss: 1.4739 - acc: 0.4276 - val_loss: 1.7044 - val_acc: 0.4549\n",
      "Epoch 17/2000\n",
      "25838/25838 [==============================] - 9s 351us/step - loss: 1.4575 - acc: 0.4339 - val_loss: 1.7325 - val_acc: 0.4706\n",
      "Epoch 18/2000\n",
      "25838/25838 [==============================] - 9s 354us/step - loss: 1.4473 - acc: 0.4428 - val_loss: 1.8447 - val_acc: 0.4789\n",
      "Epoch 19/2000\n",
      "25838/25838 [==============================] - 9s 359us/step - loss: 1.4421 - acc: 0.4417 - val_loss: 1.5943 - val_acc: 0.4995\n",
      "Epoch 20/2000\n",
      "25838/25838 [==============================] - 9s 353us/step - loss: 1.4289 - acc: 0.4488 - val_loss: 1.4973 - val_acc: 0.5047\n",
      "Epoch 21/2000\n",
      "25838/25838 [==============================] - 9s 357us/step - loss: 1.4129 - acc: 0.4569 - val_loss: 1.5294 - val_acc: 0.4949\n",
      "Epoch 22/2000\n",
      "25838/25838 [==============================] - 9s 360us/step - loss: 1.4082 - acc: 0.4584 - val_loss: 1.4990 - val_acc: 0.5023\n",
      "Epoch 23/2000\n",
      "25838/25838 [==============================] - 9s 354us/step - loss: 1.3928 - acc: 0.4600 - val_loss: 1.6108 - val_acc: 0.4949\n",
      "Epoch 24/2000\n",
      "25838/25838 [==============================] - 9s 357us/step - loss: 1.3873 - acc: 0.4654 - val_loss: 1.6258 - val_acc: 0.5085\n",
      "Epoch 25/2000\n",
      "25838/25838 [==============================] - 9s 354us/step - loss: 1.3730 - acc: 0.4721 - val_loss: 1.4909 - val_acc: 0.5117\n",
      "Epoch 26/2000\n",
      "25838/25838 [==============================] - 9s 352us/step - loss: 1.3657 - acc: 0.4762 - val_loss: 1.5776 - val_acc: 0.5172\n",
      "Epoch 27/2000\n",
      "25838/25838 [==============================] - 9s 353us/step - loss: 1.3526 - acc: 0.4797 - val_loss: 1.4782 - val_acc: 0.5273\n",
      "Epoch 28/2000\n",
      "25838/25838 [==============================] - 9s 351us/step - loss: 1.3469 - acc: 0.4835 - val_loss: 1.6035 - val_acc: 0.5120\n",
      "Epoch 29/2000\n",
      "25838/25838 [==============================] - 9s 354us/step - loss: 1.3376 - acc: 0.4877 - val_loss: 1.5547 - val_acc: 0.5451\n",
      "Epoch 30/2000\n",
      "25838/25838 [==============================] - 9s 351us/step - loss: 1.3268 - acc: 0.4918 - val_loss: 1.5235 - val_acc: 0.5291\n",
      "Epoch 31/2000\n",
      "25838/25838 [==============================] - 9s 351us/step - loss: 1.3199 - acc: 0.4978 - val_loss: 1.4385 - val_acc: 0.5329\n",
      "Epoch 32/2000\n",
      "25838/25838 [==============================] - 9s 350us/step - loss: 1.3120 - acc: 0.5021 - val_loss: 1.5604 - val_acc: 0.5378\n",
      "Epoch 33/2000\n",
      "25838/25838 [==============================] - 9s 353us/step - loss: 1.2972 - acc: 0.5027 - val_loss: 1.4221 - val_acc: 0.5343\n",
      "Epoch 34/2000\n",
      "25838/25838 [==============================] - 9s 350us/step - loss: 1.2925 - acc: 0.5029 - val_loss: 1.3419 - val_acc: 0.5475\n",
      "Epoch 35/2000\n",
      "25838/25838 [==============================] - 9s 361us/step - loss: 1.2799 - acc: 0.5108 - val_loss: 1.3465 - val_acc: 0.5507\n",
      "Epoch 36/2000\n",
      "25838/25838 [==============================] - 9s 352us/step - loss: 1.2719 - acc: 0.5146 - val_loss: 1.4815 - val_acc: 0.5448\n",
      "Epoch 37/2000\n",
      "25838/25838 [==============================] - 9s 348us/step - loss: 1.2671 - acc: 0.5127 - val_loss: 1.4592 - val_acc: 0.5545\n",
      "Epoch 38/2000\n",
      "25838/25838 [==============================] - 9s 354us/step - loss: 1.2551 - acc: 0.5238 - val_loss: 1.3857 - val_acc: 0.5563\n",
      "Epoch 39/2000\n",
      "25838/25838 [==============================] - 9s 354us/step - loss: 1.2504 - acc: 0.5242 - val_loss: 1.4552 - val_acc: 0.5542\n",
      "Epoch 40/2000\n",
      "25838/25838 [==============================] - 9s 351us/step - loss: 1.2374 - acc: 0.5311 - val_loss: 1.3934 - val_acc: 0.5604\n",
      "Epoch 41/2000\n",
      "25838/25838 [==============================] - 9s 347us/step - loss: 1.2351 - acc: 0.5291 - val_loss: 1.3482 - val_acc: 0.5601\n",
      "Epoch 42/2000\n",
      "25838/25838 [==============================] - 9s 353us/step - loss: 1.2234 - acc: 0.5320 - val_loss: 1.4205 - val_acc: 0.5496\n",
      "Epoch 43/2000\n",
      "25838/25838 [==============================] - 9s 348us/step - loss: 1.2218 - acc: 0.5348 - val_loss: 1.4169 - val_acc: 0.5622\n",
      "Epoch 44/2000\n",
      "25838/25838 [==============================] - 9s 351us/step - loss: 1.2177 - acc: 0.5373 - val_loss: 1.2279 - val_acc: 0.5698\n",
      "Epoch 45/2000\n",
      "25838/25838 [==============================] - 9s 350us/step - loss: 1.2045 - acc: 0.5427 - val_loss: 1.2486 - val_acc: 0.5775\n",
      "Epoch 46/2000\n",
      "25838/25838 [==============================] - 9s 347us/step - loss: 1.2029 - acc: 0.5435 - val_loss: 1.4765 - val_acc: 0.5563\n",
      "Epoch 47/2000\n",
      "25838/25838 [==============================] - 9s 357us/step - loss: 1.1901 - acc: 0.5467 - val_loss: 1.3862 - val_acc: 0.5702\n",
      "Epoch 48/2000\n",
      "25838/25838 [==============================] - 9s 348us/step - loss: 1.1854 - acc: 0.5469 - val_loss: 1.2879 - val_acc: 0.5768\n",
      "Epoch 49/2000\n",
      "25838/25838 [==============================] - 9s 349us/step - loss: 1.1807 - acc: 0.5538 - val_loss: 1.2618 - val_acc: 0.5772\n",
      "Epoch 50/2000\n",
      "25838/25838 [==============================] - 9s 346us/step - loss: 1.1796 - acc: 0.5497 - val_loss: 1.2323 - val_acc: 0.5852\n",
      "Epoch 51/2000\n",
      "25838/25838 [==============================] - 9s 357us/step - loss: 1.1644 - acc: 0.5579 - val_loss: 1.3233 - val_acc: 0.5754\n",
      "Epoch 52/2000\n",
      "25838/25838 [==============================] - 9s 349us/step - loss: 1.1612 - acc: 0.5589 - val_loss: 1.2329 - val_acc: 0.5893\n",
      "Epoch 53/2000\n",
      "25838/25838 [==============================] - 9s 346us/step - loss: 1.1550 - acc: 0.5595 - val_loss: 1.2532 - val_acc: 0.5817\n",
      "Epoch 54/2000\n",
      "25838/25838 [==============================] - 9s 354us/step - loss: 1.1484 - acc: 0.5639 - val_loss: 1.1949 - val_acc: 0.5831\n",
      "Epoch 55/2000\n",
      "25838/25838 [==============================] - 9s 352us/step - loss: 1.1418 - acc: 0.5632 - val_loss: 1.2395 - val_acc: 0.5831\n",
      "Epoch 56/2000\n",
      "25838/25838 [==============================] - 9s 351us/step - loss: 1.1344 - acc: 0.5678 - val_loss: 1.1952 - val_acc: 0.5876\n",
      "Epoch 57/2000\n",
      "25838/25838 [==============================] - 9s 351us/step - loss: 1.1278 - acc: 0.5718 - val_loss: 1.2037 - val_acc: 0.5869\n",
      "Epoch 58/2000\n",
      "25838/25838 [==============================] - 9s 350us/step - loss: 1.1230 - acc: 0.5751 - val_loss: 1.2289 - val_acc: 0.5921\n"
     ]
    },
    {
     "name": "stdout",
     "output_type": "stream",
     "text": [
      "Epoch 59/2000\n",
      "25838/25838 [==============================] - 9s 351us/step - loss: 1.1185 - acc: 0.5722 - val_loss: 1.2199 - val_acc: 0.5886\n",
      "Epoch 60/2000\n",
      "25838/25838 [==============================] - 9s 352us/step - loss: 1.1157 - acc: 0.5775 - val_loss: 1.3029 - val_acc: 0.5904\n",
      "Epoch 61/2000\n",
      "25838/25838 [==============================] - 9s 349us/step - loss: 1.1114 - acc: 0.5803 - val_loss: 1.3104 - val_acc: 0.5848\n",
      "Epoch 62/2000\n",
      "25838/25838 [==============================] - 9s 353us/step - loss: 1.0981 - acc: 0.5809 - val_loss: 1.2329 - val_acc: 0.5907\n",
      "Epoch 63/2000\n",
      "25838/25838 [==============================] - 9s 351us/step - loss: 1.0984 - acc: 0.5831 - val_loss: 1.1614 - val_acc: 0.5987\n",
      "Epoch 64/2000\n",
      "25838/25838 [==============================] - 9s 354us/step - loss: 1.0886 - acc: 0.5855 - val_loss: 1.1810 - val_acc: 0.6057\n",
      "Epoch 65/2000\n",
      "25838/25838 [==============================] - 9s 350us/step - loss: 1.0762 - acc: 0.5892 - val_loss: 1.2140 - val_acc: 0.5946\n",
      "Epoch 66/2000\n",
      "25838/25838 [==============================] - 9s 351us/step - loss: 1.0781 - acc: 0.5900 - val_loss: 1.1632 - val_acc: 0.5980\n",
      "Epoch 67/2000\n",
      "25838/25838 [==============================] - 9s 349us/step - loss: 1.0753 - acc: 0.5927 - val_loss: 1.2259 - val_acc: 0.5939\n",
      "Epoch 68/2000\n",
      "25838/25838 [==============================] - 9s 354us/step - loss: 1.0595 - acc: 0.5985 - val_loss: 1.2127 - val_acc: 0.6005\n",
      "Epoch 69/2000\n",
      "25838/25838 [==============================] - 9s 360us/step - loss: 1.0658 - acc: 0.5952 - val_loss: 1.2234 - val_acc: 0.6085\n",
      "Epoch 70/2000\n",
      "25838/25838 [==============================] - 9s 345us/step - loss: 1.0559 - acc: 0.5980 - val_loss: 1.2306 - val_acc: 0.5967\n",
      "Epoch 71/2000\n",
      "25838/25838 [==============================] - 9s 354us/step - loss: 1.0588 - acc: 0.5983 - val_loss: 1.2070 - val_acc: 0.6022\n",
      "Epoch 72/2000\n",
      "25838/25838 [==============================] - 9s 349us/step - loss: 1.0425 - acc: 0.6040 - val_loss: 1.1949 - val_acc: 0.6022\n",
      "Epoch 73/2000\n",
      "25838/25838 [==============================] - 9s 348us/step - loss: 1.0337 - acc: 0.6109 - val_loss: 1.2126 - val_acc: 0.6047\n",
      "Epoch 74/2000\n",
      "25838/25838 [==============================] - 9s 354us/step - loss: 1.0372 - acc: 0.6113 - val_loss: 1.1076 - val_acc: 0.6148\n",
      "Epoch 75/2000\n",
      "25838/25838 [==============================] - 9s 361us/step - loss: 1.0270 - acc: 0.6106 - val_loss: 1.1540 - val_acc: 0.6134\n",
      "Epoch 76/2000\n",
      "25838/25838 [==============================] - 9s 352us/step - loss: 1.0263 - acc: 0.6105 - val_loss: 1.1112 - val_acc: 0.6134\n",
      "Epoch 77/2000\n",
      "25838/25838 [==============================] - 9s 354us/step - loss: 1.0197 - acc: 0.6169 - val_loss: 1.2429 - val_acc: 0.6036\n",
      "Epoch 78/2000\n",
      "25838/25838 [==============================] - 9s 354us/step - loss: 1.0196 - acc: 0.6147 - val_loss: 1.1739 - val_acc: 0.6071\n",
      "Epoch 79/2000\n",
      "25838/25838 [==============================] - 9s 353us/step - loss: 1.0072 - acc: 0.6189 - val_loss: 1.0995 - val_acc: 0.6172\n",
      "Epoch 80/2000\n",
      "25838/25838 [==============================] - 9s 353us/step - loss: 0.9983 - acc: 0.6220 - val_loss: 1.1990 - val_acc: 0.6022\n",
      "Epoch 81/2000\n",
      "25838/25838 [==============================] - 9s 354us/step - loss: 1.0059 - acc: 0.6176 - val_loss: 1.1923 - val_acc: 0.6116\n",
      "Epoch 82/2000\n",
      "25838/25838 [==============================] - 9s 356us/step - loss: 1.0008 - acc: 0.6214 - val_loss: 1.1484 - val_acc: 0.6158\n",
      "Epoch 83/2000\n",
      "25838/25838 [==============================] - 9s 351us/step - loss: 0.9986 - acc: 0.6237 - val_loss: 1.1117 - val_acc: 0.6210\n",
      "Epoch 84/2000\n",
      "25838/25838 [==============================] - 9s 352us/step - loss: 0.9940 - acc: 0.6242 - val_loss: 1.1101 - val_acc: 0.6203\n",
      "Epoch 85/2000\n",
      "25838/25838 [==============================] - 9s 351us/step - loss: 0.9877 - acc: 0.6251 - val_loss: 1.2445 - val_acc: 0.6075\n",
      "Epoch 86/2000\n",
      "25838/25838 [==============================] - 9s 350us/step - loss: 0.9753 - acc: 0.6344 - val_loss: 1.1534 - val_acc: 0.6137\n",
      "Epoch 87/2000\n",
      "25838/25838 [==============================] - 9s 347us/step - loss: 0.9758 - acc: 0.6357 - val_loss: 1.3004 - val_acc: 0.6075\n",
      "Epoch 88/2000\n",
      "25838/25838 [==============================] - 9s 349us/step - loss: 0.9688 - acc: 0.6325 - val_loss: 1.1319 - val_acc: 0.6266\n",
      "Epoch 89/2000\n",
      "25838/25838 [==============================] - 9s 347us/step - loss: 0.9566 - acc: 0.6381 - val_loss: 1.1776 - val_acc: 0.6186\n",
      "Epoch 90/2000\n",
      "25838/25838 [==============================] - 9s 348us/step - loss: 0.9649 - acc: 0.6380 - val_loss: 1.1223 - val_acc: 0.6256\n",
      "Epoch 91/2000\n",
      "25838/25838 [==============================] - 9s 347us/step - loss: 0.9496 - acc: 0.6420 - val_loss: 1.0696 - val_acc: 0.6280\n",
      "Epoch 92/2000\n",
      "25838/25838 [==============================] - 9s 348us/step - loss: 0.9528 - acc: 0.6365 - val_loss: 1.1009 - val_acc: 0.6189\n",
      "Epoch 93/2000\n",
      "25838/25838 [==============================] - 9s 349us/step - loss: 0.9466 - acc: 0.6453 - val_loss: 1.0988 - val_acc: 0.6196\n",
      "Epoch 94/2000\n",
      "25838/25838 [==============================] - 9s 352us/step - loss: 0.9426 - acc: 0.6473 - val_loss: 1.1611 - val_acc: 0.6242\n",
      "Epoch 95/2000\n",
      "25838/25838 [==============================] - 9s 352us/step - loss: 0.9381 - acc: 0.6481 - val_loss: 1.1605 - val_acc: 0.6252\n",
      "Epoch 96/2000\n",
      "25838/25838 [==============================] - 9s 349us/step - loss: 0.9421 - acc: 0.6463 - val_loss: 1.3519 - val_acc: 0.6026\n",
      "Epoch 97/2000\n",
      "25838/25838 [==============================] - 9s 352us/step - loss: 0.9219 - acc: 0.6528 - val_loss: 1.1512 - val_acc: 0.6144\n",
      "Epoch 98/2000\n",
      "25838/25838 [==============================] - 9s 349us/step - loss: 0.9203 - acc: 0.6520 - val_loss: 1.1155 - val_acc: 0.6277\n",
      "Epoch 99/2000\n",
      "25838/25838 [==============================] - 9s 352us/step - loss: 0.9229 - acc: 0.6509 - val_loss: 1.1100 - val_acc: 0.6277\n",
      "Epoch 100/2000\n",
      "25838/25838 [==============================] - 9s 353us/step - loss: 0.9189 - acc: 0.6578 - val_loss: 1.1845 - val_acc: 0.6284\n",
      "Epoch 101/2000\n",
      "25838/25838 [==============================] - 9s 348us/step - loss: 0.9109 - acc: 0.6556 - val_loss: 1.2174 - val_acc: 0.6186\n"
     ]
    }
   ],
   "source": [
    "history = model.fit(x_train,y_train,epochs=2000,validation_split=0.1,shuffle=True,verbose=1,callbacks=callbacks)"
   ]
  },
  {
   "cell_type": "code",
   "execution_count": 63,
   "metadata": {},
   "outputs": [
    {
     "name": "stdout",
     "output_type": "stream",
     "text": [
      "Train on 25838 samples, validate on 2871 samples\n",
      "Epoch 1/2000\n",
      "25838/25838 [==============================] - 9s 357us/step - loss: 0.8899 - acc: 0.6638 - val_loss: 1.1305 - val_acc: 0.6308\n",
      "Epoch 2/2000\n",
      "25838/25838 [==============================] - 9s 355us/step - loss: 0.8864 - acc: 0.6686 - val_loss: 1.1550 - val_acc: 0.6364\n",
      "Epoch 3/2000\n",
      "25838/25838 [==============================] - 9s 359us/step - loss: 0.8845 - acc: 0.6657 - val_loss: 1.0904 - val_acc: 0.6444\n",
      "Epoch 4/2000\n",
      "25838/25838 [==============================] - 9s 353us/step - loss: 0.8789 - acc: 0.6703 - val_loss: 1.1177 - val_acc: 0.6392\n",
      "Epoch 5/2000\n",
      "25838/25838 [==============================] - 9s 350us/step - loss: 0.8848 - acc: 0.6665 - val_loss: 1.1203 - val_acc: 0.6378\n",
      "Epoch 6/2000\n",
      "25838/25838 [==============================] - 9s 358us/step - loss: 0.8634 - acc: 0.6727 - val_loss: 1.0773 - val_acc: 0.6419\n",
      "Epoch 7/2000\n",
      "25838/25838 [==============================] - 9s 355us/step - loss: 0.8754 - acc: 0.6737 - val_loss: 1.0959 - val_acc: 0.6416\n",
      "Epoch 8/2000\n",
      "25838/25838 [==============================] - 9s 357us/step - loss: 0.8678 - acc: 0.6733 - val_loss: 1.2133 - val_acc: 0.6392\n",
      "Epoch 9/2000\n",
      "25838/25838 [==============================] - 9s 359us/step - loss: 0.8662 - acc: 0.6794 - val_loss: 1.1987 - val_acc: 0.6367\n",
      "Epoch 10/2000\n",
      "25838/25838 [==============================] - 9s 354us/step - loss: 0.8584 - acc: 0.6767 - val_loss: 1.1465 - val_acc: 0.6392\n",
      "Epoch 11/2000\n",
      "25838/25838 [==============================] - 9s 360us/step - loss: 0.8567 - acc: 0.6782 - val_loss: 1.1114 - val_acc: 0.6454\n",
      "Epoch 12/2000\n",
      "25838/25838 [==============================] - 9s 350us/step - loss: 0.8545 - acc: 0.6798 - val_loss: 1.1689 - val_acc: 0.6367\n",
      "Epoch 13/2000\n",
      "25838/25838 [==============================] - 9s 356us/step - loss: 0.8449 - acc: 0.6832 - val_loss: 1.0833 - val_acc: 0.6440\n",
      "Epoch 14/2000\n",
      "25838/25838 [==============================] - 9s 359us/step - loss: 0.8389 - acc: 0.6853 - val_loss: 1.0988 - val_acc: 0.6475\n",
      "Epoch 15/2000\n",
      "25838/25838 [==============================] - 9s 355us/step - loss: 0.8366 - acc: 0.6879 - val_loss: 1.1448 - val_acc: 0.6360\n",
      "Epoch 16/2000\n",
      "25838/25838 [==============================] - 9s 351us/step - loss: 0.8456 - acc: 0.6823 - val_loss: 1.1689 - val_acc: 0.6371\n",
      "Epoch 17/2000\n",
      "25838/25838 [==============================] - 9s 352us/step - loss: 0.8272 - acc: 0.6906 - val_loss: 1.1210 - val_acc: 0.6405\n",
      "Epoch 18/2000\n",
      "25838/25838 [==============================] - 9s 348us/step - loss: 0.8291 - acc: 0.6918 - val_loss: 1.1159 - val_acc: 0.6430\n",
      "Epoch 19/2000\n",
      "25838/25838 [==============================] - 9s 351us/step - loss: 0.8222 - acc: 0.6956 - val_loss: 1.1877 - val_acc: 0.6315\n",
      "Epoch 20/2000\n",
      "25838/25838 [==============================] - 9s 351us/step - loss: 0.8250 - acc: 0.6892 - val_loss: 1.2088 - val_acc: 0.6249\n",
      "Epoch 21/2000\n",
      "25838/25838 [==============================] - 9s 348us/step - loss: 0.8226 - acc: 0.6923 - val_loss: 1.0428 - val_acc: 0.6499\n",
      "Epoch 22/2000\n",
      "25838/25838 [==============================] - 9s 348us/step - loss: 0.8144 - acc: 0.6938 - val_loss: 1.1909 - val_acc: 0.6353\n",
      "Epoch 23/2000\n",
      "25838/25838 [==============================] - 9s 348us/step - loss: 0.8124 - acc: 0.6967 - val_loss: 1.1577 - val_acc: 0.6346\n",
      "Epoch 24/2000\n",
      "25838/25838 [==============================] - 9s 354us/step - loss: 0.8117 - acc: 0.6961 - val_loss: 1.3445 - val_acc: 0.6158\n",
      "Epoch 25/2000\n",
      "25838/25838 [==============================] - 9s 347us/step - loss: 0.8058 - acc: 0.6984 - val_loss: 1.1617 - val_acc: 0.6416\n",
      "Epoch 26/2000\n",
      "25838/25838 [==============================] - 9s 349us/step - loss: 0.8027 - acc: 0.7047 - val_loss: 1.2098 - val_acc: 0.6360\n",
      "Epoch 27/2000\n",
      "25838/25838 [==============================] - 9s 351us/step - loss: 0.7918 - acc: 0.7044 - val_loss: 1.1069 - val_acc: 0.6503\n",
      "Epoch 28/2000\n",
      "25838/25838 [==============================] - 9s 353us/step - loss: 0.8042 - acc: 0.7041 - val_loss: 1.1333 - val_acc: 0.6437\n",
      "Epoch 29/2000\n",
      "25838/25838 [==============================] - 9s 349us/step - loss: 0.7903 - acc: 0.7022 - val_loss: 1.2660 - val_acc: 0.6367\n",
      "Epoch 30/2000\n",
      "25838/25838 [==============================] - 9s 348us/step - loss: 0.7878 - acc: 0.7066 - val_loss: 1.1227 - val_acc: 0.6552\n",
      "Epoch 31/2000\n",
      "25838/25838 [==============================] - 9s 351us/step - loss: 0.7930 - acc: 0.7048 - val_loss: 1.1427 - val_acc: 0.6444\n",
      "Epoch 32/2000\n",
      "25838/25838 [==============================] - 9s 351us/step - loss: 0.7879 - acc: 0.7054 - val_loss: 1.0703 - val_acc: 0.6451\n",
      "Epoch 33/2000\n",
      "25838/25838 [==============================] - 9s 356us/step - loss: 0.7806 - acc: 0.7086 - val_loss: 1.1045 - val_acc: 0.6482\n",
      "Epoch 34/2000\n",
      "25838/25838 [==============================] - 9s 352us/step - loss: 0.7767 - acc: 0.7083 - val_loss: 1.2040 - val_acc: 0.6482\n",
      "Epoch 35/2000\n",
      "25838/25838 [==============================] - 9s 346us/step - loss: 0.7753 - acc: 0.7148 - val_loss: 1.1824 - val_acc: 0.6419\n",
      "Epoch 36/2000\n",
      "25838/25838 [==============================] - 9s 355us/step - loss: 0.7691 - acc: 0.7139 - val_loss: 1.1216 - val_acc: 0.6486\n",
      "Epoch 37/2000\n",
      "25838/25838 [==============================] - 9s 350us/step - loss: 0.7665 - acc: 0.7149 - val_loss: 1.1093 - val_acc: 0.6461\n",
      "Epoch 38/2000\n",
      "25838/25838 [==============================] - 9s 353us/step - loss: 0.7666 - acc: 0.7115 - val_loss: 1.1604 - val_acc: 0.6489\n",
      "Epoch 39/2000\n",
      "25838/25838 [==============================] - 9s 348us/step - loss: 0.7626 - acc: 0.7175 - val_loss: 1.1145 - val_acc: 0.6531\n",
      "Epoch 40/2000\n",
      "25838/25838 [==============================] - 9s 352us/step - loss: 0.7514 - acc: 0.7203 - val_loss: 1.1752 - val_acc: 0.6538\n"
     ]
    }
   ],
   "source": [
    "## 提升有望，再训练一会~~~ \n",
    "history_new = model.fit(x_train,y_train,epochs=2000,validation_split=0.1,shuffle=True,verbose=1,callbacks=callbacks)"
   ]
  },
  {
   "cell_type": "code",
   "execution_count": 67,
   "metadata": {
    "scrolled": false
   },
   "outputs": [
    {
     "name": "stdout",
     "output_type": "stream",
     "text": [
      "Train on 25838 samples, validate on 2871 samples\n",
      "Epoch 1/2000\n",
      "25838/25838 [==============================] - 9s 354us/step - loss: 0.7549 - acc: 0.7207 - val_loss: 1.1492 - val_acc: 0.6513\n",
      "Epoch 2/2000\n",
      "25838/25838 [==============================] - 9s 349us/step - loss: 0.7469 - acc: 0.7221 - val_loss: 1.2045 - val_acc: 0.6569\n",
      "Epoch 3/2000\n",
      "25838/25838 [==============================] - 9s 348us/step - loss: 0.7499 - acc: 0.7224 - val_loss: 1.1659 - val_acc: 0.6590\n",
      "Epoch 4/2000\n",
      "25838/25838 [==============================] - 9s 358us/step - loss: 0.7444 - acc: 0.7229 - val_loss: 1.1353 - val_acc: 0.6562\n",
      "Epoch 5/2000\n",
      "25838/25838 [==============================] - 9s 350us/step - loss: 0.7364 - acc: 0.7266 - val_loss: 1.2910 - val_acc: 0.6419\n",
      "Epoch 6/2000\n",
      "25838/25838 [==============================] - 9s 357us/step - loss: 0.7505 - acc: 0.7193 - val_loss: 1.1044 - val_acc: 0.6520\n",
      "Epoch 7/2000\n",
      "25838/25838 [==============================] - 9s 349us/step - loss: 0.7431 - acc: 0.7236 - val_loss: 1.0984 - val_acc: 0.6583\n",
      "Epoch 8/2000\n",
      "25838/25838 [==============================] - 9s 353us/step - loss: 0.7379 - acc: 0.7266 - val_loss: 1.1970 - val_acc: 0.6513\n",
      "Epoch 9/2000\n",
      "25838/25838 [==============================] - 9s 350us/step - loss: 0.7279 - acc: 0.7324 - val_loss: 1.1176 - val_acc: 0.6681\n",
      "Epoch 10/2000\n",
      "25838/25838 [==============================] - 9s 349us/step - loss: 0.7274 - acc: 0.7295 - val_loss: 1.2598 - val_acc: 0.6430\n",
      "Epoch 11/2000\n",
      "25838/25838 [==============================] - 9s 351us/step - loss: 0.7276 - acc: 0.7314 - val_loss: 1.0971 - val_acc: 0.6621\n",
      "Epoch 12/2000\n",
      "25838/25838 [==============================] - 9s 348us/step - loss: 0.7201 - acc: 0.7333 - val_loss: 1.1338 - val_acc: 0.6614\n",
      "Epoch 13/2000\n",
      "25838/25838 [==============================] - 9s 350us/step - loss: 0.7212 - acc: 0.7313 - val_loss: 1.1492 - val_acc: 0.6583\n",
      "Epoch 14/2000\n",
      "25838/25838 [==============================] - 9s 355us/step - loss: 0.7261 - acc: 0.7329 - val_loss: 1.2589 - val_acc: 0.6513\n",
      "Epoch 15/2000\n",
      "25838/25838 [==============================] - 9s 354us/step - loss: 0.7246 - acc: 0.7294 - val_loss: 1.1692 - val_acc: 0.6569\n",
      "Epoch 16/2000\n",
      "25838/25838 [==============================] - 9s 349us/step - loss: 0.7178 - acc: 0.7318 - val_loss: 1.1842 - val_acc: 0.6639\n",
      "Epoch 17/2000\n",
      "25838/25838 [==============================] - 9s 346us/step - loss: 0.7097 - acc: 0.7334 - val_loss: 1.1434 - val_acc: 0.6600\n",
      "Epoch 18/2000\n",
      "25838/25838 [==============================] - 9s 350us/step - loss: 0.7142 - acc: 0.7338 - val_loss: 1.2299 - val_acc: 0.6594\n",
      "Epoch 19/2000\n",
      "25838/25838 [==============================] - 9s 346us/step - loss: 0.7178 - acc: 0.7342 - val_loss: 1.2379 - val_acc: 0.6534\n"
     ]
    },
    {
     "data": {
      "text/plain": [
       "<keras.callbacks.History at 0x7f3c75232da0>"
      ]
     },
     "execution_count": 67,
     "metadata": {},
     "output_type": "execute_result"
    }
   ],
   "source": [
    "## 提升有望，再训练一会~~~ \n",
    "model.fit(x_train,y_train,epochs=2000,validation_split=0.1,shuffle=True,verbose=1,callbacks=callbacks)"
   ]
  },
  {
   "cell_type": "code",
   "execution_count": 65,
   "metadata": {},
   "outputs": [
    {
     "data": {
      "text/plain": [
       "Text(0,0.5,'Acc')"
      ]
     },
     "execution_count": 65,
     "metadata": {},
     "output_type": "execute_result"
    },
    {
     "data": {
      "image/png": "[encoded data removed]",
      "text/plain": [
       "<Figure size 432x288 with 1 Axes>"
      ]
     },
     "metadata": {},
     "output_type": "display_data"
    }
   ],
   "source": [
    "plt.plot(history.history['val_acc'])\n",
    "plt.plot(history.history['acc'])\n",
    "plt.legend(['val_acc','acc'])\n",
    "plt.xlabel('Epoch',fontsize=10)\n",
    "plt.ylabel('Acc',fontsize=10)"
   ]
  },
  {
   "cell_type": "code",
   "execution_count": 68,
   "metadata": {},
   "outputs": [
    {
     "name": "stdout",
     "output_type": "stream",
     "text": [
      "在PublicTest上的准确率为:62.775146280300916%\n"
     ]
    }
   ],
   "source": [
    "y_pred = model.predict(x_test)\n",
    "from sklearn.metrics import accuracy_score\n",
    "print('在PublicTest上的准确率为:{}%'.format(accuracy_score(y_pred.argmax(axis=1),y_test.argmax(axis=1))*100))"
   ]
  },
  {
   "cell_type": "markdown",
   "metadata": {},
   "source": [
    "####  =========================\n",
    "比原模型要好一点点"
   ]
  },
  {
   "cell_type": "markdown",
   "metadata": {},
   "source": [
    "## （2）数据集增广，模型不变，测试效果"
   ]
  },
  {
   "cell_type": "code",
   "execution_count": 69,
   "metadata": {},
   "outputs": [
    {
     "data": {
      "text/plain": [
       "Text(0.5,1,'旋转')"
      ]
     },
     "execution_count": 69,
     "metadata": {},
     "output_type": "execute_result"
    },
    {
     "data": {
      "image/png": "[encoded data removed]",
      "text/plain": [
       "<Figure size 432x432 with 4 Axes>"
      ]
     },
     "metadata": {},
     "output_type": "display_data"
    }
   ],
   "source": [
    "## 看一下增广数据集的效果\n",
    "plt.figure(figsize=(6,6))\n",
    "img_test = x_test[1]\n",
    "\n",
    "plt.subplot(2,2,1)\n",
    "plt.imshow(img_test.reshape(48,48),plt.cm.gray)\n",
    "plt.title('原图')\n",
    "\n",
    "plt.subplot(2,2,2)\n",
    "img_gauss = cv2.GaussianBlur(img_test,(3,3),1)\n",
    "plt.imshow(img_gauss,plt.cm.gray)\n",
    "plt.title('高斯模糊')\n",
    "\n",
    "plt.subplot(2,2,3)\n",
    "kernel = np.array([[0,-0.5,0],[-1,3,-1],[0,-0.5,0]],np.float32)\n",
    "img_ruihua = cv2.filter2D(img_test,-1,kernel)\n",
    "plt.imshow(img_ruihua,plt.cm.gray)\n",
    "plt.title('锐化')\n",
    "\n",
    "plt.subplot(2,2,4)\n",
    "xuanzhuan = cv2.getRotationMatrix2D((24,24),30,1)\n",
    "img_xuanzhuan = cv2.warpAffine(img_test,xuanzhuan,(48,48))\n",
    "plt.imshow(img_xuanzhuan,plt.cm.gray)\n",
    "plt.title('旋转')\n",
    "    \n"
   ]
  },
  {
   "cell_type": "code",
   "execution_count": 70,
   "metadata": {},
   "outputs": [],
   "source": [
    "def build_model_zero():\n",
    "    model = Sequential()\n",
    "\n",
    "    #1st convolution layer\n",
    "    model.add(Conv2D(64, (5, 5), activation='relu', input_shape=(48,48,1)))\n",
    "    model.add(MaxPooling2D(pool_size=(5,5), strides=(2, 2)))\n",
    "\n",
    "    #2nd convolution layer\n",
    "    model.add(Conv2D(64, (3, 3), activation='relu'))\n",
    "    model.add(Conv2D(64, (3, 3), activation='relu'))\n",
    "    model.add(AveragePooling2D(pool_size=(3,3), strides=(2, 2)))\n",
    "\n",
    "    #3rd convolution layer\n",
    "    model.add(Conv2D(128, (3, 3), activation='relu'))\n",
    "    model.add(Conv2D(128, (3, 3), activation='relu'))\n",
    "    model.add(AveragePooling2D(pool_size=(3,3), strides=(2, 2)))\n",
    "\n",
    "    model.add(Flatten())\n",
    "\n",
    "    #fully connected neural networks\n",
    "    model.add(Dense(1024, activation='relu'))\n",
    "    model.add(Dropout(0.2))\n",
    "    model.add(Dense(1024, activation='relu'))\n",
    "    model.add(Dropout(0.2))\n",
    "\n",
    "    model.add(Dense(num_classes, activation='softmax'))\n",
    "    \n",
    "    return model\n",
    "\n",
    "\n",
    "model_zero = build_model_zero()\n",
    "model_zero.compile(loss='categorical_crossentropy', optimizer=keras.optimizers.Adam(), metrics=['accuracy'])\n",
    "model_zero.load_weights('./model/facial_expression_model_weights.h5')"
   ]
  },
  {
   "cell_type": "code",
   "execution_count": 71,
   "metadata": {},
   "outputs": [
    {
     "data": {
      "text/plain": [
       "((114836, 7), (114836, 48, 48, 1))"
      ]
     },
     "execution_count": 71,
     "metadata": {},
     "output_type": "execute_result"
    }
   ],
   "source": [
    "## 扩增数据集\n",
    "x_gauss = np.empty((len(x_train),48,48),dtype='float32')\n",
    "x_ruihua = np.empty((len(x_train),48,48),dtype='float32')\n",
    "x_xuanzhuan = np.empty((len(x_train),48,48),dtype='float32')\n",
    "\n",
    "for i in range(len(x_train)):\n",
    "    img = x_train[i]\n",
    "    ##高斯模糊\n",
    "    img_gauss = cv2.GaussianBlur(img,(3,3),0)\n",
    "    x_gauss[i] = img_gauss\n",
    "    \n",
    "    ##图形锐化\n",
    "    kernel = np.array([[0,-0.5,0],[-1,3,-1],[0,-0.5,0]],np.float32)\n",
    "    img_ruihua = cv2.filter2D(img,-1,kernel)\n",
    "    x_ruihua[i] = img_ruihua\n",
    "    \n",
    "    ##图像旋转\n",
    "    jiaodu = np.random.randint(0,180)\n",
    "    xuanzhuan = cv2.getRotationMatrix2D((24,24),jiaodu,1)\n",
    "    img_xuanzhuan = cv2.warpAffine(img,xuanzhuan,(48,48))\n",
    "    x_xuanzhuan[i] = img_xuanzhuan\n",
    "    \n",
    "##扩增数据集\n",
    "y_train_new = np.concatenate((y_train,y_train,y_train,y_train))\n",
    "x_train_new = np.concatenate((x_train,x_gauss.reshape(len(x_gauss),48,48,1),x_ruihua.reshape(len(x_gauss),48,48,1),x_xuanzhuan.reshape(len(x_gauss),48,48,1)))\n",
    "y_train_new.shape,x_train_new.shape"
   ]
  },
  {
   "cell_type": "code",
   "execution_count": 72,
   "metadata": {},
   "outputs": [
    {
     "name": "stdout",
     "output_type": "stream",
     "text": [
      "Train on 103352 samples, validate on 11484 samples\n",
      "Epoch 1/2000\n",
      "103352/103352 [==============================] - 30s 286us/step - loss: 1.2252 - acc: 0.5458 - val_loss: 1.6916 - val_acc: 0.3252\n",
      "Epoch 2/2000\n",
      "103352/103352 [==============================] - 25s 243us/step - loss: 1.1190 - acc: 0.5779 - val_loss: 1.6746 - val_acc: 0.3400\n",
      "Epoch 3/2000\n",
      "103352/103352 [==============================] - 25s 242us/step - loss: 1.0684 - acc: 0.5974 - val_loss: 1.6779 - val_acc: 0.3643\n",
      "Epoch 4/2000\n",
      "103352/103352 [==============================] - 25s 241us/step - loss: 1.0188 - acc: 0.6165 - val_loss: 1.6410 - val_acc: 0.3689\n",
      "Epoch 5/2000\n",
      "103352/103352 [==============================] - 25s 242us/step - loss: 0.9723 - acc: 0.6353 - val_loss: 1.6672 - val_acc: 0.3750\n",
      "Epoch 6/2000\n",
      "103352/103352 [==============================] - 25s 243us/step - loss: 0.9283 - acc: 0.6513 - val_loss: 1.6110 - val_acc: 0.3760\n",
      "Epoch 7/2000\n",
      "103352/103352 [==============================] - 25s 243us/step - loss: 0.8853 - acc: 0.6697 - val_loss: 1.6219 - val_acc: 0.3842\n",
      "Epoch 8/2000\n",
      "103352/103352 [==============================] - 25s 244us/step - loss: 0.8546 - acc: 0.6798 - val_loss: 1.6277 - val_acc: 0.3924\n",
      "Epoch 9/2000\n",
      "103352/103352 [==============================] - 25s 245us/step - loss: 0.8197 - acc: 0.6935 - val_loss: 1.6342 - val_acc: 0.3986\n",
      "Epoch 10/2000\n",
      "103352/103352 [==============================] - 25s 241us/step - loss: 0.7889 - acc: 0.7080 - val_loss: 1.6496 - val_acc: 0.4015\n",
      "Epoch 11/2000\n",
      "103352/103352 [==============================] - 25s 244us/step - loss: 0.7556 - acc: 0.7202 - val_loss: 1.7165 - val_acc: 0.3962\n",
      "Epoch 12/2000\n",
      "103352/103352 [==============================] - 25s 243us/step - loss: 0.7320 - acc: 0.7284 - val_loss: 1.6535 - val_acc: 0.4000\n",
      "Epoch 13/2000\n",
      "103352/103352 [==============================] - 25s 243us/step - loss: 0.7012 - acc: 0.7400 - val_loss: 1.6975 - val_acc: 0.4047\n",
      "Epoch 14/2000\n",
      "103352/103352 [==============================] - 25s 243us/step - loss: 0.6860 - acc: 0.7475 - val_loss: 1.6358 - val_acc: 0.4032\n",
      "Epoch 15/2000\n",
      "103352/103352 [==============================] - 25s 243us/step - loss: 0.6565 - acc: 0.7586 - val_loss: 1.7189 - val_acc: 0.3973\n",
      "Epoch 16/2000\n",
      "103352/103352 [==============================] - 25s 240us/step - loss: 0.6497 - acc: 0.7632 - val_loss: 1.7090 - val_acc: 0.3928\n",
      "Epoch 17/2000\n",
      "103352/103352 [==============================] - 25s 241us/step - loss: 0.6273 - acc: 0.7705 - val_loss: 1.6881 - val_acc: 0.4008\n",
      "Epoch 18/2000\n",
      "103352/103352 [==============================] - 25s 246us/step - loss: 0.6139 - acc: 0.7752 - val_loss: 1.7236 - val_acc: 0.4023\n",
      "Epoch 19/2000\n",
      "103352/103352 [==============================] - 25s 245us/step - loss: 0.5980 - acc: 0.7827 - val_loss: 1.7368 - val_acc: 0.3959\n",
      "Epoch 20/2000\n",
      "103352/103352 [==============================] - 25s 246us/step - loss: 0.5888 - acc: 0.7853 - val_loss: 1.7184 - val_acc: 0.4032\n",
      "Epoch 21/2000\n",
      "103352/103352 [==============================] - 25s 245us/step - loss: 0.5721 - acc: 0.7936 - val_loss: 1.7482 - val_acc: 0.3999\n",
      "Epoch 22/2000\n",
      "103352/103352 [==============================] - 25s 242us/step - loss: 0.5644 - acc: 0.7961 - val_loss: 1.8179 - val_acc: 0.3962\n",
      "Epoch 23/2000\n",
      "103352/103352 [==============================] - 25s 243us/step - loss: 0.5526 - acc: 0.8004 - val_loss: 1.8053 - val_acc: 0.4018\n"
     ]
    },
    {
     "data": {
      "text/plain": [
       "<keras.callbacks.History at 0x7f3c75192710>"
      ]
     },
     "execution_count": 72,
     "metadata": {},
     "output_type": "execute_result"
    }
   ],
   "source": [
    "es = EarlyStopping(monitor='val_acc',min_delta=0.001,patience=10,mode='auto')\n",
    "md = ModelCheckpoint('表情监测数据.h5',save_best_only=True)\n",
    "callbacks = [es,md]\n",
    "model_zero.fit(x_train_new,y_train_new,epochs=2000,validation_split=0.1,callbacks=callbacks,verbose=1,shuffle=True)"
   ]
  },
  {
   "cell_type": "code",
   "execution_count": 73,
   "metadata": {},
   "outputs": [
    {
     "name": "stdout",
     "output_type": "stream",
     "text": [
      "在PublicTest上的准确率为:57.00752298690443%\n"
     ]
    }
   ],
   "source": [
    "y_pred = model_zero.predict(x_test)\n",
    "from sklearn.metrics import accuracy_score\n",
    "print('在PublicTest上的准确率为:{}%'.format(accuracy_score(y_pred.argmax(axis=1),y_test.argmax(axis=1))*100))"
   ]
  },
  {
   "cell_type": "markdown",
   "metadata": {},
   "source": [
    "这个准确率提升的实在有限，那再换一下，说明单纯的做数据增广不太行，再加上模型优化"
   ]
  },
  {
   "cell_type": "markdown",
   "metadata": {},
   "source": [
    "## （3）数据集增广，模型调整，测试效果"
   ]
  },
  {
   "cell_type": "code",
   "execution_count": 74,
   "metadata": {},
   "outputs": [
    {
     "name": "stdout",
     "output_type": "stream",
     "text": [
      "Train on 103352 samples, validate on 11484 samples\n",
      "Epoch 1/2000\n",
      "103352/103352 [==============================] - 42s 403us/step - loss: 1.9825 - acc: 0.2394 - val_loss: 3.0874 - val_acc: 0.2542\n",
      "Epoch 2/2000\n",
      "103352/103352 [==============================] - 37s 356us/step - loss: 1.7804 - acc: 0.2610 - val_loss: 3.2626 - val_acc: 0.2524\n",
      "Epoch 3/2000\n",
      "103352/103352 [==============================] - 36s 352us/step - loss: 1.7362 - acc: 0.2897 - val_loss: 4.0042 - val_acc: 0.2025\n",
      "Epoch 4/2000\n",
      "103352/103352 [==============================] - 36s 350us/step - loss: 1.6912 - acc: 0.3156 - val_loss: 2.3133 - val_acc: 0.2597\n",
      "Epoch 5/2000\n",
      "103352/103352 [==============================] - 36s 349us/step - loss: 1.6497 - acc: 0.3377 - val_loss: 2.7313 - val_acc: 0.2524\n",
      "Epoch 6/2000\n",
      "103352/103352 [==============================] - 36s 353us/step - loss: 1.6101 - acc: 0.3594 - val_loss: 2.0529 - val_acc: 0.2659\n",
      "Epoch 7/2000\n",
      "103352/103352 [==============================] - 37s 354us/step - loss: 1.5766 - acc: 0.3759 - val_loss: 2.2164 - val_acc: 0.2885\n",
      "Epoch 8/2000\n",
      "103352/103352 [==============================] - 36s 351us/step - loss: 1.5399 - acc: 0.3938 - val_loss: 1.9942 - val_acc: 0.2936\n",
      "Epoch 9/2000\n",
      "103352/103352 [==============================] - 37s 353us/step - loss: 1.5059 - acc: 0.4097 - val_loss: 1.8225 - val_acc: 0.3037\n",
      "Epoch 10/2000\n",
      "103352/103352 [==============================] - 36s 353us/step - loss: 1.4733 - acc: 0.4254 - val_loss: 1.7458 - val_acc: 0.3130\n",
      "Epoch 11/2000\n",
      "103352/103352 [==============================] - 36s 351us/step - loss: 1.4413 - acc: 0.4387 - val_loss: 1.9737 - val_acc: 0.3211\n",
      "Epoch 12/2000\n",
      "103352/103352 [==============================] - 37s 354us/step - loss: 1.4141 - acc: 0.4527 - val_loss: 1.7695 - val_acc: 0.3420\n",
      "Epoch 13/2000\n",
      "103352/103352 [==============================] - 36s 350us/step - loss: 1.3898 - acc: 0.4638 - val_loss: 1.7138 - val_acc: 0.3481\n",
      "Epoch 14/2000\n",
      "103352/103352 [==============================] - 36s 349us/step - loss: 1.3667 - acc: 0.4717 - val_loss: 1.6747 - val_acc: 0.3568\n",
      "Epoch 15/2000\n",
      "103352/103352 [==============================] - 37s 357us/step - loss: 1.3447 - acc: 0.4829 - val_loss: 1.6502 - val_acc: 0.3718\n",
      "Epoch 16/2000\n",
      "103352/103352 [==============================] - 37s 354us/step - loss: 1.3261 - acc: 0.4886 - val_loss: 1.5897 - val_acc: 0.3808\n",
      "Epoch 17/2000\n",
      "103352/103352 [==============================] - 36s 352us/step - loss: 1.3102 - acc: 0.4982 - val_loss: 1.5782 - val_acc: 0.3865\n",
      "Epoch 18/2000\n",
      "103352/103352 [==============================] - 37s 353us/step - loss: 1.2955 - acc: 0.5045 - val_loss: 1.5560 - val_acc: 0.3975\n",
      "Epoch 19/2000\n",
      "103352/103352 [==============================] - 37s 355us/step - loss: 1.2805 - acc: 0.5097 - val_loss: 1.5168 - val_acc: 0.4098\n",
      "Epoch 20/2000\n",
      "103352/103352 [==============================] - 36s 353us/step - loss: 1.2671 - acc: 0.5143 - val_loss: 1.5385 - val_acc: 0.4098\n",
      "Epoch 21/2000\n",
      "103352/103352 [==============================] - 37s 354us/step - loss: 1.2539 - acc: 0.5194 - val_loss: 1.5370 - val_acc: 0.4163\n",
      "Epoch 22/2000\n",
      "103352/103352 [==============================] - 36s 351us/step - loss: 1.2434 - acc: 0.5246 - val_loss: 1.4722 - val_acc: 0.4355\n",
      "Epoch 23/2000\n",
      "103352/103352 [==============================] - 36s 352us/step - loss: 1.2329 - acc: 0.5280 - val_loss: 1.4847 - val_acc: 0.4316\n",
      "Epoch 24/2000\n",
      "103352/103352 [==============================] - 36s 353us/step - loss: 1.2236 - acc: 0.5336 - val_loss: 1.4354 - val_acc: 0.4487\n",
      "Epoch 25/2000\n",
      "103352/103352 [==============================] - 37s 353us/step - loss: 1.2153 - acc: 0.5349 - val_loss: 1.4358 - val_acc: 0.4460\n",
      "Epoch 26/2000\n",
      "103352/103352 [==============================] - 37s 357us/step - loss: 1.2045 - acc: 0.5387 - val_loss: 1.4665 - val_acc: 0.4380\n",
      "Epoch 27/2000\n",
      "103352/103352 [==============================] - 37s 353us/step - loss: 1.1951 - acc: 0.5441 - val_loss: 1.4540 - val_acc: 0.4409\n",
      "Epoch 28/2000\n",
      "103352/103352 [==============================] - 37s 354us/step - loss: 1.1883 - acc: 0.5466 - val_loss: 1.4208 - val_acc: 0.4517\n",
      "Epoch 29/2000\n",
      "103352/103352 [==============================] - 37s 359us/step - loss: 1.1783 - acc: 0.5514 - val_loss: 1.4590 - val_acc: 0.4463\n",
      "Epoch 30/2000\n",
      "103352/103352 [==============================] - 37s 355us/step - loss: 1.1702 - acc: 0.5529 - val_loss: 1.4208 - val_acc: 0.4584\n",
      "Epoch 31/2000\n",
      "103352/103352 [==============================] - 37s 355us/step - loss: 1.1605 - acc: 0.5571 - val_loss: 1.4134 - val_acc: 0.4645\n",
      "Epoch 32/2000\n",
      "103352/103352 [==============================] - 36s 350us/step - loss: 1.1552 - acc: 0.5608 - val_loss: 1.3643 - val_acc: 0.4780\n",
      "Epoch 33/2000\n",
      "103352/103352 [==============================] - 36s 351us/step - loss: 1.1470 - acc: 0.5620 - val_loss: 1.3895 - val_acc: 0.4724\n",
      "Epoch 34/2000\n",
      "103352/103352 [==============================] - 36s 351us/step - loss: 1.1390 - acc: 0.5672 - val_loss: 1.3560 - val_acc: 0.4798\n",
      "Epoch 35/2000\n",
      "103352/103352 [==============================] - 36s 351us/step - loss: 1.1349 - acc: 0.5688 - val_loss: 1.3677 - val_acc: 0.4732\n",
      "Epoch 36/2000\n",
      "103352/103352 [==============================] - 36s 352us/step - loss: 1.1270 - acc: 0.5728 - val_loss: 1.3439 - val_acc: 0.4849\n",
      "Epoch 37/2000\n",
      "103352/103352 [==============================] - 36s 352us/step - loss: 1.1214 - acc: 0.5735 - val_loss: 1.3585 - val_acc: 0.4802\n",
      "Epoch 38/2000\n",
      "103352/103352 [==============================] - 37s 355us/step - loss: 1.1139 - acc: 0.5768 - val_loss: 1.3643 - val_acc: 0.4841\n",
      "Epoch 39/2000\n",
      "103352/103352 [==============================] - 37s 355us/step - loss: 1.1067 - acc: 0.5801 - val_loss: 1.3401 - val_acc: 0.4913\n",
      "Epoch 40/2000\n",
      "103352/103352 [==============================] - 37s 353us/step - loss: 1.0992 - acc: 0.5849 - val_loss: 1.3378 - val_acc: 0.4866\n",
      "Epoch 41/2000\n",
      "103352/103352 [==============================] - 36s 352us/step - loss: 1.0955 - acc: 0.5832 - val_loss: 1.3602 - val_acc: 0.4818\n",
      "Epoch 42/2000\n",
      "103352/103352 [==============================] - 36s 352us/step - loss: 1.0895 - acc: 0.5857 - val_loss: 1.3421 - val_acc: 0.4923\n",
      "Epoch 43/2000\n",
      "103352/103352 [==============================] - 36s 353us/step - loss: 1.0818 - acc: 0.5884 - val_loss: 1.3231 - val_acc: 0.4953\n",
      "Epoch 44/2000\n",
      "103352/103352 [==============================] - 36s 352us/step - loss: 1.0787 - acc: 0.5910 - val_loss: 1.3197 - val_acc: 0.4985\n",
      "Epoch 45/2000\n",
      "103352/103352 [==============================] - 36s 350us/step - loss: 1.0745 - acc: 0.5920 - val_loss: 1.3349 - val_acc: 0.4972\n",
      "Epoch 46/2000\n",
      "103352/103352 [==============================] - 36s 353us/step - loss: 1.0669 - acc: 0.5960 - val_loss: 1.3154 - val_acc: 0.4949\n",
      "Epoch 47/2000\n",
      "103352/103352 [==============================] - 36s 350us/step - loss: 1.0623 - acc: 0.5977 - val_loss: 1.3276 - val_acc: 0.4936\n",
      "Epoch 48/2000\n",
      "103352/103352 [==============================] - 36s 352us/step - loss: 1.0582 - acc: 0.5971 - val_loss: 1.3162 - val_acc: 0.4974\n",
      "Epoch 49/2000\n",
      "103352/103352 [==============================] - 37s 355us/step - loss: 1.0531 - acc: 0.6019 - val_loss: 1.2965 - val_acc: 0.5051\n",
      "Epoch 50/2000\n",
      "103352/103352 [==============================] - 36s 350us/step - loss: 1.0476 - acc: 0.6038 - val_loss: 1.3444 - val_acc: 0.4960\n",
      "Epoch 51/2000\n",
      "103352/103352 [==============================] - 37s 353us/step - loss: 1.0426 - acc: 0.6061 - val_loss: 1.2968 - val_acc: 0.5010\n",
      "Epoch 52/2000\n",
      "103352/103352 [==============================] - 37s 353us/step - loss: 1.0383 - acc: 0.6077 - val_loss: 1.3086 - val_acc: 0.5024\n",
      "Epoch 53/2000\n",
      "103352/103352 [==============================] - 36s 350us/step - loss: 1.0295 - acc: 0.6097 - val_loss: 1.3446 - val_acc: 0.4949\n",
      "Epoch 54/2000\n",
      "103352/103352 [==============================] - 36s 351us/step - loss: 1.0275 - acc: 0.6113 - val_loss: 1.2964 - val_acc: 0.5061\n",
      "Epoch 55/2000\n",
      "103352/103352 [==============================] - 37s 353us/step - loss: 1.0256 - acc: 0.6116 - val_loss: 1.2973 - val_acc: 0.5057\n",
      "Epoch 56/2000\n",
      "103352/103352 [==============================] - 36s 353us/step - loss: 1.0204 - acc: 0.6143 - val_loss: 1.2981 - val_acc: 0.5078\n",
      "Epoch 57/2000\n",
      "103352/103352 [==============================] - 37s 354us/step - loss: 1.0161 - acc: 0.6172 - val_loss: 1.2894 - val_acc: 0.5110\n",
      "Epoch 58/2000\n",
      "103352/103352 [==============================] - 36s 352us/step - loss: 1.0128 - acc: 0.6170 - val_loss: 1.3182 - val_acc: 0.5077\n",
      "Epoch 59/2000\n",
      "103352/103352 [==============================] - 36s 351us/step - loss: 1.0069 - acc: 0.6205 - val_loss: 1.3070 - val_acc: 0.5043\n",
      "Epoch 60/2000\n",
      "103352/103352 [==============================] - 36s 351us/step - loss: 1.0012 - acc: 0.6216 - val_loss: 1.2754 - val_acc: 0.5145\n",
      "Epoch 61/2000\n",
      "103352/103352 [==============================] - 36s 353us/step - loss: 0.9954 - acc: 0.6227 - val_loss: 1.3193 - val_acc: 0.4999\n",
      "Epoch 62/2000\n",
      "103352/103352 [==============================] - 37s 353us/step - loss: 0.9961 - acc: 0.6221 - val_loss: 1.2940 - val_acc: 0.5085\n",
      "Epoch 63/2000\n",
      "103352/103352 [==============================] - 36s 352us/step - loss: 0.9920 - acc: 0.6254 - val_loss: 1.3343 - val_acc: 0.5063\n",
      "Epoch 64/2000\n",
      "103352/103352 [==============================] - 36s 351us/step - loss: 0.9883 - acc: 0.6273 - val_loss: 1.2772 - val_acc: 0.5138\n",
      "Epoch 65/2000\n",
      "103352/103352 [==============================] - 36s 351us/step - loss: 0.9883 - acc: 0.6264 - val_loss: 1.2857 - val_acc: 0.5127\n",
      "Epoch 66/2000\n",
      "103352/103352 [==============================] - 36s 350us/step - loss: 0.9810 - acc: 0.6302 - val_loss: 1.2747 - val_acc: 0.5157\n",
      "Epoch 67/2000\n",
      "103352/103352 [==============================] - 36s 351us/step - loss: 0.9803 - acc: 0.6291 - val_loss: 1.2779 - val_acc: 0.5140\n",
      "Epoch 68/2000\n",
      "103352/103352 [==============================] - 36s 352us/step - loss: 0.9733 - acc: 0.6313 - val_loss: 1.2832 - val_acc: 0.5093\n",
      "Epoch 69/2000\n",
      "103352/103352 [==============================] - 36s 351us/step - loss: 0.9705 - acc: 0.6331 - val_loss: 1.2794 - val_acc: 0.5148\n",
      "Epoch 70/2000\n",
      "103352/103352 [==============================] - 36s 351us/step - loss: 0.9658 - acc: 0.6345 - val_loss: 1.2610 - val_acc: 0.5211\n",
      "Epoch 71/2000\n",
      "103352/103352 [==============================] - 37s 353us/step - loss: 0.9593 - acc: 0.6384 - val_loss: 1.2631 - val_acc: 0.5192\n",
      "Epoch 72/2000\n",
      "103352/103352 [==============================] - 36s 353us/step - loss: 0.9629 - acc: 0.6356 - val_loss: 1.2643 - val_acc: 0.5201\n",
      "Epoch 73/2000\n",
      " 70112/103352 [===================>..........] - ETA: 11s - loss: 0.9541 - acc: 0.6402"
     ]
    },
    {
     "name": "stderr",
     "output_type": "stream",
     "text": [
      "IOPub message rate exceeded.\n",
      "The notebook server will temporarily stop sending output\n",
      "to the client in order to avoid crashing it.\n",
      "To change this limit, set the config variable\n",
      "`--NotebookApp.iopub_msg_rate_limit`.\n",
      "\n",
      "Current values:\n",
      "NotebookApp.iopub_msg_rate_limit=1000.0 (msgs/sec)\n",
      "NotebookApp.rate_limit_window=3.0 (secs)\n",
      "\n"
     ]
    },
    {
     "name": "stdout",
     "output_type": "stream",
     "text": [
      "103352/103352 [==============================] - 36s 351us/step - loss: 0.9355 - acc: 0.6486 - val_loss: 1.2662 - val_acc: 0.5238\n",
      "Epoch 81/2000\n",
      "103352/103352 [==============================] - 37s 354us/step - loss: 0.9295 - acc: 0.6498 - val_loss: 1.2538 - val_acc: 0.5224\n",
      "Epoch 82/2000\n",
      "103352/103352 [==============================] - 36s 352us/step - loss: 0.9306 - acc: 0.6483 - val_loss: 1.2662 - val_acc: 0.5229\n",
      "Epoch 83/2000\n",
      "103352/103352 [==============================] - 36s 350us/step - loss: 0.9288 - acc: 0.6502 - val_loss: 1.2663 - val_acc: 0.5193\n",
      "Epoch 84/2000\n",
      " 65120/103352 [=================>............] - ETA: 12s - loss: 0.9247 - acc: 0.6507"
     ]
    },
    {
     "name": "stderr",
     "output_type": "stream",
     "text": [
      "IOPub message rate exceeded.\n",
      "The notebook server will temporarily stop sending output\n",
      "to the client in order to avoid crashing it.\n",
      "To change this limit, set the config variable\n",
      "`--NotebookApp.iopub_msg_rate_limit`.\n",
      "\n",
      "Current values:\n",
      "NotebookApp.iopub_msg_rate_limit=1000.0 (msgs/sec)\n",
      "NotebookApp.rate_limit_window=3.0 (secs)\n",
      "\n"
     ]
    },
    {
     "name": "stdout",
     "output_type": "stream",
     "text": [
      "103352/103352 [==============================] - 37s 359us/step - loss: 0.9102 - acc: 0.6572 - val_loss: 1.2559 - val_acc: 0.5235\n",
      "Epoch 91/2000\n",
      "103352/103352 [==============================] - 36s 351us/step - loss: 0.9072 - acc: 0.6595 - val_loss: 1.2712 - val_acc: 0.5246\n",
      "Epoch 92/2000\n",
      "103352/103352 [==============================] - 36s 351us/step - loss: 0.9025 - acc: 0.6631 - val_loss: 1.2569 - val_acc: 0.5274\n",
      "Epoch 93/2000\n",
      "103352/103352 [==============================] - 36s 350us/step - loss: 0.9057 - acc: 0.6596 - val_loss: 1.2681 - val_acc: 0.5242\n",
      "Epoch 94/2000\n",
      "103352/103352 [==============================] - 36s 351us/step - loss: 0.8990 - acc: 0.6628 - val_loss: 1.2455 - val_acc: 0.5279\n"
     ]
    },
    {
     "data": {
      "text/plain": [
       "<keras.callbacks.History at 0x7f3c751019e8>"
      ]
     },
     "execution_count": 74,
     "metadata": {},
     "output_type": "execute_result"
    }
   ],
   "source": [
    "model_shumo = build_model()\n",
    "model_shumo.compile(loss='categorical_crossentropy',optimizer=keras.optimizers.Adam(), metrics=['accuracy'])\n",
    "es = EarlyStopping(monitor='val_acc',min_delta=0.001,patience=10,mode='auto')\n",
    "md = ModelCheckpoint('表情监测shumo.h5',save_best_only=True)\n",
    "callbacks = [es,md]\n",
    "model_shumo.fit(x_train_new,y_train_new,epochs=2000,validation_split=0.1,callbacks=callbacks,verbose=1,shuffle=True)"
   ]
  },
  {
   "cell_type": "code",
   "execution_count": 75,
   "metadata": {},
   "outputs": [
    {
     "name": "stdout",
     "output_type": "stream",
     "text": [
      "在PublicTest上的准确率为:65.8400668709947%\n"
     ]
    }
   ],
   "source": [
    "y_pred = model_shumo.predict(x_test)\n",
    "from sklearn.metrics import accuracy_score\n",
    "print('在PublicTest上的准确率为:{}%'.format(accuracy_score(y_pred.argmax(axis=1),y_test.argmax(axis=1))*100))"
   ]
  },
  {
   "cell_type": "markdown",
   "metadata": {},
   "source": [
    "### 虽然在验证集上准确率不高，但是分类器比较强，所以在PublicTest上面有着意外的惊喜"
   ]
  }
 ],
 "metadata": {
  "kernelspec": {
   "display_name": "TensorFlow-1.13.1",
   "language": "python",
   "name": "tensorflow-1.13.1"
  },
  "language_info": {
   "codemirror_mode": {
    "name": "ipython",
    "version": 3
   },
   "file_extension": ".py",
   "mimetype": "text/x-python",
   "name": "python",
   "nbconvert_exporter": "python",
   "pygments_lexer": "ipython3",
   "version": "3.6.4"
  }
 },
 "nbformat": 4,
 "nbformat_minor": 2
}
