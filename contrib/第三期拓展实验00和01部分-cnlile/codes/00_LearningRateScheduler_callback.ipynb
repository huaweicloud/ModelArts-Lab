{
 "cells": [
  {
   "cell_type": "code",
   "execution_count": 1,
   "metadata": {},
   "outputs": [
    {
     "name": "stdout",
     "output_type": "stream",
     "text": [
      "Requirement already up-to-date: keras_applications==1.0.6 in /opt/conda/envs/python36_tf/lib/python3.6/site-packages\n",
      "Requirement already up-to-date: keras==2.2.4 in /opt/conda/envs/python36_tf/lib/python3.6/site-packages\n",
      "Requirement already up-to-date: numpy>=1.9.1 in /opt/conda/envs/python36_tf/lib/python3.6/site-packages (from keras_applications==1.0.6)\n",
      "Requirement already up-to-date: h5py in /opt/conda/envs/python36_tf/lib/python3.6/site-packages (from keras_applications==1.0.6)\n",
      "Requirement already up-to-date: six>=1.9.0 in /home/jovyan/modelarts-sdk (from keras==2.2.4)\n",
      "Requirement already up-to-date: keras-preprocessing>=1.0.5 in /opt/conda/envs/python36_tf/lib/python3.6/site-packages (from keras==2.2.4)\n",
      "Requirement already up-to-date: pyyaml in /opt/conda/envs/python36_tf/lib/python3.6/site-packages (from keras==2.2.4)\n",
      "Requirement already up-to-date: scipy>=0.14 in /opt/conda/envs/python36_tf/lib/python3.6/site-packages (from keras==2.2.4)\n",
      "\u001b[33mYou are using pip version 9.0.1, however version 19.2.1 is available.\n",
      "You should consider upgrading via the 'pip install --upgrade pip' command.\u001b[0m\n"
     ]
    }
   ],
   "source": [
    "!pip install --upgrade keras_applications==1.0.6 keras==2.2.4"
   ]
  },
  {
   "cell_type": "code",
   "execution_count": 2,
   "metadata": {},
   "outputs": [],
   "source": [
    "import os\n",
    "if os.path.exists('./data') == False:\n",
    "    from modelarts.session import Session\n",
    "    session = Session()\n",
    "\n",
    "    session.download_data(\n",
    "        bucket_path=\"modelarts-labs/end2end/image_recognition/dog_and_cat_25000.tar.gz\",\n",
    "        path=\"./dog_and_cat_25000.tar.gz\")\n",
    "\n",
    "    # 使用tar命令解压资源包\n",
    "    !tar xf ./dog_and_cat_25000.tar.gz\n",
    "\n",
    "    # 清理压缩包\n",
    "    !rm -f ./dog_and_cat_25000.tar.gz"
   ]
  },
  {
   "cell_type": "code",
   "execution_count": 3,
   "metadata": {},
   "outputs": [
    {
     "name": "stdout",
     "output_type": "stream",
     "text": [
      "mkdir: cannot create directory ‘model’: File exists\r\n"
     ]
    }
   ],
   "source": [
    "!mkdir model"
   ]
  },
  {
   "cell_type": "code",
   "execution_count": 4,
   "metadata": {},
   "outputs": [
    {
     "name": "stderr",
     "output_type": "stream",
     "text": [
      "Using TensorFlow backend.\n",
      "/opt/conda/envs/python36_tf/lib/python3.6/site-packages/tensorflow/python/framework/dtypes.py:519: FutureWarning: Passing (type, 1) or '1type' as a synonym of type is deprecated; in a future version of numpy, it will be understood as (type, (1,)) / '(1,)type'.\n",
      "  _np_qint8 = np.dtype([(\"qint8\", np.int8, 1)])\n",
      "/opt/conda/envs/python36_tf/lib/python3.6/site-packages/tensorflow/python/framework/dtypes.py:520: FutureWarning: Passing (type, 1) or '1type' as a synonym of type is deprecated; in a future version of numpy, it will be understood as (type, (1,)) / '(1,)type'.\n",
      "  _np_quint8 = np.dtype([(\"quint8\", np.uint8, 1)])\n",
      "/opt/conda/envs/python36_tf/lib/python3.6/site-packages/tensorflow/python/framework/dtypes.py:521: FutureWarning: Passing (type, 1) or '1type' as a synonym of type is deprecated; in a future version of numpy, it will be understood as (type, (1,)) / '(1,)type'.\n",
      "  _np_qint16 = np.dtype([(\"qint16\", np.int16, 1)])\n",
      "/opt/conda/envs/python36_tf/lib/python3.6/site-packages/tensorflow/python/framework/dtypes.py:522: FutureWarning: Passing (type, 1) or '1type' as a synonym of type is deprecated; in a future version of numpy, it will be understood as (type, (1,)) / '(1,)type'.\n",
      "  _np_quint16 = np.dtype([(\"quint16\", np.uint16, 1)])\n",
      "/opt/conda/envs/python36_tf/lib/python3.6/site-packages/tensorflow/python/framework/dtypes.py:523: FutureWarning: Passing (type, 1) or '1type' as a synonym of type is deprecated; in a future version of numpy, it will be understood as (type, (1,)) / '(1,)type'.\n",
      "  _np_qint32 = np.dtype([(\"qint32\", np.int32, 1)])\n",
      "/opt/conda/envs/python36_tf/lib/python3.6/site-packages/tensorflow/python/framework/dtypes.py:528: FutureWarning: Passing (type, 1) or '1type' as a synonym of type is deprecated; in a future version of numpy, it will be understood as (type, (1,)) / '(1,)type'.\n",
      "  np_resource = np.dtype([(\"resource\", np.ubyte, 1)])\n"
     ]
    }
   ],
   "source": [
    "from keras.applications.vgg16 import VGG16\n",
    "from keras.preprocessing import image\n",
    "import numpy as np\n",
    "\n",
    "from keras.preprocessing import image\n",
    "from keras.models import Model\n",
    "from keras.layers import Dense, GlobalAveragePooling2D\n",
    "from keras import backend as K\n",
    "from keras.models import load_model\n",
    "\n",
    "from keras.preprocessing.image import ImageDataGenerator"
   ]
  },
  {
   "cell_type": "code",
   "execution_count": 5,
   "metadata": {},
   "outputs": [],
   "source": [
    "import os\n",
    "from PIL import Image\n",
    "def load_data():\n",
    "    dirname = \"./data\"\n",
    "    path = \"./data\"\n",
    "\n",
    "    num_train_samples = 25000\n",
    "\n",
    "    x_train = np.empty((num_train_samples, 224,224,3), dtype='uint8')\n",
    "    y_train = np.empty((num_train_samples,1), dtype='uint8')\n",
    "    index = 0\n",
    "    for file in os.listdir(\"./data\"):\n",
    "        image = Image.open(os.path.join(dirname,file)).resize((224,224))\n",
    "        image = np.array(image)\n",
    "        x_train[index,:,:,:] = image\n",
    "\n",
    "        if \"cat\" in file:\n",
    "            y_train[index,0] =1\n",
    "        elif \"dog\" in file:\n",
    "            y_train[index,0] =0\n",
    "\n",
    "        index += 1\n",
    "    return (x_train, y_train)"
   ]
  },
  {
   "cell_type": "code",
   "execution_count": 6,
   "metadata": {},
   "outputs": [],
   "source": [
    "(x_train, y_train) = load_data()"
   ]
  },
  {
   "cell_type": "code",
   "execution_count": 7,
   "metadata": {},
   "outputs": [
    {
     "name": "stdout",
     "output_type": "stream",
     "text": [
      "(25000, 224, 224, 3)\n",
      "(25000, 1)\n"
     ]
    }
   ],
   "source": [
    "print(x_train.shape)\n",
    "print(y_train.shape)"
   ]
  },
  {
   "cell_type": "code",
   "execution_count": 8,
   "metadata": {},
   "outputs": [],
   "source": [
    "from keras.utils import np_utils\n",
    "def process_data(x_train,y_train):\n",
    "    x_train = x_train.astype(np.float32)\n",
    "    x_train /= 255\n",
    "    n_classes = 2\n",
    "    y_train = np_utils.to_categorical(y_train, n_classes)\n",
    "    return x_train,y_train"
   ]
  },
  {
   "cell_type": "code",
   "execution_count": 9,
   "metadata": {},
   "outputs": [
    {
     "name": "stdout",
     "output_type": "stream",
     "text": [
      "(25000, 224, 224, 3)\n",
      "(25000, 2)\n"
     ]
    }
   ],
   "source": [
    "x_train,y_train= process_data(x_train,y_train)\n",
    "print(x_train.shape)\n",
    "print(y_train.shape)"
   ]
  },
  {
   "cell_type": "code",
   "execution_count": 10,
   "metadata": {},
   "outputs": [],
   "source": [
    "def build_model(base_model):\n",
    "    x = base_model.output\n",
    "    x = GlobalAveragePooling2D()(x)\n",
    "    predictions = Dense(2, activation='softmax')(x)\n",
    "    model = Model(inputs=base_model.input, outputs=predictions)\n",
    "    print(type(model))\n",
    "    return model"
   ]
  },
  {
   "cell_type": "code",
   "execution_count": 11,
   "metadata": {},
   "outputs": [],
   "source": [
    "base_model = VGG16(weights=None, include_top=False)"
   ]
  },
  {
   "cell_type": "code",
   "execution_count": 12,
   "metadata": {},
   "outputs": [
    {
     "name": "stdout",
     "output_type": "stream",
     "text": [
      "<class 'keras.engine.training.Model'>\n",
      "_________________________________________________________________\n",
      "Layer (type)                 Output Shape              Param #   \n",
      "=================================================================\n",
      "input_1 (InputLayer)         (None, None, None, 3)     0         \n",
      "_________________________________________________________________\n",
      "block1_conv1 (Conv2D)        (None, None, None, 64)    1792      \n",
      "_________________________________________________________________\n",
      "block1_conv2 (Conv2D)        (None, None, None, 64)    36928     \n",
      "_________________________________________________________________\n",
      "block1_pool (MaxPooling2D)   (None, None, None, 64)    0         \n",
      "_________________________________________________________________\n",
      "block2_conv1 (Conv2D)        (None, None, None, 128)   73856     \n",
      "_________________________________________________________________\n",
      "block2_conv2 (Conv2D)        (None, None, None, 128)   147584    \n",
      "_________________________________________________________________\n",
      "block2_pool (MaxPooling2D)   (None, None, None, 128)   0         \n",
      "_________________________________________________________________\n",
      "block3_conv1 (Conv2D)        (None, None, None, 256)   295168    \n",
      "_________________________________________________________________\n",
      "block3_conv2 (Conv2D)        (None, None, None, 256)   590080    \n",
      "_________________________________________________________________\n",
      "block3_conv3 (Conv2D)        (None, None, None, 256)   590080    \n",
      "_________________________________________________________________\n",
      "block3_pool (MaxPooling2D)   (None, None, None, 256)   0         \n",
      "_________________________________________________________________\n",
      "block4_conv1 (Conv2D)        (None, None, None, 512)   1180160   \n",
      "_________________________________________________________________\n",
      "block4_conv2 (Conv2D)        (None, None, None, 512)   2359808   \n",
      "_________________________________________________________________\n",
      "block4_conv3 (Conv2D)        (None, None, None, 512)   2359808   \n",
      "_________________________________________________________________\n",
      "block4_pool (MaxPooling2D)   (None, None, None, 512)   0         \n",
      "_________________________________________________________________\n",
      "block5_conv1 (Conv2D)        (None, None, None, 512)   2359808   \n",
      "_________________________________________________________________\n",
      "block5_conv2 (Conv2D)        (None, None, None, 512)   2359808   \n",
      "_________________________________________________________________\n",
      "block5_conv3 (Conv2D)        (None, None, None, 512)   2359808   \n",
      "_________________________________________________________________\n",
      "block5_pool (MaxPooling2D)   (None, None, None, 512)   0         \n",
      "_________________________________________________________________\n",
      "global_average_pooling2d_1 ( (None, 512)               0         \n",
      "_________________________________________________________________\n",
      "dense_1 (Dense)              (None, 2)                 1026      \n",
      "=================================================================\n",
      "Total params: 14,715,714\n",
      "Trainable params: 14,715,714\n",
      "Non-trainable params: 0\n",
      "_________________________________________________________________\n"
     ]
    }
   ],
   "source": [
    "model = build_model(base_model)\n",
    "model.summary()"
   ]
  },
  {
   "cell_type": "code",
   "execution_count": 13,
   "metadata": {},
   "outputs": [],
   "source": [
    "import keras \n",
    "#opt = keras.optimizers.rmsprop(lr=0.0001, decay=1e-6)\n",
    "opt = keras.optimizers.SGD(lr=0.0001, momentum=0.0, decay=0.0, nesterov=False)\n",
    "model.compile(loss='binary_crossentropy',\n",
    "              optimizer=opt,\n",
    "              metrics=['accuracy'])"
   ]
  },
  {
   "cell_type": "code",
   "execution_count": 14,
   "metadata": {},
   "outputs": [],
   "source": [
    "from keras.callbacks import ModelCheckpoint, EarlyStopping, ReduceLROnPlateau, LearningRateScheduler\n",
    "import math\n",
    "es = EarlyStopping(monitor='val_acc', min_delta=0.001, patience=5, verbose=1, mode='auto')\n",
    "cp = ModelCheckpoint(filepath=\"./model/ckp_vgg16_dog_and_cat.h5\", monitor=\"val_acc\", verbose=1, save_best_only=True, mode=\"auto\", period=1)\n",
    "\n",
    "#lr = ReduceLROnPlateau(monitor=\"val_acc\", factor=0.1, patience=3, verbose=1, mode=\"auto\", min_lr=0)\n",
    "epochs = 10 #总的循环次数\n",
    "\n",
    "def step_decay(epoch):\n",
    "    base_lrate = 0.1     #初始学习率\n",
    "    lrate = 0.0001\n",
    "    if mode is 'power_decay':\n",
    "        decay_rate = 0.8    #衰减率 \n",
    "        lrate = base_lrate * ((1 - math.float(epoch) / epochs) ** decay_rate)\n",
    "    if mode is 'linear_decay':  #线性衰减 \n",
    "        decay_rate = 0.98    #衰减率 \n",
    "        lrate = 1/(1 + decay_rate * epoch) * base_lrate\n",
    "    if mode is 'exponent_decay':  #指数衰减\n",
    "        decay_rate = 0.2    #衰减率\n",
    "        lrate = base_lrate * math.pow(decay_rate, (epoch + 1)/epochs)\n",
    "    if mode is 'cos_decay': #余弦衰减\n",
    "        min_lrate = 0.001\n",
    "        lrate = 0.5 * (base_lrate - min_lrate) * (1 + math.cos( epoch/epochs * 3.14 )) \n",
    "    return lrate\n",
    "mode = 'linear_decay'\n",
    "lr = LearningRateScheduler(step_decay, 1) \n",
    "#https://m.w3cschool.cn/tensorflow_python/tf_keras_callbacks_LearningRateScheduler.html\n",
    "\n",
    "callbacks = [es,cp,lr]"
   ]
  },
  {
   "cell_type": "code",
   "execution_count": 14,
   "metadata": {
    "scrolled": false
   },
   "outputs": [
    {
     "name": "stdout",
     "output_type": "stream",
     "text": [
      "Train on 18750 samples, validate on 6250 samples\n",
      "Epoch 1/10\n",
      "\n",
      "Epoch 00001: LearningRateScheduler setting learning rate to 0.1.\n",
      "18750/18750 [==============================] - 166s 9ms/step - loss: 0.6939 - acc: 0.4987 - val_loss: 0.6947 - val_acc: 0.5019\n",
      "\n",
      "Epoch 00001: val_acc improved from -inf to 0.50192, saving model to ./model/ckp_vgg16_dog_and_cat.h5\n",
      "Epoch 2/10\n",
      "\n",
      "Epoch 00002: LearningRateScheduler setting learning rate to 0.05050505050505051.\n",
      "18750/18750 [==============================] - 161s 9ms/step - loss: 0.6904 - acc: 0.5284 - val_loss: 0.6922 - val_acc: 0.5389\n",
      "\n",
      "Epoch 00002: val_acc improved from 0.50192 to 0.53888, saving model to ./model/ckp_vgg16_dog_and_cat.h5\n",
      "Epoch 3/10\n",
      "\n",
      "Epoch 00003: LearningRateScheduler setting learning rate to 0.033783783783783786.\n",
      "18750/18750 [==============================] - 161s 9ms/step - loss: 0.6882 - acc: 0.5404 - val_loss: 0.6651 - val_acc: 0.5901\n",
      "\n",
      "Epoch 00003: val_acc improved from 0.53888 to 0.59008, saving model to ./model/ckp_vgg16_dog_and_cat.h5\n",
      "Epoch 4/10\n",
      "\n",
      "Epoch 00004: LearningRateScheduler setting learning rate to 0.025380710659898477.\n",
      "18750/18750 [==============================] - 162s 9ms/step - loss: 0.6624 - acc: 0.5924 - val_loss: 0.6649 - val_acc: 0.5941\n",
      "\n",
      "Epoch 00004: val_acc improved from 0.59008 to 0.59408, saving model to ./model/ckp_vgg16_dog_and_cat.h5\n",
      "Epoch 5/10\n",
      "\n",
      "Epoch 00005: LearningRateScheduler setting learning rate to 0.02032520325203252.\n",
      "18750/18750 [==============================] - 161s 9ms/step - loss: 0.6332 - acc: 0.6270 - val_loss: 0.6241 - val_acc: 0.6488\n",
      "\n",
      "Epoch 00005: val_acc improved from 0.59408 to 0.64880, saving model to ./model/ckp_vgg16_dog_and_cat.h5\n",
      "Epoch 6/10\n",
      "\n",
      "Epoch 00006: LearningRateScheduler setting learning rate to 0.01694915254237288.\n",
      "18750/18750 [==============================] - 161s 9ms/step - loss: 0.6035 - acc: 0.6611 - val_loss: 0.5950 - val_acc: 0.6662\n",
      "\n",
      "Epoch 00006: val_acc improved from 0.64880 to 0.66624, saving model to ./model/ckp_vgg16_dog_and_cat.h5\n",
      "Epoch 7/10\n",
      "\n",
      "Epoch 00007: LearningRateScheduler setting learning rate to 0.014534883720930234.\n",
      "18750/18750 [==============================] - 162s 9ms/step - loss: 0.5862 - acc: 0.6807 - val_loss: 0.5952 - val_acc: 0.6718\n",
      "\n",
      "Epoch 00007: val_acc improved from 0.66624 to 0.67184, saving model to ./model/ckp_vgg16_dog_and_cat.h5\n",
      "Epoch 8/10\n",
      "\n",
      "Epoch 00008: LearningRateScheduler setting learning rate to 0.012722646310432571.\n",
      "18750/18750 [==============================] - 161s 9ms/step - loss: 0.5757 - acc: 0.6921 - val_loss: 0.5734 - val_acc: 0.6974\n",
      "\n",
      "Epoch 00008: val_acc improved from 0.67184 to 0.69744, saving model to ./model/ckp_vgg16_dog_and_cat.h5\n",
      "Epoch 9/10\n",
      "\n",
      "Epoch 00009: LearningRateScheduler setting learning rate to 0.011312217194570137.\n",
      "18750/18750 [==============================] - 161s 9ms/step - loss: 0.5598 - acc: 0.7001 - val_loss: 0.5691 - val_acc: 0.7139\n",
      "\n",
      "Epoch 00009: val_acc improved from 0.69744 to 0.71392, saving model to ./model/ckp_vgg16_dog_and_cat.h5\n",
      "Epoch 10/10\n",
      "\n",
      "Epoch 00010: LearningRateScheduler setting learning rate to 0.010183299389002037.\n",
      "18750/18750 [==============================] - 161s 9ms/step - loss: 0.5490 - acc: 0.7118 - val_loss: 0.5433 - val_acc: 0.7214\n",
      "\n",
      "Epoch 00010: val_acc improved from 0.71392 to 0.72144, saving model to ./model/ckp_vgg16_dog_and_cat.h5\n"
     ]
    }
   ],
   "source": [
    "history = model.fit(x=x_train, \n",
    "                  y=y_train, \n",
    "                  batch_size=16, \n",
    "                  epochs=epochs, \n",
    "                  verbose=1, \n",
    "                  callbacks=callbacks, \n",
    "                  validation_split=0.25, \n",
    "                  shuffle=True, \n",
    "                  initial_epoch=0, \n",
    "                 )"
   ]
  },
  {
   "cell_type": "code",
   "execution_count": 16,
   "metadata": {},
   "outputs": [
    {
     "data": {
      "image/png": "[encoded data removed]",
      "text/plain": [
       "<matplotlib.figure.Figure at 0x7f1c1c540438>"
      ]
     },
     "metadata": {},
     "output_type": "display_data"
    }
   ],
   "source": [
    "# 绘制训练 & 验证的损失值\n",
    "plt.plot(history.history['loss'])\n",
    "plt.plot(history.history['val_loss'])\n",
    "plt.title('Model loss')\n",
    "plt.ylabel('Loss')\n",
    "plt.xlabel('Epoch')\n",
    "plt.legend(['Train', 'Test'], loc='upper left')\n",
    "plt.show()"
   ]
  },
  {
   "cell_type": "code",
   "execution_count": 17,
   "metadata": {},
   "outputs": [
    {
     "data": {
      "image/png": "[encoded data removed]",
      "text/plain": [
       "<matplotlib.figure.Figure at 0x7f1c1c475748>"
      ]
     },
     "metadata": {},
     "output_type": "display_data"
    }
   ],
   "source": [
    "# 绘制训练 & 验证的准确率值\n",
    "plt.plot(history.history['acc'])\n",
    "plt.plot(history.history['val_acc'])\n",
    "plt.title('Model accuracy')\n",
    "plt.ylabel('Accuracy')\n",
    "plt.xlabel('Epoch')\n",
    "plt.legend(['Train', 'Test'], loc='upper left')\n",
    "plt.show()"
   ]
  },
  {
   "cell_type": "code",
   "execution_count": 15,
   "metadata": {},
   "outputs": [],
   "source": [
    "mode = 'exponent_decay'\n",
    "lr = LearningRateScheduler(step_decay, 1) \n",
    "callbacks = [es,cp,lr]"
   ]
  },
  {
   "cell_type": "code",
   "execution_count": 16,
   "metadata": {},
   "outputs": [
    {
     "name": "stdout",
     "output_type": "stream",
     "text": [
      "Train on 18750 samples, validate on 6250 samples\n",
      "Epoch 1/10\n",
      "\n",
      "Epoch 00001: LearningRateScheduler setting learning rate to 0.08513399225207846.\n",
      "18750/18750 [==============================] - 171s 9ms/step - loss: 0.6934 - acc: 0.5095 - val_loss: 0.6928 - val_acc: 0.4981\n",
      "\n",
      "Epoch 00001: val_acc improved from -inf to 0.49808, saving model to ./model/ckp_vgg16_dog_and_cat.h5\n",
      "Epoch 2/10\n",
      "\n",
      "Epoch 00002: LearningRateScheduler setting learning rate to 0.07247796636776956.\n",
      "18750/18750 [==============================] - 161s 9ms/step - loss: 0.6920 - acc: 0.5132 - val_loss: 0.6932 - val_acc: 0.5021\n",
      "\n",
      "Epoch 00002: val_acc improved from 0.49808 to 0.50208, saving model to ./model/ckp_vgg16_dog_and_cat.h5\n",
      "Epoch 3/10\n",
      "\n",
      "Epoch 00003: LearningRateScheduler setting learning rate to 0.061703386272000976.\n",
      "18750/18750 [==============================] - 164s 9ms/step - loss: 0.6904 - acc: 0.5308 - val_loss: 0.6683 - val_acc: 0.5992\n",
      "\n",
      "Epoch 00003: val_acc improved from 0.50208 to 0.59920, saving model to ./model/ckp_vgg16_dog_and_cat.h5\n",
      "Epoch 4/10\n",
      "\n",
      "Epoch 00004: LearningRateScheduler setting learning rate to 0.052530556088075345.\n",
      "18750/18750 [==============================] - 163s 9ms/step - loss: 0.6778 - acc: 0.5740 - val_loss: 0.6872 - val_acc: 0.5346\n",
      "\n",
      "Epoch 00004: val_acc did not improve from 0.59920\n",
      "Epoch 5/10\n",
      "\n",
      "Epoch 00005: LearningRateScheduler setting learning rate to 0.044721359549995794.\n",
      "18750/18750 [==============================] - 163s 9ms/step - loss: 0.6635 - acc: 0.5983 - val_loss: 0.6548 - val_acc: 0.5856\n",
      "\n",
      "Epoch 00005: val_acc did not improve from 0.59920\n",
      "Epoch 6/10\n",
      "\n",
      "Epoch 00006: LearningRateScheduler setting learning rate to 0.03807307877431757.\n",
      "18750/18750 [==============================] - 161s 9ms/step - loss: 0.6260 - acc: 0.6458 - val_loss: 0.6416 - val_acc: 0.6413\n",
      "\n",
      "Epoch 00006: val_acc improved from 0.59920 to 0.64128, saving model to ./model/ckp_vgg16_dog_and_cat.h5\n",
      "Epoch 7/10\n",
      "\n",
      "Epoch 00007: LearningRateScheduler setting learning rate to 0.032413131933855255.\n",
      "18750/18750 [==============================] - 161s 9ms/step - loss: 0.5919 - acc: 0.6756 - val_loss: 0.5752 - val_acc: 0.7074\n",
      "\n",
      "Epoch 00007: val_acc improved from 0.64128 to 0.70736, saving model to ./model/ckp_vgg16_dog_and_cat.h5\n",
      "Epoch 8/10\n",
      "\n",
      "Epoch 00008: LearningRateScheduler setting learning rate to 0.027594593229224296.\n",
      "18750/18750 [==============================] - 162s 9ms/step - loss: 0.5668 - acc: 0.6985 - val_loss: 0.5489 - val_acc: 0.7216\n",
      "\n",
      "Epoch 00008: val_acc improved from 0.70736 to 0.72160, saving model to ./model/ckp_vgg16_dog_and_cat.h5\n",
      "Epoch 9/10\n",
      "\n",
      "Epoch 00009: LearningRateScheduler setting learning rate to 0.02349237886176038.\n",
      "18750/18750 [==============================] - 162s 9ms/step - loss: 0.5386 - acc: 0.7193 - val_loss: 0.5467 - val_acc: 0.7242\n",
      "\n",
      "Epoch 00009: val_acc improved from 0.72160 to 0.72416, saving model to ./model/ckp_vgg16_dog_and_cat.h5\n",
      "Epoch 10/10\n",
      "\n",
      "Epoch 00010: LearningRateScheduler setting learning rate to 0.020000000000000004.\n",
      "18750/18750 [==============================] - 164s 9ms/step - loss: 0.5112 - acc: 0.7409 - val_loss: 0.5115 - val_acc: 0.7498\n",
      "\n",
      "Epoch 00010: val_acc improved from 0.72416 to 0.74976, saving model to ./model/ckp_vgg16_dog_and_cat.h5\n"
     ]
    }
   ],
   "source": [
    "history = model.fit(x=x_train, \n",
    "                  y=y_train, \n",
    "                  batch_size=16, \n",
    "                  epochs=epochs, \n",
    "                  verbose=1, \n",
    "                  callbacks=callbacks, \n",
    "                  validation_split=0.25, \n",
    "                  shuffle=True, \n",
    "                  initial_epoch=0, \n",
    "                 )"
   ]
  },
  {
   "cell_type": "code",
   "execution_count": 24,
   "metadata": {},
   "outputs": [
    {
     "data": {
      "image/png": "[encoded data removed]",
      "text/plain": [
       "<matplotlib.figure.Figure at 0x7fd49e6cba20>"
      ]
     },
     "metadata": {},
     "output_type": "display_data"
    }
   ],
   "source": [
    "\n",
    "plt.plot(history.history['loss'])\n",
    "plt.plot(history.history['val_loss'])\n",
    "plt.title('Model loss')\n",
    "plt.ylabel('Loss')\n",
    "plt.xlabel('Epoch')\n",
    "plt.legend(['Train', 'Test'], loc='upper left')\n",
    "plt.show()"
   ]
  },
  {
   "cell_type": "code",
   "execution_count": 25,
   "metadata": {},
   "outputs": [
    {
     "data": {
      "image/png": "[encoded data removed]",
      "text/plain": [
       "<matplotlib.figure.Figure at 0x7fd476dbfb00>"
      ]
     },
     "metadata": {},
     "output_type": "display_data"
    }
   ],
   "source": [
    "# 绘制训练 & 验证的准确率值\n",
    "plt.plot(history.history['acc'])\n",
    "plt.plot(history.history['val_acc'])\n",
    "plt.title('Model accuracy')\n",
    "plt.ylabel('Accuracy')\n",
    "plt.xlabel('Epoch')\n",
    "plt.legend(['Train', 'Test'], loc='upper left')\n",
    "plt.show()"
   ]
  },
  {
   "cell_type": "code",
   "execution_count": 26,
   "metadata": {},
   "outputs": [],
   "source": [
    "mode = 'cos_decay'\n",
    "lr = LearningRateScheduler(step_decay, 1) \n",
    "callbacks = [es,cp,lr]"
   ]
  },
  {
   "cell_type": "code",
   "execution_count": 27,
   "metadata": {},
   "outputs": [
    {
     "name": "stdout",
     "output_type": "stream",
     "text": [
      "Train on 18750 samples, validate on 6250 samples\n",
      "Epoch 1/10\n",
      "\n",
      "Epoch 00001: LearningRateScheduler setting learning rate to 0.099.\n",
      "18750/18750 [==============================] - 161s 9ms/step - loss: 0.5480 - acc: 0.7177 - val_loss: 0.4949 - val_acc: 0.7528\n",
      "\n",
      "Epoch 00001: val_acc improved from 0.74976 to 0.75280, saving model to ./model/ckp_vgg16_dog_and_cat.h5\n",
      "Epoch 2/10\n",
      "\n",
      "Epoch 00002: LearningRateScheduler setting learning rate to 0.096579733136807.\n",
      "18750/18750 [==============================] - 161s 9ms/step - loss: 0.4740 - acc: 0.7707 - val_loss: 0.4618 - val_acc: 0.7787\n",
      "\n",
      "Epoch 00002: val_acc improved from 0.75280 to 0.77872, saving model to ./model/ckp_vgg16_dog_and_cat.h5\n",
      "Epoch 3/10\n",
      "\n",
      "Epoch 00003: LearningRateScheduler setting learning rate to 0.0895556069589076.\n",
      "18750/18750 [==============================] - 162s 9ms/step - loss: 0.4092 - acc: 0.8099 - val_loss: 0.3744 - val_acc: 0.8310\n",
      "\n",
      "Epoch 00003: val_acc improved from 0.77872 to 0.83104, saving model to ./model/ckp_vgg16_dog_and_cat.h5\n",
      "Epoch 4/10\n",
      "\n",
      "Epoch 00004: LearningRateScheduler setting learning rate to 0.07861450065140306.\n",
      "18750/18750 [==============================] - 161s 9ms/step - loss: 0.3587 - acc: 0.8410 - val_loss: 0.3367 - val_acc: 0.8466\n",
      "\n",
      "Epoch 00004: val_acc improved from 0.83104 to 0.84656, saving model to ./model/ckp_vgg16_dog_and_cat.h5\n",
      "Epoch 5/10\n",
      "\n",
      "Epoch 00005: LearningRateScheduler setting learning rate to 0.06482632924632269.\n",
      "18750/18750 [==============================] - 163s 9ms/step - loss: 0.3106 - acc: 0.8631 - val_loss: 0.3296 - val_acc: 0.8542\n",
      "\n",
      "Epoch 00005: val_acc improved from 0.84656 to 0.85424, saving model to ./model/ckp_vgg16_dog_and_cat.h5\n",
      "Epoch 6/10\n",
      "\n",
      "Epoch 00006: LearningRateScheduler setting learning rate to 0.04953941817218129.\n",
      "18750/18750 [==============================] - 162s 9ms/step - loss: 0.2621 - acc: 0.8885 - val_loss: 0.3015 - val_acc: 0.8715\n",
      "\n",
      "Epoch 00006: val_acc improved from 0.85424 to 0.87152, saving model to ./model/ckp_vgg16_dog_and_cat.h5\n",
      "Epoch 7/10\n",
      "\n",
      "Epoch 00007: LearningRateScheduler setting learning rate to 0.03424865245173938.\n",
      "18750/18750 [==============================] - 161s 9ms/step - loss: 0.2121 - acc: 0.9117 - val_loss: 0.2676 - val_acc: 0.8851\n",
      "\n",
      "Epoch 00007: val_acc improved from 0.87152 to 0.88512, saving model to ./model/ckp_vgg16_dog_and_cat.h5\n",
      "Epoch 8/10\n",
      "\n",
      "Epoch 00008: LearningRateScheduler setting learning rate to 0.02044929404806897.\n",
      "18750/18750 [==============================] - 161s 9ms/step - loss: 0.1672 - acc: 0.9330 - val_loss: 0.2383 - val_acc: 0.9006\n",
      "\n",
      "Epoch 00008: val_acc improved from 0.88512 to 0.90064, saving model to ./model/ckp_vgg16_dog_and_cat.h5\n",
      "Epoch 9/10\n",
      "\n",
      "Epoch 00009: LearningRateScheduler setting learning rate to 0.009490762350169138.\n",
      "18750/18750 [==============================] - 163s 9ms/step - loss: 0.1263 - acc: 0.9499 - val_loss: 0.2288 - val_acc: 0.9094\n",
      "\n",
      "Epoch 00009: val_acc improved from 0.90064 to 0.90944, saving model to ./model/ckp_vgg16_dog_and_cat.h5\n",
      "Epoch 10/10\n",
      "\n",
      "Epoch 00010: LearningRateScheduler setting learning rate to 0.002444676393905681.\n",
      "18750/18750 [==============================] - 162s 9ms/step - loss: 0.0984 - acc: 0.9645 - val_loss: 0.2405 - val_acc: 0.9101\n",
      "\n",
      "Epoch 00010: val_acc improved from 0.90944 to 0.91008, saving model to ./model/ckp_vgg16_dog_and_cat.h5\n"
     ]
    }
   ],
   "source": [
    "history = model.fit(x=x_train, \n",
    "                  y=y_train, \n",
    "                  batch_size=16, \n",
    "                  epochs=epochs, \n",
    "                  verbose=1, \n",
    "                  callbacks=callbacks, \n",
    "                  validation_split=0.25, \n",
    "                  shuffle=True, \n",
    "                  initial_epoch=0, \n",
    "                 )"
   ]
  },
  {
   "cell_type": "code",
   "execution_count": 28,
   "metadata": {},
   "outputs": [
    {
     "data": {
      "image/png": "[encoded data removed]",
      "text/plain": [
       "<matplotlib.figure.Figure at 0x7fd474095438>"
      ]
     },
     "metadata": {},
     "output_type": "display_data"
    }
   ],
   "source": [
    "plt.plot(history.history['loss'])\n",
    "plt.plot(history.history['val_loss'])\n",
    "plt.title('Model loss')\n",
    "plt.ylabel('Loss')\n",
    "plt.xlabel('Epoch')\n",
    "plt.legend(['Train', 'Test'], loc='upper left')\n",
    "plt.show()"
   ]
  },
  {
   "cell_type": "code",
   "execution_count": 29,
   "metadata": {},
   "outputs": [
    {
     "data": {
      "image/png": "[encoded data removed]",
      "text/plain": [
       "<matplotlib.figure.Figure at 0x7fd4740a3780>"
      ]
     },
     "metadata": {},
     "output_type": "display_data"
    }
   ],
   "source": [
    "# 绘制训练 & 验证的准确率值\n",
    "plt.plot(history.history['acc'])\n",
    "plt.plot(history.history['val_acc'])\n",
    "plt.title('Model accuracy')\n",
    "plt.ylabel('Accuracy')\n",
    "plt.xlabel('Epoch')\n",
    "plt.legend(['Train', 'Test'], loc='upper left')\n",
    "plt.show()"
   ]
  },
  {
   "cell_type": "code",
   "execution_count": null,
   "metadata": {},
   "outputs": [],
   "source": []
  }
 ],
 "metadata": {
  "kernelspec": {
   "display_name": "Python 3",
   "language": "python",
   "name": "python3"
  },
  "language_info": {
   "codemirror_mode": {
    "name": "ipython",
    "version": 3
   },
   "file_extension": ".py",
   "mimetype": "text/x-python",
   "name": "python",
   "nbconvert_exporter": "python",
   "pygments_lexer": "ipython3",
   "version": "3.6.4"
  }
 },
 "nbformat": 4,
 "nbformat_minor": 2
}
