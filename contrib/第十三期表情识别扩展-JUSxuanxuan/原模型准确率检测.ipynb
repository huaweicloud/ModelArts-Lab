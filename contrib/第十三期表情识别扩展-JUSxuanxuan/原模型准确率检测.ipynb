{
 "cells": [
  {
   "cell_type": "code",
   "execution_count": null,
   "metadata": {},
   "outputs": [],
   "source": [
    "from modelarts.session import Session\n",
    "sess = Session()\n",
    "\n",
    "if sess.region_name == 'cn-north-1':\n",
    "    bucket_path=\"modelarts-labs/notebook/DL_face_facial_expression/facial_expression.tar\"\n",
    "elif sess.region_name == 'cn-north-4':\n",
    "    bucket_path=\"modelarts-labs-bj4/notebook/DL_face_facial_expression/facial_expression.tar\"\n",
    "else:\n",
    "    print(\"请更换地区到北京一或北京四\")\n",
    "    \n",
    "sess.download_data(bucket_path=bucket_path, path=\"./facial_expression.tar\")\n",
    "\n",
    "!tar -xf facial_expression.tar"
   ]
  },
  {
   "cell_type": "code",
   "execution_count": 17,
   "metadata": {},
   "outputs": [
    {
     "name": "stdout",
     "output_type": "stream",
     "text": [
      "Requirement already satisfied: mtcnn in /home/ma-user/anaconda3/envs/TensorFlow-1.13.1/lib/python3.6/site-packages\n",
      "\u001b[33mYou are using pip version 9.0.1, however version 19.3.1 is available.\n",
      "You should consider upgrading via the 'pip install --upgrade pip' command.\u001b[0m\n"
     ]
    }
   ],
   "source": [
    "!pip install mtcnn"
   ]
  },
  {
   "cell_type": "code",
   "execution_count": 18,
   "metadata": {},
   "outputs": [],
   "source": [
    "import numpy as np\n",
    "import keras\n",
    "from keras.models import Sequential\n",
    "from keras.layers import Conv2D,MaxPooling2D,AveragePooling2D,Dense,Activation,Dropout,Flatten\n",
    "from keras.preprocessing.image import ImageDataGenerator\n",
    "import matplotlib.pyplot as plt\n",
    "from PIL import Image\n",
    "import cv2\n",
    "from mtcnn.mtcnn import MTCNN\n"
   ]
  },
  {
   "cell_type": "code",
   "execution_count": 3,
   "metadata": {},
   "outputs": [],
   "source": [
    "##元祖类型的\n",
    "emotions = ('angry','disgust','fear','happy','sad','surprise','neutral')"
   ]
  },
  {
   "cell_type": "code",
   "execution_count": 4,
   "metadata": {},
   "outputs": [],
   "source": [
    "num_classes = len(emotions)\n",
    "batch_size = 16\n",
    "epoch = 5\n",
    "\n",
    "with open('./fer2013/fer2013.csv') as f:\n",
    "    content = f.readlines()\n",
    "\n",
    "lines = np.array(content)"
   ]
  },
  {
   "cell_type": "code",
   "execution_count": 5,
   "metadata": {},
   "outputs": [
    {
     "data": {
      "text/plain": [
       "Text(0.5,1,'angry')"
      ]
     },
     "execution_count": 5,
     "metadata": {},
     "output_type": "execute_result"
    },
    {
     "data": {
      "image/png": "[encoded data removed]",
      "text/plain": [
       "<Figure size 432x288 with 1 Axes>"
      ]
     },
     "metadata": {},
     "output_type": "display_data"
    }
   ],
   "source": [
    "emotion_1,img_1,usage_1 = lines[1].split(',')\n",
    "val_1 = img_1.split(' ')\n",
    "pixels_1 = np.array(val_1,'float32')\n",
    "aa = pixels_1.reshape(2304,1)\n",
    "img = aa.reshape(int(2304**0.5),int(2304**0.5))\n",
    "plt.imshow(img,plt.cm.gray)\n",
    "plt.title(emotions[int(emotion_1)])"
   ]
  },
  {
   "cell_type": "code",
   "execution_count": 6,
   "metadata": {},
   "outputs": [],
   "source": [
    "num_of_instances = lines.size\n",
    "x_train,y_train,x_test,y_test = [],[],[],[]\n",
    "\n",
    "for i in range(1,num_of_instances):\n",
    "    try:\n",
    "        emotion,img,usage = lines[i].split(',')\n",
    "        val = img.split(' ')\n",
    "        pixels = np.array(val,'float32')\n",
    "        emotion = keras.utils.to_categorical(emotion,num_classes)\n",
    "        if 'Training' in usage:\n",
    "            y_train.append(emotion)\n",
    "            x_train.append(pixels)\n",
    "        elif 'PublicTest' in usage:\n",
    "            y_test.append(emotion)\n",
    "            x_test.append(pixels)\n",
    "    except:\n",
    "        print('',end='')"
   ]
  },
  {
   "cell_type": "code",
   "execution_count": 8,
   "metadata": {},
   "outputs": [
    {
     "data": {
      "text/plain": [
       "((28709, 2304), (3589, 2304))"
      ]
     },
     "execution_count": 8,
     "metadata": {},
     "output_type": "execute_result"
    }
   ],
   "source": [
    "x_train = np.array(x_train,dtype='float32')\n",
    "x_test = np.array(x_test,dtype='float32')\n",
    "y_train = np.array(y_train,dtype='float32')\n",
    "y_test = np.array(y_test,dtype='float32')\n",
    "x_train = x_train/255\n",
    "x_test = x_test/255\n",
    "x_train.shape,x_test.shape"
   ]
  },
  {
   "cell_type": "code",
   "execution_count": 9,
   "metadata": {},
   "outputs": [
    {
     "name": "stdout",
     "output_type": "stream",
     "text": [
      "num of train: 28709\n",
      "num of test 3589\n"
     ]
    }
   ],
   "source": [
    "x_train = x_train.reshape(len(x_train),48,48,1)\n",
    "x_test = x_test.reshape(len(x_test),48,48,1)\n",
    "print('num of train:',len(x_train))\n",
    "print('num of test',len(x_test))"
   ]
  },
  {
   "cell_type": "code",
   "execution_count": 10,
   "metadata": {},
   "outputs": [],
   "source": [
    "gen = ImageDataGenerator()\n",
    "train_generator  = gen.flow(x_train,y_train,batch_size=batch_size)"
   ]
  },
  {
   "cell_type": "code",
   "execution_count": 11,
   "metadata": {},
   "outputs": [],
   "source": [
    "def build_model():\n",
    "    model = Sequential()\n",
    "    #1st convolution layer\n",
    "    model.add(Conv2D(64, (5, 5), activation='relu', input_shape=(48,48,1)))\n",
    "    model.add(MaxPooling2D(pool_size=(5,5), strides=(2, 2)))\n",
    "\n",
    "    #2nd convolution layer\n",
    "    model.add(Conv2D(64, (3, 3), activation='relu'))\n",
    "    model.add(Conv2D(64, (3, 3), activation='relu'))\n",
    "    model.add(AveragePooling2D(pool_size=(3,3), strides=(2, 2)))\n",
    "\n",
    "    #3rd convolution layer\n",
    "    model.add(Conv2D(128, (3, 3), activation='relu'))\n",
    "    model.add(Conv2D(128, (3, 3), activation='relu'))\n",
    "    model.add(AveragePooling2D(pool_size=(3,3), strides=(2, 2)))\n",
    "\n",
    "    model.add(Flatten())\n",
    "\n",
    "    #fully connected neural networks\n",
    "    model.add(Dense(1024, activation='relu'))\n",
    "    model.add(Dropout(0.2))\n",
    "    model.add(Dense(1024, activation='relu'))\n",
    "    model.add(Dropout(0.2))\n",
    "\n",
    "    model.add(Dense(num_classes, activation='softmax'))\n",
    "    \n",
    "    return model\n",
    "    "
   ]
  },
  {
   "cell_type": "code",
   "execution_count": 12,
   "metadata": {},
   "outputs": [],
   "source": [
    "import warnings\n",
    "warnings.filterwarnings('ignore')"
   ]
  },
  {
   "cell_type": "code",
   "execution_count": 13,
   "metadata": {},
   "outputs": [
    {
     "name": "stdout",
     "output_type": "stream",
     "text": [
      "WARNING:tensorflow:From /home/ma-user/anaconda3/envs/TensorFlow-1.13.1/lib/python3.6/site-packages/tensorflow/python/framework/op_def_library.py:263: colocate_with (from tensorflow.python.framework.ops) is deprecated and will be removed in a future version.\n",
      "Instructions for updating:\n",
      "Colocations handled automatically by placer.\n",
      "WARNING:tensorflow:From /home/ma-user/anaconda3/envs/TensorFlow-1.13.1/lib/python3.6/site-packages/keras/backend/tensorflow_backend.py:3363: calling dropout (from tensorflow.python.ops.nn_ops) with keep_prob is deprecated and will be removed in a future version.\n",
      "Instructions for updating:\n",
      "Please use `rate` instead of `keep_prob`. Rate should be set to `rate = 1 - keep_prob`.\n"
     ]
    }
   ],
   "source": [
    "model = build_model()\n",
    "model.compile(loss='categorical_crossentropy',optimizer=keras.optimizers.Adam(),metrics=['accuracy'])\n",
    "model.load_weights('./model/facial_expression_model_weights.h5')"
   ]
  },
  {
   "cell_type": "code",
   "execution_count": 14,
   "metadata": {},
   "outputs": [
    {
     "name": "stdout",
     "output_type": "stream",
     "text": [
      "WARNING:tensorflow:From /home/ma-user/anaconda3/envs/TensorFlow-1.13.1/lib/python3.6/site-packages/tensorflow/python/ops/math_ops.py:3066: to_int32 (from tensorflow.python.ops.math_ops) is deprecated and will be removed in a future version.\n",
      "Instructions for updating:\n",
      "Use tf.cast instead.\n",
      "Epoch 1/100\n",
      "16/16 [==============================] - 1s 93ms/step - loss: 0.5929 - acc: 0.8086\n",
      "Epoch 2/100\n",
      "16/16 [==============================] - 0s 7ms/step - loss: 0.9850 - acc: 0.7031\n",
      "Epoch 3/100\n",
      "16/16 [==============================] - 0s 6ms/step - loss: 1.0789 - acc: 0.6992\n",
      "Epoch 4/100\n",
      "16/16 [==============================] - 0s 6ms/step - loss: 0.9898 - acc: 0.6836\n",
      "Epoch 5/100\n",
      "16/16 [==============================] - 0s 6ms/step - loss: 0.7542 - acc: 0.7344\n"
     ]
    },
    {
     "data": {
      "text/plain": [
       "<keras.callbacks.History at 0x7fd024499668>"
      ]
     },
     "execution_count": 14,
     "metadata": {},
     "output_type": "execute_result"
    }
   ],
   "source": [
    "from tensorflow.keras.callbacks import EarlyStopping,ModelCheckpoint\n",
    "es = EarlyStopping(monitor='acc',min_delta=0.001,patience=4,mode='auto')\n",
    "#md = ModelCheckpoint('表情监测one.h5',save_best_only=True)\n",
    "callbacks = [es]\n",
    "model.fit_generator(train_generator,steps_per_epoch=batch_size,epochs=100,callbacks=callbacks)"
   ]
  },
  {
   "cell_type": "markdown",
   "metadata": {},
   "source": [
    "### 看下模型预测效果"
   ]
  },
  {
   "cell_type": "code",
   "execution_count": 23,
   "metadata": {},
   "outputs": [
    {
     "data": {
      "image/png": "[encoded data removed]",
      "text/plain": [
       "<PIL.Image.Image image mode=L size=48x48 at 0x7FD02A492B38>"
      ]
     },
     "execution_count": 23,
     "metadata": {},
     "output_type": "execute_result"
    }
   ],
   "source": [
    "import cv2\n",
    "img = cv2.cvtColor(cv2.imread('./img_nana_2.jpeg'),cv2.COLOR_BGR2RGB)\n",
    "detector = MTCNN()\n",
    "result = detector.detect_faces(img)\n",
    "x,y,w,h = result[0]['box']\n",
    "detected_face = img[int(y):int(y+h),int(x):int(x+w)]\n",
    "detected_face = cv2.cvtColor(detected_face,cv2.COLOR_BGR2GRAY)\n",
    "detected_face = cv2.resize(detected_face,(48,48))\n",
    "Image.fromarray(detected_face)"
   ]
  },
  {
   "cell_type": "code",
   "execution_count": 24,
   "metadata": {},
   "outputs": [
    {
     "data": {
      "text/plain": [
       "'happy'"
      ]
     },
     "execution_count": 24,
     "metadata": {},
     "output_type": "execute_result"
    }
   ],
   "source": [
    "img_pixels = detected_face.reshape(1,48,48,1)/255\n",
    "predictions = model.predict(img_pixels)\n",
    "result = emotions[predictions[0].argmax()]\n",
    "result"
   ]
  },
  {
   "cell_type": "code",
   "execution_count": 25,
   "metadata": {},
   "outputs": [
    {
     "name": "stdout",
     "output_type": "stream",
     "text": [
      "准确率为:52.382279186402904%\n"
     ]
    }
   ],
   "source": [
    "y_pred = model.predict(x_test)\n",
    "acc = 0\n",
    "for i in range(len(y_pred)):\n",
    "    yy_pred = y_pred[i].argmax()\n",
    "    yy_test = y_test[i].argmax()\n",
    "    if yy_pred == yy_test:\n",
    "        acc += 1\n",
    "print('准确率为:{}%'.format(acc/len(y_pred)*100))"
   ]
  }
 ],
 "metadata": {
  "kernelspec": {
   "display_name": "TensorFlow-1.13.1",
   "language": "python",
   "name": "tensorflow-1.13.1"
  },
  "language_info": {
   "codemirror_mode": {
    "name": "ipython",
    "version": 3
   },
   "file_extension": ".py",
   "mimetype": "text/x-python",
   "name": "python",
   "nbconvert_exporter": "python",
   "pygments_lexer": "ipython3",
   "version": "3.6.4"
  }
 },
 "nbformat": 4,
 "nbformat_minor": 2
}
