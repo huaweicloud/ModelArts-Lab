{
 "cells": [
  {
   "cell_type": "code",
   "execution_count": null,
   "metadata": {},
   "outputs": [],
   "source": [
    "import h5py\n",
    "import numpy as np\n",
    "import matplotlib.pyplot as plt\n",
    "\n",
    "filename_train = 'E:/Alibaba German AI Challenge/origin_DATA/training.h5'\n",
    "f = h5py.File(filename_train,'r')\n",
    "\n",
    "s1_train = f['sen1']\n",
    "s2_train = f['sen2']\n",
    "label_train = f['label']\n",
    "\n",
    "filename_vali = 'E:/Alibaba German AI Challenge/origin_DATA/validation.h5'\n",
    "f = h5py.File(filename_vali,'r')\n",
    "s1_vali = f['sen1']\n",
    "s2_vali = f['sen2']\n",
    "label_vali = f['label']\n",
    "\n",
    "sum_train = np.sum(label_train, axis=0)\n",
    "sum_vali = np.sum(label_vali, axis=0)\n",
    "\n",
    "count = []\n",
    "num = 3000\n",
    "for i in range(label_train.shape[1]):\n",
    "    if sum_vali[i] >= num:\n",
    "        count.append(0)\n",
    "    else:\n",
    "        min_num = min(num,sum_train[i]+sum_vali[i])\n",
    "        count.append(min_num-sum_vali[i])\n",
    "#每一类需要增加的样本数量\n",
    "count = np.array(count)\n",
    "count = count.astype(np.int32)\n",
    "count"
   ]
  },
  {
   "cell_type": "code",
   "execution_count": null,
   "metadata": {},
   "outputs": [],
   "source": [
    "#取得待取样本在trainDATA中的索引\n",
    "didgit_label = np.argmax(label_train, 1)\n",
    "\n",
    "ID = []\n",
    "for index in range(17):\n",
    "    c = 0\n",
    "    for i in range(didgit_label.shape[0]):\n",
    "        if c == count[index]:\n",
    "            break\n",
    "        if(didgit_label[i] == index):\n",
    "            ID.append(i)\n",
    "            c += 1\n",
    "len(ID)    "
   ]
  },
  {
   "cell_type": "code",
   "execution_count": null,
   "metadata": {},
   "outputs": [],
   "source": [
    "ID = sorted(ID)\n",
    "\n",
    "add_s1 = np.array(s1_train[ID])\n",
    "add_s2 = np.array(s2_train[ID])\n",
    "label = np.array(label_train[ID])\n",
    "\n",
    "s1_vali = np.array(s1_vali)\n",
    "s2_vali = np.array(s2_vali)\n",
    "label_vali = np.array(label_vali)\n"
   ]
  }
 ],
 "metadata": {
  "kernelspec": {
   "display_name": "Python 3",
   "language": "python",
   "name": "python3"
  },
  "language_info": {
   "codemirror_mode": {
    "name": "ipython",
    "version": 3
   },
   "file_extension": ".py",
   "mimetype": "text/x-python",
   "name": "python",
   "nbconvert_exporter": "python",
   "pygments_lexer": "ipython3",
   "version": "3.6.6"
  }
 },
 "nbformat": 4,
 "nbformat_minor": 2
}
