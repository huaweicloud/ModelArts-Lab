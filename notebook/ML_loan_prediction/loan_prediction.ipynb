{
 "cells": [
  {
   "cell_type": "markdown",
   "metadata": {},
   "source": [
    "# 银行贷款预测案例\n",
    "\n",
    "在本案例中，我们将会学习使用人工智能技术分析银行客户贷款数据，并基于这个数据训练一个高斯朴素贝叶斯分类器，预测一个新客户是否会在银行贷款。我们会展示构建银行贷款预测分类器的全流程，包括数据预处理、特征选择、模型训练和模型评估。\n",
    "\n",
    "此案例中，我们使用的数据集是银行客户信息数据集，数据集的字段描述如下：\n",
    "* ID：客户ID\n",
    "* Age：客户年龄\n",
    "* Experience：工作年限\n",
    "* Income：年度收入\n",
    "* ZIP Code：邮政编码\n",
    "* Family：家庭人数\n",
    "* CCAvg：每月信用卡消费额\n",
    "* Education：教育程度. 1: 大学未毕业; 2: 大学毕业生; 3: 研究生\n",
    "* Mortgage：房屋抵押金额\n",
    "* Personal Loan：用户是否有个人贷款?\n",
    "* Securities Account：客户在该银行中是否有证券账户?\n",
    "* CD Account：客户在该银行中是否有存款?\n",
    "* Online：用户是否会使用网络银行?\n",
    "* CreditCard：客户是否使用信用卡?\n",
    "\n",
    "本案例将掌握通过人工智能分类算法，全流程构建一个银行贷款预测分类器方案。掌握如何使用华为云ModelArts Notebook上传数据、执行Python代码。掌握如何发现并处理银行客户信息中的噪声数据。掌握如何使用Python中seaborn库绘制银行客户信息特征相关性热力图，通过相关性分析进行特征选择。掌握使用Python中matplotlib库绘制银行客户信息的基本图形，如饼图。掌握构建分类器过程中的使用的工具函数，如sklearn提供的数据集切分函数train_test_split、准确率计算函数accuracy_score。掌握使用Python编程语言实现朴素贝叶斯分类器。"
   ]
  },
  {
   "cell_type": "markdown",
   "metadata": {},
   "source": [
    "## 步骤"
   ]
  },
  {
   "cell_type": "markdown",
   "metadata": {},
   "source": [
    "### 进入人工智能开发平台ModelArts界面\n",
    "\n",
    "这步教大家如何进入人工智能开发平台华为云ModelArts服务。\n",
    "\n",
    "第一步：点击“控制台”，如下图所示\n",
    "![title](img/enter_modelarts_step1.png)\n",
    "\n",
    "第二步：点击“所有服务”，如下图所示\n",
    "![title](img/enter_modelarts_step2.png)\n",
    "\n",
    "第三步：在“EI企业智能”大类下找到“ModelArts”，点击“ModelArts”，进入ModelArts服务主界面，如下图所示\n",
    "![title](img/enter_modelarts_step3.png)\n",
    "\n",
    "第四步：看到以下界面，说明成功进入了ModelArts服务主界面\n",
    "![title](img/enter_modelarts_step4.png)\n",
    "\n"
   ]
  },
  {
   "cell_type": "markdown",
   "metadata": {},
   "source": [
    "### 创建ModelArts Notebook\n",
    "\n",
    "此步教大家如何在ModelArts中创建一个Notebook开发环境。ModelArts Notebook提供网页版的Python开发环境，无需用户自己搭建Python开发环境。\n",
    "\n",
    "第一步：点击ModelArts服务主界面中的“开发环境”，如下图所示\n",
    "![title](img/create_notebook_step1.png)\n",
    "\n",
    "第二步：点击下图中的“创建”按钮\n",
    "![title](img/create_notebook_step2.png)\n",
    "\n",
    "第三步：填写创建Notebook所需的参数，并点击下一步，如下图所示\n",
    "\n",
    "\n",
    "\n",
    "| 字段 |   内容     |\n",
    "| -------- | -------------- |\n",
    "| 计费方式     | 按需计费 |\n",
    "| 名称     | Notebook实例名称，如bank_loan_prediction |\n",
    "| 工作环境 | Python3     |\n",
    "| 资源池   | 公共资源池     |\n",
    "| 类型     | CPU            |\n",
    "| 规格     | 2核 8GiB      |\n",
    "| 存储配置 | EVS，磁盘规格5GB           |\n",
    "\n",
    "\n",
    "第四步：点击下图中的“立即创建”\n",
    "![title](img/create_notebook_step4.png)\n",
    "\n",
    "第五步：点击下图中的“返回Notebook列表”\n",
    "![title](img/create_notebook_step5.png)\n",
    "\n",
    "第六步：等待Notebook创建成功，创建成功后状态会变成“运行中”，如下图所示\n",
    "![title](img/create_notebook_step6.png)\n"
   ]
  },
  {
   "cell_type": "markdown",
   "metadata": {},
   "source": [
    "### 在ModelArts Notebook中创建一个Notebook Python开发环境\n",
    "\n",
    "第一步：点击下图所示的“打开”按钮，进入刚刚创建的notebook\n",
    "![title](img/create_notebook_dev_step1.png)\n",
    "\n",
    "第二步：创建一个Notebook Python语言开发环境。先点击“New”按钮，然后创建 XGBoost-Sklearn 开发环境\n",
    "\n",
    "第三步：重命名刚刚创建的Notebook Python开发环境。点击“Untitle”，如下图所示\n",
    "![title](img/create_notebook_dev_step2.png)\n",
    "\n",
    "第四步：填写名称。我们可以填写一个跟本实验相关的名称，然后点击“Rename”按钮，如下图所示\n",
    "![title](img/create_notebook_dev_step3.png)\n"
   ]
  },
  {
   "cell_type": "markdown",
   "metadata": {},
   "source": [
    "### 如何在Notebook Python开发环境中写代码并执行代码\n",
    "\n",
    "输入代码，然后点击run按钮执行代码，就可以看到输出hello notebook!，如下图所示\n",
    "![title](img/type_code_step1.png)\n"
   ]
  },
  {
   "cell_type": "markdown",
   "metadata": {},
   "source": [
    "**Notebook Python开发环境终于准备好了，现在可以在Notebook Python开发环境写代码啦**"
   ]
  },
  {
   "cell_type": "markdown",
   "metadata": {},
   "source": [
    "### 案例配置信息填写\n",
    "\n",
    "案例中需要将运行结果上传至OBS中，我们需要设置以下相关参数（使用自己真实的桶名和唯一ID替换掉*号）：\n",
    "\n",
    "* BUCKET_NAME ： 自己的OBS桶名\n",
    "* UNIQUE_ID : 唯一ID，填写自己的学号或者IAM子账号名称\n"
   ]
  },
  {
   "cell_type": "code",
   "execution_count": 1,
   "metadata": {},
   "outputs": [],
   "source": [
    "BUCKET_NAME = '*' \n",
    "UNIQUE_ID = '*' \n",
    "OBS_BASE_PATH = BUCKET_NAME + '/' + UNIQUE_ID"
   ]
  },
  {
   "cell_type": "markdown",
   "metadata": {},
   "source": [
    "### 初始化ModelArts SDK"
   ]
  },
  {
   "cell_type": "code",
   "execution_count": 2,
   "metadata": {},
   "outputs": [],
   "source": [
    "from modelarts.session import Session\n",
    "session = Session()"
   ]
  },
  {
   "cell_type": "markdown",
   "metadata": {},
   "source": [
    "### 准备源代码和数据\n",
    "\n",
    "这一步准备案例所需的源代码和数据，相关资源已经保存在OBS（华为云对象存储服务）中，我们通过ModelArts SDK将资源下载到本地，并解压到当前目录下。解压后，当前目录包含src和data两个目录，分别存有源代码和数据集。\n",
    "\n",
    "会显示下载成功的日志。"
   ]
  },
  {
   "cell_type": "code",
   "execution_count": 3,
   "metadata": {},
   "outputs": [
    {
     "name": "stdout",
     "output_type": "stream",
     "text": [
      "Successfully download file ai-course-common-20/bank_loan_prediction/bank_loan_prediction.tar.gz from OBS to local ./bank_loan_prediction.tar.gz\n"
     ]
    }
   ],
   "source": [
    "session.download_data(bucket_path=\"ai-course-common-20/bank_loan_prediction/bank_loan_prediction.tar.gz\", \n",
    "                      path=\"./bank_loan_prediction.tar.gz\")\n",
    "\n",
    "#  使用tar命令解压资源包\n",
    "!tar xf ./bank_loan_prediction.tar.gz"
   ]
  },
  {
   "cell_type": "markdown",
   "metadata": {},
   "source": [
    "### 导入基本工具库\n",
    "执行下面方框中的这段代码，可以导入本次实验中使用的Python开发基本工具库。\n",
    "\n",
    "matplotlib.pyplot是绘制基本图形的工具，seaborn绘制热力图的工具，pandas是文件读取和数据处理工具，numpy是数据分处理工具。\n",
    "\n",
    "此段代码只是引入Python包，无回显（代码执行输出）。"
   ]
  },
  {
   "cell_type": "code",
   "execution_count": 4,
   "metadata": {},
   "outputs": [],
   "source": [
    "import matplotlib.pyplot as plt\n",
    "import seaborn as sns\n",
    "import numpy as np \n",
    "import pandas as pd\n",
    "# 在Notebook中显示matplotlib.pyplot的绘图结果\n",
    "%matplotlib inline"
   ]
  },
  {
   "cell_type": "markdown",
   "metadata": {},
   "source": [
    "### 数据读取并抽取特征和预测目标\n",
    "\n",
    "使用pandas.read_excel(filepath, sheetname)方法读取Notebook中的数据文件。\n",
    "* filepath：数据文件路径。\n",
    "* sheetname: 指定数据集在Excel中所处的sheet。\n",
    "\n",
    "此段代码无回显。"
   ]
  },
  {
   "cell_type": "code",
   "execution_count": 5,
   "metadata": {},
   "outputs": [],
   "source": [
    "original = pd.read_excel('data/Bank_Personal_Loan_Modelling.xlsx', \"Data\")\n",
    "\n",
    "# 抽取特征数据\n",
    "feature = original.drop(\"Personal Loan\",axis=1)\n",
    "# 将数据集中的Personal Loan字段设为预测目标\n",
    "target=original[\"Personal Loan\"]\n",
    "\n",
    "# 组合成完整的数据集\n",
    "loans = feature.join(target)"
   ]
  },
  {
   "cell_type": "markdown",
   "metadata": {},
   "source": [
    "### 展示样本数据\n",
    "执行这段代码可以看到数据集的5个样本数据"
   ]
  },
  {
   "cell_type": "code",
   "execution_count": 6,
   "metadata": {},
   "outputs": [
    {
     "data": {
      "text/html": [
       "<div>\n",
       "<style>\n",
       "    .dataframe thead tr:only-child th {\n",
       "        text-align: right;\n",
       "    }\n",
       "\n",
       "    .dataframe thead th {\n",
       "        text-align: left;\n",
       "    }\n",
       "\n",
       "    .dataframe tbody tr th {\n",
       "        vertical-align: top;\n",
       "    }\n",
       "</style>\n",
       "<table border=\"1\" class=\"dataframe\">\n",
       "  <thead>\n",
       "    <tr style=\"text-align: right;\">\n",
       "      <th></th>\n",
       "      <th>ID</th>\n",
       "      <th>Age</th>\n",
       "      <th>Experience</th>\n",
       "      <th>Income</th>\n",
       "      <th>ZIP Code</th>\n",
       "      <th>Family</th>\n",
       "      <th>CCAvg</th>\n",
       "      <th>Education</th>\n",
       "      <th>Mortgage</th>\n",
       "      <th>Securities Account</th>\n",
       "      <th>CD Account</th>\n",
       "      <th>Online</th>\n",
       "      <th>CreditCard</th>\n",
       "      <th>Personal Loan</th>\n",
       "    </tr>\n",
       "  </thead>\n",
       "  <tbody>\n",
       "    <tr>\n",
       "      <th>0</th>\n",
       "      <td>1</td>\n",
       "      <td>25</td>\n",
       "      <td>1</td>\n",
       "      <td>49</td>\n",
       "      <td>91107</td>\n",
       "      <td>4</td>\n",
       "      <td>1.6</td>\n",
       "      <td>1</td>\n",
       "      <td>0</td>\n",
       "      <td>1</td>\n",
       "      <td>0</td>\n",
       "      <td>0</td>\n",
       "      <td>0</td>\n",
       "      <td>0</td>\n",
       "    </tr>\n",
       "    <tr>\n",
       "      <th>1</th>\n",
       "      <td>2</td>\n",
       "      <td>45</td>\n",
       "      <td>19</td>\n",
       "      <td>34</td>\n",
       "      <td>90089</td>\n",
       "      <td>3</td>\n",
       "      <td>1.5</td>\n",
       "      <td>1</td>\n",
       "      <td>0</td>\n",
       "      <td>1</td>\n",
       "      <td>0</td>\n",
       "      <td>0</td>\n",
       "      <td>0</td>\n",
       "      <td>0</td>\n",
       "    </tr>\n",
       "    <tr>\n",
       "      <th>2</th>\n",
       "      <td>3</td>\n",
       "      <td>39</td>\n",
       "      <td>15</td>\n",
       "      <td>11</td>\n",
       "      <td>94720</td>\n",
       "      <td>1</td>\n",
       "      <td>1.0</td>\n",
       "      <td>1</td>\n",
       "      <td>0</td>\n",
       "      <td>0</td>\n",
       "      <td>0</td>\n",
       "      <td>0</td>\n",
       "      <td>0</td>\n",
       "      <td>0</td>\n",
       "    </tr>\n",
       "    <tr>\n",
       "      <th>3</th>\n",
       "      <td>4</td>\n",
       "      <td>35</td>\n",
       "      <td>9</td>\n",
       "      <td>100</td>\n",
       "      <td>94112</td>\n",
       "      <td>1</td>\n",
       "      <td>2.7</td>\n",
       "      <td>2</td>\n",
       "      <td>0</td>\n",
       "      <td>0</td>\n",
       "      <td>0</td>\n",
       "      <td>0</td>\n",
       "      <td>0</td>\n",
       "      <td>0</td>\n",
       "    </tr>\n",
       "    <tr>\n",
       "      <th>4</th>\n",
       "      <td>5</td>\n",
       "      <td>35</td>\n",
       "      <td>8</td>\n",
       "      <td>45</td>\n",
       "      <td>91330</td>\n",
       "      <td>4</td>\n",
       "      <td>1.0</td>\n",
       "      <td>2</td>\n",
       "      <td>0</td>\n",
       "      <td>0</td>\n",
       "      <td>0</td>\n",
       "      <td>0</td>\n",
       "      <td>1</td>\n",
       "      <td>0</td>\n",
       "    </tr>\n",
       "  </tbody>\n",
       "</table>\n",
       "</div>"
      ],
      "text/plain": [
       "   ID  Age  Experience  Income  ZIP Code  Family  CCAvg  Education  Mortgage  \\\n",
       "0   1   25           1      49     91107       4    1.6          1         0   \n",
       "1   2   45          19      34     90089       3    1.5          1         0   \n",
       "2   3   39          15      11     94720       1    1.0          1         0   \n",
       "3   4   35           9     100     94112       1    2.7          2         0   \n",
       "4   5   35           8      45     91330       4    1.0          2         0   \n",
       "\n",
       "   Securities Account  CD Account  Online  CreditCard  Personal Loan  \n",
       "0                   1           0       0           0              0  \n",
       "1                   1           0       0           0              0  \n",
       "2                   0           0       0           0              0  \n",
       "3                   0           0       0           0              0  \n",
       "4                   0           0       0           1              0  "
      ]
     },
     "execution_count": 6,
     "metadata": {},
     "output_type": "execute_result"
    }
   ],
   "source": [
    "loans.head(5)"
   ]
  },
  {
   "cell_type": "markdown",
   "metadata": {},
   "source": [
    "### 展示数据集统计信息\n",
    "调用pandas.DataFrame.describe方法，可以看到各个特征的统计信息，包括样本数、均值、标准差、最小值、1/4分位数、1/2分位数、3/4分位数和最大值。transpose是矩阵的转置运算。"
   ]
  },
  {
   "cell_type": "code",
   "execution_count": 7,
   "metadata": {},
   "outputs": [
    {
     "data": {
      "text/html": [
       "<div>\n",
       "<style>\n",
       "    .dataframe thead tr:only-child th {\n",
       "        text-align: right;\n",
       "    }\n",
       "\n",
       "    .dataframe thead th {\n",
       "        text-align: left;\n",
       "    }\n",
       "\n",
       "    .dataframe tbody tr th {\n",
       "        vertical-align: top;\n",
       "    }\n",
       "</style>\n",
       "<table border=\"1\" class=\"dataframe\">\n",
       "  <thead>\n",
       "    <tr style=\"text-align: right;\">\n",
       "      <th></th>\n",
       "      <th>count</th>\n",
       "      <th>mean</th>\n",
       "      <th>std</th>\n",
       "      <th>min</th>\n",
       "      <th>25%</th>\n",
       "      <th>50%</th>\n",
       "      <th>75%</th>\n",
       "      <th>max</th>\n",
       "    </tr>\n",
       "  </thead>\n",
       "  <tbody>\n",
       "    <tr>\n",
       "      <th>ID</th>\n",
       "      <td>5000.0</td>\n",
       "      <td>2500.500000</td>\n",
       "      <td>1443.520003</td>\n",
       "      <td>1.0</td>\n",
       "      <td>1250.75</td>\n",
       "      <td>2500.5</td>\n",
       "      <td>3750.25</td>\n",
       "      <td>5000.0</td>\n",
       "    </tr>\n",
       "    <tr>\n",
       "      <th>Age</th>\n",
       "      <td>5000.0</td>\n",
       "      <td>45.338400</td>\n",
       "      <td>11.463166</td>\n",
       "      <td>23.0</td>\n",
       "      <td>35.00</td>\n",
       "      <td>45.0</td>\n",
       "      <td>55.00</td>\n",
       "      <td>67.0</td>\n",
       "    </tr>\n",
       "    <tr>\n",
       "      <th>Experience</th>\n",
       "      <td>5000.0</td>\n",
       "      <td>20.104600</td>\n",
       "      <td>11.467954</td>\n",
       "      <td>-3.0</td>\n",
       "      <td>10.00</td>\n",
       "      <td>20.0</td>\n",
       "      <td>30.00</td>\n",
       "      <td>43.0</td>\n",
       "    </tr>\n",
       "    <tr>\n",
       "      <th>Income</th>\n",
       "      <td>5000.0</td>\n",
       "      <td>73.774200</td>\n",
       "      <td>46.033729</td>\n",
       "      <td>8.0</td>\n",
       "      <td>39.00</td>\n",
       "      <td>64.0</td>\n",
       "      <td>98.00</td>\n",
       "      <td>224.0</td>\n",
       "    </tr>\n",
       "    <tr>\n",
       "      <th>ZIP Code</th>\n",
       "      <td>5000.0</td>\n",
       "      <td>93152.503000</td>\n",
       "      <td>2121.852197</td>\n",
       "      <td>9307.0</td>\n",
       "      <td>91911.00</td>\n",
       "      <td>93437.0</td>\n",
       "      <td>94608.00</td>\n",
       "      <td>96651.0</td>\n",
       "    </tr>\n",
       "    <tr>\n",
       "      <th>Family</th>\n",
       "      <td>5000.0</td>\n",
       "      <td>2.396400</td>\n",
       "      <td>1.147663</td>\n",
       "      <td>1.0</td>\n",
       "      <td>1.00</td>\n",
       "      <td>2.0</td>\n",
       "      <td>3.00</td>\n",
       "      <td>4.0</td>\n",
       "    </tr>\n",
       "    <tr>\n",
       "      <th>CCAvg</th>\n",
       "      <td>5000.0</td>\n",
       "      <td>1.937913</td>\n",
       "      <td>1.747666</td>\n",
       "      <td>0.0</td>\n",
       "      <td>0.70</td>\n",
       "      <td>1.5</td>\n",
       "      <td>2.50</td>\n",
       "      <td>10.0</td>\n",
       "    </tr>\n",
       "    <tr>\n",
       "      <th>Education</th>\n",
       "      <td>5000.0</td>\n",
       "      <td>1.881000</td>\n",
       "      <td>0.839869</td>\n",
       "      <td>1.0</td>\n",
       "      <td>1.00</td>\n",
       "      <td>2.0</td>\n",
       "      <td>3.00</td>\n",
       "      <td>3.0</td>\n",
       "    </tr>\n",
       "    <tr>\n",
       "      <th>Mortgage</th>\n",
       "      <td>5000.0</td>\n",
       "      <td>56.498800</td>\n",
       "      <td>101.713802</td>\n",
       "      <td>0.0</td>\n",
       "      <td>0.00</td>\n",
       "      <td>0.0</td>\n",
       "      <td>101.00</td>\n",
       "      <td>635.0</td>\n",
       "    </tr>\n",
       "    <tr>\n",
       "      <th>Securities Account</th>\n",
       "      <td>5000.0</td>\n",
       "      <td>0.104400</td>\n",
       "      <td>0.305809</td>\n",
       "      <td>0.0</td>\n",
       "      <td>0.00</td>\n",
       "      <td>0.0</td>\n",
       "      <td>0.00</td>\n",
       "      <td>1.0</td>\n",
       "    </tr>\n",
       "    <tr>\n",
       "      <th>CD Account</th>\n",
       "      <td>5000.0</td>\n",
       "      <td>0.060400</td>\n",
       "      <td>0.238250</td>\n",
       "      <td>0.0</td>\n",
       "      <td>0.00</td>\n",
       "      <td>0.0</td>\n",
       "      <td>0.00</td>\n",
       "      <td>1.0</td>\n",
       "    </tr>\n",
       "    <tr>\n",
       "      <th>Online</th>\n",
       "      <td>5000.0</td>\n",
       "      <td>0.596800</td>\n",
       "      <td>0.490589</td>\n",
       "      <td>0.0</td>\n",
       "      <td>0.00</td>\n",
       "      <td>1.0</td>\n",
       "      <td>1.00</td>\n",
       "      <td>1.0</td>\n",
       "    </tr>\n",
       "    <tr>\n",
       "      <th>CreditCard</th>\n",
       "      <td>5000.0</td>\n",
       "      <td>0.294000</td>\n",
       "      <td>0.455637</td>\n",
       "      <td>0.0</td>\n",
       "      <td>0.00</td>\n",
       "      <td>0.0</td>\n",
       "      <td>1.00</td>\n",
       "      <td>1.0</td>\n",
       "    </tr>\n",
       "    <tr>\n",
       "      <th>Personal Loan</th>\n",
       "      <td>5000.0</td>\n",
       "      <td>0.096000</td>\n",
       "      <td>0.294621</td>\n",
       "      <td>0.0</td>\n",
       "      <td>0.00</td>\n",
       "      <td>0.0</td>\n",
       "      <td>0.00</td>\n",
       "      <td>1.0</td>\n",
       "    </tr>\n",
       "  </tbody>\n",
       "</table>\n",
       "</div>"
      ],
      "text/plain": [
       "                     count          mean          std     min       25%  \\\n",
       "ID                  5000.0   2500.500000  1443.520003     1.0   1250.75   \n",
       "Age                 5000.0     45.338400    11.463166    23.0     35.00   \n",
       "Experience          5000.0     20.104600    11.467954    -3.0     10.00   \n",
       "Income              5000.0     73.774200    46.033729     8.0     39.00   \n",
       "ZIP Code            5000.0  93152.503000  2121.852197  9307.0  91911.00   \n",
       "Family              5000.0      2.396400     1.147663     1.0      1.00   \n",
       "CCAvg               5000.0      1.937913     1.747666     0.0      0.70   \n",
       "Education           5000.0      1.881000     0.839869     1.0      1.00   \n",
       "Mortgage            5000.0     56.498800   101.713802     0.0      0.00   \n",
       "Securities Account  5000.0      0.104400     0.305809     0.0      0.00   \n",
       "CD Account          5000.0      0.060400     0.238250     0.0      0.00   \n",
       "Online              5000.0      0.596800     0.490589     0.0      0.00   \n",
       "CreditCard          5000.0      0.294000     0.455637     0.0      0.00   \n",
       "Personal Loan       5000.0      0.096000     0.294621     0.0      0.00   \n",
       "\n",
       "                        50%       75%      max  \n",
       "ID                   2500.5   3750.25   5000.0  \n",
       "Age                    45.0     55.00     67.0  \n",
       "Experience             20.0     30.00     43.0  \n",
       "Income                 64.0     98.00    224.0  \n",
       "ZIP Code            93437.0  94608.00  96651.0  \n",
       "Family                  2.0      3.00      4.0  \n",
       "CCAvg                   1.5      2.50     10.0  \n",
       "Education               2.0      3.00      3.0  \n",
       "Mortgage                0.0    101.00    635.0  \n",
       "Securities Account      0.0      0.00      1.0  \n",
       "CD Account              0.0      0.00      1.0  \n",
       "Online                  1.0      1.00      1.0  \n",
       "CreditCard              0.0      1.00      1.0  \n",
       "Personal Loan           0.0      0.00      1.0  "
      ]
     },
     "execution_count": 7,
     "metadata": {},
     "output_type": "execute_result"
    }
   ],
   "source": [
    "loans.describe().transpose()"
   ]
  },
  {
   "cell_type": "markdown",
   "metadata": {},
   "source": [
    "### 特征Experience的异常值处理\n",
    "观察上面的数据集统计信息，发现特征Experience（工作年限）有负值，这是不符合常理的。我们对异常值进行处理，将值转换为其绝对值，并再次输出数据集统计信息。可以看到经过处理后，负值已经消失。"
   ]
  },
  {
   "cell_type": "code",
   "execution_count": 8,
   "metadata": {},
   "outputs": [
    {
     "data": {
      "text/html": [
       "<div>\n",
       "<style>\n",
       "    .dataframe thead tr:only-child th {\n",
       "        text-align: right;\n",
       "    }\n",
       "\n",
       "    .dataframe thead th {\n",
       "        text-align: left;\n",
       "    }\n",
       "\n",
       "    .dataframe tbody tr th {\n",
       "        vertical-align: top;\n",
       "    }\n",
       "</style>\n",
       "<table border=\"1\" class=\"dataframe\">\n",
       "  <thead>\n",
       "    <tr style=\"text-align: right;\">\n",
       "      <th></th>\n",
       "      <th>count</th>\n",
       "      <th>mean</th>\n",
       "      <th>std</th>\n",
       "      <th>min</th>\n",
       "      <th>25%</th>\n",
       "      <th>50%</th>\n",
       "      <th>75%</th>\n",
       "      <th>max</th>\n",
       "    </tr>\n",
       "  </thead>\n",
       "  <tbody>\n",
       "    <tr>\n",
       "      <th>ID</th>\n",
       "      <td>5000.0</td>\n",
       "      <td>2500.500000</td>\n",
       "      <td>1443.520003</td>\n",
       "      <td>1.0</td>\n",
       "      <td>1250.75</td>\n",
       "      <td>2500.5</td>\n",
       "      <td>3750.25</td>\n",
       "      <td>5000.0</td>\n",
       "    </tr>\n",
       "    <tr>\n",
       "      <th>Age</th>\n",
       "      <td>5000.0</td>\n",
       "      <td>45.338400</td>\n",
       "      <td>11.463166</td>\n",
       "      <td>23.0</td>\n",
       "      <td>35.00</td>\n",
       "      <td>45.0</td>\n",
       "      <td>55.00</td>\n",
       "      <td>67.0</td>\n",
       "    </tr>\n",
       "    <tr>\n",
       "      <th>Experience</th>\n",
       "      <td>5000.0</td>\n",
       "      <td>20.134600</td>\n",
       "      <td>11.415189</td>\n",
       "      <td>0.0</td>\n",
       "      <td>10.00</td>\n",
       "      <td>20.0</td>\n",
       "      <td>30.00</td>\n",
       "      <td>43.0</td>\n",
       "    </tr>\n",
       "    <tr>\n",
       "      <th>Income</th>\n",
       "      <td>5000.0</td>\n",
       "      <td>73.774200</td>\n",
       "      <td>46.033729</td>\n",
       "      <td>8.0</td>\n",
       "      <td>39.00</td>\n",
       "      <td>64.0</td>\n",
       "      <td>98.00</td>\n",
       "      <td>224.0</td>\n",
       "    </tr>\n",
       "    <tr>\n",
       "      <th>ZIP Code</th>\n",
       "      <td>5000.0</td>\n",
       "      <td>93152.503000</td>\n",
       "      <td>2121.852197</td>\n",
       "      <td>9307.0</td>\n",
       "      <td>91911.00</td>\n",
       "      <td>93437.0</td>\n",
       "      <td>94608.00</td>\n",
       "      <td>96651.0</td>\n",
       "    </tr>\n",
       "    <tr>\n",
       "      <th>Family</th>\n",
       "      <td>5000.0</td>\n",
       "      <td>2.396400</td>\n",
       "      <td>1.147663</td>\n",
       "      <td>1.0</td>\n",
       "      <td>1.00</td>\n",
       "      <td>2.0</td>\n",
       "      <td>3.00</td>\n",
       "      <td>4.0</td>\n",
       "    </tr>\n",
       "    <tr>\n",
       "      <th>CCAvg</th>\n",
       "      <td>5000.0</td>\n",
       "      <td>1.937913</td>\n",
       "      <td>1.747666</td>\n",
       "      <td>0.0</td>\n",
       "      <td>0.70</td>\n",
       "      <td>1.5</td>\n",
       "      <td>2.50</td>\n",
       "      <td>10.0</td>\n",
       "    </tr>\n",
       "    <tr>\n",
       "      <th>Education</th>\n",
       "      <td>5000.0</td>\n",
       "      <td>1.881000</td>\n",
       "      <td>0.839869</td>\n",
       "      <td>1.0</td>\n",
       "      <td>1.00</td>\n",
       "      <td>2.0</td>\n",
       "      <td>3.00</td>\n",
       "      <td>3.0</td>\n",
       "    </tr>\n",
       "    <tr>\n",
       "      <th>Mortgage</th>\n",
       "      <td>5000.0</td>\n",
       "      <td>56.498800</td>\n",
       "      <td>101.713802</td>\n",
       "      <td>0.0</td>\n",
       "      <td>0.00</td>\n",
       "      <td>0.0</td>\n",
       "      <td>101.00</td>\n",
       "      <td>635.0</td>\n",
       "    </tr>\n",
       "    <tr>\n",
       "      <th>Securities Account</th>\n",
       "      <td>5000.0</td>\n",
       "      <td>0.104400</td>\n",
       "      <td>0.305809</td>\n",
       "      <td>0.0</td>\n",
       "      <td>0.00</td>\n",
       "      <td>0.0</td>\n",
       "      <td>0.00</td>\n",
       "      <td>1.0</td>\n",
       "    </tr>\n",
       "    <tr>\n",
       "      <th>CD Account</th>\n",
       "      <td>5000.0</td>\n",
       "      <td>0.060400</td>\n",
       "      <td>0.238250</td>\n",
       "      <td>0.0</td>\n",
       "      <td>0.00</td>\n",
       "      <td>0.0</td>\n",
       "      <td>0.00</td>\n",
       "      <td>1.0</td>\n",
       "    </tr>\n",
       "    <tr>\n",
       "      <th>Online</th>\n",
       "      <td>5000.0</td>\n",
       "      <td>0.596800</td>\n",
       "      <td>0.490589</td>\n",
       "      <td>0.0</td>\n",
       "      <td>0.00</td>\n",
       "      <td>1.0</td>\n",
       "      <td>1.00</td>\n",
       "      <td>1.0</td>\n",
       "    </tr>\n",
       "    <tr>\n",
       "      <th>CreditCard</th>\n",
       "      <td>5000.0</td>\n",
       "      <td>0.294000</td>\n",
       "      <td>0.455637</td>\n",
       "      <td>0.0</td>\n",
       "      <td>0.00</td>\n",
       "      <td>0.0</td>\n",
       "      <td>1.00</td>\n",
       "      <td>1.0</td>\n",
       "    </tr>\n",
       "    <tr>\n",
       "      <th>Personal Loan</th>\n",
       "      <td>5000.0</td>\n",
       "      <td>0.096000</td>\n",
       "      <td>0.294621</td>\n",
       "      <td>0.0</td>\n",
       "      <td>0.00</td>\n",
       "      <td>0.0</td>\n",
       "      <td>0.00</td>\n",
       "      <td>1.0</td>\n",
       "    </tr>\n",
       "  </tbody>\n",
       "</table>\n",
       "</div>"
      ],
      "text/plain": [
       "                     count          mean          std     min       25%  \\\n",
       "ID                  5000.0   2500.500000  1443.520003     1.0   1250.75   \n",
       "Age                 5000.0     45.338400    11.463166    23.0     35.00   \n",
       "Experience          5000.0     20.134600    11.415189     0.0     10.00   \n",
       "Income              5000.0     73.774200    46.033729     8.0     39.00   \n",
       "ZIP Code            5000.0  93152.503000  2121.852197  9307.0  91911.00   \n",
       "Family              5000.0      2.396400     1.147663     1.0      1.00   \n",
       "CCAvg               5000.0      1.937913     1.747666     0.0      0.70   \n",
       "Education           5000.0      1.881000     0.839869     1.0      1.00   \n",
       "Mortgage            5000.0     56.498800   101.713802     0.0      0.00   \n",
       "Securities Account  5000.0      0.104400     0.305809     0.0      0.00   \n",
       "CD Account          5000.0      0.060400     0.238250     0.0      0.00   \n",
       "Online              5000.0      0.596800     0.490589     0.0      0.00   \n",
       "CreditCard          5000.0      0.294000     0.455637     0.0      0.00   \n",
       "Personal Loan       5000.0      0.096000     0.294621     0.0      0.00   \n",
       "\n",
       "                        50%       75%      max  \n",
       "ID                   2500.5   3750.25   5000.0  \n",
       "Age                    45.0     55.00     67.0  \n",
       "Experience             20.0     30.00     43.0  \n",
       "Income                 64.0     98.00    224.0  \n",
       "ZIP Code            93437.0  94608.00  96651.0  \n",
       "Family                  2.0      3.00      4.0  \n",
       "CCAvg                   1.5      2.50     10.0  \n",
       "Education               2.0      3.00      3.0  \n",
       "Mortgage                0.0    101.00    635.0  \n",
       "Securities Account      0.0      0.00      1.0  \n",
       "CD Account              0.0      0.00      1.0  \n",
       "Online                  1.0      1.00      1.0  \n",
       "CreditCard              0.0      1.00      1.0  \n",
       "Personal Loan           0.0      0.00      1.0  "
      ]
     },
     "execution_count": 8,
     "metadata": {},
     "output_type": "execute_result"
    }
   ],
   "source": [
    "# 异常值处理\n",
    "loans[\"Experience\"] = loans[\"Experience\"].apply(abs)\n",
    "\n",
    "# 再次输出统计信息\n",
    "loans.describe().transpose()"
   ]
  },
  {
   "cell_type": "markdown",
   "metadata": {},
   "source": [
    "### 数据类型转换\n",
    "为了保证数据在计算过程中的精度，我们将数据类型转换为float64型。\n",
    "\n",
    "然后打印特征的类型信息，可以看到各个特征都转换为了float64类型。"
   ]
  },
  {
   "cell_type": "code",
   "execution_count": 9,
   "metadata": {},
   "outputs": [
    {
     "name": "stdout",
     "output_type": "stream",
     "text": [
      "<class 'pandas.core.frame.DataFrame'>\n",
      "RangeIndex: 5000 entries, 0 to 4999\n",
      "Data columns (total 14 columns):\n",
      "ID                    5000 non-null float64\n",
      "Age                   5000 non-null float64\n",
      "Experience            5000 non-null float64\n",
      "Income                5000 non-null float64\n",
      "ZIP Code              5000 non-null float64\n",
      "Family                5000 non-null float64\n",
      "CCAvg                 5000 non-null float64\n",
      "Education             5000 non-null float64\n",
      "Mortgage              5000 non-null float64\n",
      "Securities Account    5000 non-null float64\n",
      "CD Account            5000 non-null float64\n",
      "Online                5000 non-null float64\n",
      "CreditCard            5000 non-null float64\n",
      "Personal Loan         5000 non-null float64\n",
      "dtypes: float64(14)\n",
      "memory usage: 547.0 KB\n"
     ]
    }
   ],
   "source": [
    "loans = loans.astype(float)\n",
    "\n",
    "# 展示数据类型信息\n",
    "loans.info()"
   ]
  },
  {
   "cell_type": "markdown",
   "metadata": {},
   "source": [
    "### 数据类型转换后，重新抽取特征数据和预测目标\n",
    "ID字段是一个自增的数据索引，无实际含义，所以删除。此段代码无回显。"
   ]
  },
  {
   "cell_type": "code",
   "execution_count": 10,
   "metadata": {},
   "outputs": [],
   "source": [
    "feature = loans.drop([\"ID\",\"Personal Loan\"],axis=1)\n",
    "target = loans[\"Personal Loan\"]"
   ]
  },
  {
   "cell_type": "markdown",
   "metadata": {},
   "source": [
    "### 展示任意两个特征之间的相关性\n",
    "\n",
    "此段代码通过seaborn绘制热力图，展示任意两个特征之间的相关性。数值的绝对值越高说明相关性越高。\n",
    "\n",
    "观察特征相关性的目的是，如果发现两个特征相关性很高，那么在特征选择时，这两个特征至少有一个特征要被丢弃。\n",
    "\n",
    "此段代码执行后，会有一张特征相关性热力图输出，可以发现Experience（工作年限）和Age（年龄）具有很高的相关性。"
   ]
  },
  {
   "cell_type": "code",
   "execution_count": 11,
   "metadata": {},
   "outputs": [
    {
     "data": {
      "text/plain": [
       "<matplotlib.axes._subplots.AxesSubplot at 0x7f32ebe5a358>"
      ]
     },
     "execution_count": 11,
     "metadata": {},
     "output_type": "execute_result"
    },
    {
     "data": {
      "image/png": "[encoded data removed]",
      "text/plain": [
       "<matplotlib.figure.Figure at 0x7f32ebd4e2e8>"
      ]
     },
     "metadata": {},
     "output_type": "display_data"
    }
   ],
   "source": [
    "corr = feature.corr() # 计算任意两个特征的相关性矩阵\n",
    "\n",
    "mask = np.zeros_like(corr)\n",
    "mask[np.triu_indices_from(mask)] = True\n",
    "\n",
    "# 绘制热力图\n",
    "plt.figure(figsize=(10, 10))\n",
    "sns.heatmap(corr, mask=mask ,annot=True, square=True)"
   ]
  },
  {
   "cell_type": "markdown",
   "metadata": {},
   "source": [
    "### 展示每个特征和预测目标之间的相关性\n",
    "\n",
    "此段代码通过seaborn绘制热力图，展示每个特征和预测目标之间的相关性。数值的绝对值越高说明相关性越高，特征与预测目标之间的相关性数值越高，表示特征越重要。\n",
    "\n",
    "如果特征的重要性不高，在特征选择时需要丢弃。\n",
    "\n",
    "此段代码后会输出一张相关性热力图，可以发现Age, ZIP Code, Online, CreditCard这几个特征和预测目标相关性比较小，重要性较低。其实，从特征的含义也很好理解为什么这些特征重要性较低。"
   ]
  },
  {
   "cell_type": "code",
   "execution_count": 12,
   "metadata": {},
   "outputs": [
    {
     "data": {
      "image/png": "[encoded data removed]",
      "text/plain": [
       "<matplotlib.figure.Figure at 0x7f32e840dda0>"
      ]
     },
     "metadata": {},
     "output_type": "display_data"
    }
   ],
   "source": [
    "loans_corr = feature.join(target).corr()\n",
    "\n",
    "mask = np.zeros((13,13))\n",
    "mask[:12,:]=1\n",
    "\n",
    "plt.figure(figsize=(10, 10))\n",
    "with sns.axes_style(\"white\"):\n",
    "    sns.heatmap(loans_corr, annot=True, square=True, mask=mask)"
   ]
  },
  {
   "cell_type": "markdown",
   "metadata": {},
   "source": [
    "### 统计预测目标Personal Loan 正负标签值数量\n",
    "通过pandas.DataFrame内置的方法，统计正负标签值的数量。\n",
    "\n",
    "可以看到0标签的数量是4520个，1标签的数量是480个。"
   ]
  },
  {
   "cell_type": "code",
   "execution_count": 13,
   "metadata": {},
   "outputs": [
    {
     "data": {
      "text/html": [
       "<div>\n",
       "<style>\n",
       "    .dataframe thead tr:only-child th {\n",
       "        text-align: right;\n",
       "    }\n",
       "\n",
       "    .dataframe thead th {\n",
       "        text-align: left;\n",
       "    }\n",
       "\n",
       "    .dataframe tbody tr th {\n",
       "        vertical-align: top;\n",
       "    }\n",
       "</style>\n",
       "<table border=\"1\" class=\"dataframe\">\n",
       "  <thead>\n",
       "    <tr style=\"text-align: right;\">\n",
       "      <th></th>\n",
       "      <th>Labels</th>\n",
       "      <th>Personal Loan</th>\n",
       "    </tr>\n",
       "  </thead>\n",
       "  <tbody>\n",
       "    <tr>\n",
       "      <th>0</th>\n",
       "      <td>0.0</td>\n",
       "      <td>4520</td>\n",
       "    </tr>\n",
       "    <tr>\n",
       "      <th>1</th>\n",
       "      <td>1.0</td>\n",
       "      <td>480</td>\n",
       "    </tr>\n",
       "  </tbody>\n",
       "</table>\n",
       "</div>"
      ],
      "text/plain": [
       "   Labels  Personal Loan\n",
       "0     0.0           4520\n",
       "1     1.0            480"
      ]
     },
     "execution_count": 13,
     "metadata": {},
     "output_type": "execute_result"
    }
   ],
   "source": [
    "source_counts = pd.DataFrame(loans[\"Personal Loan\"].value_counts()).reset_index()\n",
    "source_counts.columns =[\"Labels\",\"Personal Loan\"]\n",
    "source_counts"
   ]
  },
  {
   "cell_type": "markdown",
   "metadata": {},
   "source": [
    "### 展示正负标签值分布饼状图\n",
    "通过饼状图展示正负标签各自所占的比例。\n",
    "\n",
    "可以在输出的饼状图中看到标签1所占的比例是9.6%。"
   ]
  },
  {
   "cell_type": "code",
   "execution_count": 14,
   "metadata": {},
   "outputs": [
    {
     "data": {
      "image/png": "[encoded data removed]",
      "text/plain": [
       "<matplotlib.figure.Figure at 0x7f32ebdc0908>"
      ]
     },
     "metadata": {},
     "output_type": "display_data"
    }
   ],
   "source": [
    "fig1, ax1 = plt.subplots()\n",
    "# 将将第一块凸显出来，数值的大小是分割出来的与另一块的间隙\n",
    "explode = (0, 0.15)\n",
    "# 饼图的设置\n",
    "ax1.pie(source_counts[\"Personal Loan\"], explode=explode, labels=source_counts[\"Labels\"], autopct='%1.1f%%',shadow=True, startangle=70)\n",
    "ax1.axis('equal') \n",
    "# 设置图形标题\n",
    "plt.title(\"Personal Loan Percentage\")\n",
    "# 显示图形\n",
    "plt.show()"
   ]
  },
  {
   "cell_type": "markdown",
   "metadata": {},
   "source": [
    "### 各个特征的数据分布\n",
    "使用pandas.DataFrame.hist方法绘制各个特征的数据分布直方图。这是为了让大家对数据分布有一个直观的了解。\n",
    "\n",
    "可以看到12个特征的直方图分布。"
   ]
  },
  {
   "cell_type": "code",
   "execution_count": 15,
   "metadata": {},
   "outputs": [
    {
     "data": {
      "text/plain": [
       "array([[<matplotlib.axes._subplots.AxesSubplot object at 0x7f32ebcbd550>,\n",
       "        <matplotlib.axes._subplots.AxesSubplot object at 0x7f32ebc72390>,\n",
       "        <matplotlib.axes._subplots.AxesSubplot object at 0x7f32ebd4da58>],\n",
       "       [<matplotlib.axes._subplots.AxesSubplot object at 0x7f32e81f39b0>,\n",
       "        <matplotlib.axes._subplots.AxesSubplot object at 0x7f32e8704198>,\n",
       "        <matplotlib.axes._subplots.AxesSubplot object at 0x7f32e87041d0>],\n",
       "       [<matplotlib.axes._subplots.AxesSubplot object at 0x7f32e85e1400>,\n",
       "        <matplotlib.axes._subplots.AxesSubplot object at 0x7f32e859ad30>,\n",
       "        <matplotlib.axes._subplots.AxesSubplot object at 0x7f32e81bd9b0>],\n",
       "       [<matplotlib.axes._subplots.AxesSubplot object at 0x7f32e81cee80>,\n",
       "        <matplotlib.axes._subplots.AxesSubplot object at 0x7f32e810c470>,\n",
       "        <matplotlib.axes._subplots.AxesSubplot object at 0x7f32e806c198>]], dtype=object)"
      ]
     },
     "execution_count": 15,
     "metadata": {},
     "output_type": "execute_result"
    },
    {
     "data": {
      "image/png": "[encoded data removed]",
      "text/plain": [
       "<matplotlib.figure.Figure at 0x7f32e84272e8>"
      ]
     },
     "metadata": {},
     "output_type": "display_data"
    }
   ],
   "source": [
    "# figsize可以设置图像大小\n",
    "feature.hist(figsize=(16,15))"
   ]
  },
  {
   "cell_type": "markdown",
   "metadata": {},
   "source": [
    "### 特征选择\n",
    "合理的特征选择可以降低模型的复杂度，提升模型的精度。\n",
    "\n",
    "基于特征相关性分析和特征与预测目标相关性分析的结果，我们丢弃掉部分不重要的特征（ZIP Code, Age, Online, CreditCard）。并且打印剩余的特征。\n",
    "\n",
    "可以看到剩余的特征有：Experience, Income, Family, CCAvg, Education, Mortgage, Securities Account, CD Account"
   ]
  },
  {
   "cell_type": "code",
   "execution_count": 16,
   "metadata": {},
   "outputs": [
    {
     "name": "stdout",
     "output_type": "stream",
     "text": [
      "Index(['Experience', 'Income', 'Family', 'CCAvg', 'Education', 'Mortgage',\n",
      "       'Securities Account', 'CD Account'],\n",
      "      dtype='object')\n"
     ]
    }
   ],
   "source": [
    "feature = feature.drop([\"ZIP Code\",\"Age\",\"Online\",\"CreditCard\"],axis=1)\n",
    "\n",
    "# 打印剩余的特征\n",
    "print(feature.columns)"
   ]
  },
  {
   "cell_type": "markdown",
   "metadata": {},
   "source": [
    "### 特征缩放\n",
    "特征缩放是指将各个特征的值标准化。特征缩放的目的是消除特征值域大小对特征重要性的影响，从而让机器学习算法更加准确。\n",
    "\n",
    "我们选择\"Experience\",\"Mortgage\",\"Income\",\"CCAvg\"这几个特征来缩放，其他几个特征的值比较“标准”，无需缩放。\n",
    "\n",
    "经过StandardScaler处理后的特征具有0均值、标准差为1的特点。观察缩放之后的数据集统计信息，可以发现缩放之后的特征均值为0、标准差为1。"
   ]
  },
  {
   "cell_type": "code",
   "execution_count": 17,
   "metadata": {},
   "outputs": [
    {
     "data": {
      "text/html": [
       "<div>\n",
       "<style>\n",
       "    .dataframe thead tr:only-child th {\n",
       "        text-align: right;\n",
       "    }\n",
       "\n",
       "    .dataframe thead th {\n",
       "        text-align: left;\n",
       "    }\n",
       "\n",
       "    .dataframe tbody tr th {\n",
       "        vertical-align: top;\n",
       "    }\n",
       "</style>\n",
       "<table border=\"1\" class=\"dataframe\">\n",
       "  <thead>\n",
       "    <tr style=\"text-align: right;\">\n",
       "      <th></th>\n",
       "      <th>count</th>\n",
       "      <th>mean</th>\n",
       "      <th>std</th>\n",
       "      <th>min</th>\n",
       "      <th>25%</th>\n",
       "      <th>50%</th>\n",
       "      <th>75%</th>\n",
       "      <th>max</th>\n",
       "    </tr>\n",
       "  </thead>\n",
       "  <tbody>\n",
       "    <tr>\n",
       "      <th>Experience</th>\n",
       "      <td>5000.0</td>\n",
       "      <td>1.001421e-16</td>\n",
       "      <td>1.000100</td>\n",
       "      <td>-1.764019</td>\n",
       "      <td>-0.887906</td>\n",
       "      <td>-0.011792</td>\n",
       "      <td>0.864321</td>\n",
       "      <td>2.003268</td>\n",
       "    </tr>\n",
       "    <tr>\n",
       "      <th>Mortgage</th>\n",
       "      <td>5000.0</td>\n",
       "      <td>2.810197e-16</td>\n",
       "      <td>1.000100</td>\n",
       "      <td>-0.555524</td>\n",
       "      <td>-0.555524</td>\n",
       "      <td>-0.555524</td>\n",
       "      <td>0.437558</td>\n",
       "      <td>5.688108</td>\n",
       "    </tr>\n",
       "    <tr>\n",
       "      <th>Income</th>\n",
       "      <td>5000.0</td>\n",
       "      <td>1.939449e-16</td>\n",
       "      <td>1.000100</td>\n",
       "      <td>-1.428969</td>\n",
       "      <td>-0.755483</td>\n",
       "      <td>-0.212348</td>\n",
       "      <td>0.526315</td>\n",
       "      <td>3.263712</td>\n",
       "    </tr>\n",
       "    <tr>\n",
       "      <th>CCAvg</th>\n",
       "      <td>5000.0</td>\n",
       "      <td>1.245670e-17</td>\n",
       "      <td>1.000100</td>\n",
       "      <td>-1.108969</td>\n",
       "      <td>-0.708395</td>\n",
       "      <td>-0.250595</td>\n",
       "      <td>0.321653</td>\n",
       "      <td>4.613520</td>\n",
       "    </tr>\n",
       "    <tr>\n",
       "      <th>Family</th>\n",
       "      <td>5000.0</td>\n",
       "      <td>2.396400e+00</td>\n",
       "      <td>1.147663</td>\n",
       "      <td>1.000000</td>\n",
       "      <td>1.000000</td>\n",
       "      <td>2.000000</td>\n",
       "      <td>3.000000</td>\n",
       "      <td>4.000000</td>\n",
       "    </tr>\n",
       "    <tr>\n",
       "      <th>Education</th>\n",
       "      <td>5000.0</td>\n",
       "      <td>1.881000e+00</td>\n",
       "      <td>0.839869</td>\n",
       "      <td>1.000000</td>\n",
       "      <td>1.000000</td>\n",
       "      <td>2.000000</td>\n",
       "      <td>3.000000</td>\n",
       "      <td>3.000000</td>\n",
       "    </tr>\n",
       "    <tr>\n",
       "      <th>Securities Account</th>\n",
       "      <td>5000.0</td>\n",
       "      <td>1.044000e-01</td>\n",
       "      <td>0.305809</td>\n",
       "      <td>0.000000</td>\n",
       "      <td>0.000000</td>\n",
       "      <td>0.000000</td>\n",
       "      <td>0.000000</td>\n",
       "      <td>1.000000</td>\n",
       "    </tr>\n",
       "    <tr>\n",
       "      <th>CD Account</th>\n",
       "      <td>5000.0</td>\n",
       "      <td>6.040000e-02</td>\n",
       "      <td>0.238250</td>\n",
       "      <td>0.000000</td>\n",
       "      <td>0.000000</td>\n",
       "      <td>0.000000</td>\n",
       "      <td>0.000000</td>\n",
       "      <td>1.000000</td>\n",
       "    </tr>\n",
       "  </tbody>\n",
       "</table>\n",
       "</div>"
      ],
      "text/plain": [
       "                     count          mean       std       min       25%  \\\n",
       "Experience          5000.0  1.001421e-16  1.000100 -1.764019 -0.887906   \n",
       "Mortgage            5000.0  2.810197e-16  1.000100 -0.555524 -0.555524   \n",
       "Income              5000.0  1.939449e-16  1.000100 -1.428969 -0.755483   \n",
       "CCAvg               5000.0  1.245670e-17  1.000100 -1.108969 -0.708395   \n",
       "Family              5000.0  2.396400e+00  1.147663  1.000000  1.000000   \n",
       "Education           5000.0  1.881000e+00  0.839869  1.000000  1.000000   \n",
       "Securities Account  5000.0  1.044000e-01  0.305809  0.000000  0.000000   \n",
       "CD Account          5000.0  6.040000e-02  0.238250  0.000000  0.000000   \n",
       "\n",
       "                         50%       75%       max  \n",
       "Experience         -0.011792  0.864321  2.003268  \n",
       "Mortgage           -0.555524  0.437558  5.688108  \n",
       "Income             -0.212348  0.526315  3.263712  \n",
       "CCAvg              -0.250595  0.321653  4.613520  \n",
       "Family              2.000000  3.000000  4.000000  \n",
       "Education           2.000000  3.000000  3.000000  \n",
       "Securities Account  0.000000  0.000000  1.000000  \n",
       "CD Account          0.000000  0.000000  1.000000  "
      ]
     },
     "execution_count": 17,
     "metadata": {},
     "output_type": "execute_result"
    }
   ],
   "source": [
    "from sklearn.preprocessing import StandardScaler # 特征缩放类\n",
    "scaler = StandardScaler()\n",
    "\n",
    "# 参与缩放的特征\n",
    "colscal=[\"Experience\",\"Mortgage\",\"Income\",\"CCAvg\"]\n",
    "\n",
    "scaler.fit(feature[colscal])\n",
    "scaled_features = pd.DataFrame(scaler.transform(feature[colscal]),columns=colscal)\n",
    "\n",
    "feature = feature.drop(colscal, axis=1)\n",
    "feature = scaled_features.join(feature)\n",
    "\n",
    "# 展示数据集统计信息\n",
    "feature.describe().transpose()"
   ]
  },
  {
   "cell_type": "markdown",
   "metadata": {},
   "source": [
    "### 数据集划分\n",
    "将数据集划分为训练数据和测试数据，我们将测试数据和训练数据的比值设为3:7。返回的X_train和y_train是训练数据的特征值和标签，X_test和y_test是测试数据的特征值和标签。\n",
    "\n",
    "此段无回显。"
   ]
  },
  {
   "cell_type": "code",
   "execution_count": 18,
   "metadata": {},
   "outputs": [],
   "source": [
    "from sklearn.model_selection import train_test_split # 数据集切分函数\n",
    "\n",
    "X_train, X_test, y_train, y_test = train_test_split(feature, target, test_size=0.30, random_state=101)"
   ]
  },
  {
   "cell_type": "markdown",
   "metadata": {},
   "source": [
    "### 查看训练数据集的样本数和特征数\n",
    "\n",
    "可以看到输出为(3500, 8)，说明训练数据集的样本数是3500个，并且特征数是8个。"
   ]
  },
  {
   "cell_type": "code",
   "execution_count": 19,
   "metadata": {},
   "outputs": [
    {
     "data": {
      "text/plain": [
       "(3500, 8)"
      ]
     },
     "execution_count": 19,
     "metadata": {},
     "output_type": "execute_result"
    }
   ],
   "source": [
    "X_train.shape"
   ]
  },
  {
   "cell_type": "markdown",
   "metadata": {},
   "source": [
    "### 导入朴素贝叶斯分类器并创建分类器对象\n",
    "\n",
    "导入的分类器是自己实现的高斯朴素贝叶斯分类器，源码见src目录下的bayes.py文件。\n",
    "\n",
    "朴素贝叶斯算法大家应该比较熟悉，但是简单的朴素贝叶斯算法只能处理离散值，无法处理连续值。而高斯朴素贝叶斯算法假设数据服从高斯分布，这样就可以处理连续值了。\n",
    "\n",
    "此段代码无回显。"
   ]
  },
  {
   "cell_type": "code",
   "execution_count": 20,
   "metadata": {},
   "outputs": [],
   "source": [
    "# 引入分类器\n",
    "from src.bayes import GaussianNB\n",
    "\n",
    "# 新建高斯朴素贝叶斯分类器对象\n",
    "clf_bayes = GaussianNB()"
   ]
  },
  {
   "cell_type": "markdown",
   "metadata": {},
   "source": [
    "### 训练朴素贝叶斯分类器\n",
    "\n",
    "根据训练数据训练一个高斯朴素贝叶斯分类器。源码见src目录下的bayes.py文件，大家可以查看学习。\n",
    "\n",
    "训练完成可以看到日志输出：training done。"
   ]
  },
  {
   "cell_type": "code",
   "execution_count": 21,
   "metadata": {},
   "outputs": [
    {
     "name": "stdout",
     "output_type": "stream",
     "text": [
      "training done.\n"
     ]
    },
    {
     "data": {
      "text/plain": [
       "<src.bayes.GaussianNB at 0x7f32e74c38d0>"
      ]
     },
     "execution_count": 21,
     "metadata": {},
     "output_type": "execute_result"
    }
   ],
   "source": [
    "clf_bayes.fit(X_train, y_train)"
   ]
  },
  {
   "cell_type": "markdown",
   "metadata": {},
   "source": [
    "### 朴素贝叶斯模型评估\n",
    "\n",
    "根据测试集计算模型准确率，评估模型的好坏。\n",
    "\n",
    "可以看到准确率的输出，准确率是0.87。"
   ]
  },
  {
   "cell_type": "code",
   "execution_count": 22,
   "metadata": {},
   "outputs": [
    {
     "name": "stdout",
     "output_type": "stream",
     "text": [
      "Accuracy : 0.878666666667\n"
     ]
    }
   ],
   "source": [
    "# 引入sklearn提供的计算准确率的工具函数\n",
    "from sklearn.metrics import accuracy_score \n",
    "\n",
    "# 计算测试集的预测值\n",
    "y_predict_bayes = clf_bayes.predict(X_test)\n",
    "\n",
    "# 预测值和真实值比对，计算准确率\n",
    "print('Accuracy :',accuracy_score(y_test, y_predict_bayes))"
   ]
  },
  {
   "cell_type": "markdown",
   "metadata": {},
   "source": [
    "这是朴素贝叶斯分类器的预测结果，我们发现准确率并不是很高。接下来我们尝试训练其他的机器学习分类器，并对比效果。"
   ]
  },
  {
   "cell_type": "markdown",
   "metadata": {},
   "source": [
    "### 导入并创建SVM分类器\n",
    "SVM即支持向量机，是机器学习的经典算法之一。我们使用开源机器学习框架sklearn提供的SVM分类器。\n",
    "\n",
    "此段代码无回显。"
   ]
  },
  {
   "cell_type": "code",
   "execution_count": 23,
   "metadata": {},
   "outputs": [],
   "source": [
    "from sklearn.svm import SVC\n",
    "clf_svc = SVC(gamma='auto')"
   ]
  },
  {
   "cell_type": "markdown",
   "metadata": {},
   "source": [
    "### 训练SVM分类器\n",
    "\n",
    "代码执行完成会输出一个训练好的SVM分类器对象。"
   ]
  },
  {
   "cell_type": "code",
   "execution_count": 24,
   "metadata": {},
   "outputs": [
    {
     "data": {
      "text/plain": [
       "SVC(C=1.0, cache_size=200, class_weight=None, coef0=0.0,\n",
       "  decision_function_shape=None, degree=3, gamma='auto', kernel='rbf',\n",
       "  max_iter=-1, probability=False, random_state=None, shrinking=True,\n",
       "  tol=0.001, verbose=False)"
      ]
     },
     "execution_count": 24,
     "metadata": {},
     "output_type": "execute_result"
    }
   ],
   "source": [
    "clf_svc.fit(X_train, y_train)"
   ]
  },
  {
   "cell_type": "markdown",
   "metadata": {},
   "source": [
    "### 评估SVM分类器\n",
    "\n",
    "可以看到SVM分类器的准确率是0.97"
   ]
  },
  {
   "cell_type": "code",
   "execution_count": 25,
   "metadata": {},
   "outputs": [
    {
     "name": "stdout",
     "output_type": "stream",
     "text": [
      "Accuracy : 0.976666666667\n"
     ]
    }
   ],
   "source": [
    "# 计算测试集的预测值\n",
    "y_predict_svc = clf_svc.predict(X_test)\n",
    "\n",
    "\n",
    "# 预测值和真实值比对，计算准确率\n",
    "print('Accuracy :',accuracy_score(y_test, y_predict_svc))"
   ]
  },
  {
   "cell_type": "markdown",
   "metadata": {},
   "source": [
    "### 保存模型文件至OBS\n",
    "\n",
    "我们将SVM分类器训练得到的模型文件保存至OBS，方便以后再使用。"
   ]
  },
  {
   "cell_type": "markdown",
   "metadata": {},
   "source": [
    "#### 导出模型文件\n",
    "\n",
    "训练得到模型可以导出至本地。会打印出保存的本地路径。"
   ]
  },
  {
   "cell_type": "code",
   "execution_count": 26,
   "metadata": {},
   "outputs": [
    {
     "data": {
      "text/plain": [
       "['results/train_model_svc.m']"
      ]
     },
     "execution_count": 26,
     "metadata": {},
     "output_type": "execute_result"
    }
   ],
   "source": [
    "from sklearn.externals import joblib\n",
    "import os\n",
    "\n",
    "if not os.path.exists('results'):\n",
    "    os.mkdir('results') # 创建本地保存路径\n",
    "\n",
    "joblib.dump(clf_svc, \"results/train_model_svc.m\") # 导出模型文件至本地"
   ]
  },
  {
   "cell_type": "markdown",
   "metadata": {},
   "source": [
    "#### 上传模型文件至OBS\n",
    "\n",
    "使用ModelArts SDK上传本地模型文件至OBS。可以看到上传成功的日志。"
   ]
  },
  {
   "cell_type": "code",
   "execution_count": 27,
   "metadata": {},
   "outputs": [
    {
     "name": "stdout",
     "output_type": "stream",
     "text": [
      "Successfully upload file ./results/train_model_svc.m to OBS xuchao3/user2/bank_loan_prediction/results\n"
     ]
    }
   ],
   "source": [
    "session.upload_data(bucket_path=OBS_BASE_PATH + '/bank_loan_prediction/results/', path='./results/train_model_svc.m')"
   ]
  },
  {
   "cell_type": "markdown",
   "metadata": {},
   "source": [
    "<p style=\"font-family: Arial; font-size:1.4em;color:gold;\">总结：该案例所在的OBS存储路径下，results目录下，有模型文件train_model_svc.m。</p>"
   ]
  },
  {
   "cell_type": "markdown",
   "metadata": {},
   "source": [
    "通过朴素贝叶斯分类器和SVM分类器的准确率比较，发现前者比后者的准确率低了一些。虽然朴素贝叶斯分类器的准确率比其他分类器的效果要差些，但是朴素贝叶斯分类器也有优点，主要有以下几点：\n",
    "\n",
    "1.朴素贝叶斯模型发源于古典数学理论，有稳定的分类效率。\n",
    "\n",
    "2.对小规模的数据表现很好，能处理多分类任务，适合增量式训练，尤其是数据量超出内存时，我们可以一批批的去增量训练。\n",
    "\n",
    "3.对缺失数据不太敏感，算法也比较简单。"
   ]
  }
 ],
 "metadata": {
  "kernelspec": {
   "display_name": "XGBoost-Sklearn",
   "language": "python",
   "name": "xgboost-sklearn"
  },
  "language_info": {
   "codemirror_mode": {
    "name": "ipython",
    "version": 3
   },
   "file_extension": ".py",
   "mimetype": "text/x-python",
   "name": "python",
   "nbconvert_exporter": "python",
   "pygments_lexer": "ipython3",
   "version": "3.6.4"
  }
 },
 "nbformat": 4,
 "nbformat_minor": 2
}
