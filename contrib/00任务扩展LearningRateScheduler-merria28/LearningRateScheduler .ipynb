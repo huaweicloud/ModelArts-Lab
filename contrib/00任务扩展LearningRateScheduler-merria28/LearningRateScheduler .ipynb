{
 "cells": [
  {
   "cell_type": "code",
   "execution_count": 1,
   "metadata": {
    "scrolled": true
   },
   "outputs": [
    {
     "name": "stdout",
     "output_type": "stream",
     "text": [
      "Looking in indexes: http://repo.myhuaweicloud.com/repository/pypi/simple\n",
      "Collecting keras_applications==1.0.6\n",
      "\u001b[?25l  Downloading http://repo.myhuaweicloud.com/repository/pypi/packages/3f/c4/2ff40221029f7098d58f8d7fb99b97e8100f3293f9856f0fb5834bef100b/Keras_Applications-1.0.6-py2.py3-none-any.whl (44kB)\n",
      "\u001b[K     |████████████████████████████████| 51kB 60.2MB/s eta 0:00:01\n",
      "\u001b[?25hCollecting keras==2.2.4\n",
      "\u001b[?25l  Downloading http://repo.myhuaweicloud.com/repository/pypi/packages/5e/10/aa32dad071ce52b5502266b5c659451cfd6ffcbf14e6c8c4f16c0ff5aaab/Keras-2.2.4-py2.py3-none-any.whl (312kB)\n",
      "\u001b[K     |████████████████████████████████| 317kB 58.4MB/s eta 0:00:01\n",
      "\u001b[?25hRequirement already satisfied, skipping upgrade: h5py in /home/ma-user/anaconda3/envs/TensorFlow-1.13.1/lib/python3.6/site-packages (from keras_applications==1.0.6) (2.8.0)\n",
      "Requirement already satisfied, skipping upgrade: numpy>=1.9.1 in /home/ma-user/anaconda3/envs/TensorFlow-1.13.1/lib/python3.6/site-packages (from keras_applications==1.0.6) (1.16.2)\n",
      "Requirement already satisfied, skipping upgrade: scipy>=0.14 in /home/ma-user/anaconda3/envs/TensorFlow-1.13.1/lib/python3.6/site-packages (from keras==2.2.4) (1.0.0)\n",
      "Collecting keras-preprocessing>=1.0.5 (from keras==2.2.4)\n",
      "\u001b[?25l  Downloading http://repo.myhuaweicloud.com/repository/pypi/packages/28/6a/8c1f62c37212d9fc441a7e26736df51ce6f0e38455816445471f10da4f0a/Keras_Preprocessing-1.1.0-py2.py3-none-any.whl (41kB)\n",
      "\u001b[K     |████████████████████████████████| 51kB 58.3MB/s eta 0:00:01\n",
      "\u001b[?25hRequirement already satisfied, skipping upgrade: pyyaml in /home/ma-user/anaconda3/envs/TensorFlow-1.13.1/lib/python3.6/site-packages (from keras==2.2.4) (3.12)\n",
      "Requirement already satisfied, skipping upgrade: six>=1.9.0 in /home/ma-user/modelarts-sdk (from keras==2.2.4) (1.12.0)\n",
      "Installing collected packages: keras-applications, keras-preprocessing, keras\n",
      "  Found existing installation: Keras-Applications 1.0.2\n",
      "    Uninstalling Keras-Applications-1.0.2:\n",
      "      Successfully uninstalled Keras-Applications-1.0.2\n",
      "  Found existing installation: Keras-Preprocessing 1.0.1\n",
      "    Uninstalling Keras-Preprocessing-1.0.1:\n",
      "      Successfully uninstalled Keras-Preprocessing-1.0.1\n",
      "  Found existing installation: Keras 2.2.0\n",
      "    Uninstalling Keras-2.2.0:\n",
      "      Successfully uninstalled Keras-2.2.0\n",
      "Successfully installed keras-2.2.4 keras-applications-1.0.6 keras-preprocessing-1.1.0\n",
      "\u001b[33mWARNING: You are using pip version 19.1.1, however version 19.2.1 is available.\n",
      "You should consider upgrading via the 'pip install --upgrade pip' command.\u001b[0m\n"
     ]
    }
   ],
   "source": [
    "!pip install --upgrade keras_applications==1.0.6 keras==2.2.4"
   ]
  },
  {
   "cell_type": "code",
   "execution_count": 2,
   "metadata": {},
   "outputs": [
    {
     "name": "stdout",
     "output_type": "stream",
     "text": [
      "Successfully download file modelarts-labs/end2end/image_recognition/dog_and_cat_25000.tar.gz from OBS to local ./dog_and_cat_25000.tar.gz\n"
     ]
    }
   ],
   "source": [
    "import os\n",
    "if os.path.exists('./data') == False:\n",
    "    from modelarts.session import Session\n",
    "    session = Session()\n",
    "\n",
    "    session.download_data(\n",
    "        bucket_path=\"modelarts-labs/end2end/image_recognition/dog_and_cat_25000.tar.gz\",\n",
    "        path=\"./dog_and_cat_25000.tar.gz\")\n",
    "\n",
    "    # 使用tar命令解压资源包\n",
    "    !tar xf ./dog_and_cat_25000.tar.gz\n",
    "\n",
    "    # 清理压缩包\n",
    "    !rm -f ./dog_and_cat_25000.tar.gz"
   ]
  },
  {
   "cell_type": "code",
   "execution_count": 3,
   "metadata": {},
   "outputs": [
    {
     "name": "stderr",
     "output_type": "stream",
     "text": [
      "Using TensorFlow backend.\n"
     ]
    }
   ],
   "source": [
    "!mkdir model\n",
    "\n",
    "from keras.applications.vgg16 import VGG16\n",
    "from keras.preprocessing import image\n",
    "import numpy as np\n",
    "\n",
    "from keras.preprocessing import image\n",
    "from keras.models import Model\n",
    "from keras.layers import Dense, GlobalAveragePooling2D\n",
    "from keras import backend as K\n",
    "from keras.models import load_model\n",
    "\n",
    "from keras.preprocessing.image import ImageDataGenerator"
   ]
  },
  {
   "cell_type": "code",
   "execution_count": 38,
   "metadata": {},
   "outputs": [
    {
     "name": "stdout",
     "output_type": "stream",
     "text": [
      "(25000, 224, 224, 3)\n",
      "(25000, 1)\n"
     ]
    }
   ],
   "source": [
    "import os\n",
    "from PIL import Image\n",
    "def load_data():\n",
    "    dirname = \"./data\"\n",
    "    path = \"./data\"\n",
    "\n",
    "    num_train_samples = 25000\n",
    "\n",
    "    x_train = np.empty((num_train_samples, 224,224,3), dtype='uint8')\n",
    "    y_train = np.empty((num_train_samples,1), dtype='uint8')\n",
    "    index = 0\n",
    "    for file in os.listdir(\"./data\"):\n",
    "        image = Image.open(os.path.join(dirname,file)).resize((224,224))\n",
    "        image = np.array(image)\n",
    "        x_train[index,:,:,:] = image\n",
    "\n",
    "        if \"cat\" in file:\n",
    "            y_train[index,0] =1\n",
    "        elif \"dog\" in file:\n",
    "            y_train[index,0] =0\n",
    "\n",
    "        index += 1\n",
    "    return (x_train, y_train)\n",
    "\n",
    "(x_train, y_train) = load_data()\n",
    "print(x_train.shape)\n",
    "print(y_train.shape)"
   ]
  },
  {
   "cell_type": "code",
   "execution_count": 39,
   "metadata": {},
   "outputs": [
    {
     "name": "stdout",
     "output_type": "stream",
     "text": [
      "(25000, 224, 224, 3)\n",
      "(25000, 2)\n"
     ]
    }
   ],
   "source": [
    "from keras.utils import np_utils\n",
    "def process_data(x_train,y_train):\n",
    "    x_train = x_train.astype(np.float32)\n",
    "    x_train /= 255\n",
    "    n_classes = 2\n",
    "    y_train = np_utils.to_categorical(y_train, n_classes)\n",
    "    return x_train,y_train\n",
    "\n",
    "x_train,y_train= process_data(x_train,y_train)\n",
    "print(x_train.shape)\n",
    "print(y_train.shape)"
   ]
  },
  {
   "cell_type": "code",
   "execution_count": 48,
   "metadata": {},
   "outputs": [],
   "source": [
    "def build_model(base_model):\n",
    "    x = base_model.output\n",
    "    x = GlobalAveragePooling2D()(x)\n",
    "    predictions = Dense(2, activation='softmax')(x)\n",
    "    model = Model(inputs=base_model.input, outputs=predictions)\n",
    "    print(type(model))\n",
    "    return model\n",
    "\n",
    "base_model = VGG16(weights=None, include_top=False)\n"
   ]
  },
  {
   "cell_type": "code",
   "execution_count": 49,
   "metadata": {},
   "outputs": [
    {
     "name": "stdout",
     "output_type": "stream",
     "text": [
      "<class 'keras.engine.training.Model'>\n"
     ]
    }
   ],
   "source": [
    "model = build_model(base_model)"
   ]
  },
  {
   "cell_type": "code",
   "execution_count": 50,
   "metadata": {},
   "outputs": [],
   "source": [
    "lr_base = 0.0001\n",
    "epochs = 50\n",
    "lr_power = 0.9\n",
    "\n",
    "import keras \n",
    "opt = keras.optimizers.adadelta(lr=lr_base, decay=1e-6)\n",
    "model.compile(loss='binary_crossentropy',\n",
    "              optimizer=opt,\n",
    "              metrics=['accuracy'])"
   ]
  },
  {
   "cell_type": "code",
   "execution_count": 51,
   "metadata": {},
   "outputs": [],
   "source": [
    "import math\n",
    "from keras.callbacks import ModelCheckpoint, EarlyStopping, ReduceLROnPlateau, LearningRateScheduler\n",
    "es = EarlyStopping(monitor='val_acc', min_delta=0.001, patience=5, verbose=1, mode='auto')\n",
    "cp = ModelCheckpoint(filepath=\"./model/ckp_vgg16_dog_and_cat.h5\", monitor=\"val_acc\", verbose=1, save_best_only=True, mode=\"auto\", period=1)\n",
    "\n",
    "lr_reducer  = ReduceLROnPlateau(monitor=\"val_acc\", factor=0.1, patience=3, verbose=1, mode=\"auto\", min_lr=0)\n",
    "\n",
    "\n",
    "def step_decay(epoch,lr=lr_base):\n",
    "    initial_lrate = 0.01\n",
    "    drop = 0.5\n",
    "    epochs_drop = 10.0\n",
    "    lrate = initial_lrate * math.pow(drop,math.floor((1+epoch)/epochs_drop))\n",
    "    return lrate\n",
    "\n",
    "\n",
    "def lr_scheduler(epoch, mode='power_decay'):\n",
    "    '''if lr_dict.has_key(epoch):\n",
    "        lr = lr_dict[epoch]\n",
    "        print 'lr: %f' % lr'''\n",
    "\n",
    "    if mode is 'power_decay':\n",
    "        # original lr scheduler\n",
    "        lr = lr_base * ((1 - float(epoch) / epochs) ** lr_power)\n",
    "    if mode is 'exp_decay':\n",
    "        # exponential decay\n",
    "        lr = (float(lr_base) ** float(lr_power)) ** float(epoch + 1)\n",
    "    # adam default lr\n",
    "    if mode is 'adam':\n",
    "        lr = 0.001\n",
    "\n",
    "    if mode is 'progressive_drops':\n",
    "        # drops as progression proceeds, good for sgd\n",
    "        if epoch > 0.9 * epochs:\n",
    "            lr = 0.0001\n",
    "        elif epoch > 0.75 * epochs:\n",
    "            lr = 0.001\n",
    "        elif epoch > 0.5 * epochs:\n",
    "            lr = 0.01\n",
    "        else:\n",
    "            lr = 0.1\n",
    "\n",
    "    print('lr: %f' % lr)\n",
    "    return lr\n",
    "\n",
    "lr_scheduler = LearningRateScheduler(step_decay)\n",
    "\n",
    "callbacks = [es,cp,lr_reducer,lr_scheduler]"
   ]
  },
  {
   "cell_type": "code",
   "execution_count": 52,
   "metadata": {},
   "outputs": [
    {
     "name": "stdout",
     "output_type": "stream",
     "text": [
      "Train on 18750 samples, validate on 6250 samples\n",
      "Epoch 1/50\n",
      "18750/18750 [==============================] - 172s 9ms/step - loss: 0.6929 - acc: 0.5105 - val_loss: 0.6926 - val_acc: 0.5072\n",
      "\n",
      "Epoch 00001: val_acc improved from -inf to 0.50720, saving model to ./model/ckp_vgg16_dog_and_cat.h5\n",
      "Epoch 2/50\n",
      "18750/18750 [==============================] - 168s 9ms/step - loss: 0.6916 - acc: 0.5397 - val_loss: 0.6930 - val_acc: 0.4933\n",
      "\n",
      "Epoch 00002: val_acc did not improve from 0.50720\n",
      "Epoch 3/50\n",
      "18750/18750 [==============================] - 168s 9ms/step - loss: 0.6824 - acc: 0.5659 - val_loss: 0.6638 - val_acc: 0.6104\n",
      "\n",
      "Epoch 00003: val_acc improved from 0.50720 to 0.61040, saving model to ./model/ckp_vgg16_dog_and_cat.h5\n",
      "Epoch 4/50\n",
      "18750/18750 [==============================] - 167s 9ms/step - loss: 0.6605 - acc: 0.5962 - val_loss: 0.6504 - val_acc: 0.6131\n",
      "\n",
      "Epoch 00004: val_acc improved from 0.61040 to 0.61312, saving model to ./model/ckp_vgg16_dog_and_cat.h5\n",
      "Epoch 5/50\n",
      "18750/18750 [==============================] - 168s 9ms/step - loss: 0.6502 - acc: 0.6042 - val_loss: 0.6426 - val_acc: 0.6142\n",
      "\n",
      "Epoch 00005: val_acc improved from 0.61312 to 0.61424, saving model to ./model/ckp_vgg16_dog_and_cat.h5\n",
      "Epoch 6/50\n",
      "18750/18750 [==============================] - 168s 9ms/step - loss: 0.6390 - acc: 0.6180 - val_loss: 0.6293 - val_acc: 0.6373\n",
      "\n",
      "Epoch 00006: val_acc improved from 0.61424 to 0.63728, saving model to ./model/ckp_vgg16_dog_and_cat.h5\n",
      "Epoch 7/50\n",
      "18750/18750 [==============================] - 168s 9ms/step - loss: 0.6282 - acc: 0.6345 - val_loss: 0.6150 - val_acc: 0.6458\n",
      "\n",
      "Epoch 00007: val_acc improved from 0.63728 to 0.64576, saving model to ./model/ckp_vgg16_dog_and_cat.h5\n",
      "Epoch 8/50\n",
      "18750/18750 [==============================] - 169s 9ms/step - loss: 0.6155 - acc: 0.6485 - val_loss: 0.6621 - val_acc: 0.5803\n",
      "\n",
      "Epoch 00008: val_acc did not improve from 0.64576\n",
      "Epoch 9/50\n",
      "18750/18750 [==============================] - 169s 9ms/step - loss: 0.6028 - acc: 0.6663 - val_loss: 0.5946 - val_acc: 0.6694\n",
      "\n",
      "Epoch 00009: val_acc improved from 0.64576 to 0.66944, saving model to ./model/ckp_vgg16_dog_and_cat.h5\n",
      "Epoch 10/50\n",
      "18750/18750 [==============================] - 167s 9ms/step - loss: 0.5785 - acc: 0.6929 - val_loss: 0.5577 - val_acc: 0.7200\n",
      "\n",
      "Epoch 00010: val_acc improved from 0.66944 to 0.72000, saving model to ./model/ckp_vgg16_dog_and_cat.h5\n",
      "Epoch 11/50\n",
      "18750/18750 [==============================] - 168s 9ms/step - loss: 0.5644 - acc: 0.7026 - val_loss: 0.5540 - val_acc: 0.7198\n",
      "\n",
      "Epoch 00011: val_acc did not improve from 0.72000\n",
      "Epoch 12/50\n",
      "18750/18750 [==============================] - 168s 9ms/step - loss: 0.5532 - acc: 0.7159 - val_loss: 0.5358 - val_acc: 0.7350\n",
      "\n",
      "Epoch 00012: val_acc improved from 0.72000 to 0.73504, saving model to ./model/ckp_vgg16_dog_and_cat.h5\n",
      "Epoch 13/50\n",
      "18750/18750 [==============================] - 168s 9ms/step - loss: 0.5455 - acc: 0.7245 - val_loss: 0.5333 - val_acc: 0.7269\n",
      "\n",
      "Epoch 00013: val_acc did not improve from 0.73504\n",
      "Epoch 14/50\n",
      "18750/18750 [==============================] - 170s 9ms/step - loss: 0.5380 - acc: 0.7276 - val_loss: 0.5620 - val_acc: 0.7141\n",
      "\n",
      "Epoch 00014: val_acc did not improve from 0.73504\n",
      "Epoch 15/50\n",
      "18750/18750 [==============================] - 170s 9ms/step - loss: 0.5304 - acc: 0.7357 - val_loss: 0.5164 - val_acc: 0.7533\n",
      "\n",
      "Epoch 00015: val_acc improved from 0.73504 to 0.75328, saving model to ./model/ckp_vgg16_dog_and_cat.h5\n",
      "Epoch 16/50\n",
      "18750/18750 [==============================] - 169s 9ms/step - loss: 0.5256 - acc: 0.7386 - val_loss: 0.5163 - val_acc: 0.7477\n",
      "\n",
      "Epoch 00016: val_acc did not improve from 0.75328\n",
      "Epoch 17/50\n",
      "18750/18750 [==============================] - 169s 9ms/step - loss: 0.5181 - acc: 0.7451 - val_loss: 0.5669 - val_acc: 0.7035\n",
      "\n",
      "Epoch 00017: val_acc did not improve from 0.75328\n",
      "Epoch 18/50\n",
      "18750/18750 [==============================] - 168s 9ms/step - loss: 0.5134 - acc: 0.7467 - val_loss: 0.5015 - val_acc: 0.7614\n",
      "\n",
      "Epoch 00018: val_acc improved from 0.75328 to 0.76144, saving model to ./model/ckp_vgg16_dog_and_cat.h5\n",
      "Epoch 19/50\n",
      "18750/18750 [==============================] - 168s 9ms/step - loss: 0.5078 - acc: 0.7529 - val_loss: 0.4910 - val_acc: 0.7696\n",
      "\n",
      "Epoch 00019: val_acc improved from 0.76144 to 0.76960, saving model to ./model/ckp_vgg16_dog_and_cat.h5\n",
      "Epoch 20/50\n",
      "18750/18750 [==============================] - 168s 9ms/step - loss: 0.4879 - acc: 0.7673 - val_loss: 0.5145 - val_acc: 0.7459\n",
      "\n",
      "Epoch 00020: val_acc did not improve from 0.76960\n",
      "Epoch 21/50\n",
      "18750/18750 [==============================] - 168s 9ms/step - loss: 0.4829 - acc: 0.7731 - val_loss: 0.4836 - val_acc: 0.7722\n",
      "\n",
      "Epoch 00021: val_acc improved from 0.76960 to 0.77216, saving model to ./model/ckp_vgg16_dog_and_cat.h5\n",
      "Epoch 22/50\n",
      "18750/18750 [==============================] - 168s 9ms/step - loss: 0.4790 - acc: 0.7739 - val_loss: 0.5099 - val_acc: 0.7528\n",
      "\n",
      "Epoch 00022: val_acc did not improve from 0.77216\n",
      "Epoch 23/50\n",
      "18750/18750 [==============================] - 167s 9ms/step - loss: 0.4762 - acc: 0.7774 - val_loss: 0.5189 - val_acc: 0.7414\n",
      "\n",
      "Epoch 00023: val_acc did not improve from 0.77216\n",
      "Epoch 24/50\n",
      "18750/18750 [==============================] - 167s 9ms/step - loss: 0.4712 - acc: 0.7812 - val_loss: 0.4827 - val_acc: 0.7702\n",
      "\n",
      "Epoch 00024: val_acc did not improve from 0.77216\n",
      "\n",
      "Epoch 00024: ReduceLROnPlateau reducing learning rate to 0.00024999999441206456.\n",
      "Epoch 25/50\n",
      "18750/18750 [==============================] - 167s 9ms/step - loss: 0.4668 - acc: 0.7823 - val_loss: 0.4700 - val_acc: 0.7829\n",
      "\n",
      "Epoch 00025: val_acc improved from 0.77216 to 0.78288, saving model to ./model/ckp_vgg16_dog_and_cat.h5\n",
      "Epoch 26/50\n",
      "18750/18750 [==============================] - 168s 9ms/step - loss: 0.4633 - acc: 0.7851 - val_loss: 0.4701 - val_acc: 0.7834\n",
      "\n",
      "Epoch 00026: val_acc improved from 0.78288 to 0.78336, saving model to ./model/ckp_vgg16_dog_and_cat.h5\n",
      "Epoch 27/50\n",
      "18750/18750 [==============================] - 167s 9ms/step - loss: 0.4614 - acc: 0.7879 - val_loss: 0.4716 - val_acc: 0.7802\n",
      "\n",
      "Epoch 00027: val_acc did not improve from 0.78336\n",
      "Epoch 28/50\n",
      "18750/18750 [==============================] - 167s 9ms/step - loss: 0.4568 - acc: 0.7885 - val_loss: 0.4858 - val_acc: 0.7674\n",
      "\n",
      "Epoch 00028: val_acc did not improve from 0.78336\n",
      "Epoch 29/50\n",
      "18750/18750 [==============================] - 167s 9ms/step - loss: 0.4524 - acc: 0.7899 - val_loss: 0.5152 - val_acc: 0.7536\n",
      "\n",
      "Epoch 00029: val_acc did not improve from 0.78336\n",
      "\n",
      "Epoch 00029: ReduceLROnPlateau reducing learning rate to 0.00024999999441206456.\n",
      "Epoch 30/50\n",
      "18750/18750 [==============================] - 167s 9ms/step - loss: 0.4384 - acc: 0.8030 - val_loss: 0.4508 - val_acc: 0.7930\n",
      "\n",
      "Epoch 00030: val_acc improved from 0.78336 to 0.79296, saving model to ./model/ckp_vgg16_dog_and_cat.h5\n",
      "Epoch 31/50\n",
      "18750/18750 [==============================] - 168s 9ms/step - loss: 0.4355 - acc: 0.8035 - val_loss: 0.4538 - val_acc: 0.7938\n",
      "\n",
      "Epoch 00031: val_acc improved from 0.79296 to 0.79376, saving model to ./model/ckp_vgg16_dog_and_cat.h5\n",
      "Epoch 32/50\n",
      "18750/18750 [==============================] - 169s 9ms/step - loss: 0.4324 - acc: 0.8069 - val_loss: 0.4428 - val_acc: 0.8013\n",
      "\n",
      "Epoch 00032: val_acc improved from 0.79376 to 0.80128, saving model to ./model/ckp_vgg16_dog_and_cat.h5\n",
      "Epoch 33/50\n",
      "18750/18750 [==============================] - 168s 9ms/step - loss: 0.4293 - acc: 0.8071 - val_loss: 0.4398 - val_acc: 0.8034\n",
      "\n",
      "Epoch 00033: val_acc improved from 0.80128 to 0.80336, saving model to ./model/ckp_vgg16_dog_and_cat.h5\n",
      "Epoch 34/50\n",
      "18750/18750 [==============================] - 167s 9ms/step - loss: 0.4283 - acc: 0.8078 - val_loss: 0.4370 - val_acc: 0.8067\n",
      "\n",
      "Epoch 00034: val_acc improved from 0.80336 to 0.80672, saving model to ./model/ckp_vgg16_dog_and_cat.h5\n",
      "Epoch 35/50\n",
      "18750/18750 [==============================] - 167s 9ms/step - loss: 0.4247 - acc: 0.8089 - val_loss: 0.4330 - val_acc: 0.8088\n",
      "\n",
      "Epoch 00035: val_acc improved from 0.80672 to 0.80880, saving model to ./model/ckp_vgg16_dog_and_cat.h5\n",
      "Epoch 36/50\n",
      "18750/18750 [==============================] - 168s 9ms/step - loss: 0.4230 - acc: 0.8113 - val_loss: 0.4367 - val_acc: 0.8010\n",
      "\n",
      "Epoch 00036: val_acc did not improve from 0.80880\n",
      "Epoch 37/50\n",
      "18750/18750 [==============================] - 169s 9ms/step - loss: 0.4198 - acc: 0.8123 - val_loss: 0.4332 - val_acc: 0.8053\n",
      "\n",
      "Epoch 00037: val_acc did not improve from 0.80880\n",
      "Epoch 38/50\n",
      "18750/18750 [==============================] - 167s 9ms/step - loss: 0.4178 - acc: 0.8137 - val_loss: 0.4317 - val_acc: 0.8098\n",
      "\n",
      "Epoch 00038: val_acc improved from 0.80880 to 0.80976, saving model to ./model/ckp_vgg16_dog_and_cat.h5\n",
      "Epoch 39/50\n",
      "18750/18750 [==============================] - 168s 9ms/step - loss: 0.4149 - acc: 0.8171 - val_loss: 0.4255 - val_acc: 0.8101\n",
      "\n",
      "Epoch 00039: val_acc improved from 0.80976 to 0.81008, saving model to ./model/ckp_vgg16_dog_and_cat.h5\n",
      "Epoch 40/50\n",
      "18750/18750 [==============================] - 169s 9ms/step - loss: 0.4066 - acc: 0.8215 - val_loss: 0.4296 - val_acc: 0.8077\n",
      "\n",
      "Epoch 00040: val_acc did not improve from 0.81008\n",
      "Epoch 41/50\n",
      "18750/18750 [==============================] - 167s 9ms/step - loss: 0.4047 - acc: 0.8229 - val_loss: 0.4208 - val_acc: 0.8160\n",
      "\n",
      "Epoch 00041: val_acc improved from 0.81008 to 0.81600, saving model to ./model/ckp_vgg16_dog_and_cat.h5\n",
      "Epoch 42/50\n",
      "18750/18750 [==============================] - 169s 9ms/step - loss: 0.4036 - acc: 0.8228 - val_loss: 0.4202 - val_acc: 0.8139\n",
      "\n",
      "Epoch 00042: val_acc did not improve from 0.81600\n",
      "Epoch 43/50\n",
      "18750/18750 [==============================] - 168s 9ms/step - loss: 0.4019 - acc: 0.8237 - val_loss: 0.4346 - val_acc: 0.8048\n",
      "\n",
      "Epoch 00043: val_acc did not improve from 0.81600\n",
      "Epoch 44/50\n",
      "18750/18750 [==============================] - 166s 9ms/step - loss: 0.4002 - acc: 0.8246 - val_loss: 0.4241 - val_acc: 0.8115\n",
      "\n",
      "Epoch 00044: val_acc did not improve from 0.81600\n",
      "\n",
      "Epoch 00044: ReduceLROnPlateau reducing learning rate to 6.249999860301614e-05.\n",
      "Epoch 45/50\n",
      "18750/18750 [==============================] - 166s 9ms/step - loss: 0.3988 - acc: 0.8269 - val_loss: 0.4226 - val_acc: 0.8118\n",
      "\n",
      "Epoch 00045: val_acc did not improve from 0.81600\n",
      "Epoch 46/50\n",
      "18750/18750 [==============================] - 167s 9ms/step - loss: 0.3976 - acc: 0.8266 - val_loss: 0.4189 - val_acc: 0.8141\n",
      "\n",
      "Epoch 00046: val_acc did not improve from 0.81600\n",
      "Epoch 00046: early stopping\n"
     ]
    }
   ],
   "source": [
    "history = model.fit(x=x_train, \n",
    "                  y=y_train, \n",
    "                  batch_size=16, \n",
    "                  epochs=epochs, \n",
    "                  verbose=1, \n",
    "                  callbacks=callbacks, \n",
    "                  validation_split=0.25, \n",
    "                  shuffle=True, \n",
    "                  initial_epoch=0, \n",
    "                 )"
   ]
  },
  {
   "cell_type": "code",
   "execution_count": 53,
   "metadata": {},
   "outputs": [
    {
     "data": {
      "image/png": "[encoded data removed]",
      "text/plain": [
       "<Figure size 432x288 with 1 Axes>"
      ]
     },
     "metadata": {},
     "output_type": "display_data"
    }
   ],
   "source": [
    "import matplotlib.pyplot as plt\n",
    "\n",
    "# 绘制训练 & 验证的准确率值\n",
    "plt.plot(history.history['acc'])\n",
    "plt.plot(history.history['val_acc'])\n",
    "plt.title('Model accuracy')\n",
    "plt.ylabel('Accuracy')\n",
    "plt.xlabel('Epoch')\n",
    "plt.legend(['Train', 'Test'], loc='upper left')\n",
    "plt.show()"
   ]
  },
  {
   "cell_type": "code",
   "execution_count": 54,
   "metadata": {
    "scrolled": true
   },
   "outputs": [
    {
     "data": {
      "image/png": "[encoded data removed]",
      "text/plain": [
       "<Figure size 432x288 with 1 Axes>"
      ]
     },
     "metadata": {},
     "output_type": "display_data"
    }
   ],
   "source": [
    "# 绘制训练 & 验证的损失值\n",
    "plt.plot(history.history['loss'])\n",
    "plt.plot(history.history['val_loss'])\n",
    "plt.title('Model loss')\n",
    "plt.ylabel('Loss')\n",
    "plt.xlabel('Epoch')\n",
    "plt.legend(['Train', 'Test'], loc='upper left')\n",
    "plt.show()"
   ]
  },
  {
   "cell_type": "code",
   "execution_count": 55,
   "metadata": {},
   "outputs": [],
   "source": [
    "es = EarlyStopping(monitor='val_acc', min_delta=0.001, patience=2, verbose=1, mode='auto')\n",
    "cp = ModelCheckpoint(filepath=\"./model/ckp_vgg16_dog_and_cat.h5\", monitor=\"val_acc\", verbose=1, save_best_only=True, mode=\"auto\", period=1)\n",
    "lr = ReduceLROnPlateau(monitor=\"val_acc\", factor=0.1, patience=3, verbose=1, mode=\"auto\", min_lr=0)\n",
    "callbacks = [es,cp,lr]"
   ]
  },
  {
   "cell_type": "code",
   "execution_count": 56,
   "metadata": {},
   "outputs": [
    {
     "name": "stdout",
     "output_type": "stream",
     "text": [
      "Train on 18750 samples, validate on 6250 samples\n",
      "Epoch 1/20\n",
      "18750/18750 [==============================] - 169s 9ms/step - loss: 0.3956 - acc: 0.8274 - val_loss: 0.4130 - val_acc: 0.8202\n",
      "\n",
      "Epoch 00001: val_acc improved from -inf to 0.82016, saving model to ./model/ckp_vgg16_dog_and_cat.h5\n",
      "Epoch 2/20\n",
      "18750/18750 [==============================] - 168s 9ms/step - loss: 0.3945 - acc: 0.8278 - val_loss: 0.4129 - val_acc: 0.8198\n",
      "\n",
      "Epoch 00002: val_acc did not improve from 0.82016\n",
      "Epoch 3/20\n",
      "18750/18750 [==============================] - 167s 9ms/step - loss: 0.3930 - acc: 0.8284 - val_loss: 0.4317 - val_acc: 0.8026\n",
      "\n",
      "Epoch 00003: val_acc did not improve from 0.82016\n",
      "Epoch 00003: early stopping\n"
     ]
    }
   ],
   "source": [
    "history_steps_15 = model.fit(x=x_train, \n",
    "                  y=y_train, \n",
    "                  batch_size=16, \n",
    "                  epochs=20, \n",
    "                  verbose=1, \n",
    "                  callbacks=callbacks, \n",
    "                  validation_split=0.25, \n",
    "                  shuffle=True, \n",
    "                  initial_epoch=0, \n",
    "                 )"
   ]
  },
  {
   "cell_type": "code",
   "execution_count": 57,
   "metadata": {},
   "outputs": [
    {
     "data": {
      "image/png": "[encoded data removed]",
      "text/plain": [
       "<Figure size 432x288 with 1 Axes>"
      ]
     },
     "metadata": {},
     "output_type": "display_data"
    }
   ],
   "source": [
    "# 绘制训练 & 验证的损失值\n",
    "plt.plot(history_steps_15.history['loss'])\n",
    "plt.plot(history_steps_15.history['val_loss'])\n",
    "plt.title('Model loss')\n",
    "plt.ylabel('Loss')\n",
    "plt.xlabel('Epoch')\n",
    "plt.legend(['Train', 'Test'], loc='upper left')\n",
    "plt.show()"
   ]
  },
  {
   "cell_type": "code",
   "execution_count": 58,
   "metadata": {},
   "outputs": [
    {
     "data": {
      "image/png": "[encoded data removed]",
      "text/plain": [
       "<Figure size 432x288 with 1 Axes>"
      ]
     },
     "metadata": {},
     "output_type": "display_data"
    }
   ],
   "source": [
    "# 绘制训练 & 验证的准确率值\n",
    "plt.plot(history_steps_15.history['acc'])\n",
    "plt.plot(history_steps_15.history['val_acc'])\n",
    "plt.title('Model accuracy')\n",
    "plt.ylabel('Accuracy')\n",
    "plt.xlabel('Epoch')\n",
    "plt.legend(['Train', 'Test'], loc='upper left')\n",
    "plt.show()"
   ]
  }
 ],
 "metadata": {
  "kernelspec": {
   "display_name": "TensorFlow-1.13.1",
   "language": "python",
   "name": "tensorflow-1.13.1"
  },
  "language_info": {
   "codemirror_mode": {
    "name": "ipython",
    "version": 3
   },
   "file_extension": ".py",
   "mimetype": "text/x-python",
   "name": "python",
   "nbconvert_exporter": "python",
   "pygments_lexer": "ipython3",
   "version": "3.6.4"
  }
 },
 "nbformat": 4,
 "nbformat_minor": 2
}
