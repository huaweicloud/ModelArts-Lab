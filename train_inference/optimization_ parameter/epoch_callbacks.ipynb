{
 "cells": [
  {
   "cell_type": "markdown",
   "metadata": {},
   "source": [
    "# 训练轮数与callbacks\n",
    "在本例中，通过比较**同样结构**，**同样优化器**，**同样数据集**下**不同epoch**以及**不同callbacks方法**下训练的值得出训练轮数与callbacks方法对训练的影响。"
   ]
  },
  {
   "cell_type": "code",
   "execution_count": 1,
   "metadata": {},
   "outputs": [],
   "source": [
    "# !pip install --upgrade keras_applications keras"
   ]
  },
  {
   "cell_type": "markdown",
   "metadata": {},
   "source": [
    "## 引入相关的包"
   ]
  },
  {
   "cell_type": "code",
   "execution_count": 2,
   "metadata": {},
   "outputs": [
    {
     "name": "stderr",
     "output_type": "stream",
     "text": [
      "Using TensorFlow backend.\n"
     ]
    }
   ],
   "source": [
    "from keras.applications.vgg16 import VGG16\n",
    "from keras.preprocessing import image\n",
    "import numpy as np\n",
    "\n",
    "from keras.preprocessing import image\n",
    "from keras.models import Model\n",
    "from keras.layers import Dense, GlobalAveragePooling2D\n",
    "from keras import backend as K\n",
    "from keras.models import load_model\n",
    "\n",
    "from keras.preprocessing.image import ImageDataGenerator"
   ]
  },
  {
   "cell_type": "markdown",
   "metadata": {},
   "source": [
    "## 读取数据"
   ]
  },
  {
   "cell_type": "code",
   "execution_count": 3,
   "metadata": {},
   "outputs": [],
   "source": [
    "import os\n",
    "from PIL import Image\n",
    "def load_data():\n",
    "    dirname = \"./data\"\n",
    "    path = \"./data\"\n",
    "\n",
    "    num_train_samples = 25000\n",
    "\n",
    "    x_train = np.empty((num_train_samples, 224,224,3), dtype='uint8')\n",
    "    y_train = np.empty((num_train_samples,1), dtype='uint8')\n",
    "    index = 0\n",
    "    for file in os.listdir(\"./data\"):\n",
    "        image = Image.open(os.path.join(dirname,file)).resize((224,224))\n",
    "        image = np.array(image)\n",
    "        x_train[index,:,:,:] = image\n",
    "\n",
    "        if \"cat\" in file:\n",
    "            y_train[index,0] =1\n",
    "        elif \"dog\" in file:\n",
    "            y_train[index,0] =0\n",
    "\n",
    "        index += 1\n",
    "    return (x_train, y_train)"
   ]
  },
  {
   "cell_type": "code",
   "execution_count": 4,
   "metadata": {},
   "outputs": [],
   "source": [
    "(x_train, y_train) = load_data()"
   ]
  },
  {
   "cell_type": "code",
   "execution_count": 5,
   "metadata": {},
   "outputs": [
    {
     "name": "stdout",
     "output_type": "stream",
     "text": [
      "(25000, 224, 224, 3)\n",
      "(25000, 1)\n"
     ]
    }
   ],
   "source": [
    "print(x_train.shape)\n",
    "print(y_train.shape)"
   ]
  },
  {
   "cell_type": "markdown",
   "metadata": {},
   "source": [
    "## 数据处理"
   ]
  },
  {
   "cell_type": "code",
   "execution_count": 6,
   "metadata": {},
   "outputs": [],
   "source": [
    "from keras.utils import np_utils\n",
    "def process_data(x_train,y_train):\n",
    "    x_train = x_train.astype(np.float32)\n",
    "    x_train /= 255\n",
    "    n_classes = 2\n",
    "    y_train = np_utils.to_categorical(y_train, n_classes)\n",
    "    return x_train,y_train"
   ]
  },
  {
   "cell_type": "code",
   "execution_count": 8,
   "metadata": {},
   "outputs": [
    {
     "name": "stdout",
     "output_type": "stream",
     "text": [
      "(25000, 224, 224, 3)\n",
      "(25000, 2)\n"
     ]
    }
   ],
   "source": [
    "x_train,y_train= process_data(x_train,y_train)\n",
    "print(x_train.shape)\n",
    "print(y_train.shape)"
   ]
  },
  {
   "cell_type": "markdown",
   "metadata": {},
   "source": [
    "## 构建模型"
   ]
  },
  {
   "cell_type": "code",
   "execution_count": 7,
   "metadata": {},
   "outputs": [],
   "source": [
    "def build_model(base_model):\n",
    "    x = base_model.output\n",
    "    x = GlobalAveragePooling2D()(x)\n",
    "    predictions = Dense(2, activation='softmax')(x)\n",
    "    model = Model(inputs=base_model.input, outputs=predictions)\n",
    "    print(type(model))\n",
    "    return model"
   ]
  },
  {
   "cell_type": "code",
   "execution_count": 9,
   "metadata": {
    "scrolled": true
   },
   "outputs": [
    {
     "name": "stdout",
     "output_type": "stream",
     "text": [
      "WARNING:tensorflow:From /home/ma-user/anaconda3/envs/TensorFlow-1.13.1/lib/python3.6/site-packages/tensorflow/python/framework/op_def_library.py:263: colocate_with (from tensorflow.python.framework.ops) is deprecated and will be removed in a future version.\n",
      "Instructions for updating:\n",
      "Colocations handled automatically by placer.\n"
     ]
    }
   ],
   "source": [
    "base_model = VGG16(weights=None, include_top=False)"
   ]
  },
  {
   "cell_type": "code",
   "execution_count": 10,
   "metadata": {
    "scrolled": true
   },
   "outputs": [
    {
     "name": "stdout",
     "output_type": "stream",
     "text": [
      "<class 'keras.engine.training.Model'>\n",
      "_________________________________________________________________\n",
      "Layer (type)                 Output Shape              Param #   \n",
      "=================================================================\n",
      "input_1 (InputLayer)         (None, None, None, 3)     0         \n",
      "_________________________________________________________________\n",
      "block1_conv1 (Conv2D)        (None, None, None, 64)    1792      \n",
      "_________________________________________________________________\n",
      "block1_conv2 (Conv2D)        (None, None, None, 64)    36928     \n",
      "_________________________________________________________________\n",
      "block1_pool (MaxPooling2D)   (None, None, None, 64)    0         \n",
      "_________________________________________________________________\n",
      "block2_conv1 (Conv2D)        (None, None, None, 128)   73856     \n",
      "_________________________________________________________________\n",
      "block2_conv2 (Conv2D)        (None, None, None, 128)   147584    \n",
      "_________________________________________________________________\n",
      "block2_pool (MaxPooling2D)   (None, None, None, 128)   0         \n",
      "_________________________________________________________________\n",
      "block3_conv1 (Conv2D)        (None, None, None, 256)   295168    \n",
      "_________________________________________________________________\n",
      "block3_conv2 (Conv2D)        (None, None, None, 256)   590080    \n",
      "_________________________________________________________________\n",
      "block3_conv3 (Conv2D)        (None, None, None, 256)   590080    \n",
      "_________________________________________________________________\n",
      "block3_pool (MaxPooling2D)   (None, None, None, 256)   0         \n",
      "_________________________________________________________________\n",
      "block4_conv1 (Conv2D)        (None, None, None, 512)   1180160   \n",
      "_________________________________________________________________\n",
      "block4_conv2 (Conv2D)        (None, None, None, 512)   2359808   \n",
      "_________________________________________________________________\n",
      "block4_conv3 (Conv2D)        (None, None, None, 512)   2359808   \n",
      "_________________________________________________________________\n",
      "block4_pool (MaxPooling2D)   (None, None, None, 512)   0         \n",
      "_________________________________________________________________\n",
      "block5_conv1 (Conv2D)        (None, None, None, 512)   2359808   \n",
      "_________________________________________________________________\n",
      "block5_conv2 (Conv2D)        (None, None, None, 512)   2359808   \n",
      "_________________________________________________________________\n",
      "block5_conv3 (Conv2D)        (None, None, None, 512)   2359808   \n",
      "_________________________________________________________________\n",
      "block5_pool (MaxPooling2D)   (None, None, None, 512)   0         \n",
      "_________________________________________________________________\n",
      "global_average_pooling2d_1 ( (None, 512)               0         \n",
      "_________________________________________________________________\n",
      "dense_1 (Dense)              (None, 2)                 1026      \n",
      "=================================================================\n",
      "Total params: 14,715,714\n",
      "Trainable params: 14,715,714\n",
      "Non-trainable params: 0\n",
      "_________________________________________________________________\n"
     ]
    }
   ],
   "source": [
    "model = build_model(base_model)\n",
    "model.summary()"
   ]
  },
  {
   "cell_type": "markdown",
   "metadata": {},
   "source": [
    "## 模型训练"
   ]
  },
  {
   "cell_type": "markdown",
   "metadata": {},
   "source": [
    "### 5 epoch训练"
   ]
  },
  {
   "cell_type": "code",
   "execution_count": 11,
   "metadata": {},
   "outputs": [],
   "source": [
    "import keras \n",
    "opt = keras.optimizers.rmsprop(lr=0.0001, decay=1e-6)\n",
    "model.compile(loss='binary_crossentropy',\n",
    "              optimizer=opt,\n",
    "              metrics=['accuracy'])\n"
   ]
  },
  {
   "cell_type": "code",
   "execution_count": 12,
   "metadata": {},
   "outputs": [],
   "source": [
    "from keras.callbacks import ModelCheckpoint, EarlyStopping, ReduceLROnPlateau\n",
    "es = EarlyStopping(monitor='val_acc', baseline=0.9, patience=30, verbose=1, mode='auto')\n",
    "cp = ModelCheckpoint(filepath=\"./model/ckp_vgg16_dog_and_cat.h5\", monitor=\"val_acc\", verbose=1, save_best_only=True, mode=\"auto\", period=1)\n",
    "lr = ReduceLROnPlateau(monitor=\"val_acc\", factor=0.1, patience=10, verbose=1, mode=\"auto\", min_lr=0)\n",
    "callbacks = [es,cp,lr]"
   ]
  },
  {
   "cell_type": "code",
   "execution_count": 13,
   "metadata": {},
   "outputs": [
    {
     "name": "stdout",
     "output_type": "stream",
     "text": [
      "WARNING:tensorflow:From /home/ma-user/anaconda3/envs/TensorFlow-1.13.1/lib/python3.6/site-packages/tensorflow/python/ops/math_ops.py:3066: to_int32 (from tensorflow.python.ops.math_ops) is deprecated and will be removed in a future version.\n",
      "Instructions for updating:\n",
      "Use tf.cast instead.\n",
      "Train on 22500 samples, validate on 2500 samples\n",
      "Epoch 1/5\n",
      "22500/22500 [==============================] - 110s 5ms/step - loss: 0.6681 - acc: 0.5827 - val_loss: 0.6254 - val_acc: 0.6564\n",
      "\n",
      "Epoch 00001: val_acc improved from -inf to 0.65640, saving model to ./model/ckp_vgg16_dog_and_cat.h5\n",
      "Epoch 2/5\n",
      "22500/22500 [==============================] - 106s 5ms/step - loss: 0.6132 - acc: 0.6659 - val_loss: 0.5633 - val_acc: 0.7024\n",
      "\n",
      "Epoch 00002: val_acc improved from 0.65640 to 0.70240, saving model to ./model/ckp_vgg16_dog_and_cat.h5\n",
      "Epoch 3/5\n",
      "22500/22500 [==============================] - 107s 5ms/step - loss: 0.5473 - acc: 0.7242 - val_loss: 0.7010 - val_acc: 0.6488\n",
      "\n",
      "Epoch 00003: val_acc did not improve from 0.70240\n",
      "Epoch 4/5\n",
      "22500/22500 [==============================] - 107s 5ms/step - loss: 0.4898 - acc: 0.7708 - val_loss: 0.5868 - val_acc: 0.6668\n",
      "\n",
      "Epoch 00004: val_acc did not improve from 0.70240\n",
      "Epoch 5/5\n",
      "22500/22500 [==============================] - 106s 5ms/step - loss: 0.4286 - acc: 0.8083 - val_loss: 0.3695 - val_acc: 0.8364\n",
      "\n",
      "Epoch 00005: val_acc improved from 0.70240 to 0.83640, saving model to ./model/ckp_vgg16_dog_and_cat.h5\n"
     ]
    }
   ],
   "source": [
    "history = model.fit(x=x_train, \n",
    "                  y=y_train, \n",
    "                  batch_size=32, \n",
    "                  epochs=5, \n",
    "                  verbose=1, \n",
    "                  callbacks=callbacks, \n",
    "                  validation_split=0.1, \n",
    "                  shuffle=True, \n",
    "                  initial_epoch=0, \n",
    "                 )"
   ]
  },
  {
   "cell_type": "code",
   "execution_count": 19,
   "metadata": {},
   "outputs": [
    {
     "data": {
      "image/png": "[encoded data removed]",
      "text/plain": [
       "<Figure size 432x288 with 1 Axes>"
      ]
     },
     "metadata": {},
     "output_type": "display_data"
    }
   ],
   "source": [
    "import matplotlib.pyplot as plt\n",
    "\n",
    "# 绘制训练 & 验证的准确率值\n",
    "plt.plot(history.history['acc'])\n",
    "plt.plot(history.history['val_acc'])\n",
    "plt.title('Model accuracy')\n",
    "plt.ylabel('Accuracy')\n",
    "plt.xlabel('Epoch')\n",
    "plt.legend(['Train', 'Test'], loc='upper left')\n",
    "plt.show()"
   ]
  },
  {
   "cell_type": "code",
   "execution_count": 15,
   "metadata": {},
   "outputs": [
    {
     "data": {
      "image/png": "[encoded data removed]",
      "text/plain": [
       "<Figure size 432x288 with 1 Axes>"
      ]
     },
     "metadata": {},
     "output_type": "display_data"
    }
   ],
   "source": [
    "# 绘制训练 & 验证的损失值\n",
    "plt.plot(history.history['loss'])\n",
    "plt.plot(history.history['val_loss'])\n",
    "plt.title('Model loss')\n",
    "plt.ylabel('Loss')\n",
    "plt.xlabel('Epoch')\n",
    "plt.legend(['Train', 'Test'], loc='upper left')\n",
    "plt.show()"
   ]
  },
  {
   "cell_type": "markdown",
   "metadata": {},
   "source": [
    "### 50 epoch 训练\n",
    "**在下面的训练中，epoch的数值由5变为50**\n",
    "#### Epoch\n",
    "每一个epoch，训练集中的每一条数据都进行一次训练。\n",
    "在Epoch数值较小时，出现了上一个训练中出现的欠拟合情况，模型没有很好收敛训练便结束了。在接下来的训练中，我们提高了epoch的值，通过训练结果我们可以看到模型逐渐收敛。但是epoch的值并非越大越好，过大的epoch值可能会导致过拟合现象。\n",
    "\n",
    "![over-fitting](./img/fitting.png)\n",
    "\n",
    "epoch的值没有具体的公式进行计算，需要根据经验和具体的情况进行制定。"
   ]
  },
  {
   "cell_type": "markdown",
   "metadata": {},
   "source": [
    "#### ModelCheckpoint\n",
    "在模型训练过程中，ModelCheckpoint将出现的最好的权重进行保存。\n",
    "在下面的训练中，每一次出现更好的模型，epoch完成后都进行了保存。"
   ]
  },
  {
   "cell_type": "markdown",
   "metadata": {},
   "source": [
    "#### ReduceLROnPlateau\n",
    "学习率衰减方法，在指定epoch数量结束后检测指标时候有提升，如果提升较小，便进行学习率衰减。在接下来的训练中，通过`ReduceLROnPlateau`方法，学习率进行了多次调整，调整之后的模型的指标有所提升。"
   ]
  },
  {
   "cell_type": "code",
   "execution_count": 16,
   "metadata": {
    "scrolled": true
   },
   "outputs": [
    {
     "name": "stdout",
     "output_type": "stream",
     "text": [
      "Train on 22500 samples, validate on 2500 samples\n",
      "Epoch 1/50\n",
      "22500/22500 [==============================] - 105s 5ms/step - loss: 0.3485 - acc: 0.8493 - val_loss: 0.3592 - val_acc: 0.8384\n",
      "\n",
      "Epoch 00001: val_acc improved from 0.83640 to 0.83840, saving model to ./model/ckp_vgg16_dog_and_cat.h5\n",
      "Epoch 2/50\n",
      "22500/22500 [==============================] - 105s 5ms/step - loss: 0.2864 - acc: 0.8793 - val_loss: 0.3462 - val_acc: 0.8456\n",
      "\n",
      "Epoch 00002: val_acc improved from 0.83840 to 0.84560, saving model to ./model/ckp_vgg16_dog_and_cat.h5\n",
      "Epoch 3/50\n",
      "22500/22500 [==============================] - 105s 5ms/step - loss: 0.2412 - acc: 0.8995 - val_loss: 0.2485 - val_acc: 0.8996\n",
      "\n",
      "Epoch 00003: val_acc improved from 0.84560 to 0.89960, saving model to ./model/ckp_vgg16_dog_and_cat.h5\n",
      "Epoch 4/50\n",
      "22500/22500 [==============================] - 105s 5ms/step - loss: 0.2058 - acc: 0.9150 - val_loss: 0.2857 - val_acc: 0.8692\n",
      "\n",
      "Epoch 00004: val_acc did not improve from 0.89960\n",
      "Epoch 5/50\n",
      "22500/22500 [==============================] - 105s 5ms/step - loss: 0.1769 - acc: 0.9293 - val_loss: 0.2139 - val_acc: 0.9208\n",
      "\n",
      "Epoch 00005: val_acc improved from 0.89960 to 0.92080, saving model to ./model/ckp_vgg16_dog_and_cat.h5\n",
      "Epoch 6/50\n",
      "22500/22500 [==============================] - 106s 5ms/step - loss: 0.1587 - acc: 0.9361 - val_loss: 0.1823 - val_acc: 0.9228\n",
      "\n",
      "Epoch 00006: val_acc improved from 0.92080 to 0.92280, saving model to ./model/ckp_vgg16_dog_and_cat.h5\n",
      "Epoch 7/50\n",
      "22500/22500 [==============================] - 107s 5ms/step - loss: 0.1383 - acc: 0.9434 - val_loss: 0.2116 - val_acc: 0.9168\n",
      "\n",
      "Epoch 00007: val_acc did not improve from 0.92280\n",
      "Epoch 8/50\n",
      "22500/22500 [==============================] - 107s 5ms/step - loss: 0.1252 - acc: 0.9503 - val_loss: 0.2380 - val_acc: 0.9036\n",
      "\n",
      "Epoch 00008: val_acc did not improve from 0.92280\n",
      "Epoch 9/50\n",
      "22500/22500 [==============================] - 107s 5ms/step - loss: 0.1106 - acc: 0.9576 - val_loss: 0.2293 - val_acc: 0.9168\n",
      "\n",
      "Epoch 00009: val_acc did not improve from 0.92280\n",
      "Epoch 10/50\n",
      "22500/22500 [==============================] - 106s 5ms/step - loss: 0.0981 - acc: 0.9600 - val_loss: 0.1732 - val_acc: 0.9464\n",
      "\n",
      "Epoch 00010: val_acc improved from 0.92280 to 0.94640, saving model to ./model/ckp_vgg16_dog_and_cat.h5\n",
      "Epoch 11/50\n",
      "22500/22500 [==============================] - 104s 5ms/step - loss: 0.0920 - acc: 0.9653 - val_loss: 0.1852 - val_acc: 0.9456\n",
      "\n",
      "Epoch 00011: val_acc did not improve from 0.94640\n",
      "Epoch 12/50\n",
      "22500/22500 [==============================] - 103s 5ms/step - loss: 0.0832 - acc: 0.9689 - val_loss: 0.1701 - val_acc: 0.9384\n",
      "\n",
      "Epoch 00012: val_acc did not improve from 0.94640\n",
      "Epoch 13/50\n",
      "22500/22500 [==============================] - 103s 5ms/step - loss: 0.0765 - acc: 0.9715 - val_loss: 0.1997 - val_acc: 0.9328\n",
      "\n",
      "Epoch 00013: val_acc did not improve from 0.94640\n",
      "Epoch 14/50\n",
      "22500/22500 [==============================] - 104s 5ms/step - loss: 0.0730 - acc: 0.9724 - val_loss: 0.3329 - val_acc: 0.9052\n",
      "\n",
      "Epoch 00014: val_acc did not improve from 0.94640\n",
      "Epoch 15/50\n",
      "22500/22500 [==============================] - 103s 5ms/step - loss: 0.0642 - acc: 0.9768 - val_loss: 0.1899 - val_acc: 0.9364\n",
      "\n",
      "Epoch 00015: val_acc did not improve from 0.94640\n",
      "Epoch 16/50\n",
      "22500/22500 [==============================] - 103s 5ms/step - loss: 0.0658 - acc: 0.9770 - val_loss: 0.2875 - val_acc: 0.9124\n",
      "\n",
      "Epoch 00016: val_acc did not improve from 0.94640\n",
      "Epoch 17/50\n",
      "22500/22500 [==============================] - 104s 5ms/step - loss: 0.0588 - acc: 0.9800 - val_loss: 0.1869 - val_acc: 0.9324\n",
      "\n",
      "Epoch 00017: val_acc did not improve from 0.94640\n",
      "Epoch 18/50\n",
      "22500/22500 [==============================] - 103s 5ms/step - loss: 0.0588 - acc: 0.9799 - val_loss: 0.2623 - val_acc: 0.9464\n",
      "\n",
      "Epoch 00018: val_acc did not improve from 0.94640\n",
      "Epoch 19/50\n",
      "22500/22500 [==============================] - 103s 5ms/step - loss: 0.0608 - acc: 0.9810 - val_loss: 0.7764 - val_acc: 0.8896\n",
      "\n",
      "Epoch 00019: val_acc did not improve from 0.94640\n",
      "Epoch 20/50\n",
      "22500/22500 [==============================] - 103s 5ms/step - loss: 0.0553 - acc: 0.9813 - val_loss: 0.2257 - val_acc: 0.9376\n",
      "\n",
      "Epoch 00020: val_acc did not improve from 0.94640\n",
      "\n",
      "Epoch 00020: ReduceLROnPlateau reducing learning rate to 9.999999747378752e-06.\n",
      "Epoch 21/50\n",
      "22500/22500 [==============================] - 104s 5ms/step - loss: 0.0078 - acc: 0.9969 - val_loss: 0.2945 - val_acc: 0.9536\n",
      "\n",
      "Epoch 00021: val_acc improved from 0.94640 to 0.95360, saving model to ./model/ckp_vgg16_dog_and_cat.h5\n",
      "Epoch 22/50\n",
      "22500/22500 [==============================] - 103s 5ms/step - loss: 0.0020 - acc: 0.9993 - val_loss: 0.3223 - val_acc: 0.9552\n",
      "\n",
      "Epoch 00022: val_acc improved from 0.95360 to 0.95520, saving model to ./model/ckp_vgg16_dog_and_cat.h5\n",
      "Epoch 23/50\n",
      "22500/22500 [==============================] - 104s 5ms/step - loss: 7.5100e-04 - acc: 0.9998 - val_loss: 0.4173 - val_acc: 0.9544\n",
      "\n",
      "Epoch 00023: val_acc did not improve from 0.95520\n",
      "Epoch 24/50\n",
      "22500/22500 [==============================] - 103s 5ms/step - loss: 4.7853e-04 - acc: 0.9999 - val_loss: 0.4540 - val_acc: 0.9544\n",
      "\n",
      "Epoch 00024: val_acc did not improve from 0.95520\n",
      "Epoch 25/50\n",
      "22500/22500 [==============================] - 103s 5ms/step - loss: 1.7328e-04 - acc: 0.9999 - val_loss: 0.4937 - val_acc: 0.9560\n",
      "\n",
      "Epoch 00025: val_acc improved from 0.95520 to 0.95600, saving model to ./model/ckp_vgg16_dog_and_cat.h5\n",
      "Epoch 26/50\n",
      "22500/22500 [==============================] - 103s 5ms/step - loss: 7.1182e-05 - acc: 1.0000 - val_loss: 0.5377 - val_acc: 0.9544\n",
      "\n",
      "Epoch 00026: val_acc did not improve from 0.95600\n",
      "Epoch 27/50\n",
      "22500/22500 [==============================] - 103s 5ms/step - loss: 2.1546e-06 - acc: 1.0000 - val_loss: 0.5633 - val_acc: 0.9528\n",
      "\n",
      "Epoch 00027: val_acc did not improve from 0.95600\n",
      "Epoch 28/50\n",
      "22500/22500 [==============================] - 103s 5ms/step - loss: 1.2101e-05 - acc: 1.0000 - val_loss: 0.5292 - val_acc: 0.9556\n",
      "\n",
      "Epoch 00028: val_acc did not improve from 0.95600\n",
      "Epoch 29/50\n",
      "22500/22500 [==============================] - 103s 5ms/step - loss: 1.7238e-07 - acc: 1.0000 - val_loss: 0.5473 - val_acc: 0.9544\n",
      "\n",
      "Epoch 00029: val_acc did not improve from 0.95600\n",
      "Epoch 30/50\n",
      "22500/22500 [==============================] - 103s 5ms/step - loss: 8.3320e-07 - acc: 1.0000 - val_loss: 0.5469 - val_acc: 0.9540\n",
      "\n",
      "Epoch 00030: val_acc did not improve from 0.95600\n",
      "Epoch 31/50\n",
      "22500/22500 [==============================] - 103s 5ms/step - loss: 7.7578e-07 - acc: 1.0000 - val_loss: 0.5388 - val_acc: 0.9556\n",
      "\n",
      "Epoch 00031: val_acc did not improve from 0.95600\n",
      "Epoch 32/50\n",
      "22500/22500 [==============================] - 103s 5ms/step - loss: 1.4995e-07 - acc: 1.0000 - val_loss: 0.5389 - val_acc: 0.9548\n",
      "\n",
      "Epoch 00032: val_acc did not improve from 0.95600\n",
      "Epoch 33/50\n",
      "22500/22500 [==============================] - 107s 5ms/step - loss: 1.4479e-07 - acc: 1.0000 - val_loss: 0.5465 - val_acc: 0.9540\n",
      "\n",
      "Epoch 00033: val_acc did not improve from 0.95600\n",
      "Epoch 34/50\n",
      "22500/22500 [==============================] - 108s 5ms/step - loss: 1.1012e-07 - acc: 1.0000 - val_loss: 0.5418 - val_acc: 0.9552\n",
      "\n",
      "Epoch 00034: val_acc did not improve from 0.95600\n",
      "Epoch 35/50\n",
      "22500/22500 [==============================] - 105s 5ms/step - loss: 1.0981e-07 - acc: 1.0000 - val_loss: 0.5457 - val_acc: 0.9544\n",
      "\n",
      "Epoch 00035: val_acc did not improve from 0.95600\n",
      "\n",
      "Epoch 00035: ReduceLROnPlateau reducing learning rate to 9.999999747378752e-07.\n",
      "Epoch 36/50\n",
      "22500/22500 [==============================] - 105s 5ms/step - loss: 1.0967e-07 - acc: 1.0000 - val_loss: 0.5461 - val_acc: 0.9540\n",
      "\n",
      "Epoch 00036: val_acc did not improve from 0.95600\n",
      "Epoch 37/50\n",
      "22500/22500 [==============================] - 105s 5ms/step - loss: 1.0967e-07 - acc: 1.0000 - val_loss: 0.5465 - val_acc: 0.9540\n",
      "\n",
      "Epoch 00037: val_acc did not improve from 0.95600\n",
      "Epoch 38/50\n",
      "22500/22500 [==============================] - 105s 5ms/step - loss: 1.0966e-07 - acc: 1.0000 - val_loss: 0.5467 - val_acc: 0.9540\n",
      "\n",
      "Epoch 00038: val_acc did not improve from 0.95600\n",
      "Epoch 39/50\n",
      "22500/22500 [==============================] - 105s 5ms/step - loss: 1.0966e-07 - acc: 1.0000 - val_loss: 0.5468 - val_acc: 0.9540\n",
      "\n",
      "Epoch 00039: val_acc did not improve from 0.95600\n",
      "Epoch 40/50\n",
      "22500/22500 [==============================] - 105s 5ms/step - loss: 1.0965e-07 - acc: 1.0000 - val_loss: 0.5469 - val_acc: 0.9540\n",
      "\n",
      "Epoch 00040: val_acc did not improve from 0.95600\n",
      "Epoch 41/50\n",
      "22500/22500 [==============================] - 105s 5ms/step - loss: 1.0965e-07 - acc: 1.0000 - val_loss: 0.5471 - val_acc: 0.9540\n",
      "\n",
      "Epoch 00041: val_acc did not improve from 0.95600\n",
      "Epoch 42/50\n",
      "22500/22500 [==============================] - 105s 5ms/step - loss: 1.0965e-07 - acc: 1.0000 - val_loss: 0.5471 - val_acc: 0.9540\n",
      "\n",
      "Epoch 00042: val_acc did not improve from 0.95600\n",
      "Epoch 43/50\n",
      "22500/22500 [==============================] - 105s 5ms/step - loss: 1.0965e-07 - acc: 1.0000 - val_loss: 0.5472 - val_acc: 0.9540\n",
      "\n",
      "Epoch 00043: val_acc did not improve from 0.95600\n",
      "Epoch 44/50\n",
      "22500/22500 [==============================] - 105s 5ms/step - loss: 1.0965e-07 - acc: 1.0000 - val_loss: 0.5474 - val_acc: 0.9540\n",
      "\n",
      "Epoch 00044: val_acc did not improve from 0.95600\n",
      "Epoch 45/50\n",
      "22500/22500 [==============================] - 105s 5ms/step - loss: 1.0965e-07 - acc: 1.0000 - val_loss: 0.5474 - val_acc: 0.9540\n",
      "\n",
      "Epoch 00045: val_acc did not improve from 0.95600\n",
      "\n",
      "Epoch 00045: ReduceLROnPlateau reducing learning rate to 9.999999974752428e-08.\n",
      "Epoch 46/50\n",
      "22500/22500 [==============================] - 105s 5ms/step - loss: 1.0964e-07 - acc: 1.0000 - val_loss: 0.5475 - val_acc: 0.9540\n",
      "\n",
      "Epoch 00046: val_acc did not improve from 0.95600\n",
      "Epoch 47/50\n",
      "22500/22500 [==============================] - 105s 5ms/step - loss: 1.0964e-07 - acc: 1.0000 - val_loss: 0.5475 - val_acc: 0.9540\n",
      "\n",
      "Epoch 00047: val_acc did not improve from 0.95600\n",
      "Epoch 48/50\n",
      "22500/22500 [==============================] - 105s 5ms/step - loss: 1.0964e-07 - acc: 1.0000 - val_loss: 0.5475 - val_acc: 0.9540\n",
      "\n",
      "Epoch 00048: val_acc did not improve from 0.95600\n",
      "Epoch 49/50\n",
      "22500/22500 [==============================] - 105s 5ms/step - loss: 1.0964e-07 - acc: 1.0000 - val_loss: 0.5475 - val_acc: 0.9540\n",
      "\n",
      "Epoch 00049: val_acc did not improve from 0.95600\n",
      "Epoch 50/50\n",
      "22500/22500 [==============================] - 105s 5ms/step - loss: 1.0964e-07 - acc: 1.0000 - val_loss: 0.5475 - val_acc: 0.9540\n",
      "\n",
      "Epoch 00050: val_acc did not improve from 0.95600\n"
     ]
    }
   ],
   "source": [
    "history_more_steps = model.fit(x=x_train, \n",
    "                  y=y_train, \n",
    "                  batch_size=32, \n",
    "                  epochs=50, \n",
    "                  verbose=1, \n",
    "                  callbacks=callbacks, \n",
    "                  validation_split=0.1, \n",
    "                  shuffle=True, \n",
    "                  initial_epoch=0, \n",
    "                 )"
   ]
  },
  {
   "cell_type": "code",
   "execution_count": 17,
   "metadata": {},
   "outputs": [
    {
     "data": {
      "image/png": "[encoded data removed]",
      "text/plain": [
       "<Figure size 432x288 with 1 Axes>"
      ]
     },
     "metadata": {},
     "output_type": "display_data"
    }
   ],
   "source": [
    "import matplotlib.pyplot as plt\n",
    "\n",
    "# 绘制训练 & 验证的准确率值\n",
    "plt.plot(history_more_steps.history['acc'])\n",
    "plt.plot(history_more_steps.history['val_acc'])\n",
    "plt.title('Model accuracy')\n",
    "plt.ylabel('Accuracy')\n",
    "plt.xlabel('Epoch')\n",
    "plt.legend(['Train', 'Test'], loc='upper left')\n",
    "plt.show()"
   ]
  },
  {
   "cell_type": "code",
   "execution_count": 18,
   "metadata": {},
   "outputs": [
    {
     "data": {
      "image/png": "[encoded data removed]",
      "text/plain": [
       "<Figure size 432x288 with 1 Axes>"
      ]
     },
     "metadata": {},
     "output_type": "display_data"
    }
   ],
   "source": [
    "# 绘制训练 & 验证的损失值\n",
    "plt.plot(history_more_steps.history['loss'])\n",
    "plt.plot(history_more_steps.history['val_loss'])\n",
    "plt.title('Model loss')\n",
    "plt.ylabel('Loss')\n",
    "plt.xlabel('Epoch')\n",
    "plt.legend(['Train', 'Test'], loc='upper left')\n",
    "plt.show()"
   ]
  },
  {
   "cell_type": "markdown",
   "metadata": {},
   "source": [
    "#### EarlyStopping 早停法\n",
    "根据上一个训练可以看到，在训练的后期模型的loss和acc数值已经稳定，这时候继续训练没有对数值产生影响还有可能产生过拟合情况，所以需要及时将模型训练停止。EarlyStopping（早停法）检测模型的某一项指标，如果在指定步数中指标没有提升，则将模型训练停止。\n",
    "\n",
    "在下面的训练中可以看到模型已经很好收敛了，模型在训练中几乎没有提升空间了，所以没有完成fit函数中规定的50个epoch，而是在第6个epoch完成后训练便停止了。"
   ]
  },
  {
   "cell_type": "code",
   "execution_count": 20,
   "metadata": {},
   "outputs": [],
   "source": [
    "es = EarlyStopping(monitor='val_acc', baseline=0.9, patience=5, verbose=1, mode='auto')\n",
    "cp = ModelCheckpoint(filepath=\"./model/ckp_vgg16_dog_and_cat.h5\", monitor=\"val_acc\", verbose=1, save_best_only=True, mode=\"auto\", period=1)\n",
    "lr = ReduceLROnPlateau(monitor=\"val_acc\", factor=0.1, patience=2, verbose=1, mode=\"auto\", min_lr=0)\n",
    "callbacks = [es,cp,lr]"
   ]
  },
  {
   "cell_type": "code",
   "execution_count": 27,
   "metadata": {},
   "outputs": [
    {
     "name": "stdout",
     "output_type": "stream",
     "text": [
      "Train on 12500 samples, validate on 12500 samples\n",
      "Epoch 1/50\n",
      "12500/12500 [==============================] - 75s 6ms/step - loss: 1.0962e-07 - acc: 1.0000 - val_loss: 0.1095 - val_acc: 0.9909\n",
      "\n",
      "Epoch 00001: val_acc did not improve from 0.99088\n",
      "Epoch 2/50\n",
      "12500/12500 [==============================] - 75s 6ms/step - loss: 1.0962e-07 - acc: 1.0000 - val_loss: 0.1095 - val_acc: 0.9909\n",
      "\n",
      "Epoch 00002: val_acc did not improve from 0.99088\n",
      "Epoch 3/50\n",
      "12500/12500 [==============================] - 75s 6ms/step - loss: 1.0962e-07 - acc: 1.0000 - val_loss: 0.1095 - val_acc: 0.9909\n",
      "\n",
      "Epoch 00003: val_acc did not improve from 0.99088\n",
      "\n",
      "Epoch 00003: ReduceLROnPlateau reducing learning rate to 1.0000000116860975e-08.\n",
      "Epoch 4/50\n",
      "12500/12500 [==============================] - 75s 6ms/step - loss: 1.0962e-07 - acc: 1.0000 - val_loss: 0.1095 - val_acc: 0.9909\n",
      "\n",
      "Epoch 00004: val_acc did not improve from 0.99088\n",
      "Epoch 5/50\n",
      "12500/12500 [==============================] - 75s 6ms/step - loss: 1.0962e-07 - acc: 1.0000 - val_loss: 0.1095 - val_acc: 0.9909\n",
      "\n",
      "Epoch 00005: val_acc did not improve from 0.99088\n",
      "\n",
      "Epoch 00005: ReduceLROnPlateau reducing learning rate to 9.999999939225292e-10.\n",
      "Epoch 6/50\n",
      "12500/12500 [==============================] - 75s 6ms/step - loss: 1.0962e-07 - acc: 1.0000 - val_loss: 0.1095 - val_acc: 0.9909\n",
      "\n",
      "Epoch 00006: val_acc did not improve from 0.99088\n",
      "Epoch 00006: early stopping\n"
     ]
    }
   ],
   "source": [
    "history_steps_55 = model.fit(x=x_train, \n",
    "                  y=y_train, \n",
    "                  batch_size=32, \n",
    "                  epochs=50, \n",
    "                  verbose=1, \n",
    "                  callbacks=callbacks, \n",
    "                  validation_split=0.5, \n",
    "                  shuffle=True, \n",
    "                  initial_epoch=0, \n",
    "                 )"
   ]
  },
  {
   "cell_type": "code",
   "execution_count": 28,
   "metadata": {},
   "outputs": [
    {
     "data": {
      "image/png": "[encoded data removed]",
      "text/plain": [
       "<Figure size 432x288 with 1 Axes>"
      ]
     },
     "metadata": {},
     "output_type": "display_data"
    }
   ],
   "source": [
    "# 绘制训练 & 验证的损失值\n",
    "plt.plot(history_steps_55.history['loss'])\n",
    "plt.plot(history_steps_55.history['val_loss'])\n",
    "plt.title('Model loss')\n",
    "plt.ylabel('Loss')\n",
    "plt.xlabel('Epoch')\n",
    "plt.legend(['Train', 'Test'], loc='upper left')\n",
    "plt.show()"
   ]
  },
  {
   "cell_type": "code",
   "execution_count": 31,
   "metadata": {},
   "outputs": [
    {
     "data": {
      "image/png": "[encoded data removed]",
      "text/plain": [
       "<Figure size 432x288 with 1 Axes>"
      ]
     },
     "metadata": {},
     "output_type": "display_data"
    }
   ],
   "source": [
    "# 绘制训练 & 验证的准确率值\n",
    "plt.plot(history_steps_55.history['acc'])\n",
    "plt.plot(history_steps_55.history['val_acc'])\n",
    "plt.title('Model accuracy')\n",
    "plt.ylabel('Accuracy')\n",
    "plt.xlabel('Epoch')\n",
    "plt.legend(['Train', 'Test'], loc='upper left')\n",
    "plt.show()"
   ]
  },
  {
   "cell_type": "markdown",
   "metadata": {},
   "source": [
    "# 拓展\n",
    "模型在训练过程中还有那些可以提升的地方？\n",
    "\n",
    "- 可以尝试更多的epoch数量\n",
    "- 可以尝试自己定义学习率衰减规律。使用`LearningRateScheduler`方法，自己定义学习率衰减。"
   ]
  },
  {
   "cell_type": "code",
   "execution_count": null,
   "metadata": {},
   "outputs": [],
   "source": []
  }
 ],
 "metadata": {
  "kernelspec": {
   "display_name": "Python 3",
   "language": "python",
   "name": "python3"
  },
  "language_info": {
   "codemirror_mode": {
    "name": "ipython",
    "version": 3
   },
   "file_extension": ".py",
   "mimetype": "text/x-python",
   "name": "python",
   "nbconvert_exporter": "python",
   "pygments_lexer": "ipython3",
   "version": "3.7.1"
  },
  "toc": {
   "base_numbering": 1,
   "nav_menu": {},
   "number_sections": true,
   "sideBar": true,
   "skip_h1_title": false,
   "title_cell": "Table of Contents",
   "title_sidebar": "Contents",
   "toc_cell": false,
   "toc_position": {},
   "toc_section_display": true,
   "toc_window_display": false
  }
 },
 "nbformat": 4,
 "nbformat_minor": 2
}
