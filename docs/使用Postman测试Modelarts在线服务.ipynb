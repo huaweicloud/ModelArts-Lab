{
 "cells": [
  {
   "cell_type": "markdown",
   "metadata": {},
   "source": [
    "# 使用Postman测试Modelarts在线服务"
   ]
  },
  {
   "cell_type": "markdown",
   "metadata": {},
   "source": [
    "本文档介绍使用Postman测试Modelarts部署的在线服务，适用于图像分类、物体检测，其他类别的服务请参照修改。"
   ]
  },
  {
   "cell_type": "markdown",
   "metadata": {},
   "source": [
    "## 1. 基础准备"
   ]
  },
  {
   "cell_type": "markdown",
   "metadata": {},
   "source": [
    "Postman的下载、安装、注册、启动、获取用户Token等基础操作，请参照官网[如何通过Postman获取用户Token](https://support.huaweicloud.com/iam_faq/iam_01_034.html)"
   ]
  },
  {
   "cell_type": "markdown",
   "metadata": {},
   "source": [
    "关于获取用户Token，强调一下Postman中的参数配置："
   ]
  },
  {
   "cell_type": "markdown",
   "metadata": {},
   "source": [
    "- post地址：https://iam.cn-north-1.myhuaweicloud.com/v3/auth/tokens"
   ]
  },
  {
   "cell_type": "markdown",
   "metadata": {},
   "source": [
    "- Body（raw格式）：\n",
    "```\n",
    "{ \n",
    "  \"auth\": { \n",
    "    \"identity\": { \n",
    "      \"methods\": [ \n",
    "        \"password\" \n",
    "      ], \n",
    "      \"password\": { \n",
    "        \"user\": { \n",
    "          \"name\": \"username\", \n",
    "          \"password\": \"password\", \n",
    "          \"domain\": { \n",
    "            \"name\": \"username\" \n",
    "          } \n",
    "        } \n",
    "      } \n",
    "    }, \n",
    "    \"scope\": { \n",
    "      \"project\": { \n",
    "        \"name\": \"cn-north-1\"\n",
    "      } \n",
    "    } \n",
    "  } \n",
    "}\n",
    "```\n",
    "*username：华为云账号* ,\n",
    "*password：华为云密码*  ,\n",
    "*cn-north-1：所选区域*\n"
   ]
  },
  {
   "cell_type": "markdown",
   "metadata": {},
   "source": [
    "![获取用户 toke](\\images\\gettoken.png '获取用户 token')"
   ]
  },
  {
   "cell_type": "markdown",
   "metadata": {},
   "source": [
    "点击【Send】后，记录所获取的用户token。"
   ]
  },
  {
   "cell_type": "markdown",
   "metadata": {},
   "source": [
    "## 2. 启动已经部署的在线服务"
   ]
  },
  {
   "cell_type": "markdown",
   "metadata": {},
   "source": [
    "依次点击【部署在线】-【在线服务】，启动所要测试的服务，记录【API接口地址】。"
   ]
  },
  {
   "cell_type": "markdown",
   "metadata": {},
   "source": [
    "![启动服务](\\images\\startservice.png '启动服务')"
   ]
  },
  {
   "cell_type": "markdown",
   "metadata": {},
   "source": [
    "## 3. 测试在线服务"
   ]
  },
  {
   "cell_type": "markdown",
   "metadata": {},
   "source": [
    "在Postman中新建一个Request，参数配置如下："
   ]
  },
  {
   "cell_type": "markdown",
   "metadata": {},
   "source": [
    "- POST地址：第2步记录的【API接口地址】\n",
    "- Headers新建Key：X-Auth-Token，Vlaue：第1步中记录的用户token\n",
    "- Body新建Key：images，Value：选择被测试的本地图片"
   ]
  },
  {
   "cell_type": "markdown",
   "metadata": {},
   "source": [
    "![测试参数配置](.\\images\\modelarts-test1.png '参数配置 ')"
   ]
  },
  {
   "cell_type": "markdown",
   "metadata": {},
   "source": [
    "![测试参数配置](.\\images\\modelarts-test3.png '参数配置 ')"
   ]
  },
  {
   "cell_type": "markdown",
   "metadata": {},
   "source": [
    "点击【Send】，返回测试结果。"
   ]
  }
 ],
 "metadata": {
  "kernelspec": {
   "display_name": "Python 2",
   "language": "python",
   "name": "python2"
  },
  "language_info": {
   "codemirror_mode": {
    "name": "ipython",
    "version": 2
   },
   "file_extension": ".py",
   "mimetype": "text/x-python",
   "name": "python",
   "nbconvert_exporter": "python",
   "pygments_lexer": "ipython2",
   "version": "2.7.12"
  },
  "widgets": {
   "state": {},
   "version": "1.1.2"
  }
 },
 "nbformat": 4,
 "nbformat_minor": 0
}
