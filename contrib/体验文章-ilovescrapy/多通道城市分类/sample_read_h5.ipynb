{
 "cells": [
  {
   "cell_type": "markdown",
   "metadata": {},
   "source": [
    "### 加载h5py 模块\n",
    "* 利用h5py.File()函数读取h5文件，文件结构类似dict\n",
    "* 利用keys()函数获取File的所有键值\n",
    "* 获取File相应键值的value——dataset"
   ]
  },
  {
   "cell_type": "code",
   "execution_count": 1,
   "metadata": {},
   "outputs": [
    {
     "data": {
      "text/plain": [
       "h5py._hl.files.File"
      ]
     },
     "execution_count": 1,
     "metadata": {},
     "output_type": "execute_result"
    }
   ],
   "source": [
    "import h5py\n",
    "\n",
    "f = h5py.File('E:/Alibaba German AI Challenge/round1_test_a_20181109.h5','r')\n",
    "\n",
    "type(f)"
   ]
  },
  {
   "cell_type": "code",
   "execution_count": 2,
   "metadata": {},
   "outputs": [
    {
     "data": {
      "text/plain": [
       "['sen1', 'sen2']"
      ]
     },
     "execution_count": 2,
     "metadata": {},
     "output_type": "execute_result"
    }
   ],
   "source": [
    "list(f.keys())"
   ]
  },
  {
   "cell_type": "code",
   "execution_count": 3,
   "metadata": {},
   "outputs": [
    {
     "data": {
      "text/plain": [
       "h5py._hl.dataset.Dataset"
      ]
     },
     "execution_count": 3,
     "metadata": {},
     "output_type": "execute_result"
    }
   ],
   "source": [
    "sen1 = f['sen1']\n",
    "sen2 = f['sen2']\n",
    "type(sen1)"
   ]
  },
  {
   "cell_type": "code",
   "execution_count": 4,
   "metadata": {},
   "outputs": [
    {
     "data": {
      "text/plain": [
       "((4838, 32, 32, 8), (4838, 32, 32, 10))"
      ]
     },
     "execution_count": 4,
     "metadata": {},
     "output_type": "execute_result"
    }
   ],
   "source": [
    "sen1.shape,sen2.shape"
   ]
  },
  {
   "cell_type": "code",
   "execution_count": 5,
   "metadata": {},
   "outputs": [
    {
     "data": {
      "text/plain": [
       "39632896"
      ]
     },
     "execution_count": 5,
     "metadata": {},
     "output_type": "execute_result"
    }
   ],
   "source": [
    "sen1.size"
   ]
  },
  {
   "cell_type": "code",
   "execution_count": 6,
   "metadata": {},
   "outputs": [
    {
     "data": {
      "text/plain": [
       "dtype('float64')"
      ]
     },
     "execution_count": 6,
     "metadata": {},
     "output_type": "execute_result"
    }
   ],
   "source": [
    "sen1.dtype"
   ]
  },
  {
   "cell_type": "markdown",
   "metadata": {},
   "source": [
    "##### dataset类型的属性\n",
    "* shape\n",
    "* size\n",
    "* dtype"
   ]
  },
  {
   "cell_type": "code",
   "execution_count": 7,
   "metadata": {},
   "outputs": [
    {
     "data": {
      "text/plain": [
       "(4838, 32, 32, 8)"
      ]
     },
     "execution_count": 7,
     "metadata": {},
     "output_type": "execute_result"
    }
   ],
   "source": [
    "import numpy as np\n",
    "\n",
    "s1 = np.array(sen1)\n",
    "s1.shape"
   ]
  },
  {
   "cell_type": "markdown",
   "metadata": {},
   "source": [
    "##### load validation data"
   ]
  },
  {
   "cell_type": "code",
   "execution_count": 1,
   "metadata": {},
   "outputs": [
    {
     "data": {
      "text/plain": [
       "h5py._hl.files.File"
      ]
     },
     "execution_count": 1,
     "metadata": {},
     "output_type": "execute_result"
    }
   ],
   "source": [
    "import h5py\n",
    "\n",
    "f = h5py.File('E:/Alibaba German AI Challenge/origin_DATA/validation.h5','r')\n",
    "\n",
    "type(f)"
   ]
  },
  {
   "cell_type": "code",
   "execution_count": 2,
   "metadata": {},
   "outputs": [
    {
     "data": {
      "text/plain": [
       "['label', 'sen1', 'sen2']"
      ]
     },
     "execution_count": 2,
     "metadata": {},
     "output_type": "execute_result"
    }
   ],
   "source": [
    "list(f.keys())"
   ]
  },
  {
   "cell_type": "code",
   "execution_count": 2,
   "metadata": {},
   "outputs": [
    {
     "data": {
      "text/plain": [
       "((24119, 32, 32, 8), (24119, 32, 32, 10), (24119, 17))"
      ]
     },
     "execution_count": 2,
     "metadata": {},
     "output_type": "execute_result"
    }
   ],
   "source": [
    "import numpy as np\n",
    "s1 = np.array(f['sen1'])\n",
    "s2 = np.array(f['sen2'])\n",
    "y = np.array(f['label'])\n",
    "s1.shape,s2.shape,y.shape"
   ]
  },
  {
   "cell_type": "code",
   "execution_count": 3,
   "metadata": {},
   "outputs": [
    {
     "data": {
      "text/plain": [
       "(24119, 18432)"
      ]
     },
     "execution_count": 3,
     "metadata": {},
     "output_type": "execute_result"
    }
   ],
   "source": [
    "x = []\n",
    "for i in range(0,s1.shape[0]):\n",
    "    temp1 = s1[i].flatten()\n",
    "    temp2 = s2[i].flatten()\n",
    "    temp = np.hstack((temp1,temp2))\n",
    "    x.append(temp)\n",
    "x = np.array(x)\n",
    "x.shape"
   ]
  },
  {
   "cell_type": "code",
   "execution_count": 4,
   "metadata": {},
   "outputs": [
    {
     "data": {
      "text/plain": [
       "(24119, 18449)"
      ]
     },
     "execution_count": 4,
     "metadata": {},
     "output_type": "execute_result"
    }
   ],
   "source": [
    "data = np.hstack((x,y))\n",
    "data.shape"
   ]
  },
  {
   "cell_type": "markdown",
   "metadata": {},
   "source": [
    "##### CNN demo"
   ]
  },
  {
   "cell_type": "code",
   "execution_count": 1,
   "metadata": {},
   "outputs": [
    {
     "name": "stdout",
     "output_type": "stream",
     "text": [
      "Get the h5 file\n",
      "The shape of data is  (24119, 18449)\n"
     ]
    },
    {
     "ename": "TypeError",
     "evalue": "unhashable type: 'numpy.ndarray'",
     "output_type": "error",
     "traceback": [
      "\u001b[1;31m---------------------------------------------------------------------------\u001b[0m",
      "\u001b[1;31mTypeError\u001b[0m                                 Traceback (most recent call last)",
      "\u001b[1;32m<ipython-input-1-f792ea199851>\u001b[0m in \u001b[0;36m<module>\u001b[1;34m()\u001b[0m\n\u001b[0;32m    113\u001b[0m     \u001b[0mbatch_x\u001b[0m\u001b[1;33m,\u001b[0m\u001b[0mbatch_y\u001b[0m \u001b[1;33m=\u001b[0m \u001b[0mget_batch\u001b[0m\u001b[1;33m(\u001b[0m\u001b[0mdata\u001b[0m\u001b[1;33m,\u001b[0m\u001b[0mbatch_size\u001b[0m\u001b[1;33m)\u001b[0m\u001b[1;33m\u001b[0m\u001b[0m\n\u001b[0;32m    114\u001b[0m     \u001b[1;32mif\u001b[0m \u001b[0mi\u001b[0m\u001b[1;33m%\u001b[0m\u001b[1;36m200\u001b[0m \u001b[1;33m==\u001b[0m \u001b[1;36m0\u001b[0m\u001b[1;33m:\u001b[0m\u001b[1;33m\u001b[0m\u001b[0m\n\u001b[1;32m--> 115\u001b[1;33m         \u001b[0mtrain_accuracy\u001b[0m \u001b[1;33m=\u001b[0m \u001b[0maccuracy\u001b[0m\u001b[1;33m.\u001b[0m\u001b[0meval\u001b[0m\u001b[1;33m(\u001b[0m\u001b[0mfeed_dict\u001b[0m\u001b[1;33m=\u001b[0m\u001b[1;33m{\u001b[0m\u001b[0mx\u001b[0m\u001b[1;33m:\u001b[0m\u001b[0mbatch_x\u001b[0m\u001b[1;33m,\u001b[0m \u001b[0my_\u001b[0m\u001b[1;33m:\u001b[0m\u001b[0mbatch_y\u001b[0m\u001b[1;33m,\u001b[0m \u001b[0mkeep_prob\u001b[0m\u001b[1;33m:\u001b[0m\u001b[1;36m1.0\u001b[0m\u001b[1;33m}\u001b[0m\u001b[1;33m)\u001b[0m\u001b[1;33m\u001b[0m\u001b[0m\n\u001b[0m\u001b[0;32m    116\u001b[0m         \u001b[0mprint\u001b[0m \u001b[1;33m(\u001b[0m\u001b[1;34m\"step %d, train accuracy %g\"\u001b[0m \u001b[1;33m%\u001b[0m\u001b[1;33m(\u001b[0m\u001b[0mi\u001b[0m\u001b[1;33m,\u001b[0m \u001b[0mtrain_accuracy\u001b[0m\u001b[1;33m)\u001b[0m\u001b[1;33m)\u001b[0m\u001b[1;33m\u001b[0m\u001b[0m\n\u001b[0;32m    117\u001b[0m     \u001b[0mtrain_step\u001b[0m\u001b[1;33m.\u001b[0m\u001b[0mrun\u001b[0m\u001b[1;33m(\u001b[0m\u001b[0mfeed_dict\u001b[0m\u001b[1;33m=\u001b[0m\u001b[1;33m{\u001b[0m\u001b[0mx\u001b[0m\u001b[1;33m:\u001b[0m\u001b[0mbatch_x\u001b[0m\u001b[1;33m,\u001b[0m \u001b[0my_\u001b[0m\u001b[1;33m:\u001b[0m\u001b[0mbatch_y\u001b[0m\u001b[1;33m,\u001b[0m \u001b[0mkeep_prob\u001b[0m\u001b[1;33m:\u001b[0m\u001b[1;36m0.5\u001b[0m\u001b[1;33m}\u001b[0m\u001b[1;33m)\u001b[0m\u001b[1;33m\u001b[0m\u001b[0m\n",
      "\u001b[1;31mTypeError\u001b[0m: unhashable type: 'numpy.ndarray'"
     ]
    }
   ],
   "source": [
    "# start tensorflow interactiveSession              baseline                 accuracy = 0.702                \n",
    "import tensorflow as tf\n",
    "import pandas as pd\n",
    "import numpy as np\n",
    "from PIL import Image\n",
    "import random\n",
    "import h5py\n",
    "\n",
    "filename = 'E:/Alibaba German AI Challenge/origin_DATA/validation.h5'\n",
    "f = h5py.File(filename,'r')\n",
    "print('Get the h5 file')\n",
    "\n",
    "s1 = np.array(f['sen1'])\n",
    "s2 = np.array(f['sen2'])\n",
    "y = np.array(f['label'])\n",
    "\n",
    "x = []\n",
    "for i in range(0,s1.shape[0]):\n",
    "    temp1 = s1[i].flatten()\n",
    "    temp2 = s2[i].flatten()\n",
    "    temp = np.hstack((temp1,temp2))\n",
    "    x.append(temp)\n",
    "x = np.array(x)\n",
    "\n",
    "data = np.hstack((x,y))\n",
    "print('The shape of data is ',data.shape)\n",
    "\n",
    "sess = tf.InteractiveSession()\n",
    "\n",
    "#####################################################     Net Define     ##################################################### \n",
    "\n",
    "# weight initialization\n",
    "def weight_variable(shape):\n",
    "    initial = tf.truncated_normal(shape, stddev=0.1)\n",
    "    return tf.Variable(initial)\n",
    "\n",
    "def bias_variable(shape):\n",
    "    initial = tf.constant(0.1, shape = shape)\n",
    "    return tf.Variable(initial)\n",
    "\n",
    "# convolution\n",
    "def conv2d(x, W):\n",
    "    return tf.nn.conv2d(x, W, strides=[1, 1, 1, 1], padding='SAME')\n",
    "# pooling\n",
    "def max_pool_2x2(x):\n",
    "    return tf.nn.max_pool(x, ksize=[1, 2, 2, 1], strides=[1, 2, 2, 1], padding='SAME')\n",
    "\n",
    "# Create the model\n",
    "# placeholder\n",
    "x = tf.placeholder(\"float\", [None, 18432])\n",
    "y_ = tf.placeholder(\"float\", [None, 17])\n",
    "\n",
    "\n",
    "# first convolutinal layer\n",
    "w_conv1 = weight_variable([5, 5, 18, 32])\n",
    "b_conv1 = bias_variable([32])\n",
    "\n",
    "x_image = tf.reshape(x, [-1, 32, 32, 18])\n",
    "\n",
    "h_conv1 = tf.nn.relu(conv2d(x_image, w_conv1) + b_conv1)\n",
    "h_pool1 = max_pool_2x2(h_conv1)\n",
    "\n",
    "# second convolutional layer\n",
    "w_conv2 = weight_variable([5, 5, 32, 64])\n",
    "b_conv2 = bias_variable([64])\n",
    "\n",
    "h_conv2 = tf.nn.relu(conv2d(h_pool1, w_conv2) + b_conv2)\n",
    "h_pool2 = max_pool_2x2(h_conv2)\n",
    "\n",
    "# densely connected layer\n",
    "w_fc1 = weight_variable([8*8*64, 1024])\n",
    "b_fc1 = bias_variable([1024])\n",
    "\n",
    "h_pool2_flat = tf.reshape(h_pool2, [-1, 8*8*64])\n",
    "h_fc1 = tf.nn.relu(tf.matmul(h_pool2_flat, w_fc1) + b_fc1)\n",
    "\n",
    "# dropout\n",
    "keep_prob = tf.placeholder(\"float\")\n",
    "h_fc1_drop = tf.nn.dropout(h_fc1, keep_prob)\n",
    "\n",
    "# readout layer\n",
    "w_fc2 = weight_variable([1024, 17])\n",
    "b_fc2 = bias_variable([17])\n",
    "\n",
    "y_conv = tf.nn.softmax(tf.matmul(h_fc1_drop, w_fc2) + b_fc2)\n",
    "\n",
    "# train and evaluate the model\n",
    "#交叉熵作为损失函数\n",
    "delta = 1e-7\n",
    "cross_entropy = -tf.reduce_sum(y_*tf.log(y_conv+delta))\n",
    "train_step = tf.train.GradientDescentOptimizer(1e-4).minimize(cross_entropy)\n",
    "correct_prediction = tf.equal(tf.argmax(y_conv, 1), tf.argmax(y_, 1))\n",
    "accuracy = tf.reduce_mean(tf.cast(correct_prediction, \"float\"))\n",
    "sess.run(tf.global_variables_initializer())\n",
    "\n",
    "\n",
    "#####################################################       Train     ##################################################### \n",
    "\n",
    "\n",
    "##随机抽取一部分作为一个mini-batch\n",
    "def get_batch(data, batch_size):\n",
    "    sample = random.sample(list(data),batch_size)\n",
    "    sample = np.array(sample)\n",
    "    train_x = sample[:,:-17]\n",
    "    train_y = sample[:,-17:]\n",
    "    \n",
    "    return train_x, train_y\n",
    "\n",
    "\n",
    "batch_size = 200\n",
    "for i in range(64000):\n",
    "    batch_x,batch_y = get_batch(data,batch_size)\n",
    "    if i%200 == 0:\n",
    "        train_accuracy = accuracy.eval(feed_dict={x:batch_x, y_:batch_y, keep_prob:1.0})\n",
    "        print (\"step %d, train accuracy %g\" %(i, train_accuracy))\n",
    "    train_step.run(feed_dict={x:batch_x, y_:batch_y, keep_prob:0.5})\n"
   ]
  },
  {
   "cell_type": "code",
   "execution_count": 2,
   "metadata": {},
   "outputs": [
    {
     "data": {
      "text/plain": [
       "['sen1', 'sen2']"
      ]
     },
     "execution_count": 2,
     "metadata": {},
     "output_type": "execute_result"
    }
   ],
   "source": [
    "filename = 'E:/Alibaba German AI Challenge/origin_DATA/round1_test_a_20181109.h5'\n",
    "f = h5py.File(filename,'r')\n",
    "list(f.keys())"
   ]
  },
  {
   "cell_type": "code",
   "execution_count": 3,
   "metadata": {},
   "outputs": [
    {
     "data": {
      "text/plain": [
       "(4838, 18432)"
      ]
     },
     "execution_count": 3,
     "metadata": {},
     "output_type": "execute_result"
    }
   ],
   "source": [
    "test_s1 = f['sen1']\n",
    "test_s2 = f['sen2']\n",
    "\n",
    "test = []\n",
    "for i in range(0,test_s1.shape[0]):\n",
    "    temp1 = test_s1[i].flatten()\n",
    "    temp2 = test_s2[i].flatten()\n",
    "    temp = np.hstack((temp1,temp2))\n",
    "    test.append(temp)\n",
    "test = np.array(test)\n",
    "test.shape"
   ]
  },
  {
   "cell_type": "code",
   "execution_count": 4,
   "metadata": {},
   "outputs": [
    {
     "data": {
      "text/plain": [
       "(4838, 17)"
      ]
     },
     "execution_count": 4,
     "metadata": {},
     "output_type": "execute_result"
    }
   ],
   "source": [
    "test_y = np.zeros((test.shape[0],17))\n",
    "test_y.shape"
   ]
  },
  {
   "cell_type": "code",
   "execution_count": 6,
   "metadata": {},
   "outputs": [
    {
     "data": {
      "text/plain": [
       "array([16,  2, 13, ...,  8, 13, 16], dtype=int64)"
      ]
     },
     "execution_count": 6,
     "metadata": {},
     "output_type": "execute_result"
    }
   ],
   "source": [
    "pred = tf.argmax(y_conv, 1)\n",
    "\n",
    "test_x_0 = test[0:1500]\n",
    "test_y_0 = test_y[0:1500]\n",
    "P_0 = pred.eval(feed_dict={x:test_x_0, y_:test_y_0, keep_prob:1.0})\n",
    "\n",
    "test_x_1 = test[1500:3000]\n",
    "test_y_1 = test_y[1500:3000]\n",
    "P_1 = pred.eval(feed_dict={x:test_x_1, y_:test_y_1, keep_prob:1.0})\n",
    "\n",
    "test_x_2 = test[3000:4500]\n",
    "test_y_2 = test_y[3000:4500]\n",
    "P_2 = pred.eval(feed_dict={x:test_x_2, y_:test_y_2, keep_prob:1.0})\n",
    "\n",
    "test_x_3 = test[4500:]\n",
    "test_y_3 = test_y[4500:]\n",
    "P_3 = pred.eval(feed_dict={x:test_x_3, y_:test_y_3, keep_prob:1.0})\n",
    "\n",
    "P = np.hstack([P_0,P_1,P_2,P_3])\n",
    "P"
   ]
  },
  {
   "cell_type": "code",
   "execution_count": 7,
   "metadata": {},
   "outputs": [
    {
     "data": {
      "text/plain": [
       "(4838,)"
      ]
     },
     "execution_count": 7,
     "metadata": {},
     "output_type": "execute_result"
    }
   ],
   "source": [
    "P.shape"
   ]
  },
  {
   "cell_type": "code",
   "execution_count": 11,
   "metadata": {},
   "outputs": [
    {
     "data": {
      "text/plain": [
       "TensorShape([Dimension(4838), Dimension(17)])"
      ]
     },
     "execution_count": 11,
     "metadata": {},
     "output_type": "execute_result"
    }
   ],
   "source": [
    "one_hot=tf.one_hot(P,17)\n",
    "one_hot.shape"
   ]
  },
  {
   "cell_type": "code",
   "execution_count": 12,
   "metadata": {},
   "outputs": [
    {
     "data": {
      "text/plain": [
       "<tf.Tensor 'one_hot_1:0' shape=(4838, 17) dtype=float32>"
      ]
     },
     "execution_count": 12,
     "metadata": {},
     "output_type": "execute_result"
    }
   ],
   "source": [
    "one_hot"
   ]
  },
  {
   "cell_type": "code",
   "execution_count": 20,
   "metadata": {},
   "outputs": [],
   "source": [
    "Pred_one_hot = sess.run(one_hot)"
   ]
  },
  {
   "cell_type": "code",
   "execution_count": 15,
   "metadata": {},
   "outputs": [
    {
     "data": {
      "text/plain": [
       "(4838, 17)"
      ]
     },
     "execution_count": 15,
     "metadata": {},
     "output_type": "execute_result"
    }
   ],
   "source": [
    "Pred_one_hot.shape"
   ]
  },
  {
   "cell_type": "code",
   "execution_count": 21,
   "metadata": {},
   "outputs": [
    {
     "data": {
      "text/html": [
       "<div>\n",
       "<style>\n",
       "    .dataframe thead tr:only-child th {\n",
       "        text-align: right;\n",
       "    }\n",
       "\n",
       "    .dataframe thead th {\n",
       "        text-align: left;\n",
       "    }\n",
       "\n",
       "    .dataframe tbody tr th {\n",
       "        vertical-align: top;\n",
       "    }\n",
       "</style>\n",
       "<table border=\"1\" class=\"dataframe\">\n",
       "  <thead>\n",
       "    <tr style=\"text-align: right;\">\n",
       "      <th></th>\n",
       "      <th>0</th>\n",
       "      <th>1</th>\n",
       "      <th>2</th>\n",
       "      <th>3</th>\n",
       "      <th>4</th>\n",
       "      <th>5</th>\n",
       "      <th>6</th>\n",
       "      <th>7</th>\n",
       "      <th>8</th>\n",
       "      <th>9</th>\n",
       "      <th>10</th>\n",
       "      <th>11</th>\n",
       "      <th>12</th>\n",
       "      <th>13</th>\n",
       "      <th>14</th>\n",
       "      <th>15</th>\n",
       "      <th>16</th>\n",
       "    </tr>\n",
       "  </thead>\n",
       "  <tbody>\n",
       "    <tr>\n",
       "      <th>0</th>\n",
       "      <td>0.0</td>\n",
       "      <td>0.0</td>\n",
       "      <td>0.0</td>\n",
       "      <td>0.0</td>\n",
       "      <td>0.0</td>\n",
       "      <td>0.0</td>\n",
       "      <td>0.0</td>\n",
       "      <td>0.0</td>\n",
       "      <td>0.0</td>\n",
       "      <td>0.0</td>\n",
       "      <td>0.0</td>\n",
       "      <td>0.0</td>\n",
       "      <td>0.0</td>\n",
       "      <td>0.0</td>\n",
       "      <td>0.0</td>\n",
       "      <td>0.0</td>\n",
       "      <td>1.0</td>\n",
       "    </tr>\n",
       "    <tr>\n",
       "      <th>1</th>\n",
       "      <td>0.0</td>\n",
       "      <td>0.0</td>\n",
       "      <td>1.0</td>\n",
       "      <td>0.0</td>\n",
       "      <td>0.0</td>\n",
       "      <td>0.0</td>\n",
       "      <td>0.0</td>\n",
       "      <td>0.0</td>\n",
       "      <td>0.0</td>\n",
       "      <td>0.0</td>\n",
       "      <td>0.0</td>\n",
       "      <td>0.0</td>\n",
       "      <td>0.0</td>\n",
       "      <td>0.0</td>\n",
       "      <td>0.0</td>\n",
       "      <td>0.0</td>\n",
       "      <td>0.0</td>\n",
       "    </tr>\n",
       "    <tr>\n",
       "      <th>2</th>\n",
       "      <td>0.0</td>\n",
       "      <td>0.0</td>\n",
       "      <td>0.0</td>\n",
       "      <td>0.0</td>\n",
       "      <td>0.0</td>\n",
       "      <td>0.0</td>\n",
       "      <td>0.0</td>\n",
       "      <td>0.0</td>\n",
       "      <td>0.0</td>\n",
       "      <td>0.0</td>\n",
       "      <td>0.0</td>\n",
       "      <td>0.0</td>\n",
       "      <td>0.0</td>\n",
       "      <td>1.0</td>\n",
       "      <td>0.0</td>\n",
       "      <td>0.0</td>\n",
       "      <td>0.0</td>\n",
       "    </tr>\n",
       "    <tr>\n",
       "      <th>3</th>\n",
       "      <td>0.0</td>\n",
       "      <td>0.0</td>\n",
       "      <td>0.0</td>\n",
       "      <td>0.0</td>\n",
       "      <td>0.0</td>\n",
       "      <td>0.0</td>\n",
       "      <td>0.0</td>\n",
       "      <td>0.0</td>\n",
       "      <td>0.0</td>\n",
       "      <td>0.0</td>\n",
       "      <td>1.0</td>\n",
       "      <td>0.0</td>\n",
       "      <td>0.0</td>\n",
       "      <td>0.0</td>\n",
       "      <td>0.0</td>\n",
       "      <td>0.0</td>\n",
       "      <td>0.0</td>\n",
       "    </tr>\n",
       "    <tr>\n",
       "      <th>4</th>\n",
       "      <td>0.0</td>\n",
       "      <td>0.0</td>\n",
       "      <td>0.0</td>\n",
       "      <td>0.0</td>\n",
       "      <td>0.0</td>\n",
       "      <td>0.0</td>\n",
       "      <td>0.0</td>\n",
       "      <td>1.0</td>\n",
       "      <td>0.0</td>\n",
       "      <td>0.0</td>\n",
       "      <td>0.0</td>\n",
       "      <td>0.0</td>\n",
       "      <td>0.0</td>\n",
       "      <td>0.0</td>\n",
       "      <td>0.0</td>\n",
       "      <td>0.0</td>\n",
       "      <td>0.0</td>\n",
       "    </tr>\n",
       "  </tbody>\n",
       "</table>\n",
       "</div>"
      ],
      "text/plain": [
       "    0    1    2    3    4    5    6    7    8    9    10   11   12   13   14  \\\n",
       "0  0.0  0.0  0.0  0.0  0.0  0.0  0.0  0.0  0.0  0.0  0.0  0.0  0.0  0.0  0.0   \n",
       "1  0.0  0.0  1.0  0.0  0.0  0.0  0.0  0.0  0.0  0.0  0.0  0.0  0.0  0.0  0.0   \n",
       "2  0.0  0.0  0.0  0.0  0.0  0.0  0.0  0.0  0.0  0.0  0.0  0.0  0.0  1.0  0.0   \n",
       "3  0.0  0.0  0.0  0.0  0.0  0.0  0.0  0.0  0.0  0.0  1.0  0.0  0.0  0.0  0.0   \n",
       "4  0.0  0.0  0.0  0.0  0.0  0.0  0.0  1.0  0.0  0.0  0.0  0.0  0.0  0.0  0.0   \n",
       "\n",
       "    15   16  \n",
       "0  0.0  1.0  \n",
       "1  0.0  0.0  \n",
       "2  0.0  0.0  \n",
       "3  0.0  0.0  \n",
       "4  0.0  0.0  "
      ]
     },
     "execution_count": 21,
     "metadata": {},
     "output_type": "execute_result"
    }
   ],
   "source": [
    "out = pd.DataFrame(Pred_one_hot, columns = list(range(17)))\n",
    "out.head()"
   ]
  },
  {
   "cell_type": "code",
   "execution_count": 22,
   "metadata": {},
   "outputs": [],
   "source": [
    "Pred_one_hot = Pred_one_hot.astype(np.int32)"
   ]
  },
  {
   "cell_type": "code",
   "execution_count": 23,
   "metadata": {},
   "outputs": [
    {
     "data": {
      "text/html": [
       "<div>\n",
       "<style>\n",
       "    .dataframe thead tr:only-child th {\n",
       "        text-align: right;\n",
       "    }\n",
       "\n",
       "    .dataframe thead th {\n",
       "        text-align: left;\n",
       "    }\n",
       "\n",
       "    .dataframe tbody tr th {\n",
       "        vertical-align: top;\n",
       "    }\n",
       "</style>\n",
       "<table border=\"1\" class=\"dataframe\">\n",
       "  <thead>\n",
       "    <tr style=\"text-align: right;\">\n",
       "      <th></th>\n",
       "      <th>0</th>\n",
       "      <th>1</th>\n",
       "      <th>2</th>\n",
       "      <th>3</th>\n",
       "      <th>4</th>\n",
       "      <th>5</th>\n",
       "      <th>6</th>\n",
       "      <th>7</th>\n",
       "      <th>8</th>\n",
       "      <th>9</th>\n",
       "      <th>10</th>\n",
       "      <th>11</th>\n",
       "      <th>12</th>\n",
       "      <th>13</th>\n",
       "      <th>14</th>\n",
       "      <th>15</th>\n",
       "      <th>16</th>\n",
       "    </tr>\n",
       "  </thead>\n",
       "  <tbody>\n",
       "    <tr>\n",
       "      <th>0</th>\n",
       "      <td>0</td>\n",
       "      <td>0</td>\n",
       "      <td>0</td>\n",
       "      <td>0</td>\n",
       "      <td>0</td>\n",
       "      <td>0</td>\n",
       "      <td>0</td>\n",
       "      <td>0</td>\n",
       "      <td>0</td>\n",
       "      <td>0</td>\n",
       "      <td>0</td>\n",
       "      <td>0</td>\n",
       "      <td>0</td>\n",
       "      <td>0</td>\n",
       "      <td>0</td>\n",
       "      <td>0</td>\n",
       "      <td>1</td>\n",
       "    </tr>\n",
       "    <tr>\n",
       "      <th>1</th>\n",
       "      <td>0</td>\n",
       "      <td>0</td>\n",
       "      <td>1</td>\n",
       "      <td>0</td>\n",
       "      <td>0</td>\n",
       "      <td>0</td>\n",
       "      <td>0</td>\n",
       "      <td>0</td>\n",
       "      <td>0</td>\n",
       "      <td>0</td>\n",
       "      <td>0</td>\n",
       "      <td>0</td>\n",
       "      <td>0</td>\n",
       "      <td>0</td>\n",
       "      <td>0</td>\n",
       "      <td>0</td>\n",
       "      <td>0</td>\n",
       "    </tr>\n",
       "    <tr>\n",
       "      <th>2</th>\n",
       "      <td>0</td>\n",
       "      <td>0</td>\n",
       "      <td>0</td>\n",
       "      <td>0</td>\n",
       "      <td>0</td>\n",
       "      <td>0</td>\n",
       "      <td>0</td>\n",
       "      <td>0</td>\n",
       "      <td>0</td>\n",
       "      <td>0</td>\n",
       "      <td>0</td>\n",
       "      <td>0</td>\n",
       "      <td>0</td>\n",
       "      <td>1</td>\n",
       "      <td>0</td>\n",
       "      <td>0</td>\n",
       "      <td>0</td>\n",
       "    </tr>\n",
       "    <tr>\n",
       "      <th>3</th>\n",
       "      <td>0</td>\n",
       "      <td>0</td>\n",
       "      <td>0</td>\n",
       "      <td>0</td>\n",
       "      <td>0</td>\n",
       "      <td>0</td>\n",
       "      <td>0</td>\n",
       "      <td>0</td>\n",
       "      <td>0</td>\n",
       "      <td>0</td>\n",
       "      <td>1</td>\n",
       "      <td>0</td>\n",
       "      <td>0</td>\n",
       "      <td>0</td>\n",
       "      <td>0</td>\n",
       "      <td>0</td>\n",
       "      <td>0</td>\n",
       "    </tr>\n",
       "    <tr>\n",
       "      <th>4</th>\n",
       "      <td>0</td>\n",
       "      <td>0</td>\n",
       "      <td>0</td>\n",
       "      <td>0</td>\n",
       "      <td>0</td>\n",
       "      <td>0</td>\n",
       "      <td>0</td>\n",
       "      <td>1</td>\n",
       "      <td>0</td>\n",
       "      <td>0</td>\n",
       "      <td>0</td>\n",
       "      <td>0</td>\n",
       "      <td>0</td>\n",
       "      <td>0</td>\n",
       "      <td>0</td>\n",
       "      <td>0</td>\n",
       "      <td>0</td>\n",
       "    </tr>\n",
       "  </tbody>\n",
       "</table>\n",
       "</div>"
      ],
      "text/plain": [
       "   0   1   2   3   4   5   6   7   8   9   10  11  12  13  14  15  16\n",
       "0   0   0   0   0   0   0   0   0   0   0   0   0   0   0   0   0   1\n",
       "1   0   0   1   0   0   0   0   0   0   0   0   0   0   0   0   0   0\n",
       "2   0   0   0   0   0   0   0   0   0   0   0   0   0   1   0   0   0\n",
       "3   0   0   0   0   0   0   0   0   0   0   1   0   0   0   0   0   0\n",
       "4   0   0   0   0   0   0   0   1   0   0   0   0   0   0   0   0   0"
      ]
     },
     "execution_count": 23,
     "metadata": {},
     "output_type": "execute_result"
    }
   ],
   "source": [
    "out = pd.DataFrame(Pred_one_hot, columns = list(range(17)))\n",
    "out.head()"
   ]
  },
  {
   "cell_type": "code",
   "execution_count": 24,
   "metadata": {},
   "outputs": [
    {
     "data": {
      "text/plain": [
       "(4838, 17)"
      ]
     },
     "execution_count": 24,
     "metadata": {},
     "output_type": "execute_result"
    }
   ],
   "source": [
    "out.shape"
   ]
  },
  {
   "cell_type": "code",
   "execution_count": 25,
   "metadata": {},
   "outputs": [],
   "source": [
    "out.to_csv('first_64k_vali_as_train.csv', index = False, header = False)"
   ]
  },
  {
   "cell_type": "markdown",
   "metadata": {},
   "source": [
    "##### 挖掘该套策略的全部"
   ]
  },
  {
   "cell_type": "code",
   "execution_count": 1,
   "metadata": {},
   "outputs": [
    {
     "name": "stdout",
     "output_type": "stream",
     "text": [
      "The shape of data is  (24119, 18449)\n",
      "step 0, train accuracy 0.0862, train loss 3501.060547\n",
      "step 200, train accuracy 0.4461, train loss 799.105713\n",
      "step 400, train accuracy 0.4806, train loss 627.051941\n",
      "step 600, train accuracy 0.4695, train loss 622.606873\n",
      "step 800, train accuracy 0.4913, train loss 527.536499\n",
      "step 1000, train accuracy 0.4936, train loss 395.613281\n",
      "step 1200, train accuracy 0.5007, train loss 447.039459\n",
      "step 1400, train accuracy 0.5109, train loss 371.680420\n",
      "step 1600, train accuracy 0.5092, train loss 365.894165\n",
      "step 1800, train accuracy 0.5167, train loss 327.782471\n",
      "step 2000, train accuracy 0.5172, train loss 310.625122\n",
      "step 2200, train accuracy 0.5187, train loss 343.159912\n",
      "step 2400, train accuracy 0.5199, train loss 317.177368\n",
      "step 2600, train accuracy 0.5196, train loss 298.385986\n",
      "step 2800, train accuracy 0.5222, train loss 307.308716\n",
      "step 3000, train accuracy 0.5177, train loss 290.503601\n",
      "step 3200, train accuracy 0.5262, train loss 303.264313\n",
      "step 3400, train accuracy 0.5288, train loss 227.586380\n",
      "step 3600, train accuracy 0.5204, train loss 270.798492\n",
      "step 3800, train accuracy 0.5299, train loss 217.417526\n",
      "step 4000, train accuracy 0.5317, train loss 235.790359\n",
      "step 4200, train accuracy 0.5207, train loss 226.035950\n",
      "step 4400, train accuracy 0.5219, train loss 204.773453\n",
      "step 4600, train accuracy 0.5245, train loss 200.878784\n",
      "step 4800, train accuracy 0.5245, train loss 184.222748\n",
      "step 5000, train accuracy 0.5268, train loss 191.572906\n",
      "step 5200, train accuracy 0.5323, train loss 175.063370\n",
      "step 5400, train accuracy 0.5327, train loss 221.116333\n",
      "step 5600, train accuracy 0.5321, train loss 172.873306\n",
      "step 5800, train accuracy 0.53, train loss 165.271393\n",
      "step 6000, train accuracy 0.5316, train loss 198.159790\n",
      "step 6200, train accuracy 0.5321, train loss 159.430389\n",
      "step 6400, train accuracy 0.529, train loss 124.171799\n",
      "step 6600, train accuracy 0.5306, train loss 127.805420\n",
      "step 6800, train accuracy 0.527, train loss 198.097198\n",
      "step 7000, train accuracy 0.5283, train loss 106.226723\n",
      "step 7200, train accuracy 0.5277, train loss 148.603180\n",
      "step 7400, train accuracy 0.5323, train loss 140.792709\n",
      "step 7600, train accuracy 0.5185, train loss 140.276901\n",
      "step 7800, train accuracy 0.5212, train loss 123.171547\n",
      "step 8000, train accuracy 0.5256, train loss 112.749374\n",
      "step 8200, train accuracy 0.529, train loss 109.996971\n",
      "step 8400, train accuracy 0.5257, train loss 106.260941\n",
      "step 8600, train accuracy 0.5312, train loss 91.963730\n",
      "step 8800, train accuracy 0.5339, train loss 110.179703\n",
      "step 9000, train accuracy 0.5317, train loss 91.508987\n",
      "step 9200, train accuracy 0.5406, train loss 95.721382\n",
      "step 9400, train accuracy 0.537, train loss 94.862167\n",
      "step 9600, train accuracy 0.5225, train loss 87.009529\n",
      "step 9800, train accuracy 0.5264, train loss 75.610199\n",
      "step 10000, train accuracy 0.5354, train loss 80.136482\n",
      "step 10200, train accuracy 0.5341, train loss 72.797127\n",
      "step 10400, train accuracy 0.5366, train loss 65.507492\n",
      "step 10600, train accuracy 0.5336, train loss 50.971867\n",
      "step 10800, train accuracy 0.5287, train loss 60.784271\n",
      "step 11000, train accuracy 0.5338, train loss 51.460274\n",
      "step 11200, train accuracy 0.5347, train loss 75.865540\n",
      "step 11400, train accuracy 0.5282, train loss 64.928368\n",
      "step 11600, train accuracy 0.5344, train loss 50.180599\n",
      "step 11800, train accuracy 0.534, train loss 56.809189\n",
      "step 12000, train accuracy 0.5225, train loss 41.142746\n",
      "step 12200, train accuracy 0.5249, train loss 39.652901\n",
      "step 12400, train accuracy 0.5301, train loss 35.942558\n",
      "step 12600, train accuracy 0.5349, train loss 55.452774\n",
      "step 12800, train accuracy 0.529, train loss 32.618370\n",
      "step 13000, train accuracy 0.5375, train loss 40.385403\n",
      "step 13200, train accuracy 0.5275, train loss 48.239578\n",
      "step 13400, train accuracy 0.5352, train loss 24.862421\n",
      "step 13600, train accuracy 0.5353, train loss 28.501842\n",
      "step 13800, train accuracy 0.5354, train loss 18.825657\n",
      "step 14000, train accuracy 0.5234, train loss 18.172403\n",
      "step 14200, train accuracy 0.5331, train loss 22.789442\n",
      "step 14400, train accuracy 0.5277, train loss 23.954348\n",
      "step 14600, train accuracy 0.529, train loss 37.169163\n",
      "step 14800, train accuracy 0.5435, train loss 32.932831\n",
      "step 15000, train accuracy 0.5167, train loss 18.884727\n",
      "step 15200, train accuracy 0.5255, train loss 17.409130\n",
      "step 15400, train accuracy 0.5287, train loss 32.244568\n",
      "step 15600, train accuracy 0.5287, train loss 13.260602\n",
      "step 15800, train accuracy 0.5403, train loss 12.203358\n",
      "step 16000, train accuracy 0.5354, train loss 10.713616\n",
      "step 16200, train accuracy 0.5311, train loss 10.433908\n",
      "step 16400, train accuracy 0.5195, train loss 11.055462\n",
      "step 16600, train accuracy 0.5277, train loss 8.829308\n",
      "step 16800, train accuracy 0.5267, train loss 40.047611\n",
      "step 17000, train accuracy 0.5266, train loss 5.443349\n",
      "step 17200, train accuracy 0.5291, train loss 25.834000\n",
      "step 17400, train accuracy 0.5325, train loss 8.994128\n",
      "step 17600, train accuracy 0.5232, train loss 5.358599\n",
      "step 17800, train accuracy 0.5314, train loss 23.465797\n",
      "step 18000, train accuracy 0.5306, train loss 7.691382\n",
      "step 18200, train accuracy 0.5298, train loss 5.016158\n",
      "step 18400, train accuracy 0.5301, train loss 5.386082\n",
      "step 18600, train accuracy 0.5231, train loss 24.474030\n",
      "step 18800, train accuracy 0.5353, train loss 21.288298\n",
      "step 19000, train accuracy 0.5353, train loss 5.166159\n",
      "step 19200, train accuracy 0.5269, train loss 20.167419\n",
      "step 19400, train accuracy 0.5304, train loss 2.392597\n",
      "step 19600, train accuracy 0.5338, train loss 21.501368\n",
      "step 19800, train accuracy 0.5388, train loss 20.055056\n",
      "step 20000, train accuracy 0.5286, train loss 19.844511\n",
      "step 20200, train accuracy 0.5351, train loss 5.360402\n",
      "step 20400, train accuracy 0.5294, train loss 2.361151\n",
      "step 20600, train accuracy 0.5357, train loss 2.364336\n",
      "step 20800, train accuracy 0.5278, train loss 3.070905\n",
      "step 21000, train accuracy 0.536, train loss 3.457203\n",
      "step 21200, train accuracy 0.5332, train loss 2.394508\n",
      "step 21400, train accuracy 0.5262, train loss 17.754168\n",
      "step 21600, train accuracy 0.5286, train loss 1.996065\n",
      "step 21800, train accuracy 0.5363, train loss 18.080193\n",
      "step 22000, train accuracy 0.5435, train loss 1.639857\n",
      "step 22200, train accuracy 0.5314, train loss 2.181937\n",
      "step 22400, train accuracy 0.5382, train loss 1.798491\n",
      "step 22600, train accuracy 0.5194, train loss 1.541744\n",
      "step 22800, train accuracy 0.529, train loss 1.827913\n",
      "step 23000, train accuracy 0.5275, train loss 1.782806\n",
      "step 23200, train accuracy 0.5322, train loss 2.008119\n",
      "step 23400, train accuracy 0.5263, train loss 1.869038\n",
      "step 23600, train accuracy 0.5283, train loss 17.500635\n",
      "step 23800, train accuracy 0.5316, train loss 33.234985\n",
      "step 24000, train accuracy 0.5396, train loss 1.394993\n",
      "step 24200, train accuracy 0.531, train loss 17.188120\n",
      "step 24400, train accuracy 0.5392, train loss 17.066181\n",
      "step 24600, train accuracy 0.5317, train loss 1.562879\n",
      "step 24800, train accuracy 0.5251, train loss 16.951746\n",
      "step 25000, train accuracy 0.5358, train loss 16.988338\n",
      "step 25200, train accuracy 0.5336, train loss 0.862144\n",
      "step 25400, train accuracy 0.5365, train loss 0.727670\n",
      "step 25600, train accuracy 0.5456, train loss 1.378552\n",
      "step 25800, train accuracy 0.5221, train loss 1.711792\n",
      "step 26000, train accuracy 0.5344, train loss 1.045460\n",
      "step 26200, train accuracy 0.5373, train loss 0.985956\n",
      "step 26400, train accuracy 0.5318, train loss 1.320104\n",
      "step 26600, train accuracy 0.5377, train loss 0.721354\n",
      "step 26800, train accuracy 0.5368, train loss 0.479354\n",
      "step 27000, train accuracy 0.5396, train loss 0.963211\n",
      "step 27200, train accuracy 0.5364, train loss 0.916299\n",
      "step 27400, train accuracy 0.5405, train loss 0.469299\n",
      "step 27600, train accuracy 0.5261, train loss 16.800262\n",
      "step 27800, train accuracy 0.5317, train loss 0.708570\n",
      "step 28000, train accuracy 0.5308, train loss 32.691940\n",
      "step 28200, train accuracy 0.5376, train loss 0.545526\n",
      "step 28400, train accuracy 0.5331, train loss 17.156610\n",
      "step 28600, train accuracy 0.5239, train loss 0.646387\n",
      "step 28800, train accuracy 0.5372, train loss 0.266282\n",
      "step 29000, train accuracy 0.5366, train loss 16.881886\n",
      "step 29200, train accuracy 0.5296, train loss 0.465662\n"
     ]
    },
    {
     "name": "stdout",
     "output_type": "stream",
     "text": [
      "step 29400, train accuracy 0.5348, train loss 0.323528\n",
      "step 29600, train accuracy 0.5333, train loss 0.361449\n",
      "step 29800, train accuracy 0.5247, train loss 0.311414\n",
      "step 30000, train accuracy 0.5379, train loss 0.442805\n",
      "step 30200, train accuracy 0.5312, train loss 0.410918\n",
      "step 30400, train accuracy 0.5373, train loss 0.450604\n",
      "step 30600, train accuracy 0.5227, train loss 0.862874\n",
      "step 30800, train accuracy 0.5293, train loss 16.504375\n",
      "step 31000, train accuracy 0.5274, train loss 16.497541\n",
      "step 31200, train accuracy 0.532, train loss 16.425076\n",
      "step 31400, train accuracy 0.5359, train loss 16.455519\n",
      "step 31600, train accuracy 0.5395, train loss 32.689018\n",
      "step 31800, train accuracy 0.5364, train loss 0.376679\n",
      "step 32000, train accuracy 0.5234, train loss 0.419510\n",
      "step 32200, train accuracy 0.5383, train loss 0.175797\n",
      "step 32400, train accuracy 0.5279, train loss 0.235509\n",
      "step 32600, train accuracy 0.5287, train loss 0.769063\n",
      "step 32800, train accuracy 0.5296, train loss 0.132920\n",
      "step 33000, train accuracy 0.5431, train loss 0.269671\n",
      "step 33200, train accuracy 0.5304, train loss 0.470904\n",
      "step 33400, train accuracy 0.5361, train loss 0.315477\n",
      "step 33600, train accuracy 0.5323, train loss 0.328735\n",
      "step 33800, train accuracy 0.5346, train loss 16.276106\n",
      "step 34000, train accuracy 0.529, train loss 0.139317\n",
      "step 34200, train accuracy 0.5428, train loss 0.202088\n",
      "step 34400, train accuracy 0.5382, train loss 0.214687\n",
      "step 34600, train accuracy 0.5354, train loss 0.197254\n",
      "step 34800, train accuracy 0.5363, train loss 0.185281\n",
      "step 35000, train accuracy 0.5355, train loss 0.335962\n",
      "step 35200, train accuracy 0.5416, train loss 0.196573\n",
      "step 35400, train accuracy 0.5343, train loss 0.606578\n",
      "step 35600, train accuracy 0.5436, train loss 0.242250\n",
      "step 35800, train accuracy 0.5316, train loss 0.151913\n",
      "step 36000, train accuracy 0.5344, train loss 0.169236\n",
      "step 36200, train accuracy 0.5385, train loss 16.249718\n",
      "step 36400, train accuracy 0.5402, train loss 16.267673\n",
      "step 36600, train accuracy 0.5367, train loss 0.360343\n",
      "step 36800, train accuracy 0.5334, train loss 0.188642\n",
      "step 37000, train accuracy 0.5416, train loss 16.209496\n",
      "step 37200, train accuracy 0.5267, train loss 0.122031\n",
      "step 37400, train accuracy 0.5307, train loss 0.192422\n",
      "step 37600, train accuracy 0.536, train loss 0.132596\n",
      "step 37800, train accuracy 0.537, train loss 0.148156\n",
      "step 38000, train accuracy 0.5332, train loss 16.222874\n",
      "step 38200, train accuracy 0.5411, train loss 0.166752\n",
      "step 38400, train accuracy 0.5414, train loss 0.115886\n",
      "step 38600, train accuracy 0.5366, train loss 0.127770\n",
      "step 38800, train accuracy 0.5389, train loss 16.239967\n",
      "step 39000, train accuracy 0.5205, train loss 0.117228\n",
      "step 39200, train accuracy 0.5366, train loss 0.088693\n",
      "step 39400, train accuracy 0.5311, train loss 0.109028\n",
      "step 39600, train accuracy 0.5298, train loss 0.448082\n",
      "step 39800, train accuracy 0.5416, train loss 0.085226\n"
     ]
    }
   ],
   "source": [
    "# start tensorflow interactiveSession                              \n",
    "import tensorflow as tf\n",
    "import pandas as pd\n",
    "import numpy as np\n",
    "from PIL import Image\n",
    "import random\n",
    "\n",
    "filename = 'E:/Alibaba German AI Challenge/data_process/vali_data.npy'\n",
    "\n",
    "vali = np.load('E:/Alibaba German AI Challenge/data_process/sample_of_training_10k.npy')\n",
    "data = np.load(filename)\n",
    "print('The shape of data is ',data.shape)\n",
    "\n",
    "sess = tf.InteractiveSession()\n",
    "\n",
    "#####################################################     Net Define     ##################################################### \n",
    "\n",
    "# weight initialization\n",
    "def weight_variable(shape):\n",
    "    initial = tf.truncated_normal(shape, stddev=0.1)\n",
    "    return tf.Variable(initial)\n",
    "\n",
    "def bias_variable(shape):\n",
    "    initial = tf.constant(0.1, shape = shape)\n",
    "    return tf.Variable(initial)\n",
    "\n",
    "# convolution\n",
    "def conv2d(x, W):\n",
    "    return tf.nn.conv2d(x, W, strides=[1, 1, 1, 1], padding='SAME')\n",
    "# pooling\n",
    "def max_pool_2x2(x):\n",
    "    return tf.nn.max_pool(x, ksize=[1, 2, 2, 1], strides=[1, 2, 2, 1], padding='SAME')\n",
    "\n",
    "# Create the model\n",
    "# placeholder\n",
    "x = tf.placeholder(\"float\", [None, 18432])\n",
    "y_ = tf.placeholder(\"float\", [None, 17])\n",
    "\n",
    "\n",
    "# first convolutinal layer\n",
    "w_conv1 = weight_variable([5, 5, 18, 32])\n",
    "b_conv1 = bias_variable([32])\n",
    "\n",
    "x_image = tf.reshape(x, [-1, 32, 32, 18])\n",
    "\n",
    "h_conv1 = tf.nn.relu(conv2d(x_image, w_conv1) + b_conv1)\n",
    "h_pool1 = max_pool_2x2(h_conv1)\n",
    "\n",
    "# second convolutional layer\n",
    "w_conv2 = weight_variable([5, 5, 32, 64])\n",
    "b_conv2 = bias_variable([64])\n",
    "\n",
    "h_conv2 = tf.nn.relu(conv2d(h_pool1, w_conv2) + b_conv2)\n",
    "h_pool2 = max_pool_2x2(h_conv2)\n",
    "\n",
    "# densely connected layer\n",
    "w_fc1 = weight_variable([8*8*64, 1024])\n",
    "b_fc1 = bias_variable([1024])\n",
    "\n",
    "h_pool2_flat = tf.reshape(h_pool2, [-1, 8*8*64])\n",
    "h_fc1 = tf.nn.relu(tf.matmul(h_pool2_flat, w_fc1) + b_fc1)\n",
    "\n",
    "# dropout\n",
    "keep_prob = tf.placeholder(\"float\")\n",
    "h_fc1_drop = tf.nn.dropout(h_fc1, keep_prob)\n",
    "\n",
    "# readout layer\n",
    "w_fc2 = weight_variable([1024, 17])\n",
    "b_fc2 = bias_variable([17])\n",
    "\n",
    "y_conv = tf.nn.softmax(tf.matmul(h_fc1_drop, w_fc2) + b_fc2)\n",
    "\n",
    "# train and evaluate the model\n",
    "#交叉熵作为损失函数\n",
    "delta = 1e-7\n",
    "cross_entropy = -tf.reduce_sum(y_*tf.log(y_conv+delta))\n",
    "train_step = tf.train.AdamOptimizer(1e-4).minimize(cross_entropy)\n",
    "correct_prediction = tf.equal(tf.argmax(y_conv, 1), tf.argmax(y_, 1))\n",
    "accuracy = tf.reduce_mean(tf.cast(correct_prediction, \"float\"))\n",
    "sess.run(tf.global_variables_initializer())\n",
    "\n",
    "\n",
    "#####################################################       Train     ##################################################### \n",
    "\n",
    "\n",
    "##随机抽取一部分作为一个mini-batch\n",
    "def get_batch(data, batch_size):\n",
    "    sample = random.sample(list(data),batch_size)\n",
    "    sample = np.array(sample)\n",
    "    train_x = sample[:,:-17]\n",
    "    train_y = sample[:,-17:]\n",
    "    \n",
    "    return train_x, train_y\n",
    "\n",
    "Loss = []\n",
    "Eval = []\n",
    "\n",
    "batch_size = 300\n",
    "for i in range(40000):\n",
    "    batch_x,batch_y = get_batch(data,batch_size)\n",
    "    train_step.run(feed_dict={x:batch_x, y_:batch_y, keep_prob:0.5})\n",
    "    loss_temp = cross_entropy.eval(feed_dict={x:batch_x, y_:batch_y, keep_prob:1.0})\n",
    "    Loss.append(loss_temp)\n",
    "    if i%200 == 0:\n",
    "        train_accuracy = accuracy.eval(feed_dict={x:vali[:,:-17], y_:vali[:,-17:], keep_prob:1.0})\n",
    "        Eval.append(train_accuracy)\n",
    "        print (\"step %d, train accuracy %g, train loss %f\" %(i, train_accuracy, loss_temp))\n"
   ]
  },
  {
   "cell_type": "code",
   "execution_count": 2,
   "metadata": {},
   "outputs": [
    {
     "data": {
      "image/png": "[encoded data removed]",
      "text/plain": [
       "<matplotlib.figure.Figure at 0x2875e4539b0>"
      ]
     },
     "metadata": {},
     "output_type": "display_data"
    }
   ],
   "source": [
    "import matplotlib.pyplot as plt\n",
    "\n",
    "xx = list(range(len(Eval)))\n",
    "\n",
    "plt.figure(figsize = (8,5))\n",
    "plt.plot(xx,Eval)\n",
    "plt.title('Eval')\n",
    "plt.show()"
   ]
  },
  {
   "cell_type": "code",
   "execution_count": 3,
   "metadata": {},
   "outputs": [
    {
     "name": "stdout",
     "output_type": "stream",
     "text": [
      "             precision    recall  f1-score   support\n",
      "\n",
      "          0       0.11      0.04      0.06       157\n",
      "          1       0.33      0.35      0.34       710\n",
      "          2       0.44      0.33      0.38       858\n",
      "          3       0.14      0.25      0.18       254\n",
      "          4       0.28      0.18      0.22       492\n",
      "          5       0.38      0.19      0.25       956\n",
      "          6       0.01      0.01      0.01        80\n",
      "          7       0.56      0.65      0.60      1092\n",
      "          8       0.20      0.33      0.25       389\n",
      "          9       0.21      0.12      0.16       323\n",
      "         10       0.70      0.90      0.79      1230\n",
      "         11       0.38      0.14      0.21       264\n",
      "         12       0.04      0.02      0.03       268\n",
      "         13       0.61      0.76      0.68      1186\n",
      "         14       0.19      0.08      0.11        65\n",
      "         15       0.44      0.55      0.49       251\n",
      "         16       0.94      0.97      0.96      1425\n",
      "\n",
      "avg / total       0.51      0.53      0.51     10000\n",
      "\n"
     ]
    }
   ],
   "source": [
    "from sklearn.metrics import classification_report\n",
    "pred = y_conv.eval(feed_dict={x:vali[:,:-17], y_:vali[:,-17:], keep_prob:1.0})\n",
    "train_val_y = np.argmax(vali[:,-17:],axis = 1)\n",
    "pred_y = np.argmax(pred, axis = 1)\n",
    "print (classification_report(train_val_y, pred_y))"
   ]
  },
  {
   "cell_type": "code",
   "execution_count": 4,
   "metadata": {},
   "outputs": [
    {
     "name": "stdout",
     "output_type": "stream",
     "text": [
      "   0   1   2   3   4   5   6   7   8   9   10  11  12  13  14  15  16\n",
      "0   0   0   0   0   0   0   0   0   0   0   0   0   0   0   0   0   1\n",
      "1   0   0   1   0   0   0   0   0   0   0   0   0   0   0   0   0   0\n",
      "2   0   0   0   0   0   0   0   0   0   0   0   0   0   1   0   0   0\n",
      "3   0   0   0   0   0   0   0   0   0   0   1   0   0   0   0   0   0\n",
      "4   0   0   0   0   0   0   0   1   0   0   0   0   0   0   0   0   0\n"
     ]
    }
   ],
   "source": [
    "import h5py\n",
    "filename = 'E:/Alibaba German AI Challenge/origin_DATA/round1_test_a_20181109.h5'\n",
    "f = h5py.File(filename,'r')\n",
    "test_s1 = f['sen1']\n",
    "test_s2 = f['sen2']\n",
    "\n",
    "test = []\n",
    "for i in range(0,test_s1.shape[0]):\n",
    "    temp1 = test_s1[i].flatten()\n",
    "    temp2 = test_s2[i].flatten()\n",
    "    temp = np.hstack((temp1,temp2))\n",
    "    test.append(temp)\n",
    "test = np.array(test)\n",
    "\n",
    "test_y = np.zeros((test.shape[0],17))\n",
    "\n",
    "pred = tf.argmax(y_conv, 1)\n",
    "\n",
    "test_x_0 = test[0:1500]\n",
    "test_y_0 = test_y[0:1500]\n",
    "P_0 = pred.eval(feed_dict={x:test_x_0, y_:test_y_0, keep_prob:1.0})\n",
    "\n",
    "test_x_1 = test[1500:3000]\n",
    "test_y_1 = test_y[1500:3000]\n",
    "P_1 = pred.eval(feed_dict={x:test_x_1, y_:test_y_1, keep_prob:1.0})\n",
    "\n",
    "test_x_2 = test[3000:4500]\n",
    "test_y_2 = test_y[3000:4500]\n",
    "P_2 = pred.eval(feed_dict={x:test_x_2, y_:test_y_2, keep_prob:1.0})\n",
    "\n",
    "test_x_3 = test[4500:]\n",
    "test_y_3 = test_y[4500:]\n",
    "P_3 = pred.eval(feed_dict={x:test_x_3, y_:test_y_3, keep_prob:1.0})\n",
    "\n",
    "P = np.hstack([P_0,P_1,P_2,P_3])\n",
    "\n",
    "one_hot=tf.one_hot(P,17)\n",
    "Pred_one_hot = sess.run(one_hot)\n",
    "Pred_one_hot = Pred_one_hot.astype(np.int32)\n",
    "out = pd.DataFrame(Pred_one_hot, columns = list(range(17)))\n",
    "print(out.head())\n",
    "\n",
    "out.to_csv('forth_40k_batch_vali_Adam.csv', index = False, header = False)"
   ]
  },
  {
   "cell_type": "code",
   "execution_count": 1,
   "metadata": {},
   "outputs": [
    {
     "name": "stdout",
     "output_type": "stream",
     "text": [
      "The shape of data is  (24119, 18449)\n",
      "step 0, train accuracy 0.086, train loss 10549.526367\n",
      "step 100, train accuracy 0.485, train loss 3021.301758\n",
      "step 200, train accuracy 0.51, train loss 2443.161133\n",
      "step 300, train accuracy 0.532, train loss 1890.379150\n",
      "step 400, train accuracy 0.559, train loss 1780.113770\n",
      "step 500, train accuracy 0.557, train loss 1665.154541\n",
      "step 600, train accuracy 0.586, train loss 1497.526367\n",
      "step 700, train accuracy 0.614, train loss 1369.020996\n",
      "step 800, train accuracy 0.599, train loss 1304.535645\n",
      "step 900, train accuracy 0.613, train loss 1302.531250\n",
      "step 1000, train accuracy 0.654, train loss 1196.070557\n",
      "step 1100, train accuracy 0.661, train loss 1213.286011\n",
      "step 1200, train accuracy 0.683, train loss 1136.839600\n",
      "step 1300, train accuracy 0.68, train loss 1048.243896\n",
      "step 1400, train accuracy 0.698, train loss 1019.251892\n",
      "step 1500, train accuracy 0.677, train loss 1031.617920\n",
      "step 1600, train accuracy 0.715, train loss 920.973267\n",
      "step 1700, train accuracy 0.686, train loss 1006.383301\n",
      "step 1800, train accuracy 0.685, train loss 1018.709778\n",
      "step 1900, train accuracy 0.705, train loss 896.948303\n",
      "step 2000, train accuracy 0.735, train loss 924.078613\n",
      "step 2100, train accuracy 0.769, train loss 816.070190\n",
      "step 2200, train accuracy 0.768, train loss 799.420532\n",
      "step 2300, train accuracy 0.746, train loss 775.331787\n",
      "step 2400, train accuracy 0.769, train loss 776.388428\n",
      "step 2500, train accuracy 0.78, train loss 756.205933\n",
      "step 2600, train accuracy 0.79, train loss 721.189087\n",
      "step 2700, train accuracy 0.775, train loss 695.189209\n",
      "step 2800, train accuracy 0.799, train loss 719.804810\n",
      "step 2900, train accuracy 0.799, train loss 685.580383\n",
      "step 3000, train accuracy 0.814, train loss 615.439087\n",
      "step 3100, train accuracy 0.832, train loss 574.369019\n",
      "step 3200, train accuracy 0.816, train loss 588.131348\n",
      "step 3300, train accuracy 0.833, train loss 638.464233\n",
      "step 3400, train accuracy 0.835, train loss 553.778076\n",
      "step 3500, train accuracy 0.821, train loss 573.179688\n",
      "step 3600, train accuracy 0.855, train loss 487.541351\n",
      "step 3700, train accuracy 0.841, train loss 553.093750\n",
      "step 3800, train accuracy 0.846, train loss 494.666046\n",
      "step 3900, train accuracy 0.875, train loss 440.400818\n",
      "step 4000, train accuracy 0.865, train loss 437.459534\n",
      "step 4100, train accuracy 0.857, train loss 478.810059\n",
      "step 4200, train accuracy 0.873, train loss 408.566589\n",
      "step 4300, train accuracy 0.874, train loss 419.052582\n",
      "step 4400, train accuracy 0.891, train loss 377.765564\n",
      "step 4500, train accuracy 0.89, train loss 410.936401\n",
      "step 4600, train accuracy 0.889, train loss 393.196533\n",
      "step 4700, train accuracy 0.908, train loss 339.452759\n",
      "step 4800, train accuracy 0.904, train loss 373.273499\n",
      "step 4900, train accuracy 0.899, train loss 321.486389\n",
      "step 5000, train accuracy 0.913, train loss 306.311768\n",
      "step 5100, train accuracy 0.938, train loss 273.795532\n",
      "step 5200, train accuracy 0.932, train loss 261.967590\n",
      "step 5300, train accuracy 0.923, train loss 266.855469\n",
      "step 5400, train accuracy 0.937, train loss 238.778534\n",
      "step 5500, train accuracy 0.923, train loss 265.600708\n",
      "step 5600, train accuracy 0.951, train loss 226.953949\n",
      "step 5700, train accuracy 0.941, train loss 249.160431\n",
      "step 5800, train accuracy 0.946, train loss 215.878830\n",
      "step 5900, train accuracy 0.94, train loss 257.293457\n",
      "step 6000, train accuracy 0.95, train loss 252.912048\n",
      "step 6100, train accuracy 0.958, train loss 202.372986\n",
      "step 6200, train accuracy 0.964, train loss 177.334473\n",
      "step 6300, train accuracy 0.964, train loss 158.086975\n",
      "step 6400, train accuracy 0.967, train loss 179.947021\n",
      "step 6500, train accuracy 0.953, train loss 162.297012\n",
      "step 6600, train accuracy 0.977, train loss 166.109894\n",
      "step 6700, train accuracy 0.98, train loss 159.041473\n",
      "step 6800, train accuracy 0.982, train loss 136.565491\n",
      "step 6900, train accuracy 0.968, train loss 205.061493\n",
      "step 7000, train accuracy 0.978, train loss 117.683792\n",
      "step 7100, train accuracy 0.982, train loss 112.446381\n",
      "step 7200, train accuracy 0.985, train loss 100.861473\n",
      "step 7300, train accuracy 0.987, train loss 104.313957\n",
      "step 7400, train accuracy 0.988, train loss 101.061707\n",
      "step 7500, train accuracy 0.992, train loss 91.327087\n",
      "step 7600, train accuracy 0.991, train loss 88.861084\n",
      "step 7700, train accuracy 0.99, train loss 89.160477\n",
      "step 7800, train accuracy 0.99, train loss 84.204407\n",
      "step 7900, train accuracy 0.992, train loss 64.442932\n",
      "step 8000, train accuracy 0.986, train loss 121.414948\n",
      "step 8100, train accuracy 0.998, train loss 64.984985\n",
      "step 8200, train accuracy 0.996, train loss 57.075768\n",
      "step 8300, train accuracy 0.997, train loss 51.368309\n",
      "step 8400, train accuracy 0.994, train loss 66.212280\n",
      "step 8500, train accuracy 0.996, train loss 69.521210\n",
      "step 8600, train accuracy 0.996, train loss 59.466068\n",
      "step 8700, train accuracy 0.996, train loss 43.531979\n",
      "step 8800, train accuracy 0.997, train loss 53.813118\n",
      "step 8900, train accuracy 0.999, train loss 37.345432\n",
      "step 9000, train accuracy 0.996, train loss 52.797287\n",
      "step 9100, train accuracy 0.998, train loss 30.884176\n",
      "step 9200, train accuracy 0.995, train loss 51.253876\n",
      "step 9300, train accuracy 0.997, train loss 45.961800\n",
      "step 9400, train accuracy 0.996, train loss 62.833691\n",
      "step 9500, train accuracy 0.999, train loss 29.905762\n",
      "step 9600, train accuracy 0.997, train loss 74.284592\n",
      "step 9700, train accuracy 1, train loss 22.936134\n",
      "step 9800, train accuracy 0.997, train loss 54.036182\n",
      "step 9900, train accuracy 0.999, train loss 24.603813\n",
      "step 10000, train accuracy 0.999, train loss 19.257931\n",
      "step 10100, train accuracy 0.999, train loss 24.361551\n",
      "step 10200, train accuracy 0.998, train loss 39.591461\n"
     ]
    },
    {
     "ename": "KeyboardInterrupt",
     "evalue": "",
     "output_type": "error",
     "traceback": [
      "\u001b[1;31m---------------------------------------------------------------------------\u001b[0m",
      "\u001b[1;31mKeyboardInterrupt\u001b[0m                         Traceback (most recent call last)",
      "\u001b[1;32m<ipython-input-1-fc15086b981d>\u001b[0m in \u001b[0;36m<module>\u001b[1;34m()\u001b[0m\n\u001b[0;32m     98\u001b[0m \u001b[0mbatch_size\u001b[0m \u001b[1;33m=\u001b[0m \u001b[1;36m1000\u001b[0m\u001b[1;33m\u001b[0m\u001b[0m\n\u001b[0;32m     99\u001b[0m \u001b[1;32mfor\u001b[0m \u001b[0mi\u001b[0m \u001b[1;32min\u001b[0m \u001b[0mrange\u001b[0m\u001b[1;33m(\u001b[0m\u001b[1;36m20000\u001b[0m\u001b[1;33m)\u001b[0m\u001b[1;33m:\u001b[0m\u001b[1;33m\u001b[0m\u001b[0m\n\u001b[1;32m--> 100\u001b[1;33m     \u001b[0mbatch_x\u001b[0m\u001b[1;33m,\u001b[0m\u001b[0mbatch_y\u001b[0m \u001b[1;33m=\u001b[0m \u001b[0mget_batch\u001b[0m\u001b[1;33m(\u001b[0m\u001b[0mdata\u001b[0m\u001b[1;33m,\u001b[0m\u001b[0mbatch_size\u001b[0m\u001b[1;33m)\u001b[0m\u001b[1;33m\u001b[0m\u001b[0m\n\u001b[0m\u001b[0;32m    101\u001b[0m     \u001b[0mtrain_step\u001b[0m\u001b[1;33m.\u001b[0m\u001b[0mrun\u001b[0m\u001b[1;33m(\u001b[0m\u001b[0mfeed_dict\u001b[0m\u001b[1;33m=\u001b[0m\u001b[1;33m{\u001b[0m\u001b[0mx\u001b[0m\u001b[1;33m:\u001b[0m\u001b[0mbatch_x\u001b[0m\u001b[1;33m,\u001b[0m \u001b[0my_\u001b[0m\u001b[1;33m:\u001b[0m\u001b[0mbatch_y\u001b[0m\u001b[1;33m,\u001b[0m \u001b[0mkeep_prob\u001b[0m\u001b[1;33m:\u001b[0m\u001b[1;36m0.5\u001b[0m\u001b[1;33m}\u001b[0m\u001b[1;33m)\u001b[0m\u001b[1;33m\u001b[0m\u001b[0m\n\u001b[0;32m    102\u001b[0m     \u001b[0mloss_temp\u001b[0m \u001b[1;33m=\u001b[0m \u001b[0mcross_entropy\u001b[0m\u001b[1;33m.\u001b[0m\u001b[0meval\u001b[0m\u001b[1;33m(\u001b[0m\u001b[0mfeed_dict\u001b[0m\u001b[1;33m=\u001b[0m\u001b[1;33m{\u001b[0m\u001b[0mx\u001b[0m\u001b[1;33m:\u001b[0m\u001b[0mbatch_x\u001b[0m\u001b[1;33m,\u001b[0m \u001b[0my_\u001b[0m\u001b[1;33m:\u001b[0m\u001b[0mbatch_y\u001b[0m\u001b[1;33m,\u001b[0m \u001b[0mkeep_prob\u001b[0m\u001b[1;33m:\u001b[0m\u001b[1;36m1.0\u001b[0m\u001b[1;33m}\u001b[0m\u001b[1;33m)\u001b[0m\u001b[1;33m\u001b[0m\u001b[0m\n",
      "\u001b[1;32m<ipython-input-1-fc15086b981d>\u001b[0m in \u001b[0;36mget_batch\u001b[1;34m(data, batch_size)\u001b[0m\n\u001b[0;32m     87\u001b[0m \u001b[1;32mdef\u001b[0m \u001b[0mget_batch\u001b[0m\u001b[1;33m(\u001b[0m\u001b[0mdata\u001b[0m\u001b[1;33m,\u001b[0m \u001b[0mbatch_size\u001b[0m\u001b[1;33m)\u001b[0m\u001b[1;33m:\u001b[0m\u001b[1;33m\u001b[0m\u001b[0m\n\u001b[0;32m     88\u001b[0m     \u001b[0msample\u001b[0m \u001b[1;33m=\u001b[0m \u001b[0mrandom\u001b[0m\u001b[1;33m.\u001b[0m\u001b[0msample\u001b[0m\u001b[1;33m(\u001b[0m\u001b[0mlist\u001b[0m\u001b[1;33m(\u001b[0m\u001b[0mdata\u001b[0m\u001b[1;33m)\u001b[0m\u001b[1;33m,\u001b[0m\u001b[0mbatch_size\u001b[0m\u001b[1;33m)\u001b[0m\u001b[1;33m\u001b[0m\u001b[0m\n\u001b[1;32m---> 89\u001b[1;33m     \u001b[0msample\u001b[0m \u001b[1;33m=\u001b[0m \u001b[0mnp\u001b[0m\u001b[1;33m.\u001b[0m\u001b[0marray\u001b[0m\u001b[1;33m(\u001b[0m\u001b[0msample\u001b[0m\u001b[1;33m)\u001b[0m\u001b[1;33m\u001b[0m\u001b[0m\n\u001b[0m\u001b[0;32m     90\u001b[0m     \u001b[0mtrain_x\u001b[0m \u001b[1;33m=\u001b[0m \u001b[0msample\u001b[0m\u001b[1;33m[\u001b[0m\u001b[1;33m:\u001b[0m\u001b[1;33m,\u001b[0m\u001b[1;33m:\u001b[0m\u001b[1;33m-\u001b[0m\u001b[1;36m17\u001b[0m\u001b[1;33m]\u001b[0m\u001b[1;33m\u001b[0m\u001b[0m\n\u001b[0;32m     91\u001b[0m     \u001b[0mtrain_y\u001b[0m \u001b[1;33m=\u001b[0m \u001b[0msample\u001b[0m\u001b[1;33m[\u001b[0m\u001b[1;33m:\u001b[0m\u001b[1;33m,\u001b[0m\u001b[1;33m-\u001b[0m\u001b[1;36m17\u001b[0m\u001b[1;33m:\u001b[0m\u001b[1;33m]\u001b[0m\u001b[1;33m\u001b[0m\u001b[0m\n",
      "\u001b[1;31mKeyboardInterrupt\u001b[0m: "
     ]
    }
   ],
   "source": [
    "# start tensorflow interactiveSession                              \n",
    "import tensorflow as tf\n",
    "import pandas as pd\n",
    "import numpy as np\n",
    "from PIL import Image\n",
    "import random\n",
    "\n",
    "filename = 'E:/Alibaba German AI Challenge/data_process/vali_data.npy'\n",
    "\n",
    "vali = np.load('E:/Alibaba German AI Challenge/data_process/sample_of_training_10k.npy')\n",
    "data = np.load(filename)\n",
    "print('The shape of data is ',data.shape)\n",
    "\n",
    "sess = tf.InteractiveSession()\n",
    "\n",
    "#####################################################     Net Define     ##################################################### \n",
    "\n",
    "# weight initialization\n",
    "def weight_variable(shape):\n",
    "    initial = tf.truncated_normal(shape, stddev=0.1)\n",
    "    return tf.Variable(initial)\n",
    "\n",
    "def bias_variable(shape):\n",
    "    initial = tf.constant(0.1, shape = shape)\n",
    "    return tf.Variable(initial)\n",
    "\n",
    "# convolution\n",
    "def conv2d(x, W):\n",
    "    return tf.nn.conv2d(x, W, strides=[1, 1, 1, 1], padding='SAME')\n",
    "# pooling\n",
    "def max_pool_2x2(x):\n",
    "    return tf.nn.max_pool(x, ksize=[1, 2, 2, 1], strides=[1, 2, 2, 1], padding='SAME')\n",
    "\n",
    "# Create the model\n",
    "# placeholder\n",
    "x = tf.placeholder(\"float\", [None, 18432])\n",
    "y_ = tf.placeholder(\"float\", [None, 17])\n",
    "\n",
    "\n",
    "# first convolutinal layer\n",
    "w_conv1 = weight_variable([5, 5, 18, 32])\n",
    "b_conv1 = bias_variable([32])\n",
    "\n",
    "x_image = tf.reshape(x, [-1, 32, 32, 18])\n",
    "\n",
    "h_conv1 = tf.nn.relu(conv2d(x_image, w_conv1) + b_conv1)\n",
    "h_pool1 = max_pool_2x2(h_conv1)\n",
    "\n",
    "# second convolutional layer\n",
    "w_conv2 = weight_variable([5, 5, 32, 64])\n",
    "b_conv2 = bias_variable([64])\n",
    "\n",
    "h_conv2 = tf.nn.relu(conv2d(h_pool1, w_conv2) + b_conv2)\n",
    "h_pool2 = max_pool_2x2(h_conv2)\n",
    "\n",
    "# densely connected layer\n",
    "w_fc1 = weight_variable([8*8*64, 1024])\n",
    "b_fc1 = bias_variable([1024])\n",
    "\n",
    "h_pool2_flat = tf.reshape(h_pool2, [-1, 8*8*64])\n",
    "h_fc1 = tf.nn.relu(tf.matmul(h_pool2_flat, w_fc1) + b_fc1)\n",
    "\n",
    "# dropout\n",
    "keep_prob = tf.placeholder(\"float\")\n",
    "h_fc1_drop = tf.nn.dropout(h_fc1, keep_prob)\n",
    "\n",
    "# readout layer\n",
    "w_fc2 = weight_variable([1024, 17])\n",
    "b_fc2 = bias_variable([17])\n",
    "\n",
    "y_conv = tf.nn.softmax(tf.matmul(h_fc1_drop, w_fc2) + b_fc2)\n",
    "\n",
    "# train and evaluate the model\n",
    "#交叉熵作为损失函数\n",
    "delta = 1e-7\n",
    "cross_entropy = -tf.reduce_sum(y_*tf.log(y_conv+delta))\n",
    "train_step = tf.train.AdamOptimizer(1e-4).minimize(cross_entropy)\n",
    "correct_prediction = tf.equal(tf.argmax(y_conv, 1), tf.argmax(y_, 1))\n",
    "accuracy = tf.reduce_mean(tf.cast(correct_prediction, \"float\"))\n",
    "sess.run(tf.global_variables_initializer())\n",
    "\n",
    "\n",
    "#####################################################       Train     ##################################################### \n",
    "\n",
    "\n",
    "##随机抽取一部分作为一个mini-batch\n",
    "def get_batch(data, batch_size):\n",
    "    sample = random.sample(list(data),batch_size)\n",
    "    sample = np.array(sample)\n",
    "    train_x = sample[:,:-17]\n",
    "    train_y = sample[:,-17:]\n",
    "    \n",
    "    return train_x, train_y\n",
    "\n",
    "Loss = []\n",
    "Eval = []\n",
    "\n",
    "batch_size = 1000\n",
    "for i in range(12000):\n",
    "    batch_x,batch_y = get_batch(data,batch_size)\n",
    "    train_step.run(feed_dict={x:batch_x, y_:batch_y, keep_prob:0.5})\n",
    "    loss_temp = cross_entropy.eval(feed_dict={x:batch_x, y_:batch_y, keep_prob:1.0})\n",
    "    Loss.append(loss_temp)\n",
    "    if i%100 == 0:\n",
    "        train_accuracy = accuracy.eval(feed_dict={x:batch_x, y_:batch_y, keep_prob:1.0})\n",
    "        print (\"step %d, train accuracy %g, train loss %f\" %(i, train_accuracy, loss_temp))\n"
   ]
  },
  {
   "cell_type": "code",
   "execution_count": null,
   "metadata": {},
   "outputs": [],
   "source": []
  }
 ],
 "metadata": {
  "kernelspec": {
   "display_name": "Python 3",
   "language": "python",
   "name": "python3"
  },
  "language_info": {
   "codemirror_mode": {
    "name": "ipython",
    "version": 3
   },
   "file_extension": ".py",
   "mimetype": "text/x-python",
   "name": "python",
   "nbconvert_exporter": "python",
   "pygments_lexer": "ipython3",
   "version": "3.6.6"
  }
 },
 "nbformat": 4,
 "nbformat_minor": 2
}
