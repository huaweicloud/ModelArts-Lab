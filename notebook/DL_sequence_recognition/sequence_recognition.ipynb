{
 "cells": [
  {
   "cell_type": "markdown",
   "metadata": {},
   "source": [
    "# CRNN 字符识别\n",
    "\n",
    "## CRNN卷积循环网络\n",
    "\n",
    "CRNN是一种的典型的端到端的场景文字识别模型，不同于之前的场景文字识别框架，CRNN将特征提取，序列建模以及转录整合到统一的模型框架中。CRNN拥有如下特性：\n",
    "\n",
    "- 端到端训练，不需要进行单独训练和协调\n",
    "- 处理任意长度的文本，不需要进行字符分割或水平尺度归一化\n",
    "- 无词典和基于词典的识别证明，CRNN不局限于任何预定义的词汇\n",
    "- 模型大小合适，在场景中的效果表现良好\n",
    "\n",
    "在场景文字中，文字以序列的形式出现，识别文字序列需要系统预测一系列对象标签，所以文字识别问题可以看作是序列识别问题。文本的长度也就是序列的长度可能会有很大变化，我们在案例中以CTW街景文字为背景，街道上的广告牌，标语，从简单的单字到复杂的长句可能出现各种不同的文字长度。之前的序列识别中，一种方法为对文字进行分割，将不定长度的序列分割为单字，然后对单字进行识别，这种方法对字符分割的要求更为严格。而另一种方法为将序列识别划分为分类问题，将接近9万个英文单词作为类标签。这种方法可能适合英文字符识别，但是对于汉语中，单字数量多，单词间没有空白的情况显然不能适用。\n",
    "\n",
    "案例中使用的CRNN是一种结合了CNN和RNN的神经网络模型，称为卷积循环神经网络。相比较于传统的神经网络模型，CRNN具有一些优点：\n",
    "\n",
    "- 利用CNN提取特征，更加准确，不需要机器学习中手动提起数据特征\n",
    "- 利用RNN产生一系列标签\n",
    "- 对数据高度进行归一化，但对数据长度没有要求\n",
    "\n",
    "## CRNN 结构\n",
    "\n",
    "![CRNN-pipline](./img/CRNN-2.png)\n",
    "\n",
    "CRNN分为三部分：卷积层，循环层和转录层。 卷积层对图像进行特征提取操作，循环层生成序列标签，转录层将预测变为最终的序列标签。案例中使用了CTC（无词典的转录方式），不会被局限在预定义词汇范围中。\n",
    "\n",
    "![CRNN-structure](./img/CRNN-1.png)\n",
    "\n",
    "## CRNN 评估\n",
    "\n",
    "在四个公共数据集：IIIT5k，SVT， IC03， IC13 上获得的所有识别精度：\n",
    "_“50”，“1k”，“50k”和“Full”表示使用的字典，“None”表示识别没有字典。_\n",
    "![CRNN-evaluation](./img/CRNN-3.png)"
   ]
  },
  {
   "cell_type": "markdown",
   "metadata": {},
   "source": [
    "### 准备源代码和数据\n",
    "\n",
    "这一步准备案例所需的源代码和数据，相关资源已经保存在OBS中，我们通过ModelArts SDK将资源下载到本地，并解压到当前目录下。"
   ]
  },
  {
   "cell_type": "code",
   "execution_count": null,
   "metadata": {},
   "outputs": [],
   "source": [
    "from modelarts.session import Session\n",
    "session = Session()\n",
    "session.download_data(bucket_path=\"modelarts-labs/notebook/DL_sequence_recognition/sequence_recognition.tar.gz\", path=\"./sequence_recognition.tar.gz\")\n",
    "# 使用tar命令解压资源包\n",
    "!tar xvf ./sequence_recognition.tar.gz"
   ]
  },
  {
   "cell_type": "markdown",
   "metadata": {},
   "source": [
    "1. 引入相关的包"
   ]
  },
  {
   "cell_type": "code",
   "execution_count": null,
   "metadata": {},
   "outputs": [],
   "source": [
    "!pip install --upgrade opencv-python\n",
    "!pip install keras==2.1.6\n",
    "!pip install tensorflow-gpu==1.8"
   ]
  },
  {
   "cell_type": "code",
   "execution_count": 1,
   "metadata": {},
   "outputs": [
    {
     "name": "stderr",
     "output_type": "stream",
     "text": [
      "Using TensorFlow backend.\n"
     ]
    }
   ],
   "source": [
    "import keys as keys\n",
    "\n",
    "import os\n",
    "import numpy as np\n",
    "from PIL import Image\n",
    "from keras.layers import Flatten, BatchNormalization, Permute, TimeDistributed, Dense, Bidirectional, GRU\n",
    "from keras.layers import Input, Conv2D, MaxPooling2D, ZeroPadding2D\n",
    "from keras.models import Model\n",
    "from keras import backend as K\n",
    "from keras.layers import Lambda\n",
    "from keras.optimizers import SGD"
   ]
  },
  {
   "cell_type": "markdown",
   "metadata": {},
   "source": [
    "2. 定义模型结构"
   ]
  },
  {
   "cell_type": "code",
   "execution_count": 2,
   "metadata": {},
   "outputs": [],
   "source": [
    "def ctc_lambda_func(args):\n",
    "    y_pred, labels, input_length, label_length = args\n",
    "    y_pred = y_pred[:, 2:, :]\n",
    "    return K.ctc_batch_cost(labels, y_pred, input_length, label_length)"
   ]
  },
  {
   "cell_type": "code",
   "execution_count": 3,
   "metadata": {},
   "outputs": [],
   "source": [
    "def get_model(height, nclass, learning_rate):\n",
    "    rnnunit = 256\n",
    "    input = Input(shape=(height, None, 1), name='the_input')\n",
    "#     卷积层\n",
    "    m = Conv2D(64, kernel_size=(3, 3), activation='relu', padding='same', name='conv1')(input)\n",
    "    m = MaxPooling2D(pool_size=(2, 2), strides=(2, 2), name='pool1')(m)\n",
    "    m = Conv2D(128, kernel_size=(3, 3), activation='relu', padding='same', name='conv2')(m)\n",
    "    m = MaxPooling2D(pool_size=(2, 2), strides=(2, 2), name='pool2')(m)\n",
    "    m = Conv2D(256, kernel_size=(3, 3), activation='relu', padding='same', name='conv3')(m)\n",
    "    m = Conv2D(256, kernel_size=(3, 3), activation='relu', padding='same', name='conv4')(m)\n",
    "\n",
    "    m = ZeroPadding2D(padding=(0, 1))(m)\n",
    "    m = MaxPooling2D(pool_size=(2, 2), strides=(2, 1), padding='valid', name='pool3')(m)\n",
    "\n",
    "    m = Conv2D(512, kernel_size=(3, 3), activation='relu', padding='same', name='conv5')(m)\n",
    "    m = BatchNormalization(axis=1)(m)\n",
    "    m = Conv2D(512, kernel_size=(3, 3), activation='relu', padding='same', name='conv6')(m)\n",
    "    m = BatchNormalization(axis=1)(m)\n",
    "    m = ZeroPadding2D(padding=(0, 1))(m)\n",
    "    m = MaxPooling2D(pool_size=(2, 2), strides=(2, 1), padding='valid', name='pool4')(m)\n",
    "    m = Conv2D(512, kernel_size=(2, 2), activation='relu', padding='valid', name='conv7')(m)\n",
    "\n",
    "    m = Permute((2, 1, 3), name='permute')(m)\n",
    "    m = TimeDistributed(Flatten(), name='timedistrib')(m)\n",
    "#     循环层\n",
    "    m = Bidirectional(GRU(rnnunit, return_sequences=True), name='blstm1')(m)\n",
    "    m = Dense(rnnunit, name='blstm1_out', activation='linear')(m)\n",
    "    m = Bidirectional(GRU(rnnunit, return_sequences=True), name='blstm2')(m)\n",
    "\n",
    "    y_pred = Dense(nclass, name='blstm2_out', activation='softmax')(m)\n",
    "\n",
    "    basemodel = Model(inputs=input, outputs=y_pred)\n",
    "    labels = Input(name='the_labels', shape=[None, ], dtype='float32')\n",
    "    input_length = Input(name='input_length', shape=[1], dtype='int64')\n",
    "    label_length = Input(name='label_length', shape=[1], dtype='int64')\n",
    "#     CTC转录层\n",
    "    loss_out = Lambda(ctc_lambda_func, output_shape=(1,), name='ctc')([y_pred, labels, input_length, label_length])\n",
    "    model = Model(inputs=[input, labels, input_length, label_length], outputs=[loss_out])\n",
    "    sgd = SGD(lr=learning_rate, decay=1e-6, momentum=0.9, nesterov=True, clipnorm=5)\n",
    "    model.compile(loss={'ctc': lambda y_true, y_pred: y_pred}, optimizer=sgd)\n",
    "    return model, basemodel"
   ]
  },
  {
   "cell_type": "code",
   "execution_count": 4,
   "metadata": {},
   "outputs": [],
   "source": [
    "def decode(pred):\n",
    "    charactersS = characters + u' '\n",
    "    t = pred.argmax(axis=2)[0]\n",
    "    length = len(t)\n",
    "    char_list = []\n",
    "    n = len(characters)\n",
    "    for i in range(length):\n",
    "        if t[i] != n and (not (i > 0 and t[i - 1] == t[i])):\n",
    "            char_list.append(charactersS[t[i]])\n",
    "    return u''.join(char_list)"
   ]
  },
  {
   "cell_type": "code",
   "execution_count": 5,
   "metadata": {
    "scrolled": false
   },
   "outputs": [
    {
     "name": "stdout",
     "output_type": "stream",
     "text": [
      "WARNING:tensorflow:From /anaconda3/lib/python3.7/site-packages/tensorflow/python/framework/op_def_library.py:263: colocate_with (from tensorflow.python.framework.ops) is deprecated and will be removed in a future version.\n",
      "Instructions for updating:\n",
      "Colocations handled automatically by placer.\n",
      "WARNING:tensorflow:From /anaconda3/lib/python3.7/site-packages/keras/backend/tensorflow_backend.py:4249: to_int32 (from tensorflow.python.ops.math_ops) is deprecated and will be removed in a future version.\n",
      "Instructions for updating:\n",
      "Use tf.cast instead.\n",
      "WARNING:tensorflow:From /anaconda3/lib/python3.7/site-packages/keras/backend/tensorflow_backend.py:4229: to_int64 (from tensorflow.python.ops.math_ops) is deprecated and will be removed in a future version.\n",
      "Instructions for updating:\n",
      "Use tf.cast instead.\n"
     ]
    }
   ],
   "source": [
    "characters = keys.alphabet[:]\n",
    "nclass=len(characters)+1\n",
    "height = 32\n",
    "model, basemodel = get_model(height, nclass, learning_rate=0.0001)\n",
    "\n",
    "modelPath = './models/model_crnn.h5'                     \n",
    "basemodel.load_weights(modelPath)"
   ]
  },
  {
   "cell_type": "markdown",
   "metadata": {},
   "source": [
    "调用summary函数，可以看到构架出的模型结构："
   ]
  },
  {
   "cell_type": "code",
   "execution_count": 6,
   "metadata": {},
   "outputs": [
    {
     "name": "stdout",
     "output_type": "stream",
     "text": [
      "__________________________________________________________________________________________________\n",
      "Layer (type)                    Output Shape         Param #     Connected to                     \n",
      "==================================================================================================\n",
      "the_input (InputLayer)          (None, 32, None, 1)  0                                            \n",
      "__________________________________________________________________________________________________\n",
      "conv1 (Conv2D)                  (None, 32, None, 64) 640         the_input[0][0]                  \n",
      "__________________________________________________________________________________________________\n",
      "pool1 (MaxPooling2D)            (None, 16, None, 64) 0           conv1[0][0]                      \n",
      "__________________________________________________________________________________________________\n",
      "conv2 (Conv2D)                  (None, 16, None, 128 73856       pool1[0][0]                      \n",
      "__________________________________________________________________________________________________\n",
      "pool2 (MaxPooling2D)            (None, 8, None, 128) 0           conv2[0][0]                      \n",
      "__________________________________________________________________________________________________\n",
      "conv3 (Conv2D)                  (None, 8, None, 256) 295168      pool2[0][0]                      \n",
      "__________________________________________________________________________________________________\n",
      "conv4 (Conv2D)                  (None, 8, None, 256) 590080      conv3[0][0]                      \n",
      "__________________________________________________________________________________________________\n",
      "zero_padding2d_1 (ZeroPadding2D (None, 8, None, 256) 0           conv4[0][0]                      \n",
      "__________________________________________________________________________________________________\n",
      "pool3 (MaxPooling2D)            (None, 4, None, 256) 0           zero_padding2d_1[0][0]           \n",
      "__________________________________________________________________________________________________\n",
      "conv5 (Conv2D)                  (None, 4, None, 512) 1180160     pool3[0][0]                      \n",
      "__________________________________________________________________________________________________\n",
      "batch_normalization_1 (BatchNor (None, 4, None, 512) 16          conv5[0][0]                      \n",
      "__________________________________________________________________________________________________\n",
      "conv6 (Conv2D)                  (None, 4, None, 512) 2359808     batch_normalization_1[0][0]      \n",
      "__________________________________________________________________________________________________\n",
      "batch_normalization_2 (BatchNor (None, 4, None, 512) 16          conv6[0][0]                      \n",
      "__________________________________________________________________________________________________\n",
      "zero_padding2d_2 (ZeroPadding2D (None, 4, None, 512) 0           batch_normalization_2[0][0]      \n",
      "__________________________________________________________________________________________________\n",
      "pool4 (MaxPooling2D)            (None, 2, None, 512) 0           zero_padding2d_2[0][0]           \n",
      "__________________________________________________________________________________________________\n",
      "conv7 (Conv2D)                  (None, 1, None, 512) 1049088     pool4[0][0]                      \n",
      "__________________________________________________________________________________________________\n",
      "permute (Permute)               (None, None, 1, 512) 0           conv7[0][0]                      \n",
      "__________________________________________________________________________________________________\n",
      "timedistrib (TimeDistributed)   (None, None, 512)    0           permute[0][0]                    \n",
      "__________________________________________________________________________________________________\n",
      "blstm1 (Bidirectional)          (None, None, 512)    1181184     timedistrib[0][0]                \n",
      "__________________________________________________________________________________________________\n",
      "blstm1_out (Dense)              (None, None, 256)    131328      blstm1[0][0]                     \n",
      "__________________________________________________________________________________________________\n",
      "blstm2 (Bidirectional)          (None, None, 512)    787968      blstm1_out[0][0]                 \n",
      "__________________________________________________________________________________________________\n",
      "blstm2_out (Dense)              (None, None, 5531)   2837403     blstm2[0][0]                     \n",
      "__________________________________________________________________________________________________\n",
      "the_labels (InputLayer)         (None, None)         0                                            \n",
      "__________________________________________________________________________________________________\n",
      "input_length (InputLayer)       (None, 1)            0                                            \n",
      "__________________________________________________________________________________________________\n",
      "label_length (InputLayer)       (None, 1)            0                                            \n",
      "__________________________________________________________________________________________________\n",
      "ctc (Lambda)                    (None, 1)            0           blstm2_out[0][0]                 \n",
      "                                                                 the_labels[0][0]                 \n",
      "                                                                 input_length[0][0]               \n",
      "                                                                 label_length[0][0]               \n",
      "==================================================================================================\n",
      "Total params: 10,486,715\n",
      "Trainable params: 10,486,699\n",
      "Non-trainable params: 16\n",
      "__________________________________________________________________________________________________\n"
     ]
    }
   ],
   "source": [
    "model.summary()"
   ]
  },
  {
   "cell_type": "markdown",
   "metadata": {},
   "source": [
    "3. 测试图片尺寸重新调整"
   ]
  },
  {
   "cell_type": "code",
   "execution_count": 7,
   "metadata": {},
   "outputs": [
    {
     "data": {
      "image/png": "[encoded data removed]",
      "text/plain": [
       "<PIL.PngImagePlugin.PngImageFile image mode=RGBA size=636x86 at 0xB2774EC88>"
      ]
     },
     "execution_count": 7,
     "metadata": {},
     "output_type": "execute_result"
    }
   ],
   "source": [
    "img = Image.open('./test_image.png')\n",
    "img"
   ]
  },
  {
   "cell_type": "code",
   "execution_count": 8,
   "metadata": {
    "scrolled": false
   },
   "outputs": [
    {
     "data": {
      "image/png": "[encoded data removed]",
      "text/plain": [
       "<PIL.Image.Image image mode=L size=236x32 at 0xB2774EF98>"
      ]
     },
     "execution_count": 8,
     "metadata": {},
     "output_type": "execute_result"
    }
   ],
   "source": [
    "img = img.convert('L')\n",
    "scale = img.size[1] * 1.0 / 32\n",
    "w = img.size[0] / scale\n",
    "w = int(w)\n",
    "img = img.resize((w, 32))\n",
    "img"
   ]
  },
  {
   "cell_type": "markdown",
   "metadata": {},
   "source": [
    "4. 将测试图片传入模型进行字符预测，获得预测结果"
   ]
  },
  {
   "cell_type": "code",
   "execution_count": 9,
   "metadata": {
    "scrolled": true
   },
   "outputs": [
    {
     "data": {
      "text/plain": [
       "array([[[7.32723276e-14, 5.90867133e-09, 3.72121564e-14, ...,\n",
       "         2.45357519e-11, 4.12480716e-09, 5.87536611e-15],\n",
       "        [5.70836645e-14, 7.45682893e-09, 3.29477554e-14, ...,\n",
       "         2.23865336e-11, 3.23749738e-09, 3.16329502e-14],\n",
       "        [6.08330254e-14, 1.10404965e-08, 8.85024137e-14, ...,\n",
       "         4.48241409e-11, 1.15610312e-08, 3.29465136e-11],\n",
       "        ...,\n",
       "        [2.34782913e-18, 5.73790634e-20, 1.56465448e-17, ...,\n",
       "         1.57386582e-19, 4.74277041e-15, 9.99999881e-01],\n",
       "        [1.45687196e-18, 5.85361873e-21, 2.30722645e-19, ...,\n",
       "         3.51459551e-21, 9.96941474e-16, 1.00000000e+00],\n",
       "        [9.89614003e-15, 1.16845672e-18, 3.03500541e-17, ...,\n",
       "         4.78296872e-19, 4.07981508e-15, 1.00000000e+00]]], dtype=float32)"
      ]
     },
     "execution_count": 9,
     "metadata": {},
     "output_type": "execute_result"
    }
   ],
   "source": [
    "img = np.array(img).astype(np.float32) / 255.0\n",
    "X = img.reshape((32, w, 1))\n",
    "X = np.array([X])\n",
    "y_pred = basemodel.predict(X)\n",
    "y_pred"
   ]
  },
  {
   "cell_type": "code",
   "execution_count": 10,
   "metadata": {},
   "outputs": [],
   "source": [
    "y_pred = y_pred[:, 2:, :]\n",
    "out = decode(y_pred)\n",
    "\n",
    "if len(out) > 0:\n",
    "    while out[0] == u'。':\n",
    "        if len(out) > 1:\n",
    "            out = out[1:]\n",
    "        else:\n",
    "            break"
   ]
  },
  {
   "cell_type": "code",
   "execution_count": 11,
   "metadata": {},
   "outputs": [
    {
     "name": "stdout",
     "output_type": "stream",
     "text": [
      "预测结果为：\"文字识别模型文字识别。\"\n"
     ]
    }
   ],
   "source": [
    "print(\"预测结果为：\\\"\"+out+\"\\\"\")"
   ]
  },
  {
   "cell_type": "code",
   "execution_count": null,
   "metadata": {},
   "outputs": [],
   "source": []
  }
 ],
 "metadata": {
  "kernelspec": {
   "display_name": "Python 3",
   "language": "python",
   "name": "python3"
  },
  "language_info": {
   "codemirror_mode": {
    "name": "ipython",
    "version": 3
   },
   "file_extension": ".py",
   "mimetype": "text/x-python",
   "name": "python",
   "nbconvert_exporter": "python",
   "pygments_lexer": "ipython3",
   "version": "3.7.1"
  },
  "toc": {
   "base_numbering": 1,
   "nav_menu": {},
   "number_sections": true,
   "sideBar": true,
   "skip_h1_title": false,
   "title_cell": "Table of Contents",
   "title_sidebar": "Contents",
   "toc_cell": false,
   "toc_position": {},
   "toc_section_display": true,
   "toc_window_display": false
  }
 },
 "nbformat": 4,
 "nbformat_minor": 2
}
