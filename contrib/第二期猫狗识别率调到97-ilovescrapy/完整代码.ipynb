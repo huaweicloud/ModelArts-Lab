!pip install --upgrade keras_applications==1.0.6 keras==2.2.4
import matplotlib.pyplot as plt
import seaborn as sns
%matplotlib inline

from keras.layers import Input, Dense
from keras.optimizers import RMSprop
from keras.callbacks import Callback, EarlyStopping, TensorBoard
from keras.models import Model
from keras.utils import np_utils

from sklearn.model_selection import train_test_split
from sklearn.metrics import accuracy_score
import tensorflow as tf
from keras.models import load_model
from keras.preprocessing import image
from keras.utils import layer_utils
from keras.utils.data_utils import get_file
from keras.applications.imagenet_utils import preprocess_input
from IPython.display import SVG
from keras.utils.vis_utils import model_to_dot
from keras.callbacks import Callback, EarlyStopping, TensorBoard
from keras.applications.resnet50 import ResNet50
from keras import optimizers
from keras.layers import Input, Dropout, Flatten, Conv2D, MaxPooling2D, Dense, Activation,BatchNormalization,GlobalAveragePooling2D
from keras import backend as K
K.set_image_data_format('channels_last')
DATA_DIR = './data/' # ���ݼ�·��
OUTPUT = './output/' # ģ�ͱ���λ��
if not os.path.exists(DATA_DIR):
os.makedirs(DATA_DIR)
if not os.path.exists(OUTPUT):
os.makedirs(OUTPUT)
from modelarts.session import Session
session = Session()

session.download_data(
bucket_path="modelarts-labs/notebook/DL_image_recognition/image_recognition.tar.gz",
path="./image_recognition.tar.gz")
!tar xf ./image_recognition.tar.gz
!rm -f ./image_recognition.tar.gz
ROWS = 228
COLS = 228
CHANNELS = 3
���н����Successfully download file modelarts-labs/notebook/DL_image_recognition/image_recognition.tar.gz from OBS to local ./image_recognition.tar.gz
tar: data: Cannot utime: Operation not permitted
tar: data: Cannot change mode to rwsr-s---: Operation not permitted
tar: Exiting with failure status due to previous errors
��ȡ���ݼ���
image_file_names = [DATA_DIR+i for i in os.listdir(DATA_DIR)]
dogs = [DATA_DIR+i for i in os.listdir(DATA_DIR) if 'dog' in i]
cats = [DATA_DIR+i for i in os.listdir(DATA_DIR) if 'cat' in i]
random.shuffle(image_file_names)

def read_image(file_path):
img = cv2.imread(file_path, cv2.IMREAD_COLOR) # ��ɫģʽ��ȡͼ��
return cv2.resize(img, (ROWS, COLS), interpolation=cv2.INTER_CUBIC)

def prep_data(image_file_names):
count = len(image_file_names)
data = np.ndarray((count, ROWS, COLS, CHANNELS), dtype=np.uint8)

for i, image_file in enumerate(image_file_names):
    image = read_image(image_file)
    data[i] = image
    if i%1000 == 0: print('Processed {} of {}'.format(i, count))

return data

images = prep_data(image_file_names)
num_train_samples = len(image_file_names)
num_classes = 2
labels = []

index = 0
for i in image_file_names:
if 'dog.' in i:
labels.append(1)
else:
labels.append(0) 

labels = np_utils.to_categorical(labels, num_classes)
train_data, test_data, train_label, test_label = train_test_split(images, labels, test_size=0.25, random_state=10)
train_data, validate_data, train_label, validate_label = train_test_split(train_data, train_label, test_size=0.25, random_state=10)
def show_cats_and_dogs(idx):
cat = read_image(cats[idx])
dog = read_image(dogs[idx])
pair = np.concatenate((cat, dog), axis=1)
plt.figure(figsize=(10,5))
plt.imshow(pair)
plt.show()

for idx in range(0,3):
show_cats_and_dogs(idx)

batch_size = 18 # ����С
learning_rate = 1e-4 # ����ѧϰ��Ϊ1e-4

optimizer = RMSprop(lr=learning_rate) # �Ż���ʹ�� RMSprop
class LossHistory(Callback):
def on_train_begin(self, logs={}):
self.losses = []
self.val_losses = []

def on_epoch_end(self, batch, logs={}):
    self.losses.append(logs.get('loss'))
    self.val_losses.append(logs.get('val_loss'))

def run_catdog():
history = LossHistory()
# ��ʼѵ��
history=model.fit(train_data, train_label,
epochs=epochs, batch_size=batch_size,
verbose=2,shuffle=True,validation_data=(validate_data,validate_label),callbacks=[history, early_stopping])
return history
#��resnet50�㷨���������������
base_model = ResNet50(weights="imagenet", include_top=False, pooling=None, input_shape=(ROWS, COLS, CHANNELS), classes=2)
for layer in base_model.layers:
layer.trainable = False
x = base_model.output
#����Լ���ȫ���ӷ����
x = Flatten()(x)

x = Dense(1024, activation='relu')(x)
x = Dropout(0.5)(x)
predictions = Dense(2, activation='softmax')(x)
#ѵ��ģ��
model = Model(inputs=base_model.input, outputs=predictions)
epochs = 30
model.compile(optimizer=optimizer, loss='binary_crossentropy', metrics=['accuracy'])
#######��ͣ����
early_stopping = EarlyStopping(monitor='val_loss', patience=3, verbose=1, mode='auto')

history = run_catdog()

model.save(os.path.join(OUTPUT, 'model.h5'))
    loss = history.history['loss']
    val_loss = history.history['val_loss']

plt.xlabel('Epochs')
plt.ylabel('Loss')
plt.title('VGG-16 Loss Trend')
plt.plot(loss, 'blue', label='Training Loss')
plt.plot(val_loss, 'green', label='Validation Loss')
plt.xticks(range(0, epochs)[0::2])
plt.legend()
plt.show()
acc = history.history['acc']
val_acc = history.history['val_acc']

plt.xlabel('Epochs')
plt.ylabel('acc')
plt.title('VGG-16 acc Trend')
plt.plot(acc, 'blue', label='Training acc')
plt.plot(val_acc, 'green', label='Validation acc')
plt.xticks(range(0, epochs)[0::2])
plt.legend()
plt.show()
predictions = model.predict(test_data, verbose=0)
for i in range(0,10):
p = predictions[i]

if round(p[1]) == 1: 
    print('I am {:.2%} sure this is a Dog'.format(p[1]))
else: 
    print('I am {:.2%} sure this is a Cat'.format(1 - p[1]))
    
plt.imshow(test_data[i])
plt.show()

predictions = model.predict(test_data, verbose=0)
predictions_test = []
test_label_test = []
for p in predictions:

if int(round(p[0])) == 1:
    predictions_test.append(1)
else:
    predictions_test.append(0)

for t in test_label:
if int(t[0]) == 1:
test_label_test.append(1)
else:
test_label_test.append(0)
acc = accuracy_score(test_label_test, predictions_test)

print('ѵ���õ���è��ʶ��ģ�͵�׼ȷ���ǣ�%f' % acc)
