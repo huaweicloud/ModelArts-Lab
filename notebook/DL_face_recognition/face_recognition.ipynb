{
 "cells": [
  {
   "cell_type": "markdown",
   "metadata": {},
   "source": [
    "# 人脸识别案例\n",
    "\n",
    "    \n",
    "本案例中，我们将学习构建一个基于深度学习技术的人脸识别模型，来对图像中人脸进行身份识别。目前人脸识别技术已被广泛应用于各种场景，如园区门禁系统、金融、智能安防等。\n",
    "本案例将掌握MXNet AI引擎的用法（包括数据读取、模型训练和推理等功能）；掌握人脸识别模型的调参技巧，理解各个超参的含义。掌握如何基于MXNet构建一个人脸识别神经网络；掌握华为云ModelArts SDK的使用，如使用SDK创建训练作业、模型部署和模型测试等；掌握ModelArts自研的分布式训练框架MoXing的使用方法。"
   ]
  },
  {
   "cell_type": "markdown",
   "metadata": {},
   "source": [
    "## 步骤"
   ]
  },
  {
   "cell_type": "markdown",
   "metadata": {},
   "source": [
    "### 进入人工智能开发平台ModelArts界面\n",
    "\n",
    "这步教大家如何进入人工智能开发平台华为云ModelArts服务。\n",
    "\n",
    "第一步：点击“控制台”，如下图所示\n",
    "![title](img/enter_modelarts_step1.png)\n",
    "\n",
    "第二步：点击“所有服务”，如下图所示\n",
    "![title](img/enter_modelarts_step2.png)\n",
    "\n",
    "第三步：在“EI企业智能”大类下找到“ModelArts”，点击“ModelArts”，进入ModelArts服务主界面，如下图所示\n",
    "![title](img/enter_modelarts_step3.png)\n",
    "\n",
    "第四步：看到以下界面，说明成功进入了ModelArts服务主界面\n",
    "![title](img/modelarts_index_page.png)\n",
    "\n"
   ]
  },
  {
   "cell_type": "markdown",
   "metadata": {},
   "source": [
    "### 创建ModelArts Notebook\n",
    "\n",
    "此步教大家如何在ModelArts中创建一个Notebook开发环境。ModelArts Notebook提供网页版的Python开发环境，无需用户自己搭建Python开发环境。\n",
    "\n",
    "第一步：点击ModelArts服务主界面中的“开发环境”，如下图所示\n",
    "![title](img/create_notebook_step1.png)\n",
    "\n",
    "第二步：点击下图中的“创建”按钮\n",
    "![title](img/create_notebook_step2.png)\n",
    "\n",
    "第三步：填写创建Notebook所需的参数：\n",
    "\n",
    "| 参数 | 说明 |\n",
    "| - - - - - | - - - - - |\n",
    "| 计费方式 | 按需计费 |\n",
    "| 名称 | Notebook实例名称，如face_recognition |\n",
    "| AI引擎 | 本案例使用MXNet引擎，Python版本3.6及以上 |\n",
    "| 资源池 | 选择\"公共资源池\"即可|\n",
    "| 类型 | 本案例使用较为复杂的深度神经网络模型，需要较高算力，选择\"GPU\" |\n",
    "| 规格 | 选择\"8核 &#124; 64GiB &#124; 1*p100\" |\n",
    "| 存储配置 | 选择EVS，磁盘规格5GB |\n",
    "\n",
    "参数填写完毕后，点击下一步，查看Notebook实例预览信息\n",
    "\n",
    "第四步：点击下图中的“立即创建”\n",
    "![title](img/create_notebook_step4.png)\n",
    "\n",
    "第五步：点击下图中的“返回Notebook列表”\n",
    "![title](img/create_notebook_step5.png)\n",
    "\n",
    "第六步：等待Notebook创建成功，创建成功后状态会变成“运行中”，如下图所示,直接点击Notebook名字，就可以进入Notebook界面\n",
    "![title](img/create_notebook_step6.png)"
   ]
  },
  {
   "cell_type": "markdown",
   "metadata": {},
   "source": [
    "### 在ModelArts Notebook中创建一个Notebook Python开发环境\n",
    "\n",
    "第一步：点击下图所示的“打开”按钮，进入刚刚创建的Notebook\n",
    "![inter_dev_env](img/enter_dev_env.png)\n",
    "\n",
    "第二步：创建一个Notebook Python语言开发环境。先点击“New”按钮，然后根据本案例使用的AI引擎选择对应的环境\n",
    "\n",
    "第三步：重命名刚刚创建的Notebook Python开发环境。点击“Untitled”，如下图所示\n",
    "![title](img/create_notebook_dev_step2.png)\n",
    "\n",
    "第四步：填写名称。我们可以填写一个跟本实验相关的名称，然后点击“Rename”按钮，如下图所示\n",
    "![title](img/create_notebook_dev_step3.png)\n"
   ]
  },
  {
   "cell_type": "markdown",
   "metadata": {},
   "source": [
    "### 如何在Notebook Python开发环境中写代码并执行代码\n",
    "输入代码。我们打印一行字符串，按Shift+Enter(该组合键是Notebook中执行代码的快捷键)，查看代码执行结果。在代码输入框下面，可以看到代码执行结果，如下图所示\n",
    "![title](img/type_code_step1.png)"
   ]
  },
  {
   "cell_type": "markdown",
   "metadata": {},
   "source": [
    "###  准备源代码和数据\n",
    "\n",
    "这一步准备案例所需的源代码和数据，相关资源已经保存在OBS中，我们通过ModelArts SDK将资源下载到本地，并解压到当前目录下。解压后，当前目录包含src和data两个目录，分别存有源代码和数据集。\n"
   ]
  },
  {
   "cell_type": "code",
   "execution_count": 1,
   "metadata": {},
   "outputs": [
    {
     "name": "stdout",
     "output_type": "stream",
     "text": [
      "Successfully download file ai-course-common-20/face_recognition/face_recognition.tar.gz from OBS to local ./face_recognition.tar.gz\n",
      "tar: data: Cannot utime: Operation not permitted\r\n",
      "tar: data: Cannot change mode to rwsr-s---: Operation not permitted\r\n",
      "tar: src: Cannot utime: Operation not permitted\r\n",
      "tar: src: Cannot change mode to rwsr-s---: Operation not permitted\r\n",
      "tar: Exiting with failure status due to previous errors\r\n"
     ]
    }
   ],
   "source": [
    "from modelarts.session import Session\n",
    "session = Session()\n",
    "session.download_data(bucket_path='ai-course-common-20/face_recognition/face_recognition.tar.gz',\n",
    "           path='./face_recognition.tar.gz')\n",
    "\n",
    "# 使用tar命令解压资源包\n",
    "!tar xf ./face_recognition.tar.gz"
   ]
  },
  {
   "cell_type": "markdown",
   "metadata": {},
   "source": [
    "**Notebook Python开发环境就准备好了，接下来我们使用这个开发环境进行代码实践**"
   ]
  },
  {
   "cell_type": "markdown",
   "metadata": {},
   "source": [
    "### 案例配置信息填写\n",
    "\n",
    "案例中需要将运行结果上传至OBS中，这一步我们设置相关的参数（使用自己真实的桶名和唯一ID替换掉*号）：\n",
    "\n",
    "- BUCKET_NAME：自己的OBS桶名\n",
    "- UNIQUE_ID：唯一ID，填写自己的IAM子账号名称或者学号"
   ]
  },
  {
   "cell_type": "code",
   "execution_count": 2,
   "metadata": {},
   "outputs": [],
   "source": [
    "BUCKET_NAME = '*'\n",
    "UNIQUE_ID = '*'\n",
    "OBS_BASE_PATH = BUCKET_NAME + '/' + UNIQUE_ID"
   ]
  },
  {
   "cell_type": "markdown",
   "metadata": {},
   "source": [
    "### 导入基本工具库\n",
    "\n",
    "执行下面方框中的这段代码，导入本次实验中使用的Python开发基本工具库。其中，MXNet框架是我们使用的AI编程框架，argparse库用于解析外部输入参数，src.face_resnet包含了人脸识别的卷积模型骨干。"
   ]
  },
  {
   "cell_type": "code",
   "execution_count": 3,
   "metadata": {
    "scrolled": false
   },
   "outputs": [],
   "source": [
    "import os\n",
    "import mxnet as mx\n",
    "import argparse\n",
    "from src.face_resnet import get_symbol\n",
    "import warnings\n",
    "warnings.filterwarnings('ignore')\n",
    "import logging\n",
    "logger = logging.getLogger()\n",
    "logger.setLevel(logging.INFO)"
   ]
  },
  {
   "cell_type": "markdown",
   "metadata": {},
   "source": [
    "### 脚本入参解析\n",
    "\n",
    "该方法用来解析用户设置的训练所需的超参和数据路径等参数，如初始学习率、权重衰减系数、batch size等，使得这些参数可以从脚本外面控制，而不需要从代码中修改。\n",
    "\n",
    "部分参数说明如下：\n",
    "\n",
    "image_size：图像的大小；\n",
    "\n",
    "lr： 学习率learning rate，表示梯度往某个方向更新的步长系数；\n",
    "\n",
    "wd： 权值衰减系数weight decay，表示在损失函数计算时，L2归一化项的衰减系数；\n",
    "\n",
    "epoch_image_num： 在一个epoch中，训练的数据量大小，一般为整个数据集的数据量大小；\n",
    "\n",
    "num_classes： 分类数，表示本次数据集的类别数量；\n",
    "\n",
    "num_epoch: epoch是模型训练整个数据集的一次迭代，num_epoch也就代表了整个训练过程对数据集的迭代次数，它的值越大那么模型学习就更加深，在训练集上拟合效果更加好，但过大的迭代次数也可能导致过拟合现象，也即是在训练集上表现好，在验证集或测试集等其他数据上表现很差；\n",
    "\n",
    "学习率lr：模型一次训练得到的梯度代表了模型参数更新的方向和大小，而学习率是这个方向上更新大小的权值系数，太大的学习率会导致这次“迈出的一步”过大，太小则会导致“这一步”过小，也即是学习率对这一次参数更新大小起到了决定作用。于是很好理解，在一个epoch里若是参数更新次数不变化，更大的学习率，会使参数更新“走过的路程”更远，学习也更加深。\n",
    "    \n",
    "当然，学习率并不是越大越好，因为参数更新的方向是变化的，过大的学习率会导致学习不稳定。通常学习率大小都在0.1-0.0001之间调整。\n",
    "\n",
    "per_batch_size: per_batch_size是指在每个GPU上一次训练一批数据的大小，调整这个值越大，表示一次训练的数据量也就越大，一次训练的数据量和训练有如下关系：\n",
    "    \n",
    "![title](img/batch_size.png)\n",
    "\n",
    "这个公式代表了梯度更新的方法大小，m为batch_size大小，Var是指方差，显然当batch_size越大，方差也就越大，而众所周知方差越大，也就表示数据越稳定，在深度学习中也就表示训练得越稳定。\n",
    "\n",
    "于是结合上面讲的学习率大小的调整，在显存可承受范围内，越大的batch_size使得学习更稳定情况下，学习率也可以随着调整得更大。\n",
    "        \n",
    "\n",
    "动量mom: 是动量的随机梯度下降中的一个参数，动量越小会使得模型参数的更新越稳定，过小的动量也会使得模型几乎不会学习，相反过大也会导致梯度波动也越大。动量大小大小一般在0.5-0.999之间调整，而常用的大小为0.9，太大太小都会导致模型训练不稳定。\n",
    "\n",
    "num_layers: 表示使用的ResNet的卷积层层数，越大的层数模型越就越复杂，得到的精度可能更好，但是训练速度也相应更小了。\n",
    "    \n",
    "num_embed： 表示使用的人脸识别模型的嵌入层神经元数量，数值越大也就表示嵌入层表示的特征信息越丰富，而因此训练速度也会受到影响。\n",
    "\n",
    "此段代码只设置脚本参数，无代码执行输出。"
   ]
  },
  {
   "cell_type": "code",
   "execution_count": 4,
   "metadata": {},
   "outputs": [],
   "source": [
    "def parse_args():\n",
    "    parser = argparse.ArgumentParser(description='Train face network')\n",
    "    parser.add_argument('--data_dir', default='data',\n",
    "                        help='training set directory')# 训练数据路径\n",
    "    parser.add_argument('--train_url', type=str, default='ckpt',\n",
    "                        help='train path')# 训练模型输出路径\n",
    "    parser.add_argument('--num_epoch', type=int, default=20,\n",
    "                        help='training epoch size.')# 训练epoch数量\n",
    "    parser.add_argument('--num_layers', type=int, default=18,\n",
    "                        help='specify network layer, 18 50 100')# 使用的ResNet卷积层层数\n",
    "    parser.add_argument('--image_size', default='112,112',\n",
    "                        help='specify input image height and width')# 输入图像的大小，高、宽\n",
    "    parser.add_argument('--lr', type=float, default=0.005,\n",
    "                        help='start learning rate')# 训练开始的学习率大小\n",
    "    parser.add_argument('--wd', type=float, default=0.0005,\n",
    "                        help='weight decay')# 权值衰减系数\n",
    "    parser.add_argument('--mom', type=float, default=0.9,\n",
    "                        help='momentum')# 动量\n",
    "    parser.add_argument('--per_batch_size', type=int, default=8,\n",
    "                        help='batch size in each context')# 每一个GPU的batch size大小\n",
    "    parser.add_argument('--epoch_image_num', type=int, default=200,\n",
    "                        help='image size in one epoch')# 训练样本大小\n",
    "    parser.add_argument('--train_file', type=str, default='celeb_train.rec',\n",
    "                        help='train')# 训练数据文件\n",
    "    parser.add_argument('--val_file', type=str, default='celeb_val.rec',\n",
    "                        help='val')# 验证集文件\n",
    "    parser.add_argument('--num_classes', type=int, default=5,\n",
    "                        help='classes number')# 分类数\n",
    "    parser.add_argument('--num_embed', type=int, default=8,\n",
    "                        help='embedding number')# 嵌入层神经元数量\n",
    "    parser.add_argument('--num_gpus', type=int, default=1,\n",
    "                        help='GPUs number')# GPU数量\n",
    "    parser.add_argument('--save_frequency', type=int, default=1,\n",
    "                        help='save frequency')# 保存模型的频率\n",
    "    parser.add_argument('--export_model', type=bool, default=False,\n",
    "                        help='change train url to model,metric.json')#是否改变train url结构\n",
    "    \n",
    "    args, _ = parser.parse_known_args()\n",
    "    return args\n",
    "\n",
    "args = parse_args()"
   ]
  },
  {
   "cell_type": "markdown",
   "metadata": {},
   "source": [
    "### 设置超参\n",
    "设置训练需要的超参：\n",
    "\n",
    "1. 设置模型训练的设备环境;\n",
    "2. 设置训练时的batch size，固定图像大小的信息，和梯度归一化等参数\n",
    "3. 设置优化器参数\n",
    "4. 设置训练时的回调函数\n",
    "5. 设置模型参数初始化方法"
   ]
  },
  {
   "cell_type": "markdown",
   "metadata": {},
   "source": [
    "#### 设置模型训练使用的设备环境\n",
    "这里设置模型所在的设备环境，会输出相应的设备号，如\n",
    "\n",
    "    [cpu(0)]\n",
    "\n",
    "或者\n",
    "\n",
    "    [gpu(0)]\n",
    "    \n",
    "本案例中，我们使用GPU训练环境，这段代码会输出[gpu(0)]"
   ]
  },
  {
   "cell_type": "code",
   "execution_count": 5,
   "metadata": {
    "scrolled": true
   },
   "outputs": [
    {
     "name": "stdout",
     "output_type": "stream",
     "text": [
      "[gpu(0)]\n"
     ]
    }
   ],
   "source": [
    "# 模型所在的环境，指cpu或者哪块gpu\n",
    "ctx = [mx.gpu(x) for x in range(args.num_gpus)] if args.num_gpus>0 else [mx.cpu()]\n",
    "print(ctx)"
   ]
  },
  {
   "cell_type": "markdown",
   "metadata": {},
   "source": [
    "#### 设置训练时的batch size，固定图像大小的信息，和梯度归一化的参数\n",
    "\n",
    "rescale grad含义：在多GPU设备的环境下，需要将梯度推送到参数服务器中做“和”操作，rescale grad表示在推送到参数服务器前先将梯度做一个相应的归一化，这里的归一化系数rescale grad的值为：1.0 / GPU的数量 / 每个GPU上batch_size的大小。\n",
    "\n",
    "这里会输出batch size、image height、image width和rescale grad的信息"
   ]
  },
  {
   "cell_type": "code",
   "execution_count": 6,
   "metadata": {
    "scrolled": true
   },
   "outputs": [
    {
     "name": "stdout",
     "output_type": "stream",
     "text": [
      "batch size:  8\n",
      "image height:  112 , image width:  112\n",
      "rescale grad:  0.125\n"
     ]
    }
   ],
   "source": [
    "# 一次训练输入的batch size大小的数据\n",
    "batch_size = int(args.per_batch_size * (args.num_gpus if args.num_gpus>0 else 1))\n",
    "print('batch size: ', batch_size)\n",
    "# 输入图像的高和宽\n",
    "image_h, image_w = [int(x) for x in args.image_size.split(',')]\n",
    "print('image height: ', image_h, ', image width: ', image_w)\n",
    "# 梯度归一化参数，大小为1.0 / batch_size\n",
    "_rescale = 1.0 / batch_size\n",
    "print('rescale grad: ', _rescale)"
   ]
  },
  {
   "cell_type": "markdown",
   "metadata": {},
   "source": [
    "#### 设置优化器参数\n",
    "设置本次训练的优化器参数，这里仅将学习率固定为某一个值，可以尝试减小或增大学习率来得到更好的训练结果。\n",
    "\n",
    "本段代码执行后会输出优化器的所有参数信息，包含学习率、权值衰减系数等。"
   ]
  },
  {
   "cell_type": "code",
   "execution_count": 7,
   "metadata": {
    "scrolled": true
   },
   "outputs": [
    {
     "name": "stdout",
     "output_type": "stream",
     "text": [
      "{'learning_rate': 0.005, 'wd': 0.0005, 'lr_scheduler': None, 'clip_gradient': 5, 'momentum': 0.9, 'multi_precision': True, 'rescale_grad': 0.125}\n"
     ]
    }
   ],
   "source": [
    "# 优化器参数，包含学习率调度器、权值衰减系数等\n",
    "optimizer_params = {'learning_rate': args.lr,\n",
    "                    'wd' : args.wd,\n",
    "                    'lr_scheduler': None,\n",
    "                    'clip_gradient': 5,\n",
    "                    'momentum' : args.mom,\n",
    "                    'multi_precision' : True,\n",
    "                    'rescale_grad': _rescale,\n",
    "                    }\n",
    "print(optimizer_params)"
   ]
  },
  {
   "cell_type": "markdown",
   "metadata": {},
   "source": [
    "#### 设置训练时的回调函数\n",
    "\n",
    "训练时的回调函数中定义每一个step训练完后的操作和每一个epoch训练完后的操作，其中一个step指完成一个batch size大小数据的训练，一个epoch是指完成一遍整个数据集的训练。\n",
    "\n",
    "每一个step训练完后：计算训练的吞吐量，在设置了模型评估方法后，也会计算相应的评估函数，如这里的准确度和交叉熵。\n",
    "\n",
    "每一个epoch训练完后：保存已经训练好的模型文件。\n",
    "\n",
    "此段代码只设置回调函数，无代码执行输出。"
   ]
  },
  {
   "cell_type": "code",
   "execution_count": 8,
   "metadata": {},
   "outputs": [],
   "source": [
    "# 每一个step训练完后的操作\n",
    "batch_end_callbacks = [mx.callback.Speedometer(batch_size, 10, auto_reset=True)]\n",
    "# 每一个epoch训练完后的操作\n",
    "# 这里的模型保存路径为模型输出文件目录下的model目录，模型文件以face开头\n",
    "epoch_end_callbacks = mx.callback.do_checkpoint(\n",
    "    os.path.join(args.train_url,'model/face'), args.save_frequency)\n",
    "# 模型评估方法，准确度和交叉熵\n",
    "eval_metrics = [mx.metric.Accuracy(), mx.metric.CrossEntropy()]"
   ]
  },
  {
   "cell_type": "markdown",
   "metadata": {},
   "source": [
    "#### 设置模型初始化参数的方法\n",
    "\n",
    "设置神经网络参数初始化方法，这里使用的是高斯分布的Xavier初始化方法。还可以选择其他方法如mx.init.MSRAPrelu()等，不同的初始化参数会有不同的模型训练结果。\n",
    "\n",
    "此段代码只设置初始化参数方法，无代码执行输出。"
   ]
  },
  {
   "cell_type": "code",
   "execution_count": 9,
   "metadata": {},
   "outputs": [],
   "source": [
    "# 模型参数的初始化方法\n",
    "initializer = mx.init.Xavier(rnd_type='gaussian', factor_type=\"out\", magnitude=2)"
   ]
  },
  {
   "cell_type": "markdown",
   "metadata": {},
   "source": [
    "### 读取人脸数据集\n",
    "\n",
    "#### 使用MXNet读取数据集\n",
    "\n",
    "人脸识别数据集使用的是明星人脸图像集CelebFace，经过人脸3D对齐等操作制作成了适合分类模型训练的数据，每张图像的大小为112*112，样本图像如下：\n",
    "    \n",
    "![title](img/test.png) ![title](img/test2.png)\n",
    "\n",
    "数据集格式为MXNet专用的rec格式，rec格式的数据集相比原图读取速度更快。\n",
    "\n",
    "这里使用MXNet自带的mx.io.ImageRecordIter方法读取rec格式数据集，mx.io.ImageRecordIter可以在读取数据时就实现数据增强的方法，这里做了随机翻转、数据集重新洗牌等增强。\n",
    "    \n",
    "这里定义数据加载器的对象，加载成功会打印输出 “data loaded!”。"
   ]
  },
  {
   "cell_type": "code",
   "execution_count": 10,
   "metadata": {
    "scrolled": true
   },
   "outputs": [
    {
     "name": "stdout",
     "output_type": "stream",
     "text": [
      "data loaded!\n"
     ]
    }
   ],
   "source": [
    "# 训练集和验证集的rec文件路径\n",
    "path_imgrec = os.path.join(args.data_dir, args.train_file)\n",
    "path_val_imgrec = os.path.join(args.data_dir, args.val_file)\n",
    "# 使用mxnet自带的mx.io.ImageRecordIter加载数据\n",
    "val_dataiter = mx.io.ImageRecordIter(\n",
    "        path_imgrec=path_val_imgrec,\n",
    "        data_shape=(3, image_h, image_w),\n",
    "        batch_size=batch_size,\n",
    "        resize=image_w,                 # 图像按照其最短边resize到定义好的宽长\n",
    "        shuffle=False,\n",
    "        preprocess_threads=2)\n",
    "train_dataiter = mx.io.ImageRecordIter(\n",
    "        path_imgrec=path_imgrec,\n",
    "        data_shape=(3, image_h, image_w),\n",
    "        num_parts=1,                    # 训练的节点数\n",
    "        part_index=0,                   # 本机所在的节点id\n",
    "        batch_size=batch_size,\n",
    "        resize=image_w,\n",
    "        rand_crop=False,\n",
    "        rand_mirror=True,              # 图像随机翻转\n",
    "        shuffle=True,                  # 数据集随机洗牌\n",
    "        preprocess_threads=2)\n",
    "print('data loaded!')"
   ]
  },
  {
   "cell_type": "markdown",
   "metadata": {},
   "source": [
    "#### 查看数据集图像\n",
    "matplotlib.pyplot可以绘制基本图形，读取上段代码数据加载器中的某张图片，并使用matplotlib.pyplot输出上面读取到的数据集中样本人脸图像。\n",
    "\n",
    "此段代码会执行输出一张人脸图片。"
   ]
  },
  {
   "cell_type": "code",
   "execution_count": 11,
   "metadata": {},
   "outputs": [
    {
     "data": {
      "image/png": "[encoded data removed]",
      "text/plain": [
       "<matplotlib.figure.Figure at 0x7fd3a40fa198>"
      ]
     },
     "metadata": {},
     "output_type": "display_data"
    }
   ],
   "source": [
    "import matplotlib.pyplot as plt\n",
    "next_data_batch = next(iter(train_dataiter))\n",
    "img = next_data_batch.data[0][0].transpose(axes=(2,1,0))\n",
    "img = img.asnumpy().astype('uint8')\n",
    "# 画图，数据增强后的图片\n",
    "%matplotlib inline\n",
    "fig = plt.figure()\n",
    "plt.imshow(img)\n",
    "plt.show()"
   ]
  },
  {
   "cell_type": "markdown",
   "metadata": {},
   "source": [
    "### 人脸识别神经网络构建\n",
    "\n",
    "本教程介绍的人脸识别算法使用的模型骨干（backbone）为ResNet-50，我们基于业界流行的ResNet-50模型构建我们的人脸识别神经网络。\n",
    "\n",
    "从本教程的src目录下的face_resnet.py源代码文件加载模型骨干，并将其分类层作为嵌入层，分类数设置为嵌入层神经元数。\n",
    "\n",
    "在嵌入层后面接一个分类数为num_classes的分类层，就可以得到本实验的人脸识别神经网络了。\n",
    "\n",
    "这里会输出一个 mx.mod.Module 对象。"
   ]
  },
  {
   "cell_type": "code",
   "execution_count": 12,
   "metadata": {},
   "outputs": [
    {
     "name": "stdout",
     "output_type": "stream",
     "text": [
      "<mxnet.module.module.Module object at 0x7fd4340200b8>\n"
     ]
    }
   ],
   "source": [
    "# 初始化模型参数为None，这里可以加载预训练的模型参数\n",
    "arg_params = None\n",
    "aux_params = None\n",
    "# 得到嵌入层模型的Symbol\n",
    "embedding = get_symbol(num_classes=args.num_embed, num_layers=args.num_layers)\n",
    "# 设置分类层的权值\n",
    "_weight = mx.symbol.Variable(\"fc7_weight\",\n",
    "                             shape=(args.num_classes, args.num_embed),\n",
    "                             lr_mult=1.0, wd_mult=1.0)\n",
    "_bias = mx.symbol.Variable('fc7_bias', lr_mult=2.0, wd_mult=0.0)\n",
    "# 全连接层\n",
    "fc7 = mx.sym.FullyConnected(data=embedding, weight = _weight,\n",
    "                            bias = _bias, num_hidden=args.num_classes, name='fc7')\n",
    "all_label = mx.symbol.Variable('softmax_label')\n",
    "softmax = mx.symbol.SoftmaxOutput(data=fc7, label = all_label, name='softmax')\n",
    "# 输入模型环境和Symbol\n",
    "model = mx.mod.Module(context=ctx, symbol=softmax)\n",
    "print(model)"
   ]
  },
  {
   "cell_type": "markdown",
   "metadata": {},
   "source": [
    "### 训练\n",
    "使用mx.mod.Module类自带的fit函数进行训练，约在10个epoch左右，在验证集上可以达到0.75的准确率。\n",
    "\n",
    "本段代码执行成功后，会在下方输出每一步训练的日志，如\n",
    "\n",
    "    INFO:root:Epoch[0] Batch [10]\tSpeed: 1.38 samples/sec\taccuracy=0.397727\tcross-entropy=1.965782\n",
    "    INFO:root:Epoch[0] Batch [20]\tSpeed: 1.49 samples/sec\taccuracy=0.512500\tcross-entropy=1.576477\n",
    "    INFO:root:Epoch[0] Train-accuracy=0.583333\n",
    "    INFO:root:Epoch[0] Train-cross-entropy=1.028852\n",
    "    INFO:root:Epoch[0] Time cost=130.980\n",
    "    INFO:root:Saved checkpoint to \"s3://ai-course-001/face_recognition/ckpt/model/face-0001.params\"\n",
    "    INFO:root:Epoch[0] Validation-accuracy=0.583333\n",
    "    INFO:root:Epoch[0] Validation-cross-entropy=1.360136\n",
    "\n",
    "本段日志描述了模型训练的日志，每一步训练都输出了模型的准确率、模型交叉熵损失等，可以看到在每一步训练模型的准确率都越来越高，模型交叉熵损失越来越低，是模型训练得越来越好的标志。"
   ]
  },
  {
   "cell_type": "code",
   "execution_count": 13,
   "metadata": {},
   "outputs": [
    {
     "name": "stderr",
     "output_type": "stream",
     "text": [
      "INFO:root:Epoch[0] Batch [10]\tSpeed: 172.94 samples/sec\taccuracy=0.443182\tcross-entropy=2.185036\n",
      "INFO:root:Epoch[0] Batch [20]\tSpeed: 179.97 samples/sec\taccuracy=0.525000\tcross-entropy=1.391039\n",
      "INFO:root:Epoch[0] Train-accuracy=0.791667\n",
      "INFO:root:Epoch[0] Train-cross-entropy=0.813433\n",
      "INFO:root:Epoch[0] Time cost=1.912\n",
      "INFO:root:Saved checkpoint to \"ckpt/model/face-0001.params\"\n",
      "INFO:root:Epoch[0] Validation-accuracy=0.541667\n",
      "INFO:root:Epoch[0] Validation-cross-entropy=2.005202\n",
      "INFO:root:Epoch[1] Batch [10]\tSpeed: 207.27 samples/sec\taccuracy=0.715909\tcross-entropy=0.842773\n",
      "INFO:root:Epoch[1] Batch [20]\tSpeed: 176.77 samples/sec\taccuracy=0.750000\tcross-entropy=0.836055\n",
      "INFO:root:Epoch[1] Train-accuracy=0.666667\n",
      "INFO:root:Epoch[1] Train-cross-entropy=0.889418\n",
      "INFO:root:Epoch[1] Time cost=1.016\n",
      "INFO:root:Saved checkpoint to \"ckpt/model/face-0002.params\"\n",
      "INFO:root:Epoch[1] Validation-accuracy=0.562500\n",
      "INFO:root:Epoch[1] Validation-cross-entropy=1.230389\n",
      "INFO:root:Epoch[2] Batch [10]\tSpeed: 211.34 samples/sec\taccuracy=0.806818\tcross-entropy=0.505878\n",
      "INFO:root:Epoch[2] Batch [20]\tSpeed: 160.25 samples/sec\taccuracy=0.800000\tcross-entropy=0.628947\n",
      "INFO:root:Epoch[2] Train-accuracy=0.958333\n",
      "INFO:root:Epoch[2] Train-cross-entropy=0.303491\n",
      "INFO:root:Epoch[2] Time cost=1.072\n",
      "INFO:root:Saved checkpoint to \"ckpt/model/face-0003.params\"\n",
      "INFO:root:Epoch[2] Validation-accuracy=0.708333\n",
      "INFO:root:Epoch[2] Validation-cross-entropy=1.015811\n",
      "INFO:root:Epoch[3] Batch [10]\tSpeed: 173.58 samples/sec\taccuracy=0.852273\tcross-entropy=0.455078\n",
      "INFO:root:Epoch[3] Batch [20]\tSpeed: 220.57 samples/sec\taccuracy=0.900000\tcross-entropy=0.382174\n",
      "INFO:root:Epoch[3] Train-accuracy=1.000000\n",
      "INFO:root:Epoch[3] Train-cross-entropy=0.300285\n",
      "INFO:root:Epoch[3] Time cost=1.034\n",
      "INFO:root:Saved checkpoint to \"ckpt/model/face-0004.params\"\n",
      "INFO:root:Epoch[3] Validation-accuracy=0.625000\n",
      "INFO:root:Epoch[3] Validation-cross-entropy=0.898546\n",
      "INFO:root:Epoch[4] Batch [10]\tSpeed: 195.14 samples/sec\taccuracy=0.886364\tcross-entropy=0.426602\n",
      "INFO:root:Epoch[4] Batch [20]\tSpeed: 189.95 samples/sec\taccuracy=0.762500\tcross-entropy=0.596789\n",
      "INFO:root:Epoch[4] Train-accuracy=0.812500\n",
      "INFO:root:Epoch[4] Train-cross-entropy=0.456027\n",
      "INFO:root:Epoch[4] Time cost=1.065\n",
      "INFO:root:Saved checkpoint to \"ckpt/model/face-0005.params\"\n",
      "INFO:root:Epoch[4] Validation-accuracy=0.687500\n",
      "INFO:root:Epoch[4] Validation-cross-entropy=0.927765\n",
      "INFO:root:Epoch[5] Batch [10]\tSpeed: 176.01 samples/sec\taccuracy=0.852273\tcross-entropy=0.455081\n",
      "INFO:root:Epoch[5] Batch [20]\tSpeed: 186.62 samples/sec\taccuracy=0.837500\tcross-entropy=0.435856\n",
      "INFO:root:Epoch[5] Train-accuracy=1.000000\n",
      "INFO:root:Epoch[5] Train-cross-entropy=0.102141\n",
      "INFO:root:Epoch[5] Time cost=1.094\n",
      "INFO:root:Saved checkpoint to \"ckpt/model/face-0006.params\"\n",
      "INFO:root:Epoch[5] Validation-accuracy=0.708333\n",
      "INFO:root:Epoch[5] Validation-cross-entropy=0.850218\n",
      "INFO:root:Epoch[6] Batch [10]\tSpeed: 198.19 samples/sec\taccuracy=0.897727\tcross-entropy=0.252100\n",
      "INFO:root:Epoch[6] Batch [20]\tSpeed: 188.84 samples/sec\taccuracy=0.875000\tcross-entropy=0.441260\n",
      "INFO:root:Epoch[6] Train-accuracy=0.916667\n",
      "INFO:root:Epoch[6] Train-cross-entropy=0.311970\n",
      "INFO:root:Epoch[6] Time cost=0.979\n",
      "INFO:root:Saved checkpoint to \"ckpt/model/face-0007.params\"\n",
      "INFO:root:Epoch[6] Validation-accuracy=0.625000\n",
      "INFO:root:Epoch[6] Validation-cross-entropy=1.177226\n",
      "INFO:root:Epoch[7] Batch [10]\tSpeed: 182.19 samples/sec\taccuracy=0.931818\tcross-entropy=0.309536\n",
      "INFO:root:Epoch[7] Batch [20]\tSpeed: 220.97 samples/sec\taccuracy=0.950000\tcross-entropy=0.215843\n",
      "INFO:root:Epoch[7] Train-accuracy=0.916667\n",
      "INFO:root:Epoch[7] Train-cross-entropy=0.215555\n",
      "INFO:root:Epoch[7] Time cost=1.002\n",
      "INFO:root:Saved checkpoint to \"ckpt/model/face-0008.params\"\n",
      "INFO:root:Epoch[7] Validation-accuracy=0.666667\n",
      "INFO:root:Epoch[7] Validation-cross-entropy=0.995754\n",
      "INFO:root:Epoch[8] Batch [10]\tSpeed: 186.96 samples/sec\taccuracy=0.965909\tcross-entropy=0.154120\n",
      "INFO:root:Epoch[8] Batch [20]\tSpeed: 191.38 samples/sec\taccuracy=0.975000\tcross-entropy=0.176552\n",
      "INFO:root:Epoch[8] Train-accuracy=0.968750\n",
      "INFO:root:Epoch[8] Train-cross-entropy=0.121073\n",
      "INFO:root:Epoch[8] Time cost=1.082\n",
      "INFO:root:Saved checkpoint to \"ckpt/model/face-0009.params\"\n",
      "INFO:root:Epoch[8] Validation-accuracy=0.625000\n",
      "INFO:root:Epoch[8] Validation-cross-entropy=0.959331\n",
      "INFO:root:Epoch[9] Batch [10]\tSpeed: 182.08 samples/sec\taccuracy=0.954545\tcross-entropy=0.223226\n",
      "INFO:root:Epoch[9] Batch [20]\tSpeed: 212.42 samples/sec\taccuracy=0.912500\tcross-entropy=0.281093\n",
      "INFO:root:Epoch[9] Train-accuracy=0.958333\n",
      "INFO:root:Epoch[9] Train-cross-entropy=0.202880\n",
      "INFO:root:Epoch[9] Time cost=1.021\n",
      "INFO:root:Saved checkpoint to \"ckpt/model/face-0010.params\"\n",
      "INFO:root:Epoch[9] Validation-accuracy=0.562500\n",
      "INFO:root:Epoch[9] Validation-cross-entropy=1.334065\n",
      "INFO:root:Epoch[10] Batch [10]\tSpeed: 188.21 samples/sec\taccuracy=0.965909\tcross-entropy=0.177402\n",
      "INFO:root:Epoch[10] Batch [20]\tSpeed: 184.77 samples/sec\taccuracy=0.900000\tcross-entropy=0.250768\n",
      "INFO:root:Epoch[10] Train-accuracy=1.000000\n",
      "INFO:root:Epoch[10] Train-cross-entropy=0.191520\n",
      "INFO:root:Epoch[10] Time cost=1.037\n",
      "INFO:root:Saved checkpoint to \"ckpt/model/face-0011.params\"\n",
      "INFO:root:Epoch[10] Validation-accuracy=0.750000\n",
      "INFO:root:Epoch[10] Validation-cross-entropy=0.695873\n",
      "INFO:root:Epoch[11] Batch [10]\tSpeed: 186.78 samples/sec\taccuracy=0.920455\tcross-entropy=0.165103\n",
      "INFO:root:Epoch[11] Batch [20]\tSpeed: 200.42 samples/sec\taccuracy=0.950000\tcross-entropy=0.135902\n",
      "INFO:root:Epoch[11] Train-accuracy=1.000000\n",
      "INFO:root:Epoch[11] Train-cross-entropy=0.132742\n",
      "INFO:root:Epoch[11] Time cost=1.019\n",
      "INFO:root:Saved checkpoint to \"ckpt/model/face-0012.params\"\n",
      "INFO:root:Epoch[11] Validation-accuracy=0.625000\n",
      "INFO:root:Epoch[11] Validation-cross-entropy=0.925625\n",
      "INFO:root:Epoch[12] Batch [10]\tSpeed: 182.99 samples/sec\taccuracy=0.977273\tcross-entropy=0.143543\n",
      "INFO:root:Epoch[12] Batch [20]\tSpeed: 205.37 samples/sec\taccuracy=0.987500\tcross-entropy=0.121799\n",
      "INFO:root:Epoch[12] Train-accuracy=1.000000\n",
      "INFO:root:Epoch[12] Train-cross-entropy=0.094597\n",
      "INFO:root:Epoch[12] Time cost=1.081\n",
      "INFO:root:Saved checkpoint to \"ckpt/model/face-0013.params\"\n",
      "INFO:root:Epoch[12] Validation-accuracy=0.687500\n",
      "INFO:root:Epoch[12] Validation-cross-entropy=0.962060\n",
      "INFO:root:Epoch[13] Batch [10]\tSpeed: 170.36 samples/sec\taccuracy=0.988636\tcross-entropy=0.107761\n",
      "INFO:root:Epoch[13] Batch [20]\tSpeed: 178.38 samples/sec\taccuracy=0.950000\tcross-entropy=0.251849\n",
      "INFO:root:Epoch[13] Train-accuracy=1.000000\n",
      "INFO:root:Epoch[13] Train-cross-entropy=0.108509\n",
      "INFO:root:Epoch[13] Time cost=1.086\n",
      "INFO:root:Saved checkpoint to \"ckpt/model/face-0014.params\"\n",
      "INFO:root:Epoch[13] Validation-accuracy=0.708333\n",
      "INFO:root:Epoch[13] Validation-cross-entropy=1.034108\n",
      "INFO:root:Epoch[14] Batch [10]\tSpeed: 175.84 samples/sec\taccuracy=0.965909\tcross-entropy=0.218981\n",
      "INFO:root:Epoch[14] Batch [20]\tSpeed: 217.40 samples/sec\taccuracy=0.950000\tcross-entropy=0.157839\n",
      "INFO:root:Epoch[14] Train-accuracy=1.000000\n",
      "INFO:root:Epoch[14] Train-cross-entropy=0.108156\n",
      "INFO:root:Epoch[14] Time cost=1.012\n",
      "INFO:root:Saved checkpoint to \"ckpt/model/face-0015.params\"\n",
      "INFO:root:Epoch[14] Validation-accuracy=0.625000\n",
      "INFO:root:Epoch[14] Validation-cross-entropy=0.982524\n",
      "INFO:root:Epoch[15] Batch [10]\tSpeed: 179.07 samples/sec\taccuracy=0.954545\tcross-entropy=0.161932\n",
      "INFO:root:Epoch[15] Batch [20]\tSpeed: 186.64 samples/sec\taccuracy=0.975000\tcross-entropy=0.122577\n",
      "INFO:root:Epoch[15] Train-accuracy=1.000000\n",
      "INFO:root:Epoch[15] Train-cross-entropy=0.093556\n",
      "INFO:root:Epoch[15] Time cost=1.021\n",
      "INFO:root:Saved checkpoint to \"ckpt/model/face-0016.params\"\n",
      "INFO:root:Epoch[15] Validation-accuracy=0.708333\n",
      "INFO:root:Epoch[15] Validation-cross-entropy=0.724650\n",
      "INFO:root:Epoch[16] Batch [10]\tSpeed: 183.26 samples/sec\taccuracy=0.943182\tcross-entropy=0.150030\n",
      "INFO:root:Epoch[16] Batch [20]\tSpeed: 188.40 samples/sec\taccuracy=0.975000\tcross-entropy=0.115663\n",
      "INFO:root:Epoch[16] Train-accuracy=0.906250\n",
      "INFO:root:Epoch[16] Train-cross-entropy=0.267720\n",
      "INFO:root:Epoch[16] Time cost=1.105\n",
      "INFO:root:Saved checkpoint to \"ckpt/model/face-0017.params\"\n",
      "INFO:root:Epoch[16] Validation-accuracy=0.625000\n",
      "INFO:root:Epoch[16] Validation-cross-entropy=0.764140\n"
     ]
    },
    {
     "name": "stderr",
     "output_type": "stream",
     "text": [
      "INFO:root:Epoch[17] Batch [10]\tSpeed: 197.45 samples/sec\taccuracy=0.988636\tcross-entropy=0.108683\n",
      "INFO:root:Epoch[17] Batch [20]\tSpeed: 181.92 samples/sec\taccuracy=1.000000\tcross-entropy=0.075606\n",
      "INFO:root:Epoch[17] Train-accuracy=1.000000\n",
      "INFO:root:Epoch[17] Train-cross-entropy=0.059592\n",
      "INFO:root:Epoch[17] Time cost=1.054\n",
      "INFO:root:Saved checkpoint to \"ckpt/model/face-0018.params\"\n",
      "INFO:root:Epoch[17] Validation-accuracy=0.687500\n",
      "INFO:root:Epoch[17] Validation-cross-entropy=0.876016\n",
      "INFO:root:Epoch[18] Batch [10]\tSpeed: 184.30 samples/sec\taccuracy=0.988636\tcross-entropy=0.062771\n",
      "INFO:root:Epoch[18] Batch [20]\tSpeed: 194.51 samples/sec\taccuracy=1.000000\tcross-entropy=0.072895\n",
      "INFO:root:Epoch[18] Train-accuracy=1.000000\n",
      "INFO:root:Epoch[18] Train-cross-entropy=0.061150\n",
      "INFO:root:Epoch[18] Time cost=1.024\n",
      "INFO:root:Saved checkpoint to \"ckpt/model/face-0019.params\"\n",
      "INFO:root:Epoch[18] Validation-accuracy=0.750000\n",
      "INFO:root:Epoch[18] Validation-cross-entropy=0.768125\n",
      "INFO:root:Epoch[19] Batch [10]\tSpeed: 174.84 samples/sec\taccuracy=0.977273\tcross-entropy=0.089337\n",
      "INFO:root:Epoch[19] Batch [20]\tSpeed: 211.37 samples/sec\taccuracy=0.987500\tcross-entropy=0.083705\n",
      "INFO:root:Epoch[19] Train-accuracy=1.000000\n",
      "INFO:root:Epoch[19] Train-cross-entropy=0.045997\n",
      "INFO:root:Epoch[19] Time cost=1.018\n",
      "INFO:root:Saved checkpoint to \"ckpt/model/face-0020.params\"\n",
      "INFO:root:Epoch[19] Validation-accuracy=0.708333\n",
      "INFO:root:Epoch[19] Validation-cross-entropy=0.872740\n"
     ]
    }
   ],
   "source": [
    "model_output_dir = args.train_url + '/model/'\n",
    "\n",
    "if os.path.exists(model_output_dir) == False:\n",
    "    os.makedirs(model_output_dir)\n",
    "\n",
    "model.fit(train_dataiter,\n",
    "          begin_epoch        = 0,\n",
    "          num_epoch          = args.num_epoch,\n",
    "          eval_data          = val_dataiter,\n",
    "          eval_metric        = eval_metrics,\n",
    "          kvstore            = 'local',\n",
    "          optimizer          = 'nag',\n",
    "          optimizer_params   = optimizer_params,\n",
    "          initializer        = initializer,\n",
    "          arg_params         = arg_params,\n",
    "          aux_params         = aux_params,\n",
    "          allow_missing      = True,\n",
    "          batch_end_callback = batch_end_callbacks,\n",
    "          epoch_end_callback = epoch_end_callbacks )"
   ]
  },
  {
   "cell_type": "markdown",
   "metadata": {},
   "source": [
    "接下来，我们将训练得到的模型上传到自己的OBS目录下："
   ]
  },
  {
   "cell_type": "code",
   "execution_count": 14,
   "metadata": {},
   "outputs": [
    {
     "name": "stderr",
     "output_type": "stream",
     "text": [
      "INFO:root:Using MoXing-v1.12.4-85d16fc8\n",
      "INFO:root:Using OBS-Python-SDK-3.1.2\n",
      "INFO:root:Start to copy 21 files.\n",
      "INFO:root:Finish copy.\n"
     ]
    }
   ],
   "source": [
    "import moxing as mox\n",
    "\n",
    "# The obs_dst_path pattern： {BUCKET_NAME}/{UNIQUE_ID}/face_recognition/results/{TRAIN_URL}\n",
    "obs_dst_path = \"s3://\" + OBS_BASE_PATH + \"/face_recognition/results/\" + args.train_url + '/'\n",
    "mox.file.copy_parallel(args.train_url+'/model',\n",
    "                      obs_dst_path)"
   ]
  },
  {
   "cell_type": "markdown",
   "metadata": {},
   "source": [
    "<p style=\"font-family: Arial; font-size:1.4em;color:gold;\">总结：训练完成后，在训练模型输出的OBS路径下（参考上述代码中的obs_dst_path），有model文件夹，model文件夹下面会有.params和.json后缀的模型文件。</p>"
   ]
  },
  {
   "cell_type": "markdown",
   "metadata": {},
   "source": [
    "### 推理\n",
    "\n",
    "模型推理共分为以下几个步骤：\n",
    "1. 导入读取图片所需的库；\n",
    "2. 输出测试的原图；\n",
    "3. 将测试原图转换成模型需要的数据；\n",
    "4. 加载推理使用的模型结构；\n",
    "5. 推理计算并输出结果；\n",
    "\n",
    "#### 导入读取图片所需的库\n",
    "MoXing为华为自研的分布式深度学习框架，在这里用于notebook访问OBS。\n",
    "\n",
    "mxnet.image里包含了一些常用的图像数据处理方法。\n",
    "\n",
    "此段代码无回显。"
   ]
  },
  {
   "cell_type": "code",
   "execution_count": 15,
   "metadata": {},
   "outputs": [],
   "source": [
    "import mxnet.image as image\n",
    "import moxing as mox\n",
    "import mxnet as mx\n",
    "import matplotlib.pyplot as plt\n",
    "import os"
   ]
  },
  {
   "cell_type": "markdown",
   "metadata": {},
   "source": [
    "#### 输出测试的原图\n",
    "这里使用matplotlib.pyplot来输出我们需要测试的图片，由于不能知道每张人脸的真实名字，用数字来替代\n",
    "\n",
    "此段代码会输出一张人脸图像"
   ]
  },
  {
   "cell_type": "code",
   "execution_count": 16,
   "metadata": {},
   "outputs": [
    {
     "data": {
      "image/png": "[encoded data removed]",
      "text/plain": [
       "<matplotlib.figure.Figure at 0x7fd433eee710>"
      ]
     },
     "metadata": {},
     "output_type": "display_data"
    }
   ],
   "source": [
    "# 设置类别名，由于不能知道每张人脸的真实名字，用数字来替代\n",
    "class_names = range(5)\n",
    "# 人脸图像路径,这里可以任意选择一张人脸图像，并上传到自己的OBS路径\n",
    "# 如s3://ai-course-001/face_recognition/data/下的test.png\n",
    "file_name = args.data_dir + '/test.png'\n",
    "# 以二进制形式，将图片读入内存\n",
    "img = mox.file.read(file_name, binary=True)\n",
    "# 查看图片\n",
    "orig_img = mx.img.imdecode(img, to_rgb=1).asnumpy().astype('uint8')\n",
    "plt.imshow(orig_img)\n",
    "plt.show()"
   ]
  },
  {
   "cell_type": "markdown",
   "metadata": {},
   "source": [
    "#### 将测试原图转换成模型推理需要的格式\n",
    "这里使用mxnet.image来对测试原图进行增强，这里仅进行短边resize到定义好的固定的图像边大小112，之后再将图像翻转和维度扩展，最后得到模型需要的数据。\n",
    "\n",
    "这里会输出 (NDArray 1x3x112x112 @cpu(0)) 格式数据；"
   ]
  },
  {
   "cell_type": "code",
   "execution_count": 17,
   "metadata": {},
   "outputs": [
    {
     "name": "stdout",
     "output_type": "stream",
     "text": [
      "[\n",
      "[[[[  4   0   0 ...,  84  74  62]\n",
      "   [  4   0   0 ...,  59  52  45]\n",
      "   [  3   0   1 ...,  35  33  32]\n",
      "   ..., \n",
      "   [ 20  15  16 ..., 122 114 102]\n",
      "   [ 22  13  10 ..., 120 110  99]\n",
      "   [ 25  15   9 ..., 118 105  95]]\n",
      "\n",
      "  [[  6   2   1 ...,  75  65  53]\n",
      "   [  6   2   1 ...,  50  43  36]\n",
      "   [  5   2   2 ...,  26  24  23]\n",
      "   ..., \n",
      "   [ 24  19  18 ..., 104  96  83]\n",
      "   [ 24  15  10 ..., 102  92  80]\n",
      "   [ 27  17   9 ..., 100  87  76]]\n",
      "\n",
      "  [[  3   0   0 ...,  58  48  36]\n",
      "   [  3   0   0 ...,  33  26  19]\n",
      "   [  2   0   0 ...,   9   9   8]\n",
      "   ..., \n",
      "   [ 23  18  15 ...,  80  76  66]\n",
      "   [ 23  14   8 ...,  78  72  63]\n",
      "   [ 26  16   7 ...,  76  67  59]]]]\n",
      "<NDArray 1x3x112x112 @cpu(0)>]\n"
     ]
    }
   ],
   "source": [
    "# 图像处理\n",
    "# 将图像处理成(3,112,112)大小\n",
    "[h, w] = [112, 112]\n",
    "img_arr = mx.img.imdecode(img, to_rgb=1)\n",
    "# 首先转换成NDArray形式\n",
    "img_arr = mx.img.resize_short(img_arr, w, 0)\n",
    "# 翻转，经过翻转的图像不能通过plt显示\n",
    "img_arr = mx.nd.transpose(img_arr, (2, 0, 1))\n",
    "img_arr = mx.nd.expand_dims(img_arr, axis=0)\n",
    "# 将图像绑定到cpu上\n",
    "d = [img_arr.as_in_context(mx.cpu())]\n",
    "print(d)"
   ]
  },
  {
   "cell_type": "markdown",
   "metadata": {},
   "source": [
    "#### 加载推理使用的模型结构\n",
    "\n",
    "加载训练得到的模型文件，用于推理。\n",
    "\n",
    "这里只加载模型，无回显。"
   ]
  },
  {
   "cell_type": "code",
   "execution_count": 18,
   "metadata": {},
   "outputs": [],
   "source": [
    "# 模型文件位置，比如由上面训练得到的位置train_url+'model',\n",
    "# 这个路径位置下面必须有.json和.params的模型文件\n",
    "ckpt = os.path.join(args.train_url, 'model/face')\n",
    "# 加载第几个epoch\n",
    "load_epoch = 1\n",
    "# 加载模型文件,sym为推理模型结构，arg_params, aux_params为模型参数\n",
    "sym, arg_params, aux_params = mx.model.load_checkpoint(ckpt, load_epoch)\n",
    "# 选择使用cpu进行推理，数据名默认为data，推理无需输入label\n",
    "mx_model = mx.mod.Module(symbol=sym, context=mx.cpu(),\n",
    "                                      data_names=['data'], label_names=None)\n",
    "# 绑定模型计算模块到底层计算引擎，绑定的数据大小默认为(1,3,112,112)\n",
    "mx_model.bind(for_training=False, data_shapes=[('data',(1,3,112,112))])\n",
    "# 设置模型的参数\n",
    "mx_model.set_params(arg_params, aux_params, allow_missing=True)"
   ]
  },
  {
   "cell_type": "markdown",
   "metadata": {},
   "source": [
    "#### 推理计算并输出结果\n",
    "执行完这里会输出这张图片的分类结果和分类的可能性大小，模型输出整理成\\[分类结果，置信度\\]的形式。\n",
    "\n",
    "这里会输出人脸图片的类别预测结果"
   ]
  },
  {
   "cell_type": "code",
   "execution_count": 19,
   "metadata": {},
   "outputs": [
    {
     "name": "stdout",
     "output_type": "stream",
     "text": [
      "{'predicted_label': 3, 'scores': [[3, 0.6772790551185608], [0, 0.18954646587371826]]}\n"
     ]
    }
   ],
   "source": [
    "# 模型结果后处理方法\n",
    "def _postprocess(data):\n",
    "    dim = len(data[0].shape)\n",
    "    if dim > 2:\n",
    "        data = mx.nd.array(np.squeeze(data.asnumpy(), axis=tuple(range(dim)[2:])))\n",
    "    # 将得到的结果排序，选择可能性最大的类别\n",
    "    sorted_prob = mx.nd.argsort(data[0], is_ascend=False)\n",
    "    top_prob = list(map(lambda x: int(x.asscalar()), sorted_prob[0:2]))\n",
    "    # 输出推理得到的类别和对应可能性\n",
    "    return {\"predicted_label\": class_names[top_prob[0]],\n",
    "            \"scores\": [[class_names[i], float(data[0, i].asscalar())] for i in top_prob]}\n",
    "\n",
    "# 进行前向推理\n",
    "mx_model.forward(mx.io.DataBatch(d))\n",
    "# 输出\n",
    "print(_postprocess(mx_model.get_outputs()[0]))"
   ]
  },
  {
   "cell_type": "markdown",
   "metadata": {},
   "source": [
    "### 使用ModelArts SDK提交训练作业\n",
    "\n",
    "本节介绍如何使用ModelArts SDK提交训练作业，其中模型的训练脚本使用ModelArts自研的分布式深度学习框架实现。训练脚本见src目录下的face_test_in_moxing.py文件，大家可以查看并学习。\n",
    "\n",
    "分为以下几个步骤：\n",
    "\n",
    "1. 导入ModelArts SDK库\n",
    "2. 使用get_framework_list接口查询训练作业的引擎规格\n",
    "3. 使用get_train_instance_types接口查询训练作业的设备资源规格\n",
    "4. 提交训练作业\n",
    "5. 输出训练作业的日志"
   ]
  },
  {
   "cell_type": "markdown",
   "metadata": {},
   "source": [
    "#### 导入ModelArts SDK库\n",
    "\n",
    "导入ModelArts SDK，以及创建SDK客户端。 初始化Session实现与华为云资源的鉴权。\n",
    "\n",
    "此段代码无回显。"
   ]
  },
  {
   "cell_type": "code",
   "execution_count": 20,
   "metadata": {},
   "outputs": [],
   "source": [
    "import urllib3\n",
    "urllib3.disable_warnings()\n",
    "from modelarts.session import Session\n",
    "from modelarts.estimator import Estimator\n",
    "from modelarts.predictor import Predictor\n",
    "from modelarts.config.model_config import Params, ServiceConfig\n",
    "import json\n",
    "session = Session()"
   ]
  },
  {
   "cell_type": "markdown",
   "metadata": {},
   "source": [
    "####  使用get_framework_list接口查询训练作业的引擎规格\n",
    "\n",
    "此段代码打印训练作业支持的引擎规格列表。"
   ]
  },
  {
   "cell_type": "code",
   "execution_count": 21,
   "metadata": {},
   "outputs": [
    {
     "name": "stdout",
     "output_type": "stream",
     "text": [
      "[\n",
      " {\n",
      "  \"framework_type\": \"TensorFlow\",\n",
      "  \"framework_version\": \"TF-1.8.0-python2.7\"\n",
      " },\n",
      " {\n",
      "  \"framework_type\": \"TensorFlow\",\n",
      "  \"framework_version\": \"TF-1.8.0-python3.6\"\n",
      " },\n",
      " {\n",
      "  \"framework_type\": \"MXNet\",\n",
      "  \"framework_version\": \"MXNet-1.2.1-python2.7\"\n",
      " },\n",
      " {\n",
      "  \"framework_type\": \"MXNet\",\n",
      "  \"framework_version\": \"MXNet-1.2.1-python3.6\"\n",
      " },\n",
      " {\n",
      "  \"framework_type\": \"Caffe\",\n",
      "  \"framework_version\": \"Caffe-1.0.0-python2.7\"\n",
      " },\n",
      " {\n",
      "  \"framework_type\": \"Spark_MLlib\",\n",
      "  \"framework_version\": \"Spark-2.2.0-python2.7\"\n",
      " },\n",
      " {\n",
      "  \"framework_type\": \"Scikit_Learn\",\n",
      "  \"framework_version\": \"Scikit_Learn-0.18.1-python2.7\"\n",
      " },\n",
      " {\n",
      "  \"framework_type\": \"XGBoost\",\n",
      "  \"framework_version\": \"XGBoost-0.8-python2.7\"\n",
      " },\n",
      " {\n",
      "  \"framework_type\": \"PyTorch\",\n",
      "  \"framework_version\": \"PyTorch-1.0.0-python2.7\"\n",
      " },\n",
      " {\n",
      "  \"framework_type\": \"PyTorch\",\n",
      "  \"framework_version\": \"PyTorch-1.0.0-python3.6\"\n",
      " }\n",
      "]\n"
     ]
    }
   ],
   "source": [
    "print(json.dumps(Estimator.get_framework_list(session),indent = 1))"
   ]
  },
  {
   "cell_type": "markdown",
   "metadata": {},
   "source": [
    "####  使用get_train_instance_types接口查询训练作业的设备资源规格\n",
    "\n",
    "此段代码打印训练作业支持的资源规格列表。"
   ]
  },
  {
   "cell_type": "code",
   "execution_count": 22,
   "metadata": {
    "scrolled": true
   },
   "outputs": [
    {
     "name": "stdout",
     "output_type": "stream",
     "text": [
      "[\n",
      " \"modelarts.bm.gpu.8v100NV32\",\n",
      " \"modelarts.vm.cpu.2u\",\n",
      " \"modelarts.vm.gpu.p100\"\n",
      "]\n"
     ]
    }
   ],
   "source": [
    "print(json.dumps(Estimator.get_train_instance_types(session),indent = 1))"
   ]
  },
  {
   "cell_type": "markdown",
   "metadata": {},
   "source": [
    "#### 提交训练作业\n",
    "\n",
    "提交训练作业需要填写训练作业的相关参数。其中部分参数说明如下：\n",
    "\n",
    "hyperparameters为模型需要的超参,label表示参数名，value表示参数值，\n",
    "\n",
    "    调整模型的学习率lr、模型迭代次数epoch、模型的batch size大小等都会改变模型训练结果，\n",
    "    \n",
    "    有时候调整适当的超参，模型可以达到非常高的精度，默认参数不是最佳参数。\n",
    "    \n",
    "训练规格train_instance_type，可以从上段代码的输出的specs字段中挑选一个训练规格（spec_code）\n",
    "\n",
    "训练实例数量train_instance_count，默认为1\n",
    "\n",
    "训练模型输出路径output_path，默认和train_url一样\n",
    "\n",
    "启动成功后，会输出训练作业的启动日志，如JOBSTAT_INIT、JOBSTAT_RUNNING等。"
   ]
  },
  {
   "cell_type": "code",
   "execution_count": 23,
   "metadata": {
    "scrolled": false
   },
   "outputs": [
    {
     "name": "stdout",
     "output_type": "stream",
     "text": [
      "Create directory */face_recognition/train_models/ successfully\n",
      "Create directory */face_recognition/train_models/ckpt/ successfully\n",
      "Create directory */face_recognition/train_models/log/ successfully\n"
     ]
    },
    {
     "name": "stderr",
     "output_type": "stream",
     "text": [
      "INFO:root:Start to copy 5 files.\n",
      "INFO:root:Finish copy.\n",
      "INFO:root:Start to copy 3 files.\n",
      "INFO:root:Finish copy.\n"
     ]
    }
   ],
   "source": [
    "# 训练任务根目录\n",
    "base_url = BUCKET_NAME + '/' + UNIQUE_ID + '/face_recognition/train_models/'\n",
    "session.create_directory(BUCKET_NAME, UNIQUE_ID + '/face_recognition/train_models/')\n",
    "\n",
    "\n",
    "# 训练代码目录\n",
    "app_url = base_url + 'src/'\n",
    "# 训练代码启动文件\n",
    "boot_file_url = app_url + 'face_test_in_moxing.py'\n",
    "# 训练输出目录\n",
    "train_url = base_url + 'ckpt/'\n",
    "session.create_directory(BUCKET_NAME,  UNIQUE_ID + '/face_recognition/train_models/ckpt/')\n",
    "\n",
    "# 数据集目录\n",
    "data_url = base_url + 'data/'\n",
    "#创建日志路径\n",
    "session.create_directory(BUCKET_NAME,  UNIQUE_ID + '/face_recognition/train_models/log/')\n",
    "# 日志目录\n",
    "log_url = base_url + 'log/'\n",
    "\n",
    "# 将源代码和数据上传到我们的OBS中，用于训练任务\n",
    "mox.file.copy_parallel('./src', 's3://'+base_url+'src')\n",
    "mox.file.copy_parallel(args.data_dir, 's3://'+base_url+args.data_dir)"
   ]
  },
  {
   "cell_type": "code",
   "execution_count": 24,
   "metadata": {},
   "outputs": [
    {
     "name": "stdout",
     "output_type": "stream",
     "text": [
      "JOBSTAT_INIT\n",
      "JOBSTAT_WAITING\n",
      "JOBSTAT_RUNNING\n",
      "JOBSTAT_COMPLETED\n",
      "Job [ job-0429-212046 ] duration is 00:01:02\n"
     ]
    }
   ],
   "source": [
    "estimator = Estimator(modelarts_session=session,\n",
    "                      framework_type='MXNet',\n",
    "                      framework_version='MXNet-1.2.1-python3.6',\n",
    "                      code_dir='/'+app_url,\n",
    "                      boot_file='/'+boot_file_url,\n",
    "                      log_url='/'+log_url,\n",
    "                      hyperparameters=[{\"label\":\"data_dir\",\n",
    "                                        \"value\":'s3://'+data_url},\n",
    "                                       {\"label\":\"train_url\",\n",
    "                                        \"value\":'s3://'+train_url},\n",
    "                                       {\"label\":\"lr\",\"value\":\"0.001\"},\n",
    "                                       ],\n",
    "                      output_path='/'+train_url, # 注意：output_path在OBS中要预先创建好\n",
    "                      train_instance_type='modelarts.vm.gpu.p100',\n",
    "                      train_instance_count=1,\n",
    "                      job_description='test-face')\n",
    "# 启动训练任务\n",
    "job_id = estimator.fit(inputs='/'+data_url, wait=True)"
   ]
  },
  {
   "cell_type": "markdown",
   "metadata": {},
   "source": [
    "上述代码执行完毕时，会不断输出训练任务的状态，直到状态为\"COMPLETED\"。"
   ]
  },
  {
   "cell_type": "code",
   "execution_count": 25,
   "metadata": {},
   "outputs": [],
   "source": [
    "# 为模型准备config.json文件\n",
    "mox.file.copy('./src/config.json', 's3://'+base_url+'ckpt/model/config.json')"
   ]
  },
  {
   "cell_type": "markdown",
   "metadata": {},
   "source": [
    "####  输出训练作业的日志\n",
    "\n",
    "此段可打印训练作业的日志"
   ]
  },
  {
   "cell_type": "code",
   "execution_count": 26,
   "metadata": {},
   "outputs": [
    {
     "name": "stdout",
     "output_type": "stream",
     "text": [
      "*/*/face_recognition/train_models/log/\n"
     ]
    },
    {
     "name": "stderr",
     "output_type": "stream",
     "text": [
      "INFO:obs:Successfully download file */*/face_recognition/train_models/log/job-job-0429-012020V0001-0-0-99tjc_default-stdout.log from OBS to local /tmp/log/log/job-job-0429-012020V0001-0-0-99tjc_default-stdout.log\n"
     ]
    },
    {
     "name": "stdout",
     "output_type": "stream",
     "text": [
      "Successfully download file */*/face_recognition/train_models/log/job-job-0429-012020V0001-0-0-99tjc_default-stdout.log from OBS to local /tmp/log/log/job-job-0429-012020V0001-0-0-99tjc_default-stdout.log\n"
     ]
    },
    {
     "name": "stderr",
     "output_type": "stream",
     "text": [
      "INFO:obs:Successfully download file */*/face_recognition/train_models/log/job-job-0429-014504V0001-0-0-q7785_default-stdout.log from OBS to local /tmp/log/log/job-job-0429-014504V0001-0-0-q7785_default-stdout.log\n",
      "INFO:obs:Successfully download file */*/face_recognition/train_models/log/job-job-0429-100652V0001-0-0-w7728_default-stdout.log from OBS to local /tmp/log/log/job-job-0429-100652V0001-0-0-w7728_default-stdout.log\n",
      "INFO:obs:Successfully download file */*/face_recognition/train_models/log/job-job-0429-134751V0001-0-0-ltmwt_default-stdout.log from OBS to local /tmp/log/log/job-job-0429-134751V0001-0-0-ltmwt_default-stdout.log\n",
      "INFO:obs:Successfully download file */*/face_recognition/train_models/log/job-job-0429-144053V0001-0-0-tqfn4_default-stdout.log from OBS to local /tmp/log/log/job-job-0429-144053V0001-0-0-tqfn4_default-stdout.log\n",
      "INFO:obs:Successfully download file */*/face_recognition/train_models/log/job-job-0429-212046V0001-0-0-8qsgl_default-stdout.log from OBS to local /tmp/log/log/job-job-0429-212046V0001-0-0-8qsgl_default-stdout.log\n"
     ]
    },
    {
     "name": "stdout",
     "output_type": "stream",
     "text": [
      "Successfully download file */*/face_recognition/train_models/log/job-job-0429-014504V0001-0-0-q7785_default-stdout.log from OBS to local /tmp/log/log/job-job-0429-014504V0001-0-0-q7785_default-stdout.log\n",
      "Successfully download file */*/face_recognition/train_models/log/job-job-0429-100652V0001-0-0-w7728_default-stdout.log from OBS to local /tmp/log/log/job-job-0429-100652V0001-0-0-w7728_default-stdout.log\n",
      "Successfully download file */*/face_recognition/train_models/log/job-job-0429-134751V0001-0-0-ltmwt_default-stdout.log from OBS to local /tmp/log/log/job-job-0429-134751V0001-0-0-ltmwt_default-stdout.log\n",
      "Successfully download file */*/face_recognition/train_models/log/job-job-0429-144053V0001-0-0-tqfn4_default-stdout.log from OBS to local /tmp/log/log/job-job-0429-144053V0001-0-0-tqfn4_default-stdout.log\n",
      "Successfully download file */*/face_recognition/train_models/log/job-job-0429-212046V0001-0-0-8qsgl_default-stdout.log from OBS to local /tmp/log/log/job-job-0429-212046V0001-0-0-8qsgl_default-stdout.log\n",
      "[decrypt_modelarts_aes_env_by_key_client] export S3_SECRET_ACCESS_KEY\n",
      "user: uid=1101(work) gid=1101(work) groups=1101(work)\n",
      "pwd: /home/work\n",
      "app_url: s3://*/*/face_recognition/train_models/src/\n",
      "boot_file: src/face_test_in_moxing.py\n",
      "log_url: /tmp/log/job-0429-012020.log\n",
      "command: src/face_test_in_moxing.py --data_url=s3://*/*/face_recognition/train_models/data/ --data_dir=s3://my-ml-course/my_student_id/face_recognition/train_models/data/ --train_url=s3://my-ml-course/my_student_id/face_recognition/train_models/ckpt/ --lr=0.001 --num_gpus=1 --train_url=s3://my-ml-course/my_student_id/face_recognition/train_models/ckpt/\n",
      "[modelarts_create_log] modelarts-pipe found\n",
      "2019-04-29 01:20:30,256 - modelarts-downloader.py[line:471] - INFO: Main: modelarts-downloader starting with Namespace(dst='./', recursive=True, src='s3://*/*/face_recognition/train_models/src/', trace=False, verbose=False)\n",
      "2019-04-29 01:20:30,524 - connectionpool.py[line:735] - INFO: Starting new HTTPS connection (1): obs.myhwclouds.com\n",
      "[modelarts_logger] modelarts-pipe found\n",
      "INFO:root:Using MoXing-v1.12.4-85d16fc8\n",
      "INFO:root:Using OBS-Python-SDK-3.1.2\n",
      "batch size:  8\n",
      "[01:20:43] src/io/iter_image_recordio_2.cc:170: ImageRecordIOParser2: s3://*/*/face_recognition/train_models/data/celeb_train.rec, use 3 threads for decoding..\n",
      "[01:20:50] src/io/iter_image_recordio_2.cc:170: ImageRecordIOParser2: s3://*/*/face_recognition/train_models/data/celeb_val.rec, use 3 threads for decoding..\n",
      "[01:21:05] src/operator/nn/./cudnn/./cudnn_algoreg-inl.h:107: Running performance tests to find the best convolution algorithm, this can take a while... (setting env variable MXNET_CUDNN_AUTOTUNE_DEFAULT to 0 to disable)\n",
      "INFO:root:Epoch[0] Train-loss=0.754292\n",
      "INFO:root:Epoch[0] Time cost=17.044\n",
      "INFO:root:Saved checkpoint to \"s3://*/*/face_recognition/train_models/ckpt/-0001.params\"\n",
      "INFO:root:Epoch[0] Validation-loss=2.632142\n",
      "exists  customize_service.py\n",
      "/home/work/anaconda3/lib/python3.6/site-packages/moxing/framework/file/src/obs/client.py:506: DeprecationWarning: key_file, cert_file and check_hostname are deprecated, use a custom context instead.\n"
     ]
    }
   ],
   "source": [
    "import os\n",
    "obs_log_path = log_url\n",
    "\n",
    "print(log_url)\n",
    "\n",
    "local_log_path = \"/tmp/log\"\n",
    "!rm -rf $local_log_path\n",
    "!mkdir -p $local_log_path\n",
    "session.download_data(obs_log_path, local_log_path)\n",
    "\n",
    "log_file = os.listdir(local_log_path+'/log/')[0]\n",
    "!cat $local_log_path/log/$log_file"
   ]
  },
  {
   "cell_type": "markdown",
   "metadata": {},
   "source": [
    "### ModelArts的推理功能\n",
    "在使用ModelArts推理功能之前需要保证train_url（模型输出路径）下的文件结构如下所示\n",
    "\n",
    "         |--train_url\n",
    "           |--model\n",
    "              |--0000.params\n",
    "              |--symbol.json\n",
    "              |--config.json\n",
    "              |--customize_service.py\n",
    "\n",
    "    \n",
    "source_location，模型所在的位置\n",
    "\n",
    "execution_code，推理文件位置\n",
    "\n",
    "instance_type，推理规格，可以在上述计算资源中找到，推荐使用cpu资源\n",
    "\n",
    "instance_count，推理实例数量，默认为1\n",
    "\n",
    "本节分为以下几个步骤：\n",
    "1. 导入模型\n",
    "2. 部署模型\n",
    "3. 模型推理测试"
   ]
  },
  {
   "cell_type": "markdown",
   "metadata": {},
   "source": [
    "#### 导入模型\n",
    "\n",
    "导入训练作业生成的模型\n",
    "\n",
    "这里会输出模型对象。"
   ]
  },
  {
   "cell_type": "code",
   "execution_count": 27,
   "metadata": {},
   "outputs": [
    {
     "name": "stdout",
     "output_type": "stream",
     "text": [
      "*/*/face_recognition/train_models/ckpt/\n",
      "Model name is model-0429-212804 \n",
      "The model source location is https://*.obs.myhwclouds.com/*/face_recognition/train_models/ckpt\n",
      "publishing\n",
      "published\n",
      "<modelarts.model.Model object at 0x7fd433e3e2e8>\n"
     ]
    }
   ],
   "source": [
    "# 调用create_model接口将训练结果导入模型管理\n",
    "model_path = BUCKET_NAME + \"/\" + UNIQUE_ID + \"/face_recognition/train_models/ckpt/\"\n",
    "print(model_path)\n",
    "model = estimator.create_model(model_algorithm = \"face\",\n",
    "                                  source_location = model_path,\n",
    "                                  execution_code = model_path + 'model/customize_service.py',\n",
    "                                  model_type=\"MXNet\")\n",
    "print (model)"
   ]
  },
  {
   "cell_type": "markdown",
   "metadata": {},
   "source": [
    "#### 模型部署\n",
    "\n",
    "使用ModelArts SDK部署模型为一个在线服务。\n",
    "\n",
    "这段代码会输出模型部署日志。"
   ]
  },
  {
   "cell_type": "code",
   "execution_count": 28,
   "metadata": {},
   "outputs": [
    {
     "name": "stdout",
     "output_type": "stream",
     "text": [
      "Service name is celeb_face\n",
      "Deploy progress: 100%\n",
      "Deploy finished\n"
     ]
    }
   ],
   "source": [
    "# 调用deploy接口部署模型\n",
    "configs = []\n",
    "config1 = ServiceConfig(model_id=model.get_model_id(),\n",
    "                        weight=\"100\",\n",
    "                        instance_count=1,\n",
    "                        specification=\"modelarts.vm.cpu.2u\",\n",
    "                        envs={})\n",
    "configs.append(config1)\n",
    "service = estimator.deploy_predictor(service_name=\"celeb_face\",\n",
    "                                     description =\"face recognition service\",\n",
    "                                     configs=configs)"
   ]
  },
  {
   "cell_type": "markdown",
   "metadata": {},
   "source": [
    "#### 测试人脸识别服务\n",
    "\n",
    "我们选用本地data目录下的test.png，用ModelArts SDK调用服务的API："
   ]
  },
  {
   "cell_type": "code",
   "execution_count": 29,
   "metadata": {},
   "outputs": [
    {
     "name": "stdout",
     "output_type": "stream",
     "text": [
      "{'predicted_label': 4, 'scores': [[4, 0.9799331426620483], [1, 0.01852753385901451], [3, 0.0013976095942780375]]}\n"
     ]
    }
   ],
   "source": [
    "from modelarts.model import Predictor\n",
    "predictor_instance = Predictor(session, service.service_id)\n",
    "predict_result = predictor_instance.predict(\n",
    "    data = \"./data/test.png\",\n",
    "    data_type = \"images\")\n",
    "print(predict_result)"
   ]
  },
  {
   "cell_type": "markdown",
   "metadata": {},
   "source": [
    "### 删除推理资源 (可选)\n",
    "在使用完成后，及时删除推理使用的资源，可以节约费用。"
   ]
  },
  {
   "cell_type": "code",
   "execution_count": 30,
   "metadata": {},
   "outputs": [
    {
     "name": "stdout",
     "output_type": "stream",
     "text": [
      "Successfully delete the job 105495\n",
      "Delete the service 04c4f576-eaf7-4137-aab2-e7f832020b53 endpoint successfully.\n",
      "Delete the model ef5c200b-e6a0-4733-8198-da7e7900b106 endpoint successfully.\n"
     ]
    }
   ],
   "source": [
    "estimator.delete(job_id=job_id, model_id=model.model_id, service_id=service.service_id)"
   ]
  },
  {
   "cell_type": "markdown",
   "metadata": {},
   "source": [
    "### 小结\n",
    "\n",
    "在本次实验中，我们展示了如何使用深度学习技术构建一个人脸识别应用的全流程，并解释了模型中各个超参的含义，让大家具备了基本的调参能力。\n",
    "\n",
    "同时学习了ModelArts SDK的使用，以及如何通过SDK提交训练作业至ModelArts训练人脸识别模型，并将训练好的人脸识别模型使用SDK在ModelArts上部署成在线服务，并做推理测试。"
   ]
  }
 ],
 "metadata": {
  "kernelspec": {
   "display_name": "Python 3",
   "language": "python",
   "name": "python3"
  },
  "language_info": {
   "codemirror_mode": {
    "name": "ipython",
    "version": 3
   },
   "file_extension": ".py",
   "mimetype": "text/x-python",
   "name": "python",
   "nbconvert_exporter": "python",
   "pygments_lexer": "ipython3",
   "version": "3.7.1"
  }
 },
 "nbformat": 4,
 "nbformat_minor": 2
}
